{
 "cells": [
  {
   "cell_type": "code",
   "execution_count": 3,
   "metadata": {},
   "outputs": [],
   "source": [
    "import pandas as pd\n",
    "import scrape as sc\n",
    "import os\n",
    "import glob\n",
    "from pathlib import Path  \n",
    "import warnings"
   ]
  },
  {
   "cell_type": "markdown",
   "metadata": {},
   "source": [
    "### Donation List Scraper\n",
    "#### donationlist_scraper(url, num_scroll, flpath)\n",
    "\n",
    "- Function for scraping list of donation from Kitabisa and turn it to a dataframe. \n",
    "- Data included are short url, donation organizer, campaign title, donation received, and days remaining before the donation is closed.\n",
    "- Arguments: url (url from homepage Kitabisa), num_scroll (how many times we want to scroll), flpath (path to save the csv)."
   ]
  },
  {
   "cell_type": "code",
   "execution_count": 3,
   "metadata": {},
   "outputs": [
    {
     "name": "stdout",
     "output_type": "stream",
     "text": [
      "Successfully scrape the data to a CSV file.\n",
      "1237\n",
      "CPU times: user 3.62 s, sys: 203 ms, total: 3.82 s\n",
      "Wall time: 5min 24s\n"
     ]
    },
    {
     "data": {
      "text/html": [
       "<div>\n",
       "<style scoped>\n",
       "    .dataframe tbody tr th:only-of-type {\n",
       "        vertical-align: middle;\n",
       "    }\n",
       "\n",
       "    .dataframe tbody tr th {\n",
       "        vertical-align: top;\n",
       "    }\n",
       "\n",
       "    .dataframe thead th {\n",
       "        text-align: right;\n",
       "    }\n",
       "</style>\n",
       "<table border=\"1\" class=\"dataframe\">\n",
       "  <thead>\n",
       "    <tr style=\"text-align: right;\">\n",
       "      <th></th>\n",
       "      <th>short_url</th>\n",
       "      <th>donation_org</th>\n",
       "      <th>donation_name</th>\n",
       "      <th>donation_received</th>\n",
       "      <th>days_to_go</th>\n",
       "      <th>time_scraped</th>\n",
       "    </tr>\n",
       "  </thead>\n",
       "  <tbody>\n",
       "    <tr>\n",
       "      <th>0</th>\n",
       "      <td>bantuhaminullahberjuang</td>\n",
       "      <td>Amal Bakti Dunia Islam</td>\n",
       "      <td>Pneumonia Hingga Cairan Lambung Renggut Senyum...</td>\n",
       "      <td>344491406</td>\n",
       "      <td>28</td>\n",
       "      <td>2022-10-03 22:16:05</td>\n",
       "    </tr>\n",
       "    <tr>\n",
       "      <th>1</th>\n",
       "      <td>bkksbantuahmad</td>\n",
       "      <td>LEMBAGA KEMANUSIAAN TIM AMAL BKKS</td>\n",
       "      <td>Sakit Langka, Tulang Bayi 2 Bln Rawan PatahLEM...</td>\n",
       "      <td>274497469</td>\n",
       "      <td>28</td>\n",
       "      <td>2022-10-03 22:16:05</td>\n",
       "    </tr>\n",
       "    <tr>\n",
       "      <th>2</th>\n",
       "      <td>bantusikecilarkanmelawanpenyakitnya</td>\n",
       "      <td>LAZ DASI NTB</td>\n",
       "      <td>Bocah 7 Tahun Berjuang Lawan 3 Penyakit Sekali...</td>\n",
       "      <td>300296751</td>\n",
       "      <td>28</td>\n",
       "      <td>2022-10-03 22:16:05</td>\n",
       "    </tr>\n",
       "    <tr>\n",
       "      <th>3</th>\n",
       "      <td>bantuaisyahmelawanjantungbocor</td>\n",
       "      <td>Yayasan Daarul Mukhtar</td>\n",
       "      <td>Tolong Bayi Yg Ditinggal Ibunya Dari Jantung B...</td>\n",
       "      <td>56481909</td>\n",
       "      <td>81</td>\n",
       "      <td>2022-10-03 22:16:05</td>\n",
       "    </tr>\n",
       "    <tr>\n",
       "      <th>4</th>\n",
       "      <td>selamatkanadikmaurin</td>\n",
       "      <td>Yayasan Rumah Peduli Annisa</td>\n",
       "      <td>Kelainan Paru-Paru Akut, Temani Bayi Maurin Se...</td>\n",
       "      <td>1574388443</td>\n",
       "      <td>89</td>\n",
       "      <td>2022-10-03 22:16:05</td>\n",
       "    </tr>\n",
       "  </tbody>\n",
       "</table>\n",
       "</div>"
      ],
      "text/plain": [
       "                             short_url                       donation_org  \\\n",
       "0              bantuhaminullahberjuang             Amal Bakti Dunia Islam   \n",
       "1                       bkksbantuahmad  LEMBAGA KEMANUSIAAN TIM AMAL BKKS   \n",
       "2  bantusikecilarkanmelawanpenyakitnya                       LAZ DASI NTB   \n",
       "3       bantuaisyahmelawanjantungbocor             Yayasan Daarul Mukhtar   \n",
       "4                 selamatkanadikmaurin        Yayasan Rumah Peduli Annisa   \n",
       "\n",
       "                                       donation_name donation_received  \\\n",
       "0  Pneumonia Hingga Cairan Lambung Renggut Senyum...         344491406   \n",
       "1  Sakit Langka, Tulang Bayi 2 Bln Rawan PatahLEM...         274497469   \n",
       "2  Bocah 7 Tahun Berjuang Lawan 3 Penyakit Sekali...         300296751   \n",
       "3  Tolong Bayi Yg Ditinggal Ibunya Dari Jantung B...          56481909   \n",
       "4  Kelainan Paru-Paru Akut, Temani Bayi Maurin Se...        1574388443   \n",
       "\n",
       "  days_to_go         time_scraped  \n",
       "0        28   2022-10-03 22:16:05  \n",
       "1        28   2022-10-03 22:16:05  \n",
       "2        28   2022-10-03 22:16:05  \n",
       "3        81   2022-10-03 22:16:05  \n",
       "4        89   2022-10-03 22:16:05  "
      ]
     },
     "execution_count": 3,
     "metadata": {},
     "output_type": "execute_result"
    }
   ],
   "source": [
    "%%time\n",
    "url = 'https://kitabisa.com/explore/all'\n",
    "flpath = '/Users/mac/Documents/RU/THESIS/working_thesis/pilot_data_2/donation_routine/22_10_03/'\n",
    "\n",
    "df_donation = sc.donationlist_scraper(url, 200, flpath)\n",
    "\n",
    "print(len(df_donation))\n",
    "df_donation.head(5)"
   ]
  },
  {
   "cell_type": "code",
   "execution_count": 27,
   "metadata": {},
   "outputs": [],
   "source": [
    "# run if you want to read data frame from local file\n",
    "path = '/Users/mac/Documents/RU/THESIS/working_thesis/pilot_data_2/donations/donation_list_2022-09-25 07:34:27_.csv'\n",
    "df_donation = pd.read_csv(path)"
   ]
  },
  {
   "cell_type": "code",
   "execution_count": 28,
   "metadata": {},
   "outputs": [
    {
     "data": {
      "text/plain": [
       "100"
      ]
     },
     "execution_count": 28,
     "metadata": {},
     "output_type": "execute_result"
    }
   ],
   "source": [
    "# converting short url of donation to the list for the next function\n",
    "donation_list = list(df_donation['short_url'])\n",
    "len(donation_list)"
   ]
  },
  {
   "cell_type": "code",
   "execution_count": 25,
   "metadata": {},
   "outputs": [
    {
     "ename": "TypeError",
     "evalue": "cannot convert the series to <class 'float'>",
     "output_type": "error",
     "traceback": [
      "\u001b[0;31m---------------------------------------------------------------------------\u001b[0m",
      "\u001b[0;31mTypeError\u001b[0m                                 Traceback (most recent call last)",
      "\u001b[1;32m/Users/mac/Documents/RU/THESIS/working_thesis/main_script.ipynb Cell 7\u001b[0m in \u001b[0;36m<cell line: 2>\u001b[0;34m()\u001b[0m\n\u001b[1;32m      <a href='vscode-notebook-cell:/Users/mac/Documents/RU/THESIS/working_thesis/main_script.ipynb#W5sZmlsZQ%3D%3D?line=0'>1</a>\u001b[0m df_donation[\u001b[39m'\u001b[39m\u001b[39mshort_url\u001b[39m\u001b[39m'\u001b[39m] \u001b[39m=\u001b[39m df_donation[\u001b[39m'\u001b[39m\u001b[39mshort_url\u001b[39m\u001b[39m'\u001b[39m]\u001b[39m.\u001b[39mastype(\u001b[39m'\u001b[39m\u001b[39mstr\u001b[39m\u001b[39m'\u001b[39m) \n\u001b[0;32m----> <a href='vscode-notebook-cell:/Users/mac/Documents/RU/THESIS/working_thesis/main_script.ipynb#W5sZmlsZQ%3D%3D?line=1'>2</a>\u001b[0m \u001b[39mfloat\u001b[39;49m(df_donation[\u001b[39m'\u001b[39;49m\u001b[39mdonation_received\u001b[39;49m\u001b[39m'\u001b[39;49m])\n",
      "File \u001b[0;32m~/opt/anaconda3/lib/python3.9/site-packages/pandas/core/series.py:191\u001b[0m, in \u001b[0;36m_coerce_method.<locals>.wrapper\u001b[0;34m(self)\u001b[0m\n\u001b[1;32m    189\u001b[0m \u001b[39mif\u001b[39;00m \u001b[39mlen\u001b[39m(\u001b[39mself\u001b[39m) \u001b[39m==\u001b[39m \u001b[39m1\u001b[39m:\n\u001b[1;32m    190\u001b[0m     \u001b[39mreturn\u001b[39;00m converter(\u001b[39mself\u001b[39m\u001b[39m.\u001b[39miloc[\u001b[39m0\u001b[39m])\n\u001b[0;32m--> 191\u001b[0m \u001b[39mraise\u001b[39;00m \u001b[39mTypeError\u001b[39;00m(\u001b[39mf\u001b[39m\u001b[39m\"\u001b[39m\u001b[39mcannot convert the series to \u001b[39m\u001b[39m{\u001b[39;00mconverter\u001b[39m}\u001b[39;00m\u001b[39m\"\u001b[39m)\n",
      "\u001b[0;31mTypeError\u001b[0m: cannot convert the series to <class 'float'>"
     ]
    }
   ],
   "source": [
    "# DO NOT RUN, still error\n",
    "df_donation['short_url'] = df_donation['short_url'].astype('str') \n",
    "float(df_donation['donation_received'])"
   ]
  },
  {
   "cell_type": "code",
   "execution_count": 29,
   "metadata": {},
   "outputs": [
    {
     "data": {
      "text/html": [
       "<div>\n",
       "<style scoped>\n",
       "    .dataframe tbody tr th:only-of-type {\n",
       "        vertical-align: middle;\n",
       "    }\n",
       "\n",
       "    .dataframe tbody tr th {\n",
       "        vertical-align: top;\n",
       "    }\n",
       "\n",
       "    .dataframe thead th {\n",
       "        text-align: right;\n",
       "    }\n",
       "</style>\n",
       "<table border=\"1\" class=\"dataframe\">\n",
       "  <thead>\n",
       "    <tr style=\"text-align: right;\">\n",
       "      <th></th>\n",
       "      <th>short_url</th>\n",
       "      <th>donation_org</th>\n",
       "      <th>donation_name</th>\n",
       "      <th>donation_received</th>\n",
       "      <th>days_to_go</th>\n",
       "      <th>time_scraped</th>\n",
       "    </tr>\n",
       "  </thead>\n",
       "  <tbody>\n",
       "    <tr>\n",
       "      <th>0</th>\n",
       "      <td>zakatyataamafadlan</td>\n",
       "      <td>Yayasan Baitul Yataama Fadlan</td>\n",
       "      <td>Zakat untuk Bantu Anak Yatim dan DhuafaYayasan...</td>\n",
       "      <td>3059899004</td>\n",
       "      <td>128.0</td>\n",
       "      <td>2022-09-25 07:34:27</td>\n",
       "    </tr>\n",
       "    <tr>\n",
       "      <th>1</th>\n",
       "      <td>zakatuntukyatimdhuafa</td>\n",
       "      <td>Dompet Yatim dan Dhuafa</td>\n",
       "      <td>ZAKAT UNTUK YATIM DHUAFA DAN PENGHAFAL AL QURA...</td>\n",
       "      <td>5885434080</td>\n",
       "      <td>128.0</td>\n",
       "      <td>2022-09-25 07:34:27</td>\n",
       "    </tr>\n",
       "    <tr>\n",
       "      <th>2</th>\n",
       "      <td>zakatuntukpemberdayaangurungaji</td>\n",
       "      <td>Yayasan Pendidikan Islam Miftahul Hidayah</td>\n",
       "      <td>Zakat U Pemberdayaan Fakir Miskin dan Guru Nga...</td>\n",
       "      <td>285019380</td>\n",
       "      <td>128.0</td>\n",
       "      <td>2022-09-25 07:34:27</td>\n",
       "    </tr>\n",
       "    <tr>\n",
       "      <th>3</th>\n",
       "      <td>zakatfakirmiskinsantriyatimdhufa</td>\n",
       "      <td>Yayasan Al-Ikhwaniyyah Banyuresmi</td>\n",
       "      <td>Zakat Fakir Miskin Dan Santri Yatim DhuafaYaya...</td>\n",
       "      <td>232850492</td>\n",
       "      <td>128.0</td>\n",
       "      <td>2022-09-25 07:34:27</td>\n",
       "    </tr>\n",
       "    <tr>\n",
       "      <th>4</th>\n",
       "      <td>zakatuntuksantritahfidzyatimpiatu</td>\n",
       "      <td>Yayasan ahbaabul mukhtar</td>\n",
       "      <td>Zakat untuk santri tahfidz yatim piatuYayasan ...</td>\n",
       "      <td>247552877</td>\n",
       "      <td>5.0</td>\n",
       "      <td>2022-09-25 07:34:27</td>\n",
       "    </tr>\n",
       "  </tbody>\n",
       "</table>\n",
       "</div>"
      ],
      "text/plain": [
       "                           short_url  \\\n",
       "0                 zakatyataamafadlan   \n",
       "1              zakatuntukyatimdhuafa   \n",
       "2    zakatuntukpemberdayaangurungaji   \n",
       "3   zakatfakirmiskinsantriyatimdhufa   \n",
       "4  zakatuntuksantritahfidzyatimpiatu   \n",
       "\n",
       "                                donation_org  \\\n",
       "0              Yayasan Baitul Yataama Fadlan   \n",
       "1                    Dompet Yatim dan Dhuafa   \n",
       "2  Yayasan Pendidikan Islam Miftahul Hidayah   \n",
       "3          Yayasan Al-Ikhwaniyyah Banyuresmi   \n",
       "4                   Yayasan ahbaabul mukhtar   \n",
       "\n",
       "                                       donation_name  donation_received  \\\n",
       "0  Zakat untuk Bantu Anak Yatim dan DhuafaYayasan...         3059899004   \n",
       "1  ZAKAT UNTUK YATIM DHUAFA DAN PENGHAFAL AL QURA...         5885434080   \n",
       "2  Zakat U Pemberdayaan Fakir Miskin dan Guru Nga...          285019380   \n",
       "3  Zakat Fakir Miskin Dan Santri Yatim DhuafaYaya...          232850492   \n",
       "4  Zakat untuk santri tahfidz yatim piatuYayasan ...          247552877   \n",
       "\n",
       "   days_to_go         time_scraped  \n",
       "0       128.0  2022-09-25 07:34:27  \n",
       "1       128.0  2022-09-25 07:34:27  \n",
       "2       128.0  2022-09-25 07:34:27  \n",
       "3       128.0  2022-09-25 07:34:27  \n",
       "4         5.0  2022-09-25 07:34:27  "
      ]
     },
     "execution_count": 29,
     "metadata": {},
     "output_type": "execute_result"
    }
   ],
   "source": [
    "df_donation.head(5)"
   ]
  },
  {
   "cell_type": "code",
   "execution_count": 30,
   "metadata": {},
   "outputs": [
    {
     "name": "stdout",
     "output_type": "stream",
     "text": [
      "1\n"
     ]
    },
    {
     "data": {
      "text/html": [
       "<div>\n",
       "<style scoped>\n",
       "    .dataframe tbody tr th:only-of-type {\n",
       "        vertical-align: middle;\n",
       "    }\n",
       "\n",
       "    .dataframe tbody tr th {\n",
       "        vertical-align: top;\n",
       "    }\n",
       "\n",
       "    .dataframe thead th {\n",
       "        text-align: right;\n",
       "    }\n",
       "</style>\n",
       "<table border=\"1\" class=\"dataframe\">\n",
       "  <thead>\n",
       "    <tr style=\"text-align: right;\">\n",
       "      <th></th>\n",
       "      <th>short_url</th>\n",
       "      <th>donation_org</th>\n",
       "      <th>donation_name</th>\n",
       "      <th>donation_received</th>\n",
       "      <th>days_to_go</th>\n",
       "      <th>time_scraped</th>\n",
       "    </tr>\n",
       "  </thead>\n",
       "  <tbody>\n",
       "    <tr>\n",
       "      <th>4</th>\n",
       "      <td>zakatuntuksantritahfidzyatimpiatu</td>\n",
       "      <td>Yayasan ahbaabul mukhtar</td>\n",
       "      <td>Zakat untuk santri tahfidz yatim piatuYayasan ...</td>\n",
       "      <td>247552877</td>\n",
       "      <td>5.0</td>\n",
       "      <td>2022-09-25 07:34:27</td>\n",
       "    </tr>\n",
       "  </tbody>\n",
       "</table>\n",
       "</div>"
      ],
      "text/plain": [
       "                           short_url              donation_org  \\\n",
       "4  zakatuntuksantritahfidzyatimpiatu  Yayasan ahbaabul mukhtar   \n",
       "\n",
       "                                       donation_name  donation_received  \\\n",
       "4  Zakat untuk santri tahfidz yatim piatuYayasan ...          247552877   \n",
       "\n",
       "   days_to_go         time_scraped  \n",
       "4         5.0  2022-09-25 07:34:27  "
      ]
     },
     "execution_count": 30,
     "metadata": {},
     "output_type": "execute_result"
    }
   ],
   "source": [
    "# filter the data first, as we're only interested on donations which already made over 50% of the progress\n",
    "df_donation_filter = df_donation[(df_donation['donation_received'].between(150000000, 600000000)) \n",
    "                                 & (df_donation['days_to_go'] < 15)]\n",
    "print(len(df_donation_filter))\n",
    "df_donation_filter"
   ]
  },
  {
   "cell_type": "markdown",
   "metadata": {},
   "source": []
  },
  {
   "cell_type": "markdown",
   "metadata": {},
   "source": [
    "### Donation Properties Scraper\n",
    "#### donationprop_scraper_to_dataframe(donation_list, flpath)\n",
    "\n",
    "- Function to scrap donation information from all of donations in donation list.\n",
    "- Use this one to scrape all the donation properties that already scraped from the Donation List Scraper function.\n",
    "- Arguments: donation_list (list of the donations, should be in list format), flpath (path to save the csv)."
   ]
  },
  {
   "cell_type": "code",
   "execution_count": 5,
   "metadata": {},
   "outputs": [
    {
     "name": "stdout",
     "output_type": "stream",
     "text": [
      "Successfully scrape donation from mariberwakaftunai. Going to scrape the next donation.\n"
     ]
    },
    {
     "name": "stderr",
     "output_type": "stream",
     "text": [
      "/Users/mac/Documents/RU/THESIS/working_thesis/scrape.py:286: FutureWarning: The frame.append method is deprecated and will be removed from pandas in a future version. Use pandas.concat instead.\n",
      "  df_donations_prop = df_donations_prop.append(df)\n"
     ]
    },
    {
     "name": "stdout",
     "output_type": "stream",
     "text": [
      "Successfully scrape donation from rumahzakat. Going to scrape the next donation.\n"
     ]
    },
    {
     "name": "stderr",
     "output_type": "stream",
     "text": [
      "/Users/mac/Documents/RU/THESIS/working_thesis/scrape.py:286: FutureWarning: The frame.append method is deprecated and will be removed from pandas in a future version. Use pandas.concat instead.\n",
      "  df_donations_prop = df_donations_prop.append(df)\n"
     ]
    },
    {
     "name": "stdout",
     "output_type": "stream",
     "text": [
      "Successfully scrape donation from bantuibusuwintari. Going to scrape the next donation.\n"
     ]
    },
    {
     "name": "stderr",
     "output_type": "stream",
     "text": [
      "/Users/mac/Documents/RU/THESIS/working_thesis/scrape.py:286: FutureWarning: The frame.append method is deprecated and will be removed from pandas in a future version. Use pandas.concat instead.\n",
      "  df_donations_prop = df_donations_prop.append(df)\n"
     ]
    },
    {
     "name": "stdout",
     "output_type": "stream",
     "text": [
      "Successfully scrape donation from rizkymikayla. Going to scrape the next donation.\n"
     ]
    },
    {
     "name": "stderr",
     "output_type": "stream",
     "text": [
      "/Users/mac/Documents/RU/THESIS/working_thesis/scrape.py:286: FutureWarning: The frame.append method is deprecated and will be removed from pandas in a future version. Use pandas.concat instead.\n",
      "  df_donations_prop = df_donations_prop.append(df)\n"
     ]
    },
    {
     "name": "stdout",
     "output_type": "stream",
     "text": [
      "Successfully scrape donation from rumahtahfidzyatim. Going to scrape the next donation.\n"
     ]
    },
    {
     "name": "stderr",
     "output_type": "stream",
     "text": [
      "/Users/mac/Documents/RU/THESIS/working_thesis/scrape.py:286: FutureWarning: The frame.append method is deprecated and will be removed from pandas in a future version. Use pandas.concat instead.\n",
      "  df_donations_prop = df_donations_prop.append(df)\n"
     ]
    },
    {
     "name": "stdout",
     "output_type": "stream",
     "text": [
      "Successfully scrape donation from leukimiaraka. Going to scrape the next donation.\n"
     ]
    },
    {
     "name": "stderr",
     "output_type": "stream",
     "text": [
      "/Users/mac/Documents/RU/THESIS/working_thesis/scrape.py:286: FutureWarning: The frame.append method is deprecated and will be removed from pandas in a future version. Use pandas.concat instead.\n",
      "  df_donations_prop = df_donations_prop.append(df)\n"
     ]
    },
    {
     "name": "stdout",
     "output_type": "stream",
     "text": [
      "Successfully scrape donation from bantuyatimsekolah. Going to scrape the next donation.\n"
     ]
    },
    {
     "name": "stderr",
     "output_type": "stream",
     "text": [
      "/Users/mac/Documents/RU/THESIS/working_thesis/scrape.py:286: FutureWarning: The frame.append method is deprecated and will be removed from pandas in a future version. Use pandas.concat instead.\n",
      "  df_donations_prop = df_donations_prop.append(df)\n"
     ]
    },
    {
     "name": "stdout",
     "output_type": "stream",
     "text": [
      "Successfully scrape donation from banturiyanbisasembuh. Going to scrape the next donation.\n"
     ]
    },
    {
     "name": "stderr",
     "output_type": "stream",
     "text": [
      "/Users/mac/Documents/RU/THESIS/working_thesis/scrape.py:286: FutureWarning: The frame.append method is deprecated and will be removed from pandas in a future version. Use pandas.concat instead.\n",
      "  df_donations_prop = df_donations_prop.append(df)\n"
     ]
    },
    {
     "name": "stdout",
     "output_type": "stream",
     "text": [
      "Successfully scrape donation from bantugiaberjuangderikebocoranjantungdanbbrpkelainanbawaan. Going to scrape the next donation.\n"
     ]
    },
    {
     "name": "stderr",
     "output_type": "stream",
     "text": [
      "/Users/mac/Documents/RU/THESIS/working_thesis/scrape.py:286: FutureWarning: The frame.append method is deprecated and will be removed from pandas in a future version. Use pandas.concat instead.\n",
      "  df_donations_prop = df_donations_prop.append(df)\n"
     ]
    },
    {
     "name": "stdout",
     "output_type": "stream",
     "text": [
      "Successfully scrape donation from operasibayiojol. Going to scrape the next donation.\n"
     ]
    },
    {
     "name": "stderr",
     "output_type": "stream",
     "text": [
      "/Users/mac/Documents/RU/THESIS/working_thesis/scrape.py:286: FutureWarning: The frame.append method is deprecated and will be removed from pandas in a future version. Use pandas.concat instead.\n",
      "  df_donations_prop = df_donations_prop.append(df)\n"
     ]
    },
    {
     "name": "stdout",
     "output_type": "stream",
     "text": [
      "Successfully scrape donation from ismailtumorkelenjar. Going to scrape the next donation.\n"
     ]
    },
    {
     "name": "stderr",
     "output_type": "stream",
     "text": [
      "/Users/mac/Documents/RU/THESIS/working_thesis/scrape.py:286: FutureWarning: The frame.append method is deprecated and will be removed from pandas in a future version. Use pandas.concat instead.\n",
      "  df_donations_prop = df_donations_prop.append(df)\n"
     ]
    },
    {
     "name": "stdout",
     "output_type": "stream",
     "text": [
      "Successfully scrape donation from baytulquran. Going to scrape the next donation.\n"
     ]
    },
    {
     "name": "stderr",
     "output_type": "stream",
     "text": [
      "/Users/mac/Documents/RU/THESIS/working_thesis/scrape.py:286: FutureWarning: The frame.append method is deprecated and will be removed from pandas in a future version. Use pandas.concat instead.\n",
      "  df_donations_prop = df_donations_prop.append(df)\n"
     ]
    },
    {
     "name": "stdout",
     "output_type": "stream",
     "text": [
      "Successfully scrape donation from ymciuntukteguh. Going to scrape the next donation.\n"
     ]
    },
    {
     "name": "stderr",
     "output_type": "stream",
     "text": [
      "/Users/mac/Documents/RU/THESIS/working_thesis/scrape.py:286: FutureWarning: The frame.append method is deprecated and will be removed from pandas in a future version. Use pandas.concat instead.\n",
      "  df_donations_prop = df_donations_prop.append(df)\n"
     ]
    },
    {
     "name": "stdout",
     "output_type": "stream",
     "text": [
      "Successfully scrape donation from ymkabantuanakpenjualsiomay. Going to scrape the next donation.\n"
     ]
    },
    {
     "name": "stderr",
     "output_type": "stream",
     "text": [
      "/Users/mac/Documents/RU/THESIS/working_thesis/scrape.py:286: FutureWarning: The frame.append method is deprecated and will be removed from pandas in a future version. Use pandas.concat instead.\n",
      "  df_donations_prop = df_donations_prop.append(df)\n"
     ]
    },
    {
     "name": "stdout",
     "output_type": "stream",
     "text": [
      "Successfully scrape donation from bantuanlawankankerganaskakakku. Going to scrape the next donation.\n"
     ]
    },
    {
     "name": "stderr",
     "output_type": "stream",
     "text": [
      "/Users/mac/Documents/RU/THESIS/working_thesis/scrape.py:286: FutureWarning: The frame.append method is deprecated and will be removed from pandas in a future version. Use pandas.concat instead.\n",
      "  df_donations_prop = df_donations_prop.append(df)\n"
     ]
    },
    {
     "name": "stdout",
     "output_type": "stream",
     "text": [
      "Successfully scrape donation from bantudedeedisembuhdenganpenyakitlangka. Going to scrape the next donation.\n"
     ]
    },
    {
     "name": "stderr",
     "output_type": "stream",
     "text": [
      "/Users/mac/Documents/RU/THESIS/working_thesis/scrape.py:286: FutureWarning: The frame.append method is deprecated and will be removed from pandas in a future version. Use pandas.concat instead.\n",
      "  df_donations_prop = df_donations_prop.append(df)\n"
     ]
    },
    {
     "name": "stdout",
     "output_type": "stream",
     "text": [
      "Successfully scrape donation from sedekahjumatbaznas. Going to scrape the next donation.\n"
     ]
    },
    {
     "name": "stderr",
     "output_type": "stream",
     "text": [
      "/Users/mac/Documents/RU/THESIS/working_thesis/scrape.py:286: FutureWarning: The frame.append method is deprecated and will be removed from pandas in a future version. Use pandas.concat instead.\n",
      "  df_donations_prop = df_donations_prop.append(df)\n"
     ]
    },
    {
     "name": "stdout",
     "output_type": "stream",
     "text": [
      "Successfully scrape donation from ybkmbantukinansembuh. Going to scrape the next donation.\n"
     ]
    },
    {
     "name": "stderr",
     "output_type": "stream",
     "text": [
      "/Users/mac/Documents/RU/THESIS/working_thesis/scrape.py:286: FutureWarning: The frame.append method is deprecated and will be removed from pandas in a future version. Use pandas.concat instead.\n",
      "  df_donations_prop = df_donations_prop.append(df)\n"
     ]
    },
    {
     "name": "stdout",
     "output_type": "stream",
     "text": [
      "Successfully scrape donation from istiqlalpalestina. Going to scrape the next donation.\n"
     ]
    },
    {
     "name": "stderr",
     "output_type": "stream",
     "text": [
      "/Users/mac/Documents/RU/THESIS/working_thesis/scrape.py:286: FutureWarning: The frame.append method is deprecated and will be removed from pandas in a future version. Use pandas.concat instead.\n",
      "  df_donations_prop = df_donations_prop.append(df)\n"
     ]
    },
    {
     "name": "stdout",
     "output_type": "stream",
     "text": [
      "Successfully scrape donation from pelitaadistya. Going to scrape the next donation.\n"
     ]
    },
    {
     "name": "stderr",
     "output_type": "stream",
     "text": [
      "/Users/mac/Documents/RU/THESIS/working_thesis/scrape.py:286: FutureWarning: The frame.append method is deprecated and will be removed from pandas in a future version. Use pandas.concat instead.\n",
      "  df_donations_prop = df_donations_prop.append(df)\n"
     ]
    },
    {
     "name": "stdout",
     "output_type": "stream",
     "text": [
      "Successfully scrape donation from gorobabantubayikembar. Going to scrape the next donation.\n"
     ]
    },
    {
     "name": "stderr",
     "output_type": "stream",
     "text": [
      "/Users/mac/Documents/RU/THESIS/working_thesis/scrape.py:286: FutureWarning: The frame.append method is deprecated and will be removed from pandas in a future version. Use pandas.concat instead.\n",
      "  df_donations_prop = df_donations_prop.append(df)\n"
     ]
    },
    {
     "name": "stdout",
     "output_type": "stream",
     "text": [
      "Successfully scrape donation from bantulionelpulihdarikomplikasivirusdanpneumonia. Going to scrape the next donation.\n"
     ]
    },
    {
     "name": "stderr",
     "output_type": "stream",
     "text": [
      "/Users/mac/Documents/RU/THESIS/working_thesis/scrape.py:286: FutureWarning: The frame.append method is deprecated and will be removed from pandas in a future version. Use pandas.concat instead.\n",
      "  df_donations_prop = df_donations_prop.append(df)\n"
     ]
    },
    {
     "name": "stdout",
     "output_type": "stream",
     "text": [
      "Successfully scrape donation from bantuyatimpiatuduafa. Going to scrape the next donation.\n"
     ]
    },
    {
     "name": "stderr",
     "output_type": "stream",
     "text": [
      "/Users/mac/Documents/RU/THESIS/working_thesis/scrape.py:286: FutureWarning: The frame.append method is deprecated and will be removed from pandas in a future version. Use pandas.concat instead.\n",
      "  df_donations_prop = df_donations_prop.append(df)\n"
     ]
    },
    {
     "name": "stdout",
     "output_type": "stream",
     "text": [
      "Successfully scrape donation from wakafmushafalquran. Going to scrape the next donation.\n"
     ]
    },
    {
     "name": "stderr",
     "output_type": "stream",
     "text": [
      "/Users/mac/Documents/RU/THESIS/working_thesis/scrape.py:286: FutureWarning: The frame.append method is deprecated and will be removed from pandas in a future version. Use pandas.concat instead.\n",
      "  df_donations_prop = df_donations_prop.append(df)\n"
     ]
    },
    {
     "name": "stdout",
     "output_type": "stream",
     "text": [
      "Successfully scrape donation from bantuputragilangsembuh. Going to scrape the next donation.\n"
     ]
    },
    {
     "name": "stderr",
     "output_type": "stream",
     "text": [
      "/Users/mac/Documents/RU/THESIS/working_thesis/scrape.py:286: FutureWarning: The frame.append method is deprecated and will be removed from pandas in a future version. Use pandas.concat instead.\n",
      "  df_donations_prop = df_donations_prop.append(df)\n"
     ]
    },
    {
     "name": "stdout",
     "output_type": "stream",
     "text": [
      "Successfully scrape donation from yukinfaqyatim. Going to scrape the next donation.\n"
     ]
    },
    {
     "name": "stderr",
     "output_type": "stream",
     "text": [
      "/Users/mac/Documents/RU/THESIS/working_thesis/scrape.py:286: FutureWarning: The frame.append method is deprecated and will be removed from pandas in a future version. Use pandas.concat instead.\n",
      "  df_donations_prop = df_donations_prop.append(df)\n"
     ]
    },
    {
     "name": "stdout",
     "output_type": "stream",
     "text": [
      "Successfully scrape donation from asramasantriasadiyah. Going to scrape the next donation.\n"
     ]
    },
    {
     "name": "stderr",
     "output_type": "stream",
     "text": [
      "/Users/mac/Documents/RU/THESIS/working_thesis/scrape.py:286: FutureWarning: The frame.append method is deprecated and will be removed from pandas in a future version. Use pandas.concat instead.\n",
      "  df_donations_prop = df_donations_prop.append(df)\n"
     ]
    },
    {
     "name": "stdout",
     "output_type": "stream",
     "text": [
      "Successfully scrape donation from zakatuntukyatimdhuafa. Going to scrape the next donation.\n"
     ]
    },
    {
     "name": "stderr",
     "output_type": "stream",
     "text": [
      "/Users/mac/Documents/RU/THESIS/working_thesis/scrape.py:286: FutureWarning: The frame.append method is deprecated and will be removed from pandas in a future version. Use pandas.concat instead.\n",
      "  df_donations_prop = df_donations_prop.append(df)\n"
     ]
    },
    {
     "name": "stdout",
     "output_type": "stream",
     "text": [
      "Successfully scrape donation from biayaoperasionalpantiasuhan. Going to scrape the next donation.\n"
     ]
    },
    {
     "name": "stderr",
     "output_type": "stream",
     "text": [
      "/Users/mac/Documents/RU/THESIS/working_thesis/scrape.py:286: FutureWarning: The frame.append method is deprecated and will be removed from pandas in a future version. Use pandas.concat instead.\n",
      "  df_donations_prop = df_donations_prop.append(df)\n"
     ]
    },
    {
     "name": "stdout",
     "output_type": "stream",
     "text": [
      "Successfully scrape donation from bantuanbanjirkalteng. Going to scrape the next donation.\n"
     ]
    },
    {
     "name": "stderr",
     "output_type": "stream",
     "text": [
      "/Users/mac/Documents/RU/THESIS/working_thesis/scrape.py:286: FutureWarning: The frame.append method is deprecated and will be removed from pandas in a future version. Use pandas.concat instead.\n",
      "  df_donations_prop = df_donations_prop.append(df)\n"
     ]
    },
    {
     "name": "stdout",
     "output_type": "stream",
     "text": [
      "Successfully scrape donation from bantudenganzakat. Going to scrape the next donation.\n"
     ]
    },
    {
     "name": "stderr",
     "output_type": "stream",
     "text": [
      "/Users/mac/Documents/RU/THESIS/working_thesis/scrape.py:286: FutureWarning: The frame.append method is deprecated and will be removed from pandas in a future version. Use pandas.concat instead.\n",
      "  df_donations_prop = df_donations_prop.append(df)\n"
     ]
    },
    {
     "name": "stdout",
     "output_type": "stream",
     "text": [
      "Successfully scrape donation from fitrahjariahbantupantiasuhan. Going to scrape the next donation.\n"
     ]
    },
    {
     "name": "stderr",
     "output_type": "stream",
     "text": [
      "/Users/mac/Documents/RU/THESIS/working_thesis/scrape.py:286: FutureWarning: The frame.append method is deprecated and will be removed from pandas in a future version. Use pandas.concat instead.\n",
      "  df_donations_prop = df_donations_prop.append(df)\n"
     ]
    },
    {
     "name": "stdout",
     "output_type": "stream",
     "text": [
      "Successfully scrape donation from bantuwujudkanmimpiadikadik. Going to scrape the next donation.\n"
     ]
    },
    {
     "name": "stderr",
     "output_type": "stream",
     "text": [
      "/Users/mac/Documents/RU/THESIS/working_thesis/scrape.py:286: FutureWarning: The frame.append method is deprecated and will be removed from pandas in a future version. Use pandas.concat instead.\n",
      "  df_donations_prop = df_donations_prop.append(df)\n"
     ]
    },
    {
     "name": "stdout",
     "output_type": "stream",
     "text": [
      "Successfully scrape donation from wujudkantempatyanglayakuntuk67anakpanti. Going to scrape the next donation.\n"
     ]
    },
    {
     "name": "stderr",
     "output_type": "stream",
     "text": [
      "/Users/mac/Documents/RU/THESIS/working_thesis/scrape.py:286: FutureWarning: The frame.append method is deprecated and will be removed from pandas in a future version. Use pandas.concat instead.\n",
      "  df_donations_prop = df_donations_prop.append(df)\n"
     ]
    },
    {
     "name": "stdout",
     "output_type": "stream",
     "text": [
      "Successfully scrape donation from pkkesehatananakpanti. Going to scrape the next donation.\n"
     ]
    },
    {
     "name": "stderr",
     "output_type": "stream",
     "text": [
      "/Users/mac/Documents/RU/THESIS/working_thesis/scrape.py:286: FutureWarning: The frame.append method is deprecated and will be removed from pandas in a future version. Use pandas.concat instead.\n",
      "  df_donations_prop = df_donations_prop.append(df)\n"
     ]
    },
    {
     "name": "stdout",
     "output_type": "stream",
     "text": [
      "Successfully scrape donation from pantitahfidz. Going to scrape the next donation.\n"
     ]
    },
    {
     "name": "stderr",
     "output_type": "stream",
     "text": [
      "/Users/mac/Documents/RU/THESIS/working_thesis/scrape.py:286: FutureWarning: The frame.append method is deprecated and will be removed from pandas in a future version. Use pandas.concat instead.\n",
      "  df_donations_prop = df_donations_prop.append(df)\n"
     ]
    },
    {
     "name": "stdout",
     "output_type": "stream",
     "text": [
      "Successfully scrape donation from sedekahuntukyatimduafa. Going to scrape the next donation.\n"
     ]
    },
    {
     "name": "stderr",
     "output_type": "stream",
     "text": [
      "/Users/mac/Documents/RU/THESIS/working_thesis/scrape.py:286: FutureWarning: The frame.append method is deprecated and will be removed from pandas in a future version. Use pandas.concat instead.\n",
      "  df_donations_prop = df_donations_prop.append(df)\n"
     ]
    },
    {
     "name": "stdout",
     "output_type": "stream",
     "text": [
      "Successfully scrape donation from tumorganasgerogotirizky. Going to scrape the next donation.\n"
     ]
    },
    {
     "name": "stderr",
     "output_type": "stream",
     "text": [
      "/Users/mac/Documents/RU/THESIS/working_thesis/scrape.py:286: FutureWarning: The frame.append method is deprecated and will be removed from pandas in a future version. Use pandas.concat instead.\n",
      "  df_donations_prop = df_donations_prop.append(df)\n"
     ]
    },
    {
     "name": "stdout",
     "output_type": "stream",
     "text": [
      "Successfully scrape donation from susipenyelamatanjing. Going to scrape the next donation.\n"
     ]
    },
    {
     "name": "stderr",
     "output_type": "stream",
     "text": [
      "/Users/mac/Documents/RU/THESIS/working_thesis/scrape.py:286: FutureWarning: The frame.append method is deprecated and will be removed from pandas in a future version. Use pandas.concat instead.\n",
      "  df_donations_prop = df_donations_prop.append(df)\n"
     ]
    },
    {
     "name": "stdout",
     "output_type": "stream",
     "text": [
      "Successfully scrape donation from sedekahbantumakansantriyatimdhuafa. Going to scrape the next donation.\n"
     ]
    },
    {
     "name": "stderr",
     "output_type": "stream",
     "text": [
      "/Users/mac/Documents/RU/THESIS/working_thesis/scrape.py:286: FutureWarning: The frame.append method is deprecated and will be removed from pandas in a future version. Use pandas.concat instead.\n",
      "  df_donations_prop = df_donations_prop.append(df)\n"
     ]
    },
    {
     "name": "stdout",
     "output_type": "stream",
     "text": [
      "Successfully scrape donation from daruratbantupembangunanmesjidalhidayah. Going to scrape the next donation.\n"
     ]
    },
    {
     "name": "stderr",
     "output_type": "stream",
     "text": [
      "/Users/mac/Documents/RU/THESIS/working_thesis/scrape.py:286: FutureWarning: The frame.append method is deprecated and will be removed from pandas in a future version. Use pandas.concat instead.\n",
      "  df_donations_prop = df_donations_prop.append(df)\n"
     ]
    },
    {
     "name": "stdout",
     "output_type": "stream",
     "text": [
      "Successfully scrape donation from sedekahsubuhbantupenghafalal. Going to scrape the next donation.\n"
     ]
    },
    {
     "name": "stderr",
     "output_type": "stream",
     "text": [
      "/Users/mac/Documents/RU/THESIS/working_thesis/scrape.py:286: FutureWarning: The frame.append method is deprecated and will be removed from pandas in a future version. Use pandas.concat instead.\n",
      "  df_donations_prop = df_donations_prop.append(df)\n"
     ]
    },
    {
     "name": "stdout",
     "output_type": "stream",
     "text": [
      "Successfully scrape donation from rizkipenghafalalquran. Going to scrape the next donation.\n"
     ]
    },
    {
     "name": "stderr",
     "output_type": "stream",
     "text": [
      "/Users/mac/Documents/RU/THESIS/working_thesis/scrape.py:286: FutureWarning: The frame.append method is deprecated and will be removed from pandas in a future version. Use pandas.concat instead.\n",
      "  df_donations_prop = df_donations_prop.append(df)\n"
     ]
    },
    {
     "name": "stdout",
     "output_type": "stream",
     "text": [
      "Successfully scrape donation from sedekahjariah1000wakafalquranuntuksantri. Going to scrape the next donation.\n"
     ]
    },
    {
     "name": "stderr",
     "output_type": "stream",
     "text": [
      "/Users/mac/Documents/RU/THESIS/working_thesis/scrape.py:286: FutureWarning: The frame.append method is deprecated and will be removed from pandas in a future version. Use pandas.concat instead.\n",
      "  df_donations_prop = df_donations_prop.append(df)\n"
     ]
    },
    {
     "name": "stdout",
     "output_type": "stream",
     "text": [
      "Successfully scrape donation from bangungedungsekolahanakbangsa. Going to scrape the next donation.\n"
     ]
    },
    {
     "name": "stderr",
     "output_type": "stream",
     "text": [
      "/Users/mac/Documents/RU/THESIS/working_thesis/scrape.py:286: FutureWarning: The frame.append method is deprecated and will be removed from pandas in a future version. Use pandas.concat instead.\n",
      "  df_donations_prop = df_donations_prop.append(df)\n"
     ]
    },
    {
     "name": "stdout",
     "output_type": "stream",
     "text": [
      "Successfully scrape donation from zakatuntukpemberdayaangurungaji. Going to scrape the next donation.\n"
     ]
    },
    {
     "name": "stderr",
     "output_type": "stream",
     "text": [
      "/Users/mac/Documents/RU/THESIS/working_thesis/scrape.py:286: FutureWarning: The frame.append method is deprecated and will be removed from pandas in a future version. Use pandas.concat instead.\n",
      "  df_donations_prop = df_donations_prop.append(df)\n"
     ]
    },
    {
     "name": "stdout",
     "output_type": "stream",
     "text": [
      "Successfully scrape donation from zakatfakirmiskinsantriyatimdhufa. Going to scrape the next donation.\n"
     ]
    },
    {
     "name": "stderr",
     "output_type": "stream",
     "text": [
      "/Users/mac/Documents/RU/THESIS/working_thesis/scrape.py:286: FutureWarning: The frame.append method is deprecated and will be removed from pandas in a future version. Use pandas.concat instead.\n",
      "  df_donations_prop = df_donations_prop.append(df)\n"
     ]
    },
    {
     "name": "stdout",
     "output_type": "stream",
     "text": [
      "Successfully scrape donation from santriyatimdhuafa. Going to scrape the next donation.\n"
     ]
    },
    {
     "name": "stderr",
     "output_type": "stream",
     "text": [
      "/Users/mac/Documents/RU/THESIS/working_thesis/scrape.py:286: FutureWarning: The frame.append method is deprecated and will be removed from pandas in a future version. Use pandas.concat instead.\n",
      "  df_donations_prop = df_donations_prop.append(df)\n"
     ]
    },
    {
     "name": "stdout",
     "output_type": "stream",
     "text": [
      "Successfully scrape donation from madrasahnyarisambruk. Going to scrape the next donation.\n"
     ]
    },
    {
     "name": "stderr",
     "output_type": "stream",
     "text": [
      "/Users/mac/Documents/RU/THESIS/working_thesis/scrape.py:286: FutureWarning: The frame.append method is deprecated and will be removed from pandas in a future version. Use pandas.concat instead.\n",
      "  df_donations_prop = df_donations_prop.append(df)\n"
     ]
    },
    {
     "name": "stdout",
     "output_type": "stream",
     "text": [
      "Successfully scrape donation from zakatuntuksantritahfidzyatimpiatu. Going to scrape the next donation.\n"
     ]
    },
    {
     "name": "stderr",
     "output_type": "stream",
     "text": [
      "/Users/mac/Documents/RU/THESIS/working_thesis/scrape.py:286: FutureWarning: The frame.append method is deprecated and will be removed from pandas in a future version. Use pandas.concat instead.\n",
      "  df_donations_prop = df_donations_prop.append(df)\n"
     ]
    },
    {
     "name": "stdout",
     "output_type": "stream",
     "text": [
      "Successfully scrape donation from zakatbantugurungajidandhuafa. Going to scrape the next donation.\n"
     ]
    },
    {
     "name": "stderr",
     "output_type": "stream",
     "text": [
      "/Users/mac/Documents/RU/THESIS/working_thesis/scrape.py:286: FutureWarning: The frame.append method is deprecated and will be removed from pandas in a future version. Use pandas.concat instead.\n",
      "  df_donations_prop = df_donations_prop.append(df)\n"
     ]
    },
    {
     "name": "stdout",
     "output_type": "stream",
     "text": [
      "Successfully scrape donation from andiberjuangobatiortu. Going to scrape the next donation.\n"
     ]
    },
    {
     "name": "stderr",
     "output_type": "stream",
     "text": [
      "/Users/mac/Documents/RU/THESIS/working_thesis/scrape.py:286: FutureWarning: The frame.append method is deprecated and will be removed from pandas in a future version. Use pandas.concat instead.\n",
      "  df_donations_prop = df_donations_prop.append(df)\n"
     ]
    },
    {
     "name": "stdout",
     "output_type": "stream",
     "text": [
      "Successfully scrape donation from bisapenunjangpasien. Going to scrape the next donation.\n"
     ]
    },
    {
     "name": "stderr",
     "output_type": "stream",
     "text": [
      "/Users/mac/Documents/RU/THESIS/working_thesis/scrape.py:286: FutureWarning: The frame.append method is deprecated and will be removed from pandas in a future version. Use pandas.concat instead.\n",
      "  df_donations_prop = df_donations_prop.append(df)\n"
     ]
    },
    {
     "name": "stdout",
     "output_type": "stream",
     "text": [
      "Successfully scrape donation from untukbarasembuh. Going to scrape the next donation.\n"
     ]
    },
    {
     "name": "stderr",
     "output_type": "stream",
     "text": [
      "/Users/mac/Documents/RU/THESIS/working_thesis/scrape.py:286: FutureWarning: The frame.append method is deprecated and will be removed from pandas in a future version. Use pandas.concat instead.\n",
      "  df_donations_prop = df_donations_prop.append(df)\n"
     ]
    },
    {
     "name": "stdout",
     "output_type": "stream",
     "text": [
      "Successfully scrape donation from wakafproduktifuntuksantri. Going to scrape the next donation.\n"
     ]
    },
    {
     "name": "stderr",
     "output_type": "stream",
     "text": [
      "/Users/mac/Documents/RU/THESIS/working_thesis/scrape.py:286: FutureWarning: The frame.append method is deprecated and will be removed from pandas in a future version. Use pandas.concat instead.\n",
      "  df_donations_prop = df_donations_prop.append(df)\n"
     ]
    },
    {
     "name": "stdout",
     "output_type": "stream",
     "text": [
      "Successfully scrape donation from airbersihuntukyatim. Going to scrape the next donation.\n"
     ]
    },
    {
     "name": "stderr",
     "output_type": "stream",
     "text": [
      "/Users/mac/Documents/RU/THESIS/working_thesis/scrape.py:286: FutureWarning: The frame.append method is deprecated and will be removed from pandas in a future version. Use pandas.concat instead.\n",
      "  df_donations_prop = df_donations_prop.append(df)\n"
     ]
    },
    {
     "name": "stdout",
     "output_type": "stream",
     "text": [
      "Successfully scrape donation from ayosedekahjariyah. Going to scrape the next donation.\n"
     ]
    },
    {
     "name": "stderr",
     "output_type": "stream",
     "text": [
      "/Users/mac/Documents/RU/THESIS/working_thesis/scrape.py:286: FutureWarning: The frame.append method is deprecated and will be removed from pandas in a future version. Use pandas.concat instead.\n",
      "  df_donations_prop = df_donations_prop.append(df)\n"
     ]
    },
    {
     "name": "stdout",
     "output_type": "stream",
     "text": [
      "Successfully scrape donation from zakatpemberdayaandhuafadisabilitas. Going to scrape the next donation.\n"
     ]
    },
    {
     "name": "stderr",
     "output_type": "stream",
     "text": [
      "/Users/mac/Documents/RU/THESIS/working_thesis/scrape.py:286: FutureWarning: The frame.append method is deprecated and will be removed from pandas in a future version. Use pandas.concat instead.\n",
      "  df_donations_prop = df_donations_prop.append(df)\n"
     ]
    },
    {
     "name": "stdout",
     "output_type": "stream",
     "text": [
      "Successfully scrape donation from sedekahsantriuzh. Going to scrape the next donation.\n"
     ]
    },
    {
     "name": "stderr",
     "output_type": "stream",
     "text": [
      "/Users/mac/Documents/RU/THESIS/working_thesis/scrape.py:286: FutureWarning: The frame.append method is deprecated and will be removed from pandas in a future version. Use pandas.concat instead.\n",
      "  df_donations_prop = df_donations_prop.append(df)\n"
     ]
    },
    {
     "name": "stdout",
     "output_type": "stream",
     "text": [
      "Successfully scrape donation from untuktemanmbahgiyantocilok. Going to scrape the next donation.\n"
     ]
    },
    {
     "name": "stderr",
     "output_type": "stream",
     "text": [
      "/Users/mac/Documents/RU/THESIS/working_thesis/scrape.py:286: FutureWarning: The frame.append method is deprecated and will be removed from pandas in a future version. Use pandas.concat instead.\n",
      "  df_donations_prop = df_donations_prop.append(df)\n"
     ]
    },
    {
     "name": "stdout",
     "output_type": "stream",
     "text": [
      "Successfully scrape donation from bantuhujudkanpembangunannurulmaarif. Going to scrape the next donation.\n"
     ]
    },
    {
     "name": "stderr",
     "output_type": "stream",
     "text": [
      "/Users/mac/Documents/RU/THESIS/working_thesis/scrape.py:286: FutureWarning: The frame.append method is deprecated and will be removed from pandas in a future version. Use pandas.concat instead.\n",
      "  df_donations_prop = df_donations_prop.append(df)\n"
     ]
    },
    {
     "name": "stdout",
     "output_type": "stream",
     "text": [
      "Successfully scrape donation from dukungyatimbisamakan. Going to scrape the next donation.\n"
     ]
    },
    {
     "name": "stderr",
     "output_type": "stream",
     "text": [
      "/Users/mac/Documents/RU/THESIS/working_thesis/scrape.py:286: FutureWarning: The frame.append method is deprecated and will be removed from pandas in a future version. Use pandas.concat instead.\n",
      "  df_donations_prop = df_donations_prop.append(df)\n"
     ]
    },
    {
     "name": "stdout",
     "output_type": "stream",
     "text": [
      "Successfully scrape donation from sedekahsubuhbantupenghafalalquran. Going to scrape the next donation.\n"
     ]
    },
    {
     "name": "stderr",
     "output_type": "stream",
     "text": [
      "/Users/mac/Documents/RU/THESIS/working_thesis/scrape.py:286: FutureWarning: The frame.append method is deprecated and will be removed from pandas in a future version. Use pandas.concat instead.\n",
      "  df_donations_prop = df_donations_prop.append(df)\n"
     ]
    },
    {
     "name": "stdout",
     "output_type": "stream",
     "text": [
      "Successfully scrape donation from bantuibnumaliksembuhdarikangker. Going to scrape the next donation.\n"
     ]
    },
    {
     "name": "stderr",
     "output_type": "stream",
     "text": [
      "/Users/mac/Documents/RU/THESIS/working_thesis/scrape.py:286: FutureWarning: The frame.append method is deprecated and will be removed from pandas in a future version. Use pandas.concat instead.\n",
      "  df_donations_prop = df_donations_prop.append(df)\n"
     ]
    },
    {
     "name": "stdout",
     "output_type": "stream",
     "text": [
      "Successfully scrape donation from bantuidajahlawankankerappendix. Going to scrape the next donation.\n"
     ]
    },
    {
     "name": "stderr",
     "output_type": "stream",
     "text": [
      "/Users/mac/Documents/RU/THESIS/working_thesis/scrape.py:286: FutureWarning: The frame.append method is deprecated and will be removed from pandas in a future version. Use pandas.concat instead.\n",
      "  df_donations_prop = df_donations_prop.append(df)\n"
     ]
    },
    {
     "name": "stdout",
     "output_type": "stream",
     "text": [
      "Successfully scrape donation from bangunmadrasahuntuksantri. Going to scrape the next donation.\n"
     ]
    },
    {
     "name": "stderr",
     "output_type": "stream",
     "text": [
      "/Users/mac/Documents/RU/THESIS/working_thesis/scrape.py:286: FutureWarning: The frame.append method is deprecated and will be removed from pandas in a future version. Use pandas.concat instead.\n",
      "  df_donations_prop = df_donations_prop.append(df)\n"
     ]
    },
    {
     "name": "stdout",
     "output_type": "stream",
     "text": [
      "Successfully scrape donation from wakafpembebasanlahanuntukpesantrenramahdifabeldalasia. Going to scrape the next donation.\n"
     ]
    },
    {
     "name": "stderr",
     "output_type": "stream",
     "text": [
      "/Users/mac/Documents/RU/THESIS/working_thesis/scrape.py:286: FutureWarning: The frame.append method is deprecated and will be removed from pandas in a future version. Use pandas.concat instead.\n",
      "  df_donations_prop = df_donations_prop.append(df)\n"
     ]
    },
    {
     "name": "stdout",
     "output_type": "stream",
     "text": [
      "Successfully scrape donation from zakatuntukringankansaudarakita. Going to scrape the next donation.\n"
     ]
    },
    {
     "name": "stderr",
     "output_type": "stream",
     "text": [
      "/Users/mac/Documents/RU/THESIS/working_thesis/scrape.py:286: FutureWarning: The frame.append method is deprecated and will be removed from pandas in a future version. Use pandas.concat instead.\n",
      "  df_donations_prop = df_donations_prop.append(df)\n"
     ]
    },
    {
     "name": "stdout",
     "output_type": "stream",
     "text": [
      "Successfully scrape donation from sedekahsubuhuntukanakyatimpiatu. Going to scrape the next donation.\n"
     ]
    },
    {
     "name": "stderr",
     "output_type": "stream",
     "text": [
      "/Users/mac/Documents/RU/THESIS/working_thesis/scrape.py:286: FutureWarning: The frame.append method is deprecated and will be removed from pandas in a future version. Use pandas.concat instead.\n",
      "  df_donations_prop = df_donations_prop.append(df)\n"
     ]
    },
    {
     "name": "stdout",
     "output_type": "stream",
     "text": [
      "Successfully scrape donation from bantuvirabisasembuh. Going to scrape the next donation.\n"
     ]
    },
    {
     "name": "stderr",
     "output_type": "stream",
     "text": [
      "/Users/mac/Documents/RU/THESIS/working_thesis/scrape.py:286: FutureWarning: The frame.append method is deprecated and will be removed from pandas in a future version. Use pandas.concat instead.\n",
      "  df_donations_prop = df_donations_prop.append(df)\n"
     ]
    },
    {
     "name": "stdout",
     "output_type": "stream",
     "text": [
      "Successfully scrape donation from gibranderitakankermataganas. Going to scrape the next donation.\n"
     ]
    },
    {
     "name": "stderr",
     "output_type": "stream",
     "text": [
      "/Users/mac/Documents/RU/THESIS/working_thesis/scrape.py:286: FutureWarning: The frame.append method is deprecated and will be removed from pandas in a future version. Use pandas.concat instead.\n",
      "  df_donations_prop = df_donations_prop.append(df)\n"
     ]
    },
    {
     "name": "stdout",
     "output_type": "stream",
     "text": [
      "Successfully scrape donation from fasilitasmasjidkampung. Going to scrape the next donation.\n"
     ]
    },
    {
     "name": "stderr",
     "output_type": "stream",
     "text": [
      "/Users/mac/Documents/RU/THESIS/working_thesis/scrape.py:286: FutureWarning: The frame.append method is deprecated and will be removed from pandas in a future version. Use pandas.concat instead.\n",
      "  df_donations_prop = df_donations_prop.append(df)\n"
     ]
    },
    {
     "name": "stdout",
     "output_type": "stream",
     "text": [
      "Successfully scrape donation from zakatuntukyatimdhuafatahfizhquran. Going to scrape the next donation.\n"
     ]
    },
    {
     "name": "stderr",
     "output_type": "stream",
     "text": [
      "/Users/mac/Documents/RU/THESIS/working_thesis/scrape.py:286: FutureWarning: The frame.append method is deprecated and will be removed from pandas in a future version. Use pandas.concat instead.\n",
      "  df_donations_prop = df_donations_prop.append(df)\n"
     ]
    },
    {
     "name": "stdout",
     "output_type": "stream",
     "text": [
      "Successfully scrape donation from sedekahsubuhuntuk32anakyatim. Going to scrape the next donation.\n"
     ]
    },
    {
     "name": "stderr",
     "output_type": "stream",
     "text": [
      "/Users/mac/Documents/RU/THESIS/working_thesis/scrape.py:286: FutureWarning: The frame.append method is deprecated and will be removed from pandas in a future version. Use pandas.concat instead.\n",
      "  df_donations_prop = df_donations_prop.append(df)\n"
     ]
    },
    {
     "name": "stdout",
     "output_type": "stream",
     "text": [
      "Successfully scrape donation from sahabatcintaadam. Going to scrape the next donation.\n"
     ]
    },
    {
     "name": "stderr",
     "output_type": "stream",
     "text": [
      "/Users/mac/Documents/RU/THESIS/working_thesis/scrape.py:286: FutureWarning: The frame.append method is deprecated and will be removed from pandas in a future version. Use pandas.concat instead.\n",
      "  df_donations_prop = df_donations_prop.append(df)\n"
     ]
    },
    {
     "name": "stdout",
     "output_type": "stream",
     "text": [
      "Successfully scrape donation from sumurmasjidnusantara. Going to scrape the next donation.\n"
     ]
    },
    {
     "name": "stderr",
     "output_type": "stream",
     "text": [
      "/Users/mac/Documents/RU/THESIS/working_thesis/scrape.py:286: FutureWarning: The frame.append method is deprecated and will be removed from pandas in a future version. Use pandas.concat instead.\n",
      "  df_donations_prop = df_donations_prop.append(df)\n"
     ]
    },
    {
     "name": "stdout",
     "output_type": "stream",
     "text": [
      "Successfully scrape donation from infaqpembangunanalbahjahdermojayan. Going to scrape the next donation.\n"
     ]
    },
    {
     "name": "stderr",
     "output_type": "stream",
     "text": [
      "/Users/mac/Documents/RU/THESIS/working_thesis/scrape.py:286: FutureWarning: The frame.append method is deprecated and will be removed from pandas in a future version. Use pandas.concat instead.\n",
      "  df_donations_prop = df_donations_prop.append(df)\n"
     ]
    },
    {
     "name": "stdout",
     "output_type": "stream",
     "text": [
      "Successfully scrape donation from toiletwudhupedalaman. Going to scrape the next donation.\n"
     ]
    },
    {
     "name": "stderr",
     "output_type": "stream",
     "text": [
      "/Users/mac/Documents/RU/THESIS/working_thesis/scrape.py:286: FutureWarning: The frame.append method is deprecated and will be removed from pandas in a future version. Use pandas.concat instead.\n",
      "  df_donations_prop = df_donations_prop.append(df)\n"
     ]
    },
    {
     "name": "stdout",
     "output_type": "stream",
     "text": [
      "Successfully scrape donation from bantuwargatidakberibadahdigubuktanilagi. Going to scrape the next donation.\n"
     ]
    },
    {
     "name": "stderr",
     "output_type": "stream",
     "text": [
      "/Users/mac/Documents/RU/THESIS/working_thesis/scrape.py:286: FutureWarning: The frame.append method is deprecated and will be removed from pandas in a future version. Use pandas.concat instead.\n",
      "  df_donations_prop = df_donations_prop.append(df)\n"
     ]
    },
    {
     "name": "stdout",
     "output_type": "stream",
     "text": [
      "Successfully scrape donation from zakatuntuksantriyatimpiatupenghafalalquran. Going to scrape the next donation.\n"
     ]
    },
    {
     "name": "stderr",
     "output_type": "stream",
     "text": [
      "/Users/mac/Documents/RU/THESIS/working_thesis/scrape.py:286: FutureWarning: The frame.append method is deprecated and will be removed from pandas in a future version. Use pandas.concat instead.\n",
      "  df_donations_prop = df_donations_prop.append(df)\n"
     ]
    },
    {
     "name": "stdout",
     "output_type": "stream",
     "text": [
      "Successfully scrape donation from bantukebutuhanberas. Going to scrape the next donation.\n"
     ]
    },
    {
     "name": "stderr",
     "output_type": "stream",
     "text": [
      "/Users/mac/Documents/RU/THESIS/working_thesis/scrape.py:286: FutureWarning: The frame.append method is deprecated and will be removed from pandas in a future version. Use pandas.concat instead.\n",
      "  df_donations_prop = df_donations_prop.append(df)\n"
     ]
    },
    {
     "name": "stdout",
     "output_type": "stream",
     "text": [
      "Successfully scrape donation from gantialquranrusakdenganyangbaruuntuksantri. Going to scrape the next donation.\n"
     ]
    },
    {
     "name": "stderr",
     "output_type": "stream",
     "text": [
      "/Users/mac/Documents/RU/THESIS/working_thesis/scrape.py:286: FutureWarning: The frame.append method is deprecated and will be removed from pandas in a future version. Use pandas.concat instead.\n",
      "  df_donations_prop = df_donations_prop.append(df)\n"
     ]
    },
    {
     "name": "stdout",
     "output_type": "stream",
     "text": [
      "Successfully scrape donation from zakatmuadalahharapanbagimereka. Going to scrape the next donation.\n"
     ]
    },
    {
     "name": "stderr",
     "output_type": "stream",
     "text": [
      "/Users/mac/Documents/RU/THESIS/working_thesis/scrape.py:286: FutureWarning: The frame.append method is deprecated and will be removed from pandas in a future version. Use pandas.concat instead.\n",
      "  df_donations_prop = df_donations_prop.append(df)\n"
     ]
    },
    {
     "name": "stdout",
     "output_type": "stream",
     "text": [
      "Successfully scrape donation from rumahyatim. Going to scrape the next donation.\n"
     ]
    },
    {
     "name": "stderr",
     "output_type": "stream",
     "text": [
      "/Users/mac/Documents/RU/THESIS/working_thesis/scrape.py:286: FutureWarning: The frame.append method is deprecated and will be removed from pandas in a future version. Use pandas.concat instead.\n",
      "  df_donations_prop = df_donations_prop.append(df)\n"
     ]
    },
    {
     "name": "stdout",
     "output_type": "stream",
     "text": [
      "Successfully scrape donation from zakatbersamabagipenghafalalquran. Going to scrape the next donation.\n"
     ]
    },
    {
     "name": "stderr",
     "output_type": "stream",
     "text": [
      "/Users/mac/Documents/RU/THESIS/working_thesis/scrape.py:286: FutureWarning: The frame.append method is deprecated and will be removed from pandas in a future version. Use pandas.concat instead.\n",
      "  df_donations_prop = df_donations_prop.append(df)\n"
     ]
    },
    {
     "name": "stdout",
     "output_type": "stream",
     "text": [
      "Successfully scrape donation from bantuparasantriuntukterusbelajardenganlayak. Going to scrape the next donation.\n"
     ]
    },
    {
     "name": "stderr",
     "output_type": "stream",
     "text": [
      "/Users/mac/Documents/RU/THESIS/working_thesis/scrape.py:286: FutureWarning: The frame.append method is deprecated and will be removed from pandas in a future version. Use pandas.concat instead.\n",
      "  df_donations_prop = df_donations_prop.append(df)\n"
     ]
    },
    {
     "name": "stdout",
     "output_type": "stream",
     "text": [
      "Successfully scrape donation from sedekahpaketquran. Going to scrape the next donation.\n"
     ]
    },
    {
     "name": "stderr",
     "output_type": "stream",
     "text": [
      "/Users/mac/Documents/RU/THESIS/working_thesis/scrape.py:286: FutureWarning: The frame.append method is deprecated and will be removed from pandas in a future version. Use pandas.concat instead.\n",
      "  df_donations_prop = df_donations_prop.append(df)\n"
     ]
    },
    {
     "name": "stdout",
     "output_type": "stream",
     "text": [
      "Successfully scrape donation from bantuanakcorneliusberjuangdaripenyakitkronis. Going to scrape the next donation.\n"
     ]
    },
    {
     "name": "stderr",
     "output_type": "stream",
     "text": [
      "/Users/mac/Documents/RU/THESIS/working_thesis/scrape.py:286: FutureWarning: The frame.append method is deprecated and will be removed from pandas in a future version. Use pandas.concat instead.\n",
      "  df_donations_prop = df_donations_prop.append(df)\n"
     ]
    },
    {
     "name": "stdout",
     "output_type": "stream",
     "text": [
      "Successfully scrape donation from tuhanbantudarentransplantasisumsumtulang. Going to scrape the next donation.\n"
     ]
    },
    {
     "name": "stderr",
     "output_type": "stream",
     "text": [
      "/Users/mac/Documents/RU/THESIS/working_thesis/scrape.py:286: FutureWarning: The frame.append method is deprecated and will be removed from pandas in a future version. Use pandas.concat instead.\n",
      "  df_donations_prop = df_donations_prop.append(df)\n"
     ]
    },
    {
     "name": "stdout",
     "output_type": "stream",
     "text": [
      "Successfully scrape donation from mekibisasembuh. Going to scrape the next donation.\n"
     ]
    },
    {
     "name": "stderr",
     "output_type": "stream",
     "text": [
      "/Users/mac/Documents/RU/THESIS/working_thesis/scrape.py:286: FutureWarning: The frame.append method is deprecated and will be removed from pandas in a future version. Use pandas.concat instead.\n",
      "  df_donations_prop = df_donations_prop.append(df)\n"
     ]
    },
    {
     "name": "stdout",
     "output_type": "stream",
     "text": [
      "Successfully scrape donation from santunananakyatimpiatudhuafa. Going to scrape the next donation.\n"
     ]
    },
    {
     "name": "stderr",
     "output_type": "stream",
     "text": [
      "/Users/mac/Documents/RU/THESIS/working_thesis/scrape.py:286: FutureWarning: The frame.append method is deprecated and will be removed from pandas in a future version. Use pandas.concat instead.\n",
      "  df_donations_prop = df_donations_prop.append(df)\n"
     ]
    },
    {
     "name": "stdout",
     "output_type": "stream",
     "text": [
      "Successfully scrape donation from infaqyatimkebahagiaanuntuk500anakyatim. Going to scrape the next donation.\n"
     ]
    },
    {
     "name": "stderr",
     "output_type": "stream",
     "text": [
      "/Users/mac/Documents/RU/THESIS/working_thesis/scrape.py:286: FutureWarning: The frame.append method is deprecated and will be removed from pandas in a future version. Use pandas.concat instead.\n",
      "  df_donations_prop = df_donations_prop.append(df)\n"
     ]
    },
    {
     "name": "stdout",
     "output_type": "stream",
     "text": [
      "Successfully scrape donation from pendidikankaderdai. Going to scrape the next donation.\n"
     ]
    },
    {
     "name": "stderr",
     "output_type": "stream",
     "text": [
      "/Users/mac/Documents/RU/THESIS/working_thesis/scrape.py:286: FutureWarning: The frame.append method is deprecated and will be removed from pandas in a future version. Use pandas.concat instead.\n",
      "  df_donations_prop = df_donations_prop.append(df)\n"
     ]
    },
    {
     "name": "stdout",
     "output_type": "stream",
     "text": [
      "Successfully scrape donation from respekuntuknirvania. Going to scrape the next donation.\n"
     ]
    },
    {
     "name": "stderr",
     "output_type": "stream",
     "text": [
      "/Users/mac/Documents/RU/THESIS/working_thesis/scrape.py:286: FutureWarning: The frame.append method is deprecated and will be removed from pandas in a future version. Use pandas.concat instead.\n",
      "  df_donations_prop = df_donations_prop.append(df)\n"
     ]
    },
    {
     "name": "stdout",
     "output_type": "stream",
     "text": [
      "Successfully scrape donation from pahalapenghafalquran. Going to scrape the next donation.\n"
     ]
    },
    {
     "name": "stderr",
     "output_type": "stream",
     "text": [
      "/Users/mac/Documents/RU/THESIS/working_thesis/scrape.py:286: FutureWarning: The frame.append method is deprecated and will be removed from pandas in a future version. Use pandas.concat instead.\n",
      "  df_donations_prop = df_donations_prop.append(df)\n"
     ]
    },
    {
     "name": "stdout",
     "output_type": "stream",
     "text": [
      "Successfully scrape donation from raihpahala2000wakafalqurantuksantripelosok. Going to scrape the next donation.\n"
     ]
    },
    {
     "name": "stderr",
     "output_type": "stream",
     "text": [
      "/Users/mac/Documents/RU/THESIS/working_thesis/scrape.py:286: FutureWarning: The frame.append method is deprecated and will be removed from pandas in a future version. Use pandas.concat instead.\n",
      "  df_donations_prop = df_donations_prop.append(df)\n"
     ]
    },
    {
     "name": "stdout",
     "output_type": "stream",
     "text": [
      "Successfully scrape donation from zakatkepesantren. Going to scrape the next donation.\n"
     ]
    },
    {
     "name": "stderr",
     "output_type": "stream",
     "text": [
      "/Users/mac/Documents/RU/THESIS/working_thesis/scrape.py:286: FutureWarning: The frame.append method is deprecated and will be removed from pandas in a future version. Use pandas.concat instead.\n",
      "  df_donations_prop = df_donations_prop.append(df)\n"
     ]
    },
    {
     "name": "stdout",
     "output_type": "stream",
     "text": [
      "Successfully scrape donation from sedekahsubuhpembangunanasrama. Going to scrape the next donation.\n"
     ]
    },
    {
     "name": "stderr",
     "output_type": "stream",
     "text": [
      "/Users/mac/Documents/RU/THESIS/working_thesis/scrape.py:286: FutureWarning: The frame.append method is deprecated and will be removed from pandas in a future version. Use pandas.concat instead.\n",
      "  df_donations_prop = df_donations_prop.append(df)\n"
     ]
    },
    {
     "name": "stdout",
     "output_type": "stream",
     "text": [
      "Successfully scrape donation from bantusunangiri. Going to scrape the next donation.\n"
     ]
    },
    {
     "name": "stderr",
     "output_type": "stream",
     "text": [
      "/Users/mac/Documents/RU/THESIS/working_thesis/scrape.py:286: FutureWarning: The frame.append method is deprecated and will be removed from pandas in a future version. Use pandas.concat instead.\n",
      "  df_donations_prop = df_donations_prop.append(df)\n"
     ]
    },
    {
     "name": "stdout",
     "output_type": "stream",
     "text": [
      "Successfully scrape donation from wakafpembangunanasramadanmck. Going to scrape the next donation.\n"
     ]
    },
    {
     "name": "stderr",
     "output_type": "stream",
     "text": [
      "/Users/mac/Documents/RU/THESIS/working_thesis/scrape.py:286: FutureWarning: The frame.append method is deprecated and will be removed from pandas in a future version. Use pandas.concat instead.\n",
      "  df_donations_prop = df_donations_prop.append(df)\n"
     ]
    },
    {
     "name": "stdout",
     "output_type": "stream",
     "text": [
      "Successfully scrape donation from infaqyatimdandhuafapapi. Going to scrape the next donation.\n"
     ]
    },
    {
     "name": "stderr",
     "output_type": "stream",
     "text": [
      "/Users/mac/Documents/RU/THESIS/working_thesis/scrape.py:286: FutureWarning: The frame.append method is deprecated and will be removed from pandas in a future version. Use pandas.concat instead.\n",
      "  df_donations_prop = df_donations_prop.append(df)\n"
     ]
    },
    {
     "name": "stdout",
     "output_type": "stream",
     "text": [
      "Successfully scrape donation from respekuntukaura. Going to scrape the next donation.\n"
     ]
    },
    {
     "name": "stderr",
     "output_type": "stream",
     "text": [
      "/Users/mac/Documents/RU/THESIS/working_thesis/scrape.py:286: FutureWarning: The frame.append method is deprecated and will be removed from pandas in a future version. Use pandas.concat instead.\n",
      "  df_donations_prop = df_donations_prop.append(df)\n"
     ]
    },
    {
     "name": "stdout",
     "output_type": "stream",
     "text": [
      "Successfully scrape donation from zakatuntukmembantudaerahpelosok. Going to scrape the next donation.\n"
     ]
    },
    {
     "name": "stderr",
     "output_type": "stream",
     "text": [
      "/Users/mac/Documents/RU/THESIS/working_thesis/scrape.py:286: FutureWarning: The frame.append method is deprecated and will be removed from pandas in a future version. Use pandas.concat instead.\n",
      "  df_donations_prop = df_donations_prop.append(df)\n"
     ]
    },
    {
     "name": "stdout",
     "output_type": "stream",
     "text": [
      "Successfully scrape donation from masjidalfatihalbaqili. Going to scrape the next donation.\n"
     ]
    },
    {
     "name": "stderr",
     "output_type": "stream",
     "text": [
      "/Users/mac/Documents/RU/THESIS/working_thesis/scrape.py:286: FutureWarning: The frame.append method is deprecated and will be removed from pandas in a future version. Use pandas.concat instead.\n",
      "  df_donations_prop = df_donations_prop.append(df)\n"
     ]
    },
    {
     "name": "stdout",
     "output_type": "stream",
     "text": [
      "Successfully scrape donation from beasiswasantrialitqan. Going to scrape the next donation.\n"
     ]
    },
    {
     "name": "stderr",
     "output_type": "stream",
     "text": [
      "/Users/mac/Documents/RU/THESIS/working_thesis/scrape.py:286: FutureWarning: The frame.append method is deprecated and will be removed from pandas in a future version. Use pandas.concat instead.\n",
      "  df_donations_prop = df_donations_prop.append(df)\n"
     ]
    },
    {
     "name": "stdout",
     "output_type": "stream",
     "text": [
      "Successfully scrape donation from wakaf1000mukenauntukmesjiddanmusholadipelosok. Going to scrape the next donation.\n"
     ]
    },
    {
     "name": "stderr",
     "output_type": "stream",
     "text": [
      "/Users/mac/Documents/RU/THESIS/working_thesis/scrape.py:286: FutureWarning: The frame.append method is deprecated and will be removed from pandas in a future version. Use pandas.concat instead.\n",
      "  df_donations_prop = df_donations_prop.append(df)\n"
     ]
    },
    {
     "name": "stdout",
     "output_type": "stream",
     "text": [
      "Successfully scrape donation from sedekahsubuhbantusantriyatimpiatu. Going to scrape the next donation.\n"
     ]
    },
    {
     "name": "stderr",
     "output_type": "stream",
     "text": [
      "/Users/mac/Documents/RU/THESIS/working_thesis/scrape.py:286: FutureWarning: The frame.append method is deprecated and will be removed from pandas in a future version. Use pandas.concat instead.\n",
      "  df_donations_prop = df_donations_prop.append(df)\n"
     ]
    },
    {
     "name": "stdout",
     "output_type": "stream",
     "text": [
      "Successfully scrape donation from zakatbahagiakanfakirmiskindanlansia. Going to scrape the next donation.\n"
     ]
    },
    {
     "name": "stderr",
     "output_type": "stream",
     "text": [
      "/Users/mac/Documents/RU/THESIS/working_thesis/scrape.py:286: FutureWarning: The frame.append method is deprecated and will be removed from pandas in a future version. Use pandas.concat instead.\n",
      "  df_donations_prop = df_donations_prop.append(df)\n"
     ]
    },
    {
     "name": "stdout",
     "output_type": "stream",
     "text": [
      "Successfully scrape donation from bantuizzullumpuhotak. Going to scrape the next donation.\n"
     ]
    },
    {
     "name": "stderr",
     "output_type": "stream",
     "text": [
      "/Users/mac/Documents/RU/THESIS/working_thesis/scrape.py:286: FutureWarning: The frame.append method is deprecated and will be removed from pandas in a future version. Use pandas.concat instead.\n",
      "  df_donations_prop = df_donations_prop.append(df)\n"
     ]
    },
    {
     "name": "stdout",
     "output_type": "stream",
     "text": [
      "Successfully scrape donation from sahabatbantuambulance. Going to scrape the next donation.\n"
     ]
    },
    {
     "name": "stderr",
     "output_type": "stream",
     "text": [
      "/Users/mac/Documents/RU/THESIS/working_thesis/scrape.py:286: FutureWarning: The frame.append method is deprecated and will be removed from pandas in a future version. Use pandas.concat instead.\n",
      "  df_donations_prop = df_donations_prop.append(df)\n"
     ]
    },
    {
     "name": "stdout",
     "output_type": "stream",
     "text": [
      "Successfully scrape donation from zakatuntukfakirmiskindanyatimdhuafa. Going to scrape the next donation.\n"
     ]
    },
    {
     "name": "stderr",
     "output_type": "stream",
     "text": [
      "/Users/mac/Documents/RU/THESIS/working_thesis/scrape.py:286: FutureWarning: The frame.append method is deprecated and will be removed from pandas in a future version. Use pandas.concat instead.\n",
      "  df_donations_prop = df_donations_prop.append(df)\n"
     ]
    },
    {
     "name": "stdout",
     "output_type": "stream",
     "text": [
      "Successfully scrape donation from ybkmpeduliyohan. Going to scrape the next donation.\n"
     ]
    },
    {
     "name": "stderr",
     "output_type": "stream",
     "text": [
      "/Users/mac/Documents/RU/THESIS/working_thesis/scrape.py:286: FutureWarning: The frame.append method is deprecated and will be removed from pandas in a future version. Use pandas.concat instead.\n",
      "  df_donations_prop = df_donations_prop.append(df)\n"
     ]
    },
    {
     "name": "stdout",
     "output_type": "stream",
     "text": [
      "Successfully scrape donation from zakatsucikanhartakita. Going to scrape the next donation.\n"
     ]
    },
    {
     "name": "stderr",
     "output_type": "stream",
     "text": [
      "/Users/mac/Documents/RU/THESIS/working_thesis/scrape.py:286: FutureWarning: The frame.append method is deprecated and will be removed from pandas in a future version. Use pandas.concat instead.\n",
      "  df_donations_prop = df_donations_prop.append(df)\n"
     ]
    },
    {
     "name": "stdout",
     "output_type": "stream",
     "text": [
      "Successfully scrape donation from sembuhbarengsobi. Going to scrape the next donation.\n"
     ]
    },
    {
     "name": "stderr",
     "output_type": "stream",
     "text": [
      "/Users/mac/Documents/RU/THESIS/working_thesis/scrape.py:286: FutureWarning: The frame.append method is deprecated and will be removed from pandas in a future version. Use pandas.concat instead.\n",
      "  df_donations_prop = df_donations_prop.append(df)\n"
     ]
    },
    {
     "name": "stdout",
     "output_type": "stream",
     "text": [
      "Successfully scrape donation from ybkmbantukakekenos. Going to scrape the next donation.\n"
     ]
    },
    {
     "name": "stderr",
     "output_type": "stream",
     "text": [
      "/Users/mac/Documents/RU/THESIS/working_thesis/scrape.py:286: FutureWarning: The frame.append method is deprecated and will be removed from pandas in a future version. Use pandas.concat instead.\n",
      "  df_donations_prop = df_donations_prop.append(df)\n"
     ]
    },
    {
     "name": "stdout",
     "output_type": "stream",
     "text": [
      "Successfully scrape donation from yuksobatsedekahsubuh. Going to scrape the next donation.\n"
     ]
    },
    {
     "name": "stderr",
     "output_type": "stream",
     "text": [
      "/Users/mac/Documents/RU/THESIS/working_thesis/scrape.py:286: FutureWarning: The frame.append method is deprecated and will be removed from pandas in a future version. Use pandas.concat instead.\n",
      "  df_donations_prop = df_donations_prop.append(df)\n"
     ]
    },
    {
     "name": "stdout",
     "output_type": "stream",
     "text": [
      "Successfully scrape donation from mendesakbantupembangunanmasjidjamiekami. Going to scrape the next donation.\n"
     ]
    },
    {
     "name": "stderr",
     "output_type": "stream",
     "text": [
      "/Users/mac/Documents/RU/THESIS/working_thesis/scrape.py:286: FutureWarning: The frame.append method is deprecated and will be removed from pandas in a future version. Use pandas.concat instead.\n",
      "  df_donations_prop = df_donations_prop.append(df)\n"
     ]
    },
    {
     "name": "stdout",
     "output_type": "stream",
     "text": [
      "Successfully scrape donation from infaqyatimbahagiakanmereka. Going to scrape the next donation.\n"
     ]
    },
    {
     "name": "stderr",
     "output_type": "stream",
     "text": [
      "/Users/mac/Documents/RU/THESIS/working_thesis/scrape.py:286: FutureWarning: The frame.append method is deprecated and will be removed from pandas in a future version. Use pandas.concat instead.\n",
      "  df_donations_prop = df_donations_prop.append(df)\n"
     ]
    },
    {
     "name": "stdout",
     "output_type": "stream",
     "text": [
      "Successfully scrape donation from bantuanakpantiasuhanmeraihcitacitanya. Going to scrape the next donation.\n"
     ]
    },
    {
     "name": "stderr",
     "output_type": "stream",
     "text": [
      "/Users/mac/Documents/RU/THESIS/working_thesis/scrape.py:286: FutureWarning: The frame.append method is deprecated and will be removed from pandas in a future version. Use pandas.concat instead.\n",
      "  df_donations_prop = df_donations_prop.append(df)\n"
     ]
    },
    {
     "name": "stdout",
     "output_type": "stream",
     "text": [
      "Successfully scrape donation from bantudanaoperasidbs. Going to scrape the next donation.\n"
     ]
    },
    {
     "name": "stderr",
     "output_type": "stream",
     "text": [
      "/Users/mac/Documents/RU/THESIS/working_thesis/scrape.py:286: FutureWarning: The frame.append method is deprecated and will be removed from pandas in a future version. Use pandas.concat instead.\n",
      "  df_donations_prop = df_donations_prop.append(df)\n"
     ]
    },
    {
     "name": "stdout",
     "output_type": "stream",
     "text": [
      "Successfully scrape donation from bantupembangunanmadrasahnurulfadilah. Going to scrape the next donation.\n"
     ]
    },
    {
     "name": "stderr",
     "output_type": "stream",
     "text": [
      "/Users/mac/Documents/RU/THESIS/working_thesis/scrape.py:286: FutureWarning: The frame.append method is deprecated and will be removed from pandas in a future version. Use pandas.concat instead.\n",
      "  df_donations_prop = df_donations_prop.append(df)\n"
     ]
    },
    {
     "name": "stdout",
     "output_type": "stream",
     "text": [
      "Successfully scrape donation from alirkanpahalasampaikesurga. Going to scrape the next donation.\n"
     ]
    },
    {
     "name": "stderr",
     "output_type": "stream",
     "text": [
      "/Users/mac/Documents/RU/THESIS/working_thesis/scrape.py:286: FutureWarning: The frame.append method is deprecated and will be removed from pandas in a future version. Use pandas.concat instead.\n",
      "  df_donations_prop = df_donations_prop.append(df)\n"
     ]
    },
    {
     "name": "stdout",
     "output_type": "stream",
     "text": [
      "Successfully scrape donation from bantugabrielmelawanpneumonia. Going to scrape the next donation.\n"
     ]
    },
    {
     "name": "stderr",
     "output_type": "stream",
     "text": [
      "/Users/mac/Documents/RU/THESIS/working_thesis/scrape.py:286: FutureWarning: The frame.append method is deprecated and will be removed from pandas in a future version. Use pandas.concat instead.\n",
      "  df_donations_prop = df_donations_prop.append(df)\n"
     ]
    },
    {
     "name": "stdout",
     "output_type": "stream",
     "text": [
      "Successfully scrape donation from wakafbangunpondokpesantren. Going to scrape the next donation.\n"
     ]
    },
    {
     "name": "stderr",
     "output_type": "stream",
     "text": [
      "/Users/mac/Documents/RU/THESIS/working_thesis/scrape.py:286: FutureWarning: The frame.append method is deprecated and will be removed from pandas in a future version. Use pandas.concat instead.\n",
      "  df_donations_prop = df_donations_prop.append(df)\n"
     ]
    },
    {
     "name": "stdout",
     "output_type": "stream",
     "text": [
      "Successfully scrape donation from ydsfsembuhkanridho. Going to scrape the next donation.\n"
     ]
    },
    {
     "name": "stderr",
     "output_type": "stream",
     "text": [
      "/Users/mac/Documents/RU/THESIS/working_thesis/scrape.py:286: FutureWarning: The frame.append method is deprecated and will be removed from pandas in a future version. Use pandas.concat instead.\n",
      "  df_donations_prop = df_donations_prop.append(df)\n"
     ]
    },
    {
     "name": "stdout",
     "output_type": "stream",
     "text": [
      "Successfully scrape donation from untuktemandaniel. Going to scrape the next donation.\n"
     ]
    },
    {
     "name": "stderr",
     "output_type": "stream",
     "text": [
      "/Users/mac/Documents/RU/THESIS/working_thesis/scrape.py:286: FutureWarning: The frame.append method is deprecated and will be removed from pandas in a future version. Use pandas.concat instead.\n",
      "  df_donations_prop = df_donations_prop.append(df)\n"
     ]
    },
    {
     "name": "stdout",
     "output_type": "stream",
     "text": [
      "Successfully scrape donation from bantuhattatransplantasiginjal. Going to scrape the next donation.\n"
     ]
    },
    {
     "name": "stderr",
     "output_type": "stream",
     "text": [
      "/Users/mac/Documents/RU/THESIS/working_thesis/scrape.py:286: FutureWarning: The frame.append method is deprecated and will be removed from pandas in a future version. Use pandas.concat instead.\n",
      "  df_donations_prop = df_donations_prop.append(df)\n"
     ]
    },
    {
     "name": "stdout",
     "output_type": "stream",
     "text": [
      "Successfully scrape donation from sedekahsembakountuk600lansiadhuafaterlantar. Going to scrape the next donation.\n"
     ]
    },
    {
     "name": "stderr",
     "output_type": "stream",
     "text": [
      "/Users/mac/Documents/RU/THESIS/working_thesis/scrape.py:286: FutureWarning: The frame.append method is deprecated and will be removed from pandas in a future version. Use pandas.concat instead.\n",
      "  df_donations_prop = df_donations_prop.append(df)\n"
     ]
    },
    {
     "name": "stdout",
     "output_type": "stream",
     "text": [
      "Successfully scrape donation from zakatufakirmiskinyatimdhuafa. Going to scrape the next donation.\n"
     ]
    },
    {
     "name": "stderr",
     "output_type": "stream",
     "text": [
      "/Users/mac/Documents/RU/THESIS/working_thesis/scrape.py:286: FutureWarning: The frame.append method is deprecated and will be removed from pandas in a future version. Use pandas.concat instead.\n",
      "  df_donations_prop = df_donations_prop.append(df)\n"
     ]
    },
    {
     "name": "stdout",
     "output_type": "stream",
     "text": [
      "Successfully scrape donation from zakatufakirmiskinsantriyatimdhuafa. Going to scrape the next donation.\n"
     ]
    },
    {
     "name": "stderr",
     "output_type": "stream",
     "text": [
      "/Users/mac/Documents/RU/THESIS/working_thesis/scrape.py:286: FutureWarning: The frame.append method is deprecated and will be removed from pandas in a future version. Use pandas.concat instead.\n",
      "  df_donations_prop = df_donations_prop.append(df)\n"
     ]
    },
    {
     "name": "stdout",
     "output_type": "stream",
     "text": [
      "Successfully scrape donation from atarbebastransfusi. Going to scrape the next donation.\n"
     ]
    },
    {
     "name": "stderr",
     "output_type": "stream",
     "text": [
      "/Users/mac/Documents/RU/THESIS/working_thesis/scrape.py:286: FutureWarning: The frame.append method is deprecated and will be removed from pandas in a future version. Use pandas.concat instead.\n",
      "  df_donations_prop = df_donations_prop.append(df)\n"
     ]
    },
    {
     "name": "stdout",
     "output_type": "stream",
     "text": [
      "Successfully scrape donation from bisasehatbersama. Going to scrape the next donation.\n"
     ]
    },
    {
     "name": "stderr",
     "output_type": "stream",
     "text": [
      "/Users/mac/Documents/RU/THESIS/working_thesis/scrape.py:286: FutureWarning: The frame.append method is deprecated and will be removed from pandas in a future version. Use pandas.concat instead.\n",
      "  df_donations_prop = df_donations_prop.append(df)\n"
     ]
    },
    {
     "name": "stdout",
     "output_type": "stream",
     "text": [
      "Successfully scrape donation from bantukebutuhanjericabayihidrocepalusterlantar. Going to scrape the next donation.\n"
     ]
    },
    {
     "name": "stderr",
     "output_type": "stream",
     "text": [
      "/Users/mac/Documents/RU/THESIS/working_thesis/scrape.py:286: FutureWarning: The frame.append method is deprecated and will be removed from pandas in a future version. Use pandas.concat instead.\n",
      "  df_donations_prop = df_donations_prop.append(df)\n"
     ]
    },
    {
     "name": "stdout",
     "output_type": "stream",
     "text": [
      "Successfully scrape donation from untuktemanhaibah. Going to scrape the next donation.\n"
     ]
    },
    {
     "name": "stderr",
     "output_type": "stream",
     "text": [
      "/Users/mac/Documents/RU/THESIS/working_thesis/scrape.py:286: FutureWarning: The frame.append method is deprecated and will be removed from pandas in a future version. Use pandas.concat instead.\n",
      "  df_donations_prop = df_donations_prop.append(df)\n"
     ]
    },
    {
     "name": "stdout",
     "output_type": "stream",
     "text": [
      "Successfully scrape donation from untuktemanmaritza. Going to scrape the next donation.\n"
     ]
    },
    {
     "name": "stderr",
     "output_type": "stream",
     "text": [
      "/Users/mac/Documents/RU/THESIS/working_thesis/scrape.py:286: FutureWarning: The frame.append method is deprecated and will be removed from pandas in a future version. Use pandas.concat instead.\n",
      "  df_donations_prop = df_donations_prop.append(df)\n"
     ]
    },
    {
     "name": "stdout",
     "output_type": "stream",
     "text": [
      "Successfully scrape donation from bisasembuhospital2. Going to scrape the next donation.\n"
     ]
    },
    {
     "name": "stderr",
     "output_type": "stream",
     "text": [
      "/Users/mac/Documents/RU/THESIS/working_thesis/scrape.py:286: FutureWarning: The frame.append method is deprecated and will be removed from pandas in a future version. Use pandas.concat instead.\n",
      "  df_donations_prop = df_donations_prop.append(df)\n"
     ]
    },
    {
     "name": "stdout",
     "output_type": "stream",
     "text": [
      "Successfully scrape donation from bantuyatimbisamakan. Going to scrape the next donation.\n"
     ]
    },
    {
     "name": "stderr",
     "output_type": "stream",
     "text": [
      "/Users/mac/Documents/RU/THESIS/working_thesis/scrape.py:286: FutureWarning: The frame.append method is deprecated and will be removed from pandas in a future version. Use pandas.concat instead.\n",
      "  df_donations_prop = df_donations_prop.append(df)\n"
     ]
    },
    {
     "name": "stdout",
     "output_type": "stream",
     "text": [
      "Successfully scrape donation from bantucizeuntukterapistemcellyangke6. Going to scrape the next donation.\n"
     ]
    },
    {
     "name": "stderr",
     "output_type": "stream",
     "text": [
      "/Users/mac/Documents/RU/THESIS/working_thesis/scrape.py:286: FutureWarning: The frame.append method is deprecated and will be removed from pandas in a future version. Use pandas.concat instead.\n",
      "  df_donations_prop = df_donations_prop.append(df)\n"
     ]
    },
    {
     "name": "stdout",
     "output_type": "stream",
     "text": [
      "Successfully scrape donation from bantuanaksantripenghafalalquran. Going to scrape the next donation.\n"
     ]
    },
    {
     "name": "stderr",
     "output_type": "stream",
     "text": [
      "/Users/mac/Documents/RU/THESIS/working_thesis/scrape.py:286: FutureWarning: The frame.append method is deprecated and will be removed from pandas in a future version. Use pandas.concat instead.\n",
      "  df_donations_prop = df_donations_prop.append(df)\n"
     ]
    },
    {
     "name": "stdout",
     "output_type": "stream",
     "text": [
      "Successfully scrape donation from perbaikanmasjidmusholadipelosokperkampungan. Going to scrape the next donation.\n"
     ]
    },
    {
     "name": "stderr",
     "output_type": "stream",
     "text": [
      "/Users/mac/Documents/RU/THESIS/working_thesis/scrape.py:286: FutureWarning: The frame.append method is deprecated and will be removed from pandas in a future version. Use pandas.concat instead.\n",
      "  df_donations_prop = df_donations_prop.append(df)\n"
     ]
    },
    {
     "name": "stdout",
     "output_type": "stream",
     "text": [
      "Successfully scrape donation from infaqyatimsantuni1000anakyatimpiatu. Going to scrape the next donation.\n"
     ]
    },
    {
     "name": "stderr",
     "output_type": "stream",
     "text": [
      "/Users/mac/Documents/RU/THESIS/working_thesis/scrape.py:286: FutureWarning: The frame.append method is deprecated and will be removed from pandas in a future version. Use pandas.concat instead.\n",
      "  df_donations_prop = df_donations_prop.append(df)\n"
     ]
    },
    {
     "name": "stdout",
     "output_type": "stream",
     "text": [
      "Successfully scrape donation from bantuibuisopbisasembuh. Going to scrape the next donation.\n"
     ]
    },
    {
     "name": "stderr",
     "output_type": "stream",
     "text": [
      "/Users/mac/Documents/RU/THESIS/working_thesis/scrape.py:286: FutureWarning: The frame.append method is deprecated and will be removed from pandas in a future version. Use pandas.concat instead.\n",
      "  df_donations_prop = df_donations_prop.append(df)\n"
     ]
    },
    {
     "name": "stdout",
     "output_type": "stream",
     "text": [
      "Successfully scrape donation from pedulieugenia. Going to scrape the next donation.\n"
     ]
    },
    {
     "name": "stderr",
     "output_type": "stream",
     "text": [
      "/Users/mac/Documents/RU/THESIS/working_thesis/scrape.py:286: FutureWarning: The frame.append method is deprecated and will be removed from pandas in a future version. Use pandas.concat instead.\n",
      "  df_donations_prop = df_donations_prop.append(df)\n"
     ]
    },
    {
     "name": "stdout",
     "output_type": "stream",
     "text": [
      "Successfully scrape donation from bantupantiyajelas. Going to scrape the next donation.\n"
     ]
    },
    {
     "name": "stderr",
     "output_type": "stream",
     "text": [
      "/Users/mac/Documents/RU/THESIS/working_thesis/scrape.py:286: FutureWarning: The frame.append method is deprecated and will be removed from pandas in a future version. Use pandas.concat instead.\n",
      "  df_donations_prop = df_donations_prop.append(df)\n"
     ]
    },
    {
     "name": "stdout",
     "output_type": "stream",
     "text": [
      "Successfully scrape donation from 1000karpetmasjid. Going to scrape the next donation.\n"
     ]
    },
    {
     "name": "stderr",
     "output_type": "stream",
     "text": [
      "/Users/mac/Documents/RU/THESIS/working_thesis/scrape.py:286: FutureWarning: The frame.append method is deprecated and will be removed from pandas in a future version. Use pandas.concat instead.\n",
      "  df_donations_prop = df_donations_prop.append(df)\n"
     ]
    },
    {
     "name": "stdout",
     "output_type": "stream",
     "text": [
      "Successfully scrape donation from ybkmbantumelda. Going to scrape the next donation.\n"
     ]
    },
    {
     "name": "stderr",
     "output_type": "stream",
     "text": [
      "/Users/mac/Documents/RU/THESIS/working_thesis/scrape.py:286: FutureWarning: The frame.append method is deprecated and will be removed from pandas in a future version. Use pandas.concat instead.\n",
      "  df_donations_prop = df_donations_prop.append(df)\n"
     ]
    },
    {
     "name": "stdout",
     "output_type": "stream",
     "text": [
      "Successfully scrape donation from gizisantribelitung. Going to scrape the next donation.\n"
     ]
    },
    {
     "name": "stderr",
     "output_type": "stream",
     "text": [
      "/Users/mac/Documents/RU/THESIS/working_thesis/scrape.py:286: FutureWarning: The frame.append method is deprecated and will be removed from pandas in a future version. Use pandas.concat instead.\n",
      "  df_donations_prop = df_donations_prop.append(df)\n"
     ]
    },
    {
     "name": "stdout",
     "output_type": "stream",
     "text": [
      "Successfully scrape donation from bantualeesha. Going to scrape the next donation.\n"
     ]
    },
    {
     "name": "stderr",
     "output_type": "stream",
     "text": [
      "/Users/mac/Documents/RU/THESIS/working_thesis/scrape.py:286: FutureWarning: The frame.append method is deprecated and will be removed from pandas in a future version. Use pandas.concat instead.\n",
      "  df_donations_prop = df_donations_prop.append(df)\n"
     ]
    },
    {
     "name": "stdout",
     "output_type": "stream",
     "text": [
      "Successfully scrape donation from zakatuntuksantri1. Going to scrape the next donation.\n"
     ]
    },
    {
     "name": "stderr",
     "output_type": "stream",
     "text": [
      "/Users/mac/Documents/RU/THESIS/working_thesis/scrape.py:286: FutureWarning: The frame.append method is deprecated and will be removed from pandas in a future version. Use pandas.concat instead.\n",
      "  df_donations_prop = df_donations_prop.append(df)\n"
     ]
    },
    {
     "name": "stdout",
     "output_type": "stream",
     "text": [
      "Successfully scrape donation from sedekahsubuhuntukpendidikanyatimdhuafa. Going to scrape the next donation.\n"
     ]
    },
    {
     "name": "stderr",
     "output_type": "stream",
     "text": [
      "/Users/mac/Documents/RU/THESIS/working_thesis/scrape.py:286: FutureWarning: The frame.append method is deprecated and will be removed from pandas in a future version. Use pandas.concat instead.\n",
      "  df_donations_prop = df_donations_prop.append(df)\n"
     ]
    },
    {
     "name": "stdout",
     "output_type": "stream",
     "text": [
      "Successfully scrape donation from bantubanguntempattinggaluntukanakpanti. Going to scrape the next donation.\n"
     ]
    },
    {
     "name": "stderr",
     "output_type": "stream",
     "text": [
      "/Users/mac/Documents/RU/THESIS/working_thesis/scrape.py:286: FutureWarning: The frame.append method is deprecated and will be removed from pandas in a future version. Use pandas.concat instead.\n",
      "  df_donations_prop = df_donations_prop.append(df)\n"
     ]
    },
    {
     "name": "stdout",
     "output_type": "stream",
     "text": [
      "Successfully scrape donation from sembuhkanjantungadekkarim. Going to scrape the next donation.\n"
     ]
    },
    {
     "name": "stderr",
     "output_type": "stream",
     "text": [
      "/Users/mac/Documents/RU/THESIS/working_thesis/scrape.py:286: FutureWarning: The frame.append method is deprecated and will be removed from pandas in a future version. Use pandas.concat instead.\n",
      "  df_donations_prop = df_donations_prop.append(df)\n"
     ]
    },
    {
     "name": "stdout",
     "output_type": "stream",
     "text": [
      "Successfully scrape donation from zakatbantugurungajiyatimdhuafa. Going to scrape the next donation.\n"
     ]
    },
    {
     "name": "stderr",
     "output_type": "stream",
     "text": [
      "/Users/mac/Documents/RU/THESIS/working_thesis/scrape.py:286: FutureWarning: The frame.append method is deprecated and will be removed from pandas in a future version. Use pandas.concat instead.\n",
      "  df_donations_prop = df_donations_prop.append(df)\n"
     ]
    },
    {
     "name": "stdout",
     "output_type": "stream",
     "text": [
      "Successfully scrape donation from ymciuntukandre. Going to scrape the next donation.\n"
     ]
    },
    {
     "name": "stderr",
     "output_type": "stream",
     "text": [
      "/Users/mac/Documents/RU/THESIS/working_thesis/scrape.py:286: FutureWarning: The frame.append method is deprecated and will be removed from pandas in a future version. Use pandas.concat instead.\n",
      "  df_donations_prop = df_donations_prop.append(df)\n"
     ]
    },
    {
     "name": "stdout",
     "output_type": "stream",
     "text": [
      "Successfully scrape donation from aksiberamaljariyah. Going to scrape the next donation.\n"
     ]
    },
    {
     "name": "stderr",
     "output_type": "stream",
     "text": [
      "/Users/mac/Documents/RU/THESIS/working_thesis/scrape.py:286: FutureWarning: The frame.append method is deprecated and will be removed from pandas in a future version. Use pandas.concat instead.\n",
      "  df_donations_prop = df_donations_prop.append(df)\n"
     ]
    },
    {
     "name": "stdout",
     "output_type": "stream",
     "text": [
      "Successfully scrape donation from zakatpendidikansantripenghafalqurandandai. Going to scrape the next donation.\n"
     ]
    },
    {
     "name": "stderr",
     "output_type": "stream",
     "text": [
      "/Users/mac/Documents/RU/THESIS/working_thesis/scrape.py:286: FutureWarning: The frame.append method is deprecated and will be removed from pandas in a future version. Use pandas.concat instead.\n",
      "  df_donations_prop = df_donations_prop.append(df)\n"
     ]
    },
    {
     "name": "stdout",
     "output_type": "stream",
     "text": [
      "Successfully scrape donation from bantubiayasekolahanakyatimpintudhuafa. Going to scrape the next donation.\n"
     ]
    },
    {
     "name": "stderr",
     "output_type": "stream",
     "text": [
      "/Users/mac/Documents/RU/THESIS/working_thesis/scrape.py:286: FutureWarning: The frame.append method is deprecated and will be removed from pandas in a future version. Use pandas.concat instead.\n",
      "  df_donations_prop = df_donations_prop.append(df)\n"
     ]
    },
    {
     "name": "stdout",
     "output_type": "stream",
     "text": [
      "Successfully scrape donation from banjirbandanggarut2022. Going to scrape the next donation.\n"
     ]
    },
    {
     "name": "stderr",
     "output_type": "stream",
     "text": [
      "/Users/mac/Documents/RU/THESIS/working_thesis/scrape.py:286: FutureWarning: The frame.append method is deprecated and will be removed from pandas in a future version. Use pandas.concat instead.\n",
      "  df_donations_prop = df_donations_prop.append(df)\n"
     ]
    },
    {
     "name": "stdout",
     "output_type": "stream",
     "text": [
      "Successfully scrape donation from 100toiletwudhu. Going to scrape the next donation.\n"
     ]
    },
    {
     "name": "stderr",
     "output_type": "stream",
     "text": [
      "/Users/mac/Documents/RU/THESIS/working_thesis/scrape.py:286: FutureWarning: The frame.append method is deprecated and will be removed from pandas in a future version. Use pandas.concat instead.\n",
      "  df_donations_prop = df_donations_prop.append(df)\n"
     ]
    },
    {
     "name": "stdout",
     "output_type": "stream",
     "text": [
      "Successfully scrape donation from zakatmupedulisaranapendidikan. Going to scrape the next donation.\n"
     ]
    },
    {
     "name": "stderr",
     "output_type": "stream",
     "text": [
      "/Users/mac/Documents/RU/THESIS/working_thesis/scrape.py:286: FutureWarning: The frame.append method is deprecated and will be removed from pandas in a future version. Use pandas.concat instead.\n",
      "  df_donations_prop = df_donations_prop.append(df)\n"
     ]
    },
    {
     "name": "stdout",
     "output_type": "stream",
     "text": [
      "Successfully scrape donation from sedekahterbaikuntuksantriyatim. Going to scrape the next donation.\n"
     ]
    },
    {
     "name": "stderr",
     "output_type": "stream",
     "text": [
      "/Users/mac/Documents/RU/THESIS/working_thesis/scrape.py:286: FutureWarning: The frame.append method is deprecated and will be removed from pandas in a future version. Use pandas.concat instead.\n",
      "  df_donations_prop = df_donations_prop.append(df)\n"
     ]
    },
    {
     "name": "stdout",
     "output_type": "stream",
     "text": [
      "Successfully scrape donation from bantukebutuhanpantiasuhanyatimdhuafa. Going to scrape the next donation.\n"
     ]
    },
    {
     "name": "stderr",
     "output_type": "stream",
     "text": [
      "/Users/mac/Documents/RU/THESIS/working_thesis/scrape.py:286: FutureWarning: The frame.append method is deprecated and will be removed from pandas in a future version. Use pandas.concat instead.\n",
      "  df_donations_prop = df_donations_prop.append(df)\n"
     ]
    },
    {
     "name": "stdout",
     "output_type": "stream",
     "text": [
      "Successfully scrape donation from zakatuntukfakirmiskinyatimdanlansiadhuafa. Going to scrape the next donation.\n"
     ]
    },
    {
     "name": "stderr",
     "output_type": "stream",
     "text": [
      "/Users/mac/Documents/RU/THESIS/working_thesis/scrape.py:286: FutureWarning: The frame.append method is deprecated and will be removed from pandas in a future version. Use pandas.concat instead.\n",
      "  df_donations_prop = df_donations_prop.append(df)\n"
     ]
    },
    {
     "name": "stdout",
     "output_type": "stream",
     "text": [
      "Successfully scrape donation from bantusalmanmelawanpenyakitlangkaneuroblastoma. Going to scrape the next donation.\n"
     ]
    },
    {
     "name": "stderr",
     "output_type": "stream",
     "text": [
      "/Users/mac/Documents/RU/THESIS/working_thesis/scrape.py:286: FutureWarning: The frame.append method is deprecated and will be removed from pandas in a future version. Use pandas.concat instead.\n",
      "  df_donations_prop = df_donations_prop.append(df)\n"
     ]
    },
    {
     "name": "stdout",
     "output_type": "stream",
     "text": [
      "Successfully scrape donation from bantupakharmokountukoperasiusus. Going to scrape the next donation.\n"
     ]
    },
    {
     "name": "stderr",
     "output_type": "stream",
     "text": [
      "/Users/mac/Documents/RU/THESIS/working_thesis/scrape.py:286: FutureWarning: The frame.append method is deprecated and will be removed from pandas in a future version. Use pandas.concat instead.\n",
      "  df_donations_prop = df_donations_prop.append(df)\n"
     ]
    },
    {
     "name": "stdout",
     "output_type": "stream",
     "text": [
      "Successfully scrape donation from perjuanganadrianabimayu. Going to scrape the next donation.\n"
     ]
    },
    {
     "name": "stderr",
     "output_type": "stream",
     "text": [
      "/Users/mac/Documents/RU/THESIS/working_thesis/scrape.py:286: FutureWarning: The frame.append method is deprecated and will be removed from pandas in a future version. Use pandas.concat instead.\n",
      "  df_donations_prop = df_donations_prop.append(df)\n"
     ]
    },
    {
     "name": "stdout",
     "output_type": "stream",
     "text": [
      "Successfully scrape donation from bantuasepbisasembuh. Going to scrape the next donation.\n"
     ]
    },
    {
     "name": "stderr",
     "output_type": "stream",
     "text": [
      "/Users/mac/Documents/RU/THESIS/working_thesis/scrape.py:286: FutureWarning: The frame.append method is deprecated and will be removed from pandas in a future version. Use pandas.concat instead.\n",
      "  df_donations_prop = df_donations_prop.append(df)\n"
     ]
    },
    {
     "name": "stdout",
     "output_type": "stream",
     "text": [
      "Successfully scrape donation from bantuyulilawansirosishatikronis. Going to scrape the next donation.\n"
     ]
    },
    {
     "name": "stderr",
     "output_type": "stream",
     "text": [
      "/Users/mac/Documents/RU/THESIS/working_thesis/scrape.py:286: FutureWarning: The frame.append method is deprecated and will be removed from pandas in a future version. Use pandas.concat instead.\n",
      "  df_donations_prop = df_donations_prop.append(df)\n"
     ]
    },
    {
     "name": "stdout",
     "output_type": "stream",
     "text": [
      "Successfully scrape donation from yoioperasiputri. Going to scrape the next donation.\n"
     ]
    },
    {
     "name": "stderr",
     "output_type": "stream",
     "text": [
      "/Users/mac/Documents/RU/THESIS/working_thesis/scrape.py:286: FutureWarning: The frame.append method is deprecated and will be removed from pandas in a future version. Use pandas.concat instead.\n",
      "  df_donations_prop = df_donations_prop.append(df)\n"
     ]
    },
    {
     "name": "stdout",
     "output_type": "stream",
     "text": [
      "Successfully scrape donation from bantupengobatansitti. Going to scrape the next donation.\n"
     ]
    },
    {
     "name": "stderr",
     "output_type": "stream",
     "text": [
      "/Users/mac/Documents/RU/THESIS/working_thesis/scrape.py:286: FutureWarning: The frame.append method is deprecated and will be removed from pandas in a future version. Use pandas.concat instead.\n",
      "  df_donations_prop = df_donations_prop.append(df)\n"
     ]
    },
    {
     "name": "stdout",
     "output_type": "stream",
     "text": [
      "Successfully scrape donation from bantusitisembuhdarikankerganasmetastulang. Going to scrape the next donation.\n"
     ]
    },
    {
     "name": "stderr",
     "output_type": "stream",
     "text": [
      "/Users/mac/Documents/RU/THESIS/working_thesis/scrape.py:286: FutureWarning: The frame.append method is deprecated and will be removed from pandas in a future version. Use pandas.concat instead.\n",
      "  df_donations_prop = df_donations_prop.append(df)\n"
     ]
    },
    {
     "name": "stdout",
     "output_type": "stream",
     "text": [
      "Successfully scrape donation from infaqyatimdhuafaibq. Going to scrape the next donation.\n"
     ]
    },
    {
     "name": "stderr",
     "output_type": "stream",
     "text": [
      "/Users/mac/Documents/RU/THESIS/working_thesis/scrape.py:286: FutureWarning: The frame.append method is deprecated and will be removed from pandas in a future version. Use pandas.concat instead.\n",
      "  df_donations_prop = df_donations_prop.append(df)\n"
     ]
    },
    {
     "name": "stdout",
     "output_type": "stream",
     "text": [
      "Successfully scrape donation from bantudikrahmamelawan3penyakitnya. Going to scrape the next donation.\n"
     ]
    },
    {
     "name": "stderr",
     "output_type": "stream",
     "text": [
      "/Users/mac/Documents/RU/THESIS/working_thesis/scrape.py:286: FutureWarning: The frame.append method is deprecated and will be removed from pandas in a future version. Use pandas.concat instead.\n",
      "  df_donations_prop = df_donations_prop.append(df)\n"
     ]
    },
    {
     "name": "stdout",
     "output_type": "stream",
     "text": [
      "Successfully scrape donation from bantuvalenuntuktransplansumsumtulangbelakang. Going to scrape the next donation.\n"
     ]
    },
    {
     "name": "stderr",
     "output_type": "stream",
     "text": [
      "/Users/mac/Documents/RU/THESIS/working_thesis/scrape.py:286: FutureWarning: The frame.append method is deprecated and will be removed from pandas in a future version. Use pandas.concat instead.\n",
      "  df_donations_prop = df_donations_prop.append(df)\n"
     ]
    },
    {
     "name": "stdout",
     "output_type": "stream",
     "text": [
      "Successfully scrape donation from bantumawarnimelawantumorotak. Going to scrape the next donation.\n"
     ]
    },
    {
     "name": "stderr",
     "output_type": "stream",
     "text": [
      "/Users/mac/Documents/RU/THESIS/working_thesis/scrape.py:286: FutureWarning: The frame.append method is deprecated and will be removed from pandas in a future version. Use pandas.concat instead.\n",
      "  df_donations_prop = df_donations_prop.append(df)\n"
     ]
    },
    {
     "name": "stdout",
     "output_type": "stream",
     "text": [
      "Successfully scrape donation from operasikakigajah. Going to scrape the next donation.\n"
     ]
    },
    {
     "name": "stderr",
     "output_type": "stream",
     "text": [
      "/Users/mac/Documents/RU/THESIS/working_thesis/scrape.py:286: FutureWarning: The frame.append method is deprecated and will be removed from pandas in a future version. Use pandas.concat instead.\n",
      "  df_donations_prop = df_donations_prop.append(df)\n"
     ]
    },
    {
     "name": "stdout",
     "output_type": "stream",
     "text": [
      "Successfully scrape donation from hanyatulangberbalutkulit. Going to scrape the next donation.\n"
     ]
    },
    {
     "name": "stderr",
     "output_type": "stream",
     "text": [
      "/Users/mac/Documents/RU/THESIS/working_thesis/scrape.py:286: FutureWarning: The frame.append method is deprecated and will be removed from pandas in a future version. Use pandas.concat instead.\n",
      "  df_donations_prop = df_donations_prop.append(df)\n"
     ]
    },
    {
     "name": "stdout",
     "output_type": "stream",
     "text": [
      "Successfully scrape donation from bantuarkhanbisasembuh. Going to scrape the next donation.\n"
     ]
    },
    {
     "name": "stderr",
     "output_type": "stream",
     "text": [
      "/Users/mac/Documents/RU/THESIS/working_thesis/scrape.py:286: FutureWarning: The frame.append method is deprecated and will be removed from pandas in a future version. Use pandas.concat instead.\n",
      "  df_donations_prop = df_donations_prop.append(df)\n"
     ]
    },
    {
     "name": "stdout",
     "output_type": "stream",
     "text": [
      "Successfully scrape donation from tuhanbantusuamilawankankertestisstadiumakhir. Going to scrape the next donation.\n"
     ]
    },
    {
     "name": "stderr",
     "output_type": "stream",
     "text": [
      "/Users/mac/Documents/RU/THESIS/working_thesis/scrape.py:286: FutureWarning: The frame.append method is deprecated and will be removed from pandas in a future version. Use pandas.concat instead.\n",
      "  df_donations_prop = df_donations_prop.append(df)\n"
     ]
    },
    {
     "name": "stdout",
     "output_type": "stream",
     "text": [
      "Successfully scrape donation from darurattebinglongsor. Going to scrape the next donation.\n"
     ]
    },
    {
     "name": "stderr",
     "output_type": "stream",
     "text": [
      "/Users/mac/Documents/RU/THESIS/working_thesis/scrape.py:286: FutureWarning: The frame.append method is deprecated and will be removed from pandas in a future version. Use pandas.concat instead.\n",
      "  df_donations_prop = df_donations_prop.append(df)\n"
     ]
    },
    {
     "name": "stdout",
     "output_type": "stream",
     "text": [
      "Successfully scrape donation from bantuandra. Going to scrape the next donation.\n"
     ]
    },
    {
     "name": "stderr",
     "output_type": "stream",
     "text": [
      "/Users/mac/Documents/RU/THESIS/working_thesis/scrape.py:286: FutureWarning: The frame.append method is deprecated and will be removed from pandas in a future version. Use pandas.concat instead.\n",
      "  df_donations_prop = df_donations_prop.append(df)\n"
     ]
    },
    {
     "name": "stdout",
     "output_type": "stream",
     "text": [
      "Successfully scrape donation from lawankankertiroidmasferi. Going to scrape the next donation.\n"
     ]
    },
    {
     "name": "stderr",
     "output_type": "stream",
     "text": [
      "/Users/mac/Documents/RU/THESIS/working_thesis/scrape.py:286: FutureWarning: The frame.append method is deprecated and will be removed from pandas in a future version. Use pandas.concat instead.\n",
      "  df_donations_prop = df_donations_prop.append(df)\n"
     ]
    },
    {
     "name": "stdout",
     "output_type": "stream",
     "text": [
      "Successfully scrape donation from selamatkandikarfan. Going to scrape the next donation.\n"
     ]
    },
    {
     "name": "stderr",
     "output_type": "stream",
     "text": [
      "/Users/mac/Documents/RU/THESIS/working_thesis/scrape.py:286: FutureWarning: The frame.append method is deprecated and will be removed from pandas in a future version. Use pandas.concat instead.\n",
      "  df_donations_prop = df_donations_prop.append(df)\n"
     ]
    },
    {
     "name": "stdout",
     "output_type": "stream",
     "text": [
      "Successfully scrape donation from bantunur123. Going to scrape the next donation.\n"
     ]
    },
    {
     "name": "stderr",
     "output_type": "stream",
     "text": [
      "/Users/mac/Documents/RU/THESIS/working_thesis/scrape.py:286: FutureWarning: The frame.append method is deprecated and will be removed from pandas in a future version. Use pandas.concat instead.\n",
      "  df_donations_prop = df_donations_prop.append(df)\n"
     ]
    },
    {
     "name": "stdout",
     "output_type": "stream",
     "text": [
      "Successfully scrape donation from pkuntukaliyul. Going to scrape the next donation.\n"
     ]
    },
    {
     "name": "stderr",
     "output_type": "stream",
     "text": [
      "/Users/mac/Documents/RU/THESIS/working_thesis/scrape.py:286: FutureWarning: The frame.append method is deprecated and will be removed from pandas in a future version. Use pandas.concat instead.\n",
      "  df_donations_prop = df_donations_prop.append(df)\n"
     ]
    },
    {
     "name": "stdout",
     "output_type": "stream",
     "text": [
      "Successfully scrape donation from bantugamapulihdaricerebralpalsy. Going to scrape the next donation.\n"
     ]
    },
    {
     "name": "stderr",
     "output_type": "stream",
     "text": [
      "/Users/mac/Documents/RU/THESIS/working_thesis/scrape.py:286: FutureWarning: The frame.append method is deprecated and will be removed from pandas in a future version. Use pandas.concat instead.\n",
      "  df_donations_prop = df_donations_prop.append(df)\n"
     ]
    },
    {
     "name": "stdout",
     "output_type": "stream",
     "text": [
      "Successfully scrape donation from bantuhennydarisakitkankerpayudara. Going to scrape the next donation.\n"
     ]
    },
    {
     "name": "stderr",
     "output_type": "stream",
     "text": [
      "/Users/mac/Documents/RU/THESIS/working_thesis/scrape.py:286: FutureWarning: The frame.append method is deprecated and will be removed from pandas in a future version. Use pandas.concat instead.\n",
      "  df_donations_prop = df_donations_prop.append(df)\n"
     ]
    },
    {
     "name": "stdout",
     "output_type": "stream",
     "text": [
      "Successfully scrape donation from bantuannisabisasembuh. Going to scrape the next donation.\n"
     ]
    },
    {
     "name": "stderr",
     "output_type": "stream",
     "text": [
      "/Users/mac/Documents/RU/THESIS/working_thesis/scrape.py:286: FutureWarning: The frame.append method is deprecated and will be removed from pandas in a future version. Use pandas.concat instead.\n",
      "  df_donations_prop = df_donations_prop.append(df)\n"
     ]
    },
    {
     "name": "stdout",
     "output_type": "stream",
     "text": [
      "Successfully scrape donation from temansehatzanna. Going to scrape the next donation.\n"
     ]
    },
    {
     "name": "stderr",
     "output_type": "stream",
     "text": [
      "/Users/mac/Documents/RU/THESIS/working_thesis/scrape.py:286: FutureWarning: The frame.append method is deprecated and will be removed from pandas in a future version. Use pandas.concat instead.\n",
      "  df_donations_prop = df_donations_prop.append(df)\n"
     ]
    },
    {
     "name": "stdout",
     "output_type": "stream",
     "text": [
      "Successfully scrape donation from apikalyshahsembuh. Going to scrape the next donation.\n"
     ]
    },
    {
     "name": "stderr",
     "output_type": "stream",
     "text": [
      "/Users/mac/Documents/RU/THESIS/working_thesis/scrape.py:286: FutureWarning: The frame.append method is deprecated and will be removed from pandas in a future version. Use pandas.concat instead.\n",
      "  df_donations_prop = df_donations_prop.append(df)\n"
     ]
    },
    {
     "name": "stdout",
     "output_type": "stream",
     "text": [
      "Successfully scrape donation from hidrosefalusputri. Going to scrape the next donation.\n"
     ]
    },
    {
     "name": "stderr",
     "output_type": "stream",
     "text": [
      "/Users/mac/Documents/RU/THESIS/working_thesis/scrape.py:286: FutureWarning: The frame.append method is deprecated and will be removed from pandas in a future version. Use pandas.concat instead.\n",
      "  df_donations_prop = df_donations_prop.append(df)\n"
     ]
    },
    {
     "name": "stdout",
     "output_type": "stream",
     "text": [
      "Successfully scrape donation from apikbantumariaasembuh. Going to scrape the next donation.\n"
     ]
    },
    {
     "name": "stderr",
     "output_type": "stream",
     "text": [
      "/Users/mac/Documents/RU/THESIS/working_thesis/scrape.py:286: FutureWarning: The frame.append method is deprecated and will be removed from pandas in a future version. Use pandas.concat instead.\n",
      "  df_donations_prop = df_donations_prop.append(df)\n"
     ]
    },
    {
     "name": "stdout",
     "output_type": "stream",
     "text": [
      "Successfully scrape donation from kitapedulipalestina. Going to scrape the next donation.\n"
     ]
    },
    {
     "name": "stderr",
     "output_type": "stream",
     "text": [
      "/Users/mac/Documents/RU/THESIS/working_thesis/scrape.py:286: FutureWarning: The frame.append method is deprecated and will be removed from pandas in a future version. Use pandas.concat instead.\n",
      "  df_donations_prop = df_donations_prop.append(df)\n"
     ]
    },
    {
     "name": "stdout",
     "output_type": "stream",
     "text": [
      "Successfully scrape donation from bantubayiarumioperasitumormata. Going to scrape the next donation.\n"
     ]
    },
    {
     "name": "stderr",
     "output_type": "stream",
     "text": [
      "/Users/mac/Documents/RU/THESIS/working_thesis/scrape.py:286: FutureWarning: The frame.append method is deprecated and will be removed from pandas in a future version. Use pandas.concat instead.\n",
      "  df_donations_prop = df_donations_prop.append(df)\n"
     ]
    },
    {
     "name": "stdout",
     "output_type": "stream",
     "text": [
      "Successfully scrape donation from bantubalitaalfereluntukoperasiusus. Going to scrape the next donation.\n"
     ]
    },
    {
     "name": "stderr",
     "output_type": "stream",
     "text": [
      "/Users/mac/Documents/RU/THESIS/working_thesis/scrape.py:286: FutureWarning: The frame.append method is deprecated and will be removed from pandas in a future version. Use pandas.concat instead.\n",
      "  df_donations_prop = df_donations_prop.append(df)\n"
     ]
    },
    {
     "name": "stdout",
     "output_type": "stream",
     "text": [
      "Successfully scrape donation from pwbpedulinurshyfa. Going to scrape the next donation.\n"
     ]
    },
    {
     "name": "stderr",
     "output_type": "stream",
     "text": [
      "/Users/mac/Documents/RU/THESIS/working_thesis/scrape.py:286: FutureWarning: The frame.append method is deprecated and will be removed from pandas in a future version. Use pandas.concat instead.\n",
      "  df_donations_prop = df_donations_prop.append(df)\n"
     ]
    },
    {
     "name": "stdout",
     "output_type": "stream",
     "text": [
      "Successfully scrape donation from pwbpedulidebby. Going to scrape the next donation.\n"
     ]
    },
    {
     "name": "stderr",
     "output_type": "stream",
     "text": [
      "/Users/mac/Documents/RU/THESIS/working_thesis/scrape.py:286: FutureWarning: The frame.append method is deprecated and will be removed from pandas in a future version. Use pandas.concat instead.\n",
      "  df_donations_prop = df_donations_prop.append(df)\n"
     ]
    },
    {
     "name": "stdout",
     "output_type": "stream",
     "text": [
      "Successfully scrape donation from apiksantikasembuh. Going to scrape the next donation.\n"
     ]
    },
    {
     "name": "stderr",
     "output_type": "stream",
     "text": [
      "/Users/mac/Documents/RU/THESIS/working_thesis/scrape.py:286: FutureWarning: The frame.append method is deprecated and will be removed from pandas in a future version. Use pandas.concat instead.\n",
      "  df_donations_prop = df_donations_prop.append(df)\n"
     ]
    },
    {
     "name": "stdout",
     "output_type": "stream",
     "text": [
      "Successfully scrape donation from bantudikanam. Going to scrape the next donation.\n"
     ]
    },
    {
     "name": "stderr",
     "output_type": "stream",
     "text": [
      "/Users/mac/Documents/RU/THESIS/working_thesis/scrape.py:286: FutureWarning: The frame.append method is deprecated and will be removed from pandas in a future version. Use pandas.concat instead.\n",
      "  df_donations_prop = df_donations_prop.append(df)\n"
     ]
    },
    {
     "name": "stdout",
     "output_type": "stream",
     "text": [
      "Successfully scrape donation from bundasalamahbantupakachmad. Going to scrape the next donation.\n"
     ]
    },
    {
     "name": "stderr",
     "output_type": "stream",
     "text": [
      "/Users/mac/Documents/RU/THESIS/working_thesis/scrape.py:286: FutureWarning: The frame.append method is deprecated and will be removed from pandas in a future version. Use pandas.concat instead.\n",
      "  df_donations_prop = df_donations_prop.append(df)\n"
     ]
    },
    {
     "name": "stdout",
     "output_type": "stream",
     "text": [
      "Successfully scrape donation from bantualvaropulih. Going to scrape the next donation.\n"
     ]
    },
    {
     "name": "stderr",
     "output_type": "stream",
     "text": [
      "/Users/mac/Documents/RU/THESIS/working_thesis/scrape.py:286: FutureWarning: The frame.append method is deprecated and will be removed from pandas in a future version. Use pandas.concat instead.\n",
      "  df_donations_prop = df_donations_prop.append(df)\n"
     ]
    },
    {
     "name": "stdout",
     "output_type": "stream",
     "text": [
      "Successfully scrape donation from apikkakigajah. Going to scrape the next donation.\n"
     ]
    },
    {
     "name": "stderr",
     "output_type": "stream",
     "text": [
      "/Users/mac/Documents/RU/THESIS/working_thesis/scrape.py:286: FutureWarning: The frame.append method is deprecated and will be removed from pandas in a future version. Use pandas.concat instead.\n",
      "  df_donations_prop = df_donations_prop.append(df)\n"
     ]
    },
    {
     "name": "stdout",
     "output_type": "stream",
     "text": [
      "Successfully scrape donation from griyayatimdhuafa. Going to scrape the next donation.\n"
     ]
    },
    {
     "name": "stderr",
     "output_type": "stream",
     "text": [
      "/Users/mac/Documents/RU/THESIS/working_thesis/scrape.py:286: FutureWarning: The frame.append method is deprecated and will be removed from pandas in a future version. Use pandas.concat instead.\n",
      "  df_donations_prop = df_donations_prop.append(df)\n"
     ]
    },
    {
     "name": "stdout",
     "output_type": "stream",
     "text": [
      "Successfully scrape donation from banturizaltersenyumlagi. Going to scrape the next donation.\n"
     ]
    },
    {
     "name": "stderr",
     "output_type": "stream",
     "text": [
      "/Users/mac/Documents/RU/THESIS/working_thesis/scrape.py:286: FutureWarning: The frame.append method is deprecated and will be removed from pandas in a future version. Use pandas.concat instead.\n",
      "  df_donations_prop = df_donations_prop.append(df)\n"
     ]
    },
    {
     "name": "stdout",
     "output_type": "stream",
     "text": [
      "Successfully scrape donation from bantuanismelawankankerdarah. Going to scrape the next donation.\n"
     ]
    },
    {
     "name": "stderr",
     "output_type": "stream",
     "text": [
      "/Users/mac/Documents/RU/THESIS/working_thesis/scrape.py:286: FutureWarning: The frame.append method is deprecated and will be removed from pandas in a future version. Use pandas.concat instead.\n",
      "  df_donations_prop = df_donations_prop.append(df)\n"
     ]
    },
    {
     "name": "stdout",
     "output_type": "stream",
     "text": [
      "Successfully scrape donation from bantusarahoperasisegera. Going to scrape the next donation.\n"
     ]
    },
    {
     "name": "stderr",
     "output_type": "stream",
     "text": [
      "/Users/mac/Documents/RU/THESIS/working_thesis/scrape.py:286: FutureWarning: The frame.append method is deprecated and will be removed from pandas in a future version. Use pandas.concat instead.\n",
      "  df_donations_prop = df_donations_prop.append(df)\n"
     ]
    },
    {
     "name": "stdout",
     "output_type": "stream",
     "text": [
      "Successfully scrape donation from bantuchelseamanullangberdiriberjalan. Going to scrape the next donation.\n"
     ]
    },
    {
     "name": "stderr",
     "output_type": "stream",
     "text": [
      "/Users/mac/Documents/RU/THESIS/working_thesis/scrape.py:286: FutureWarning: The frame.append method is deprecated and will be removed from pandas in a future version. Use pandas.concat instead.\n",
      "  df_donations_prop = df_donations_prop.append(df)\n"
     ]
    },
    {
     "name": "stdout",
     "output_type": "stream",
     "text": [
      "Successfully scrape donation from pkuntukayris. Going to scrape the next donation.\n"
     ]
    },
    {
     "name": "stderr",
     "output_type": "stream",
     "text": [
      "/Users/mac/Documents/RU/THESIS/working_thesis/scrape.py:286: FutureWarning: The frame.append method is deprecated and will be removed from pandas in a future version. Use pandas.concat instead.\n",
      "  df_donations_prop = df_donations_prop.append(df)\n"
     ]
    },
    {
     "name": "stdout",
     "output_type": "stream",
     "text": [
      "Successfully scrape donation from hormonpertumbuhan. Going to scrape the next donation.\n"
     ]
    },
    {
     "name": "stderr",
     "output_type": "stream",
     "text": [
      "/Users/mac/Documents/RU/THESIS/working_thesis/scrape.py:286: FutureWarning: The frame.append method is deprecated and will be removed from pandas in a future version. Use pandas.concat instead.\n",
      "  df_donations_prop = df_donations_prop.append(df)\n"
     ]
    },
    {
     "name": "stdout",
     "output_type": "stream",
     "text": [
      "Successfully scrape donation from astiistrikulibangunanberjuangcucidarah. Going to scrape the next donation.\n"
     ]
    },
    {
     "name": "stderr",
     "output_type": "stream",
     "text": [
      "/Users/mac/Documents/RU/THESIS/working_thesis/scrape.py:286: FutureWarning: The frame.append method is deprecated and will be removed from pandas in a future version. Use pandas.concat instead.\n",
      "  df_donations_prop = df_donations_prop.append(df)\n"
     ]
    },
    {
     "name": "stdout",
     "output_type": "stream",
     "text": [
      "Successfully scrape donation from bantuaisyahmelawanhydrocephalus. Going to scrape the next donation.\n"
     ]
    },
    {
     "name": "stderr",
     "output_type": "stream",
     "text": [
      "/Users/mac/Documents/RU/THESIS/working_thesis/scrape.py:286: FutureWarning: The frame.append method is deprecated and will be removed from pandas in a future version. Use pandas.concat instead.\n",
      "  df_donations_prop = df_donations_prop.append(df)\n"
     ]
    },
    {
     "name": "stdout",
     "output_type": "stream",
     "text": [
      "Successfully scrape donation from pkuntukagam. Going to scrape the next donation.\n"
     ]
    },
    {
     "name": "stderr",
     "output_type": "stream",
     "text": [
      "/Users/mac/Documents/RU/THESIS/working_thesis/scrape.py:286: FutureWarning: The frame.append method is deprecated and will be removed from pandas in a future version. Use pandas.concat instead.\n",
      "  df_donations_prop = df_donations_prop.append(df)\n"
     ]
    },
    {
     "name": "stdout",
     "output_type": "stream",
     "text": [
      "Successfully scrape donation from bantuadikaleeya. Going to scrape the next donation.\n"
     ]
    },
    {
     "name": "stderr",
     "output_type": "stream",
     "text": [
      "/Users/mac/Documents/RU/THESIS/working_thesis/scrape.py:286: FutureWarning: The frame.append method is deprecated and will be removed from pandas in a future version. Use pandas.concat instead.\n",
      "  df_donations_prop = df_donations_prop.append(df)\n"
     ]
    },
    {
     "name": "stdout",
     "output_type": "stream",
     "text": [
      "Successfully scrape donation from bintangmausembuhdarioi. Going to scrape the next donation.\n"
     ]
    },
    {
     "name": "stderr",
     "output_type": "stream",
     "text": [
      "/Users/mac/Documents/RU/THESIS/working_thesis/scrape.py:286: FutureWarning: The frame.append method is deprecated and will be removed from pandas in a future version. Use pandas.concat instead.\n",
      "  df_donations_prop = df_donations_prop.append(df)\n"
     ]
    },
    {
     "name": "stdout",
     "output_type": "stream",
     "text": [
      "Successfully scrape donation from divypastisembuh. Going to scrape the next donation.\n"
     ]
    },
    {
     "name": "stderr",
     "output_type": "stream",
     "text": [
      "/Users/mac/Documents/RU/THESIS/working_thesis/scrape.py:286: FutureWarning: The frame.append method is deprecated and will be removed from pandas in a future version. Use pandas.concat instead.\n",
      "  df_donations_prop = df_donations_prop.append(df)\n"
     ]
    },
    {
     "name": "stdout",
     "output_type": "stream",
     "text": [
      "Successfully scrape donation from ymciuntukhanipahgani. Going to scrape the next donation.\n"
     ]
    },
    {
     "name": "stderr",
     "output_type": "stream",
     "text": [
      "/Users/mac/Documents/RU/THESIS/working_thesis/scrape.py:286: FutureWarning: The frame.append method is deprecated and will be removed from pandas in a future version. Use pandas.concat instead.\n",
      "  df_donations_prop = df_donations_prop.append(df)\n"
     ]
    },
    {
     "name": "stdout",
     "output_type": "stream",
     "text": [
      "Successfully scrape donation from sedekahpembelianmuskhaf. Going to scrape the next donation.\n"
     ]
    },
    {
     "name": "stderr",
     "output_type": "stream",
     "text": [
      "/Users/mac/Documents/RU/THESIS/working_thesis/scrape.py:286: FutureWarning: The frame.append method is deprecated and will be removed from pandas in a future version. Use pandas.concat instead.\n",
      "  df_donations_prop = df_donations_prop.append(df)\n"
     ]
    },
    {
     "name": "stdout",
     "output_type": "stream",
     "text": [
      "Successfully scrape donation from tubuhputralemahtidakberdaya. Going to scrape the next donation.\n"
     ]
    },
    {
     "name": "stderr",
     "output_type": "stream",
     "text": [
      "/Users/mac/Documents/RU/THESIS/working_thesis/scrape.py:286: FutureWarning: The frame.append method is deprecated and will be removed from pandas in a future version. Use pandas.concat instead.\n",
      "  df_donations_prop = df_donations_prop.append(df)\n"
     ]
    },
    {
     "name": "stdout",
     "output_type": "stream",
     "text": [
      "Successfully scrape donation from yukbangunrumahdisurga. Going to scrape the next donation.\n"
     ]
    },
    {
     "name": "stderr",
     "output_type": "stream",
     "text": [
      "/Users/mac/Documents/RU/THESIS/working_thesis/scrape.py:286: FutureWarning: The frame.append method is deprecated and will be removed from pandas in a future version. Use pandas.concat instead.\n",
      "  df_donations_prop = df_donations_prop.append(df)\n"
     ]
    },
    {
     "name": "stdout",
     "output_type": "stream",
     "text": [
      "Successfully scrape donation from bantuyayasehat. Going to scrape the next donation.\n"
     ]
    },
    {
     "name": "stderr",
     "output_type": "stream",
     "text": [
      "/Users/mac/Documents/RU/THESIS/working_thesis/scrape.py:286: FutureWarning: The frame.append method is deprecated and will be removed from pandas in a future version. Use pandas.concat instead.\n",
      "  df_donations_prop = df_donations_prop.append(df)\n"
     ]
    },
    {
     "name": "stdout",
     "output_type": "stream",
     "text": [
      "Successfully scrape donation from wakafpanti. Going to scrape the next donation.\n"
     ]
    },
    {
     "name": "stderr",
     "output_type": "stream",
     "text": [
      "/Users/mac/Documents/RU/THESIS/working_thesis/scrape.py:286: FutureWarning: The frame.append method is deprecated and will be removed from pandas in a future version. Use pandas.concat instead.\n",
      "  df_donations_prop = df_donations_prop.append(df)\n"
     ]
    },
    {
     "name": "stdout",
     "output_type": "stream",
     "text": [
      "Successfully scrape donation from infaquntukyatimdandhuafa. Going to scrape the next donation.\n"
     ]
    },
    {
     "name": "stderr",
     "output_type": "stream",
     "text": [
      "/Users/mac/Documents/RU/THESIS/working_thesis/scrape.py:286: FutureWarning: The frame.append method is deprecated and will be removed from pandas in a future version. Use pandas.concat instead.\n",
      "  df_donations_prop = df_donations_prop.append(df)\n"
     ]
    },
    {
     "name": "stdout",
     "output_type": "stream",
     "text": [
      "Successfully scrape donation from sayangiyuanri. Going to scrape the next donation.\n"
     ]
    },
    {
     "name": "stderr",
     "output_type": "stream",
     "text": [
      "/Users/mac/Documents/RU/THESIS/working_thesis/scrape.py:286: FutureWarning: The frame.append method is deprecated and will be removed from pandas in a future version. Use pandas.concat instead.\n",
      "  df_donations_prop = df_donations_prop.append(df)\n"
     ]
    },
    {
     "name": "stdout",
     "output_type": "stream",
     "text": [
      "Successfully scrape donation from bangunkembalimasjidtuayanghampirroboh. Going to scrape the next donation.\n"
     ]
    },
    {
     "name": "stderr",
     "output_type": "stream",
     "text": [
      "/Users/mac/Documents/RU/THESIS/working_thesis/scrape.py:286: FutureWarning: The frame.append method is deprecated and will be removed from pandas in a future version. Use pandas.concat instead.\n",
      "  df_donations_prop = df_donations_prop.append(df)\n"
     ]
    },
    {
     "name": "stdout",
     "output_type": "stream",
     "text": [
      "Successfully scrape donation from bantubangunmadrasahsantriyatimdhuafa. Going to scrape the next donation.\n"
     ]
    },
    {
     "name": "stderr",
     "output_type": "stream",
     "text": [
      "/Users/mac/Documents/RU/THESIS/working_thesis/scrape.py:286: FutureWarning: The frame.append method is deprecated and will be removed from pandas in a future version. Use pandas.concat instead.\n",
      "  df_donations_prop = df_donations_prop.append(df)\n"
     ]
    },
    {
     "name": "stdout",
     "output_type": "stream",
     "text": [
      "Successfully scrape donation from sedekahberasuntukyatimpenghafalalquran. Going to scrape the next donation.\n"
     ]
    },
    {
     "name": "stderr",
     "output_type": "stream",
     "text": [
      "/Users/mac/Documents/RU/THESIS/working_thesis/scrape.py:286: FutureWarning: The frame.append method is deprecated and will be removed from pandas in a future version. Use pandas.concat instead.\n",
      "  df_donations_prop = df_donations_prop.append(df)\n"
     ]
    },
    {
     "name": "stdout",
     "output_type": "stream",
     "text": [
      "Successfully scrape donation from bangunmesjid2019. Going to scrape the next donation.\n"
     ]
    },
    {
     "name": "stderr",
     "output_type": "stream",
     "text": [
      "/Users/mac/Documents/RU/THESIS/working_thesis/scrape.py:286: FutureWarning: The frame.append method is deprecated and will be removed from pandas in a future version. Use pandas.concat instead.\n",
      "  df_donations_prop = df_donations_prop.append(df)\n"
     ]
    },
    {
     "name": "stdout",
     "output_type": "stream",
     "text": [
      "Successfully scrape donation from rumahquranbraille. Going to scrape the next donation.\n"
     ]
    },
    {
     "name": "stderr",
     "output_type": "stream",
     "text": [
      "/Users/mac/Documents/RU/THESIS/working_thesis/scrape.py:286: FutureWarning: The frame.append method is deprecated and will be removed from pandas in a future version. Use pandas.concat instead.\n",
      "  df_donations_prop = df_donations_prop.append(df)\n"
     ]
    },
    {
     "name": "stdout",
     "output_type": "stream",
     "text": [
      "Successfully scrape donation from bantubeasiswapendidikanyatimdhuafa. Going to scrape the next donation.\n"
     ]
    },
    {
     "name": "stderr",
     "output_type": "stream",
     "text": [
      "/Users/mac/Documents/RU/THESIS/working_thesis/scrape.py:286: FutureWarning: The frame.append method is deprecated and will be removed from pandas in a future version. Use pandas.concat instead.\n",
      "  df_donations_prop = df_donations_prop.append(df)\n"
     ]
    },
    {
     "name": "stdout",
     "output_type": "stream",
     "text": [
      "Successfully scrape donation from lazistasyrif. Going to scrape the next donation.\n"
     ]
    },
    {
     "name": "stderr",
     "output_type": "stream",
     "text": [
      "/Users/mac/Documents/RU/THESIS/working_thesis/scrape.py:286: FutureWarning: The frame.append method is deprecated and will be removed from pandas in a future version. Use pandas.concat instead.\n",
      "  df_donations_prop = df_donations_prop.append(df)\n"
     ]
    },
    {
     "name": "stdout",
     "output_type": "stream",
     "text": [
      "Successfully scrape donation from investasiakhiratdenganikutmensejahterakananakpantiaauhan. Going to scrape the next donation.\n"
     ]
    },
    {
     "name": "stderr",
     "output_type": "stream",
     "text": [
      "/Users/mac/Documents/RU/THESIS/working_thesis/scrape.py:286: FutureWarning: The frame.append method is deprecated and will be removed from pandas in a future version. Use pandas.concat instead.\n",
      "  df_donations_prop = df_donations_prop.append(df)\n"
     ]
    },
    {
     "name": "stdout",
     "output_type": "stream",
     "text": [
      "Successfully scrape donation from yoipeduliamel. Going to scrape the next donation.\n"
     ]
    },
    {
     "name": "stderr",
     "output_type": "stream",
     "text": [
      "/Users/mac/Documents/RU/THESIS/working_thesis/scrape.py:286: FutureWarning: The frame.append method is deprecated and will be removed from pandas in a future version. Use pandas.concat instead.\n",
      "  df_donations_prop = df_donations_prop.append(df)\n"
     ]
    },
    {
     "name": "stdout",
     "output_type": "stream",
     "text": [
      "Successfully scrape donation from adamfabumifoundation. Going to scrape the next donation.\n"
     ]
    },
    {
     "name": "stderr",
     "output_type": "stream",
     "text": [
      "/Users/mac/Documents/RU/THESIS/working_thesis/scrape.py:286: FutureWarning: The frame.append method is deprecated and will be removed from pandas in a future version. Use pandas.concat instead.\n",
      "  df_donations_prop = df_donations_prop.append(df)\n"
     ]
    },
    {
     "name": "stdout",
     "output_type": "stream",
     "text": [
      "Successfully scrape donation from sumurbordesasidomukti. Going to scrape the next donation.\n"
     ]
    },
    {
     "name": "stderr",
     "output_type": "stream",
     "text": [
      "/Users/mac/Documents/RU/THESIS/working_thesis/scrape.py:286: FutureWarning: The frame.append method is deprecated and will be removed from pandas in a future version. Use pandas.concat instead.\n",
      "  df_donations_prop = df_donations_prop.append(df)\n"
     ]
    },
    {
     "name": "stdout",
     "output_type": "stream",
     "text": [
      "Successfully scrape donation from qurannusantara. Going to scrape the next donation.\n"
     ]
    },
    {
     "name": "stderr",
     "output_type": "stream",
     "text": [
      "/Users/mac/Documents/RU/THESIS/working_thesis/scrape.py:286: FutureWarning: The frame.append method is deprecated and will be removed from pandas in a future version. Use pandas.concat instead.\n",
      "  df_donations_prop = df_donations_prop.append(df)\n"
     ]
    },
    {
     "name": "stdout",
     "output_type": "stream",
     "text": [
      "Successfully scrape donation from baznas. Going to scrape the next donation.\n"
     ]
    },
    {
     "name": "stderr",
     "output_type": "stream",
     "text": [
      "/Users/mac/Documents/RU/THESIS/working_thesis/scrape.py:286: FutureWarning: The frame.append method is deprecated and will be removed from pandas in a future version. Use pandas.concat instead.\n",
      "  df_donations_prop = df_donations_prop.append(df)\n"
     ]
    },
    {
     "name": "stdout",
     "output_type": "stream",
     "text": [
      "Successfully scrape donation from infaqberasbarengsobi. Going to scrape the next donation.\n"
     ]
    },
    {
     "name": "stderr",
     "output_type": "stream",
     "text": [
      "/Users/mac/Documents/RU/THESIS/working_thesis/scrape.py:286: FutureWarning: The frame.append method is deprecated and will be removed from pandas in a future version. Use pandas.concat instead.\n",
      "  df_donations_prop = df_donations_prop.append(df)\n"
     ]
    },
    {
     "name": "stdout",
     "output_type": "stream",
     "text": [
      "Successfully scrape donation from mbkbantudavin. Going to scrape the next donation.\n"
     ]
    },
    {
     "name": "stderr",
     "output_type": "stream",
     "text": [
      "/Users/mac/Documents/RU/THESIS/working_thesis/scrape.py:286: FutureWarning: The frame.append method is deprecated and will be removed from pandas in a future version. Use pandas.concat instead.\n",
      "  df_donations_prop = df_donations_prop.append(df)\n"
     ]
    },
    {
     "name": "stdout",
     "output_type": "stream",
     "text": [
      "Successfully scrape donation from bantuteruskanpembangunanmusholla. Going to scrape the next donation.\n"
     ]
    },
    {
     "name": "stderr",
     "output_type": "stream",
     "text": [
      "/Users/mac/Documents/RU/THESIS/working_thesis/scrape.py:286: FutureWarning: The frame.append method is deprecated and will be removed from pandas in a future version. Use pandas.concat instead.\n",
      "  df_donations_prop = df_donations_prop.append(df)\n"
     ]
    },
    {
     "name": "stdout",
     "output_type": "stream",
     "text": [
      "Successfully scrape donation from wujudkanmimpianggasatria. Going to scrape the next donation.\n"
     ]
    },
    {
     "name": "stderr",
     "output_type": "stream",
     "text": [
      "/Users/mac/Documents/RU/THESIS/working_thesis/scrape.py:286: FutureWarning: The frame.append method is deprecated and will be removed from pandas in a future version. Use pandas.concat instead.\n",
      "  df_donations_prop = df_donations_prop.append(df)\n"
     ]
    },
    {
     "name": "stdout",
     "output_type": "stream",
     "text": [
      "Successfully scrape donation from ybkbantudomilawanpenyakitkulitlangka. Going to scrape the next donation.\n"
     ]
    },
    {
     "name": "stderr",
     "output_type": "stream",
     "text": [
      "/Users/mac/Documents/RU/THESIS/working_thesis/scrape.py:286: FutureWarning: The frame.append method is deprecated and will be removed from pandas in a future version. Use pandas.concat instead.\n",
      "  df_donations_prop = df_donations_prop.append(df)\n"
     ]
    },
    {
     "name": "stdout",
     "output_type": "stream",
     "text": [
      "Successfully scrape donation from urgentpenyakitlangkamengikistubuhleo. Going to scrape the next donation.\n"
     ]
    },
    {
     "name": "stderr",
     "output_type": "stream",
     "text": [
      "/Users/mac/Documents/RU/THESIS/working_thesis/scrape.py:286: FutureWarning: The frame.append method is deprecated and will be removed from pandas in a future version. Use pandas.concat instead.\n",
      "  df_donations_prop = df_donations_prop.append(df)\n"
     ]
    },
    {
     "name": "stdout",
     "output_type": "stream",
     "text": [
      "Successfully scrape donation from tolongmeidilumpuhotot. Going to scrape the next donation.\n"
     ]
    },
    {
     "name": "stderr",
     "output_type": "stream",
     "text": [
      "/Users/mac/Documents/RU/THESIS/working_thesis/scrape.py:286: FutureWarning: The frame.append method is deprecated and will be removed from pandas in a future version. Use pandas.concat instead.\n",
      "  df_donations_prop = df_donations_prop.append(df)\n"
     ]
    },
    {
     "name": "stdout",
     "output_type": "stream",
     "text": [
      "Successfully scrape donation from mesjidpesantren. Going to scrape the next donation.\n"
     ]
    },
    {
     "name": "stderr",
     "output_type": "stream",
     "text": [
      "/Users/mac/Documents/RU/THESIS/working_thesis/scrape.py:286: FutureWarning: The frame.append method is deprecated and will be removed from pandas in a future version. Use pandas.concat instead.\n",
      "  df_donations_prop = df_donations_prop.append(df)\n"
     ]
    },
    {
     "name": "stdout",
     "output_type": "stream",
     "text": [
      "Successfully scrape donation from ojolerendadiwongapik. Going to scrape the next donation.\n"
     ]
    },
    {
     "name": "stderr",
     "output_type": "stream",
     "text": [
      "/Users/mac/Documents/RU/THESIS/working_thesis/scrape.py:286: FutureWarning: The frame.append method is deprecated and will be removed from pandas in a future version. Use pandas.concat instead.\n",
      "  df_donations_prop = df_donations_prop.append(df)\n"
     ]
    },
    {
     "name": "stdout",
     "output_type": "stream",
     "text": [
      "Successfully scrape donation from pulihkandaniel. Going to scrape the next donation.\n"
     ]
    },
    {
     "name": "stderr",
     "output_type": "stream",
     "text": [
      "/Users/mac/Documents/RU/THESIS/working_thesis/scrape.py:286: FutureWarning: The frame.append method is deprecated and will be removed from pandas in a future version. Use pandas.concat instead.\n",
      "  df_donations_prop = df_donations_prop.append(df)\n"
     ]
    },
    {
     "name": "stdout",
     "output_type": "stream",
     "text": [
      "Successfully scrape donation from bantuwujudkanpembangunanrumahquran. Going to scrape the next donation.\n"
     ]
    },
    {
     "name": "stderr",
     "output_type": "stream",
     "text": [
      "/Users/mac/Documents/RU/THESIS/working_thesis/scrape.py:286: FutureWarning: The frame.append method is deprecated and will be removed from pandas in a future version. Use pandas.concat instead.\n",
      "  df_donations_prop = df_donations_prop.append(df)\n"
     ]
    },
    {
     "name": "stdout",
     "output_type": "stream",
     "text": [
      "Successfully scrape donation from wakafpembebasantanahuntukpesantrendanmesjid. Going to scrape the next donation.\n"
     ]
    },
    {
     "name": "stderr",
     "output_type": "stream",
     "text": [
      "/Users/mac/Documents/RU/THESIS/working_thesis/scrape.py:286: FutureWarning: The frame.append method is deprecated and will be removed from pandas in a future version. Use pandas.concat instead.\n",
      "  df_donations_prop = df_donations_prop.append(df)\n"
     ]
    },
    {
     "name": "stdout",
     "output_type": "stream",
     "text": [
      "Successfully scrape donation from bantutempatyanglayakuntukkami. Going to scrape the next donation.\n"
     ]
    },
    {
     "name": "stderr",
     "output_type": "stream",
     "text": [
      "/Users/mac/Documents/RU/THESIS/working_thesis/scrape.py:286: FutureWarning: The frame.append method is deprecated and will be removed from pandas in a future version. Use pandas.concat instead.\n",
      "  df_donations_prop = df_donations_prop.append(df)\n"
     ]
    },
    {
     "name": "stdout",
     "output_type": "stream",
     "text": [
      "Successfully scrape donation from bantuanmasjidalummah. Going to scrape the next donation.\n"
     ]
    },
    {
     "name": "stderr",
     "output_type": "stream",
     "text": [
      "/Users/mac/Documents/RU/THESIS/working_thesis/scrape.py:286: FutureWarning: The frame.append method is deprecated and will be removed from pandas in a future version. Use pandas.concat instead.\n",
      "  df_donations_prop = df_donations_prop.append(df)\n"
     ]
    },
    {
     "name": "stdout",
     "output_type": "stream",
     "text": [
      "Successfully scrape donation from pesantrennurulamin. Going to scrape the next donation.\n"
     ]
    },
    {
     "name": "stderr",
     "output_type": "stream",
     "text": [
      "/Users/mac/Documents/RU/THESIS/working_thesis/scrape.py:286: FutureWarning: The frame.append method is deprecated and will be removed from pandas in a future version. Use pandas.concat instead.\n",
      "  df_donations_prop = df_donations_prop.append(df)\n"
     ]
    },
    {
     "name": "stdout",
     "output_type": "stream",
     "text": [
      "Successfully scrape donation from smbantumusollah. Going to scrape the next donation.\n"
     ]
    },
    {
     "name": "stderr",
     "output_type": "stream",
     "text": [
      "/Users/mac/Documents/RU/THESIS/working_thesis/scrape.py:286: FutureWarning: The frame.append method is deprecated and will be removed from pandas in a future version. Use pandas.concat instead.\n",
      "  df_donations_prop = df_donations_prop.append(df)\n"
     ]
    },
    {
     "name": "stdout",
     "output_type": "stream",
     "text": [
      "Successfully scrape donation from sedekahmenjadikanyatimmandiri. Going to scrape the next donation.\n"
     ]
    },
    {
     "name": "stderr",
     "output_type": "stream",
     "text": [
      "/Users/mac/Documents/RU/THESIS/working_thesis/scrape.py:286: FutureWarning: The frame.append method is deprecated and will be removed from pandas in a future version. Use pandas.concat instead.\n",
      "  df_donations_prop = df_donations_prop.append(df)\n"
     ]
    },
    {
     "name": "stdout",
     "output_type": "stream",
     "text": [
      "Successfully scrape donation from sedekahjariahbantupembangunanpantiasuhan. Going to scrape the next donation.\n"
     ]
    },
    {
     "name": "stderr",
     "output_type": "stream",
     "text": [
      "/Users/mac/Documents/RU/THESIS/working_thesis/scrape.py:286: FutureWarning: The frame.append method is deprecated and will be removed from pandas in a future version. Use pandas.concat instead.\n",
      "  df_donations_prop = df_donations_prop.append(df)\n"
     ]
    },
    {
     "name": "stdout",
     "output_type": "stream",
     "text": [
      "Successfully scrape donation from santunansantriyatimdhuafa. Going to scrape the next donation.\n"
     ]
    },
    {
     "name": "stderr",
     "output_type": "stream",
     "text": [
      "/Users/mac/Documents/RU/THESIS/working_thesis/scrape.py:286: FutureWarning: The frame.append method is deprecated and will be removed from pandas in a future version. Use pandas.concat instead.\n",
      "  df_donations_prop = df_donations_prop.append(df)\n"
     ]
    },
    {
     "name": "stdout",
     "output_type": "stream",
     "text": [
      "Successfully scrape donation from membangunrumahdisurga. Going to scrape the next donation.\n"
     ]
    },
    {
     "name": "stderr",
     "output_type": "stream",
     "text": [
      "/Users/mac/Documents/RU/THESIS/working_thesis/scrape.py:286: FutureWarning: The frame.append method is deprecated and will be removed from pandas in a future version. Use pandas.concat instead.\n",
      "  df_donations_prop = df_donations_prop.append(df)\n"
     ]
    },
    {
     "name": "stdout",
     "output_type": "stream",
     "text": [
      "Successfully scrape donation from sedekahmukenabaru. Going to scrape the next donation.\n"
     ]
    },
    {
     "name": "stderr",
     "output_type": "stream",
     "text": [
      "/Users/mac/Documents/RU/THESIS/working_thesis/scrape.py:286: FutureWarning: The frame.append method is deprecated and will be removed from pandas in a future version. Use pandas.concat instead.\n",
      "  df_donations_prop = df_donations_prop.append(df)\n"
     ]
    },
    {
     "name": "stdout",
     "output_type": "stream",
     "text": [
      "Successfully scrape donation from smbantuazzura. Going to scrape the next donation.\n"
     ]
    },
    {
     "name": "stderr",
     "output_type": "stream",
     "text": [
      "/Users/mac/Documents/RU/THESIS/working_thesis/scrape.py:286: FutureWarning: The frame.append method is deprecated and will be removed from pandas in a future version. Use pandas.concat instead.\n",
      "  df_donations_prop = df_donations_prop.append(df)\n"
     ]
    },
    {
     "name": "stdout",
     "output_type": "stream",
     "text": [
      "Successfully scrape donation from masjiddanasrama. Going to scrape the next donation.\n"
     ]
    },
    {
     "name": "stderr",
     "output_type": "stream",
     "text": [
      "/Users/mac/Documents/RU/THESIS/working_thesis/scrape.py:286: FutureWarning: The frame.append method is deprecated and will be removed from pandas in a future version. Use pandas.concat instead.\n",
      "  df_donations_prop = df_donations_prop.append(df)\n"
     ]
    },
    {
     "name": "stdout",
     "output_type": "stream",
     "text": [
      "Successfully scrape donation from bantupengobatanbayimungilibusuratina. Going to scrape the next donation.\n"
     ]
    },
    {
     "name": "stderr",
     "output_type": "stream",
     "text": [
      "/Users/mac/Documents/RU/THESIS/working_thesis/scrape.py:286: FutureWarning: The frame.append method is deprecated and will be removed from pandas in a future version. Use pandas.concat instead.\n",
      "  df_donations_prop = df_donations_prop.append(df)\n"
     ]
    },
    {
     "name": "stdout",
     "output_type": "stream",
     "text": [
      "Successfully scrape donation from bangunrumahquranpesantrennurulhuda. Going to scrape the next donation.\n"
     ]
    },
    {
     "name": "stderr",
     "output_type": "stream",
     "text": [
      "/Users/mac/Documents/RU/THESIS/working_thesis/scrape.py:286: FutureWarning: The frame.append method is deprecated and will be removed from pandas in a future version. Use pandas.concat instead.\n",
      "  df_donations_prop = df_donations_prop.append(df)\n"
     ]
    },
    {
     "name": "stdout",
     "output_type": "stream",
     "text": [
      "Successfully scrape donation from dompetdhuafa. Going to scrape the next donation.\n"
     ]
    },
    {
     "name": "stderr",
     "output_type": "stream",
     "text": [
      "/Users/mac/Documents/RU/THESIS/working_thesis/scrape.py:286: FutureWarning: The frame.append method is deprecated and will be removed from pandas in a future version. Use pandas.concat instead.\n",
      "  df_donations_prop = df_donations_prop.append(df)\n"
     ]
    },
    {
     "name": "stdout",
     "output_type": "stream",
     "text": [
      "Successfully scrape donation from bantufatimahberjuang. Going to scrape the next donation.\n"
     ]
    },
    {
     "name": "stderr",
     "output_type": "stream",
     "text": [
      "/Users/mac/Documents/RU/THESIS/working_thesis/scrape.py:286: FutureWarning: The frame.append method is deprecated and will be removed from pandas in a future version. Use pandas.concat instead.\n",
      "  df_donations_prop = df_donations_prop.append(df)\n"
     ]
    },
    {
     "name": "stdout",
     "output_type": "stream",
     "text": [
      "Successfully scrape donation from bangunpantiasuhankucingterlantar. Going to scrape the next donation.\n"
     ]
    },
    {
     "name": "stderr",
     "output_type": "stream",
     "text": [
      "/Users/mac/Documents/RU/THESIS/working_thesis/scrape.py:286: FutureWarning: The frame.append method is deprecated and will be removed from pandas in a future version. Use pandas.concat instead.\n",
      "  df_donations_prop = df_donations_prop.append(df)\n"
     ]
    },
    {
     "name": "stdout",
     "output_type": "stream",
     "text": [
      "Successfully scrape donation from bangunmasjidpeninggalanulamabesarsulbar. Going to scrape the next donation.\n"
     ]
    },
    {
     "name": "stderr",
     "output_type": "stream",
     "text": [
      "/Users/mac/Documents/RU/THESIS/working_thesis/scrape.py:286: FutureWarning: The frame.append method is deprecated and will be removed from pandas in a future version. Use pandas.concat instead.\n",
      "  df_donations_prop = df_donations_prop.append(df)\n"
     ]
    },
    {
     "name": "stdout",
     "output_type": "stream",
     "text": [
      "Successfully scrape donation from yayasanbaburrahman. Going to scrape the next donation.\n"
     ]
    },
    {
     "name": "stderr",
     "output_type": "stream",
     "text": [
      "/Users/mac/Documents/RU/THESIS/working_thesis/scrape.py:286: FutureWarning: The frame.append method is deprecated and will be removed from pandas in a future version. Use pandas.concat instead.\n",
      "  df_donations_prop = df_donations_prop.append(df)\n"
     ]
    },
    {
     "name": "stdout",
     "output_type": "stream",
     "text": [
      "Successfully scrape donation from zakatdansedekahpenghafalalquran. Going to scrape the next donation.\n"
     ]
    },
    {
     "name": "stderr",
     "output_type": "stream",
     "text": [
      "/Users/mac/Documents/RU/THESIS/working_thesis/scrape.py:286: FutureWarning: The frame.append method is deprecated and will be removed from pandas in a future version. Use pandas.concat instead.\n",
      "  df_donations_prop = df_donations_prop.append(df)\n"
     ]
    },
    {
     "name": "stdout",
     "output_type": "stream",
     "text": [
      "Successfully scrape donation from perdulianakyatim. Going to scrape the next donation.\n"
     ]
    },
    {
     "name": "stderr",
     "output_type": "stream",
     "text": [
      "/Users/mac/Documents/RU/THESIS/working_thesis/scrape.py:286: FutureWarning: The frame.append method is deprecated and will be removed from pandas in a future version. Use pandas.concat instead.\n",
      "  df_donations_prop = df_donations_prop.append(df)\n"
     ]
    },
    {
     "name": "stdout",
     "output_type": "stream",
     "text": [
      "Successfully scrape donation from nyfara. Going to scrape the next donation.\n"
     ]
    },
    {
     "name": "stderr",
     "output_type": "stream",
     "text": [
      "/Users/mac/Documents/RU/THESIS/working_thesis/scrape.py:286: FutureWarning: The frame.append method is deprecated and will be removed from pandas in a future version. Use pandas.concat instead.\n",
      "  df_donations_prop = df_donations_prop.append(df)\n"
     ]
    },
    {
     "name": "stdout",
     "output_type": "stream",
     "text": [
      "Successfully scrape donation from smbantuatiya. Going to scrape the next donation.\n"
     ]
    },
    {
     "name": "stderr",
     "output_type": "stream",
     "text": [
      "/Users/mac/Documents/RU/THESIS/working_thesis/scrape.py:286: FutureWarning: The frame.append method is deprecated and will be removed from pandas in a future version. Use pandas.concat instead.\n",
      "  df_donations_prop = df_donations_prop.append(df)\n"
     ]
    },
    {
     "name": "stdout",
     "output_type": "stream",
     "text": [
      "Successfully scrape donation from alisainginsembuh. Going to scrape the next donation.\n"
     ]
    },
    {
     "name": "stderr",
     "output_type": "stream",
     "text": [
      "/Users/mac/Documents/RU/THESIS/working_thesis/scrape.py:286: FutureWarning: The frame.append method is deprecated and will be removed from pandas in a future version. Use pandas.concat instead.\n",
      "  df_donations_prop = df_donations_prop.append(df)\n"
     ]
    },
    {
     "name": "stdout",
     "output_type": "stream",
     "text": [
      "Successfully scrape donation from infaqberasuntukummat. Going to scrape the next donation.\n"
     ]
    },
    {
     "name": "stderr",
     "output_type": "stream",
     "text": [
      "/Users/mac/Documents/RU/THESIS/working_thesis/scrape.py:286: FutureWarning: The frame.append method is deprecated and will be removed from pandas in a future version. Use pandas.concat instead.\n",
      "  df_donations_prop = df_donations_prop.append(df)\n"
     ]
    },
    {
     "name": "stdout",
     "output_type": "stream",
     "text": [
      "Successfully scrape donation from urgentbantusila. Going to scrape the next donation.\n"
     ]
    },
    {
     "name": "stderr",
     "output_type": "stream",
     "text": [
      "/Users/mac/Documents/RU/THESIS/working_thesis/scrape.py:286: FutureWarning: The frame.append method is deprecated and will be removed from pandas in a future version. Use pandas.concat instead.\n",
      "  df_donations_prop = df_donations_prop.append(df)\n"
     ]
    },
    {
     "name": "stdout",
     "output_type": "stream",
     "text": [
      "Successfully scrape donation from smbanturifki. Going to scrape the next donation.\n"
     ]
    },
    {
     "name": "stderr",
     "output_type": "stream",
     "text": [
      "/Users/mac/Documents/RU/THESIS/working_thesis/scrape.py:286: FutureWarning: The frame.append method is deprecated and will be removed from pandas in a future version. Use pandas.concat instead.\n",
      "  df_donations_prop = df_donations_prop.append(df)\n"
     ]
    },
    {
     "name": "stdout",
     "output_type": "stream",
     "text": [
      "Successfully scrape donation from melawandunia. Going to scrape the next donation.\n"
     ]
    },
    {
     "name": "stderr",
     "output_type": "stream",
     "text": [
      "/Users/mac/Documents/RU/THESIS/working_thesis/scrape.py:286: FutureWarning: The frame.append method is deprecated and will be removed from pandas in a future version. Use pandas.concat instead.\n",
      "  df_donations_prop = df_donations_prop.append(df)\n"
     ]
    },
    {
     "name": "stdout",
     "output_type": "stream",
     "text": [
      "Successfully scrape donation from bantumasyarakatuntukmedirikanmesjidutamanya. Going to scrape the next donation.\n"
     ]
    },
    {
     "name": "stderr",
     "output_type": "stream",
     "text": [
      "/Users/mac/Documents/RU/THESIS/working_thesis/scrape.py:286: FutureWarning: The frame.append method is deprecated and will be removed from pandas in a future version. Use pandas.concat instead.\n",
      "  df_donations_prop = df_donations_prop.append(df)\n"
     ]
    },
    {
     "name": "stdout",
     "output_type": "stream",
     "text": [
      "Successfully scrape donation from zakatuntukmemuzakkikanmustahiq. Going to scrape the next donation.\n"
     ]
    },
    {
     "name": "stderr",
     "output_type": "stream",
     "text": [
      "/Users/mac/Documents/RU/THESIS/working_thesis/scrape.py:286: FutureWarning: The frame.append method is deprecated and will be removed from pandas in a future version. Use pandas.concat instead.\n",
      "  df_donations_prop = df_donations_prop.append(df)\n"
     ]
    },
    {
     "name": "stdout",
     "output_type": "stream",
     "text": [
      "Successfully scrape donation from smbantufidelia. Going to scrape the next donation.\n"
     ]
    },
    {
     "name": "stderr",
     "output_type": "stream",
     "text": [
      "/Users/mac/Documents/RU/THESIS/working_thesis/scrape.py:286: FutureWarning: The frame.append method is deprecated and will be removed from pandas in a future version. Use pandas.concat instead.\n",
      "  df_donations_prop = df_donations_prop.append(df)\n"
     ]
    },
    {
     "name": "stdout",
     "output_type": "stream",
     "text": [
      "Successfully scrape donation from kcy334anak. Going to scrape the next donation.\n"
     ]
    },
    {
     "name": "stderr",
     "output_type": "stream",
     "text": [
      "/Users/mac/Documents/RU/THESIS/working_thesis/scrape.py:286: FutureWarning: The frame.append method is deprecated and will be removed from pandas in a future version. Use pandas.concat instead.\n",
      "  df_donations_prop = df_donations_prop.append(df)\n"
     ]
    },
    {
     "name": "stdout",
     "output_type": "stream",
     "text": [
      "Successfully scrape donation from ydsfbantubahagiakanlansia. Going to scrape the next donation.\n"
     ]
    },
    {
     "name": "stderr",
     "output_type": "stream",
     "text": [
      "/Users/mac/Documents/RU/THESIS/working_thesis/scrape.py:286: FutureWarning: The frame.append method is deprecated and will be removed from pandas in a future version. Use pandas.concat instead.\n",
      "  df_donations_prop = df_donations_prop.append(df)\n"
     ]
    },
    {
     "name": "stdout",
     "output_type": "stream",
     "text": [
      "Successfully scrape donation from 100pasukanbotak. Going to scrape the next donation.\n"
     ]
    },
    {
     "name": "stderr",
     "output_type": "stream",
     "text": [
      "/Users/mac/Documents/RU/THESIS/working_thesis/scrape.py:286: FutureWarning: The frame.append method is deprecated and will be removed from pandas in a future version. Use pandas.concat instead.\n",
      "  df_donations_prop = df_donations_prop.append(df)\n"
     ]
    },
    {
     "name": "stdout",
     "output_type": "stream",
     "text": [
      "Successfully scrape donation from huniansementarasulbar. Going to scrape the next donation.\n"
     ]
    },
    {
     "name": "stderr",
     "output_type": "stream",
     "text": [
      "/Users/mac/Documents/RU/THESIS/working_thesis/scrape.py:286: FutureWarning: The frame.append method is deprecated and will be removed from pandas in a future version. Use pandas.concat instead.\n",
      "  df_donations_prop = df_donations_prop.append(df)\n"
     ]
    },
    {
     "name": "stdout",
     "output_type": "stream",
     "text": [
      "Successfully scrape donation from zakatuntuksantriyatimdandhuafa. Going to scrape the next donation.\n"
     ]
    },
    {
     "name": "stderr",
     "output_type": "stream",
     "text": [
      "/Users/mac/Documents/RU/THESIS/working_thesis/scrape.py:286: FutureWarning: The frame.append method is deprecated and will be removed from pandas in a future version. Use pandas.concat instead.\n",
      "  df_donations_prop = df_donations_prop.append(df)\n"
     ]
    },
    {
     "name": "stdout",
     "output_type": "stream",
     "text": [
      "Successfully scrape donation from zakatlazismu. Going to scrape the next donation.\n"
     ]
    },
    {
     "name": "stderr",
     "output_type": "stream",
     "text": [
      "/Users/mac/Documents/RU/THESIS/working_thesis/scrape.py:286: FutureWarning: The frame.append method is deprecated and will be removed from pandas in a future version. Use pandas.concat instead.\n",
      "  df_donations_prop = df_donations_prop.append(df)\n"
     ]
    },
    {
     "name": "stdout",
     "output_type": "stream",
     "text": [
      "Successfully scrape donation from bantupenyelamatkucing. Going to scrape the next donation.\n"
     ]
    },
    {
     "name": "stderr",
     "output_type": "stream",
     "text": [
      "/Users/mac/Documents/RU/THESIS/working_thesis/scrape.py:286: FutureWarning: The frame.append method is deprecated and will be removed from pandas in a future version. Use pandas.concat instead.\n",
      "  df_donations_prop = df_donations_prop.append(df)\n"
     ]
    },
    {
     "name": "stdout",
     "output_type": "stream",
     "text": [
      "Successfully scrape donation from yatimpenghafalquran. Going to scrape the next donation.\n"
     ]
    },
    {
     "name": "stderr",
     "output_type": "stream",
     "text": [
      "/Users/mac/Documents/RU/THESIS/working_thesis/scrape.py:286: FutureWarning: The frame.append method is deprecated and will be removed from pandas in a future version. Use pandas.concat instead.\n",
      "  df_donations_prop = df_donations_prop.append(df)\n"
     ]
    },
    {
     "name": "stdout",
     "output_type": "stream",
     "text": [
      "Successfully scrape donation from penyakitgerogotibayielisa. Going to scrape the next donation.\n"
     ]
    },
    {
     "name": "stderr",
     "output_type": "stream",
     "text": [
      "/Users/mac/Documents/RU/THESIS/working_thesis/scrape.py:286: FutureWarning: The frame.append method is deprecated and will be removed from pandas in a future version. Use pandas.concat instead.\n",
      "  df_donations_prop = df_donations_prop.append(df)\n"
     ]
    },
    {
     "name": "stdout",
     "output_type": "stream",
     "text": [
      "Successfully scrape donation from bantuaqilamelihat. Going to scrape the next donation.\n"
     ]
    },
    {
     "name": "stderr",
     "output_type": "stream",
     "text": [
      "/Users/mac/Documents/RU/THESIS/working_thesis/scrape.py:286: FutureWarning: The frame.append method is deprecated and will be removed from pandas in a future version. Use pandas.concat instead.\n",
      "  df_donations_prop = df_donations_prop.append(df)\n"
     ]
    },
    {
     "name": "stdout",
     "output_type": "stream",
     "text": [
      "Successfully scrape donation from hadiahquranbraille. Going to scrape the next donation.\n"
     ]
    },
    {
     "name": "stderr",
     "output_type": "stream",
     "text": [
      "/Users/mac/Documents/RU/THESIS/working_thesis/scrape.py:286: FutureWarning: The frame.append method is deprecated and will be removed from pandas in a future version. Use pandas.concat instead.\n",
      "  df_donations_prop = df_donations_prop.append(df)\n"
     ]
    },
    {
     "name": "stdout",
     "output_type": "stream",
     "text": [
      "Successfully scrape donation from patunganwarga. Going to scrape the next donation.\n"
     ]
    },
    {
     "name": "stderr",
     "output_type": "stream",
     "text": [
      "/Users/mac/Documents/RU/THESIS/working_thesis/scrape.py:286: FutureWarning: The frame.append method is deprecated and will be removed from pandas in a future version. Use pandas.concat instead.\n",
      "  df_donations_prop = df_donations_prop.append(df)\n"
     ]
    },
    {
     "name": "stdout",
     "output_type": "stream",
     "text": [
      "Successfully scrape donation from salingbantuambulancegratis. Going to scrape the next donation.\n"
     ]
    },
    {
     "name": "stderr",
     "output_type": "stream",
     "text": [
      "/Users/mac/Documents/RU/THESIS/working_thesis/scrape.py:286: FutureWarning: The frame.append method is deprecated and will be removed from pandas in a future version. Use pandas.concat instead.\n",
      "  df_donations_prop = df_donations_prop.append(df)\n"
     ]
    },
    {
     "name": "stdout",
     "output_type": "stream",
     "text": [
      "Successfully scrape donation from sedekahpantiasuhantahfidzdarussalam. Going to scrape the next donation.\n"
     ]
    },
    {
     "name": "stderr",
     "output_type": "stream",
     "text": [
      "/Users/mac/Documents/RU/THESIS/working_thesis/scrape.py:286: FutureWarning: The frame.append method is deprecated and will be removed from pandas in a future version. Use pandas.concat instead.\n",
      "  df_donations_prop = df_donations_prop.append(df)\n"
     ]
    },
    {
     "name": "stdout",
     "output_type": "stream",
     "text": [
      "Successfully scrape donation from wartegyatim. Going to scrape the next donation.\n"
     ]
    },
    {
     "name": "stderr",
     "output_type": "stream",
     "text": [
      "/Users/mac/Documents/RU/THESIS/working_thesis/scrape.py:286: FutureWarning: The frame.append method is deprecated and will be removed from pandas in a future version. Use pandas.concat instead.\n",
      "  df_donations_prop = df_donations_prop.append(df)\n"
     ]
    },
    {
     "name": "stdout",
     "output_type": "stream",
     "text": [
      "Successfully scrape donation from gerakansedekahtiaphariuntukpenghafalquran. Going to scrape the next donation.\n"
     ]
    },
    {
     "name": "stderr",
     "output_type": "stream",
     "text": [
      "/Users/mac/Documents/RU/THESIS/working_thesis/scrape.py:286: FutureWarning: The frame.append method is deprecated and will be removed from pandas in a future version. Use pandas.concat instead.\n",
      "  df_donations_prop = df_donations_prop.append(df)\n"
     ]
    },
    {
     "name": "stdout",
     "output_type": "stream",
     "text": [
      "Successfully scrape donation from perjuanganpiatupelosok. Going to scrape the next donation.\n"
     ]
    },
    {
     "name": "stderr",
     "output_type": "stream",
     "text": [
      "/Users/mac/Documents/RU/THESIS/working_thesis/scrape.py:286: FutureWarning: The frame.append method is deprecated and will be removed from pandas in a future version. Use pandas.concat instead.\n",
      "  df_donations_prop = df_donations_prop.append(df)\n"
     ]
    },
    {
     "name": "stdout",
     "output_type": "stream",
     "text": [
      "Successfully scrape donation from bantukakeksukapdi. Going to scrape the next donation.\n"
     ]
    },
    {
     "name": "stderr",
     "output_type": "stream",
     "text": [
      "/Users/mac/Documents/RU/THESIS/working_thesis/scrape.py:286: FutureWarning: The frame.append method is deprecated and will be removed from pandas in a future version. Use pandas.concat instead.\n",
      "  df_donations_prop = df_donations_prop.append(df)\n"
     ]
    },
    {
     "name": "stdout",
     "output_type": "stream",
     "text": [
      "Successfully scrape donation from bantuselesaikandarulhikam. Going to scrape the next donation.\n"
     ]
    },
    {
     "name": "stderr",
     "output_type": "stream",
     "text": [
      "/Users/mac/Documents/RU/THESIS/working_thesis/scrape.py:286: FutureWarning: The frame.append method is deprecated and will be removed from pandas in a future version. Use pandas.concat instead.\n",
      "  df_donations_prop = df_donations_prop.append(df)\n"
     ]
    },
    {
     "name": "stdout",
     "output_type": "stream",
     "text": [
      "Successfully scrape donation from sedekahberbagimukena. Going to scrape the next donation.\n"
     ]
    },
    {
     "name": "stderr",
     "output_type": "stream",
     "text": [
      "/Users/mac/Documents/RU/THESIS/working_thesis/scrape.py:286: FutureWarning: The frame.append method is deprecated and will be removed from pandas in a future version. Use pandas.concat instead.\n",
      "  df_donations_prop = df_donations_prop.append(df)\n"
     ]
    },
    {
     "name": "stdout",
     "output_type": "stream",
     "text": [
      "Successfully scrape donation from hfrtemanimbahmuhadi. Going to scrape the next donation.\n"
     ]
    },
    {
     "name": "stderr",
     "output_type": "stream",
     "text": [
      "/Users/mac/Documents/RU/THESIS/working_thesis/scrape.py:286: FutureWarning: The frame.append method is deprecated and will be removed from pandas in a future version. Use pandas.concat instead.\n",
      "  df_donations_prop = df_donations_prop.append(df)\n"
     ]
    },
    {
     "name": "stdout",
     "output_type": "stream",
     "text": [
      "Successfully scrape donation from bantumesjidalbarokahyangingindirenovasi. Going to scrape the next donation.\n"
     ]
    },
    {
     "name": "stderr",
     "output_type": "stream",
     "text": [
      "/Users/mac/Documents/RU/THESIS/working_thesis/scrape.py:286: FutureWarning: The frame.append method is deprecated and will be removed from pandas in a future version. Use pandas.concat instead.\n",
      "  df_donations_prop = df_donations_prop.append(df)\n"
     ]
    },
    {
     "name": "stdout",
     "output_type": "stream",
     "text": [
      "Successfully scrape donation from zakatuntuksantriyatimdandhuafadipanti. Going to scrape the next donation.\n"
     ]
    },
    {
     "name": "stderr",
     "output_type": "stream",
     "text": [
      "/Users/mac/Documents/RU/THESIS/working_thesis/scrape.py:286: FutureWarning: The frame.append method is deprecated and will be removed from pandas in a future version. Use pandas.concat instead.\n",
      "  df_donations_prop = df_donations_prop.append(df)\n"
     ]
    },
    {
     "name": "stdout",
     "output_type": "stream",
     "text": [
      "Successfully scrape donation from smbantuaiman. Going to scrape the next donation.\n"
     ]
    },
    {
     "name": "stderr",
     "output_type": "stream",
     "text": [
      "/Users/mac/Documents/RU/THESIS/working_thesis/scrape.py:286: FutureWarning: The frame.append method is deprecated and will be removed from pandas in a future version. Use pandas.concat instead.\n",
      "  df_donations_prop = df_donations_prop.append(df)\n"
     ]
    },
    {
     "name": "stdout",
     "output_type": "stream",
     "text": [
      "Successfully scrape donation from sedekahsubuhraihpahalajariyah. Going to scrape the next donation.\n"
     ]
    },
    {
     "name": "stderr",
     "output_type": "stream",
     "text": [
      "/Users/mac/Documents/RU/THESIS/working_thesis/scrape.py:286: FutureWarning: The frame.append method is deprecated and will be removed from pandas in a future version. Use pandas.concat instead.\n",
      "  df_donations_prop = df_donations_prop.append(df)\n"
     ]
    },
    {
     "name": "stdout",
     "output_type": "stream",
     "text": [
      "Successfully scrape donation from bantudeksafirasembuh. Going to scrape the next donation.\n"
     ]
    },
    {
     "name": "stderr",
     "output_type": "stream",
     "text": [
      "/Users/mac/Documents/RU/THESIS/working_thesis/scrape.py:286: FutureWarning: The frame.append method is deprecated and will be removed from pandas in a future version. Use pandas.concat instead.\n",
      "  df_donations_prop = df_donations_prop.append(df)\n"
     ]
    },
    {
     "name": "stdout",
     "output_type": "stream",
     "text": [
      "Successfully scrape donation from zakatbahagiakansantridangurungaji. Going to scrape the next donation.\n"
     ]
    },
    {
     "name": "stderr",
     "output_type": "stream",
     "text": [
      "/Users/mac/Documents/RU/THESIS/working_thesis/scrape.py:286: FutureWarning: The frame.append method is deprecated and will be removed from pandas in a future version. Use pandas.concat instead.\n",
      "  df_donations_prop = df_donations_prop.append(df)\n"
     ]
    },
    {
     "name": "stdout",
     "output_type": "stream",
     "text": [
      "Successfully scrape donation from yatimsiap. Going to scrape the next donation.\n"
     ]
    },
    {
     "name": "stderr",
     "output_type": "stream",
     "text": [
      "/Users/mac/Documents/RU/THESIS/working_thesis/scrape.py:286: FutureWarning: The frame.append method is deprecated and will be removed from pandas in a future version. Use pandas.concat instead.\n",
      "  df_donations_prop = df_donations_prop.append(df)\n"
     ]
    },
    {
     "name": "stdout",
     "output_type": "stream",
     "text": [
      "Successfully scrape donation from bantuhassajadiamal. Going to scrape the next donation.\n"
     ]
    },
    {
     "name": "stderr",
     "output_type": "stream",
     "text": [
      "/Users/mac/Documents/RU/THESIS/working_thesis/scrape.py:286: FutureWarning: The frame.append method is deprecated and will be removed from pandas in a future version. Use pandas.concat instead.\n",
      "  df_donations_prop = df_donations_prop.append(df)\n"
     ]
    },
    {
     "name": "stdout",
     "output_type": "stream",
     "text": [
      "Successfully scrape donation from hadiahuntukanakbaik. Going to scrape the next donation.\n"
     ]
    },
    {
     "name": "stderr",
     "output_type": "stream",
     "text": [
      "/Users/mac/Documents/RU/THESIS/working_thesis/scrape.py:286: FutureWarning: The frame.append method is deprecated and will be removed from pandas in a future version. Use pandas.concat instead.\n",
      "  df_donations_prop = df_donations_prop.append(df)\n"
     ]
    },
    {
     "name": "stdout",
     "output_type": "stream",
     "text": [
      "Successfully scrape donation from bantubanggunpondokpesantrennurulhuda. Going to scrape the next donation.\n"
     ]
    },
    {
     "name": "stderr",
     "output_type": "stream",
     "text": [
      "/Users/mac/Documents/RU/THESIS/working_thesis/scrape.py:286: FutureWarning: The frame.append method is deprecated and will be removed from pandas in a future version. Use pandas.concat instead.\n",
      "  df_donations_prop = df_donations_prop.append(df)\n"
     ]
    },
    {
     "name": "stdout",
     "output_type": "stream",
     "text": [
      "Successfully scrape donation from menjadimalaikatkucingjalanan. Going to scrape the next donation.\n"
     ]
    },
    {
     "name": "stderr",
     "output_type": "stream",
     "text": [
      "/Users/mac/Documents/RU/THESIS/working_thesis/scrape.py:286: FutureWarning: The frame.append method is deprecated and will be removed from pandas in a future version. Use pandas.concat instead.\n",
      "  df_donations_prop = df_donations_prop.append(df)\n"
     ]
    },
    {
     "name": "stdout",
     "output_type": "stream",
     "text": [
      "Successfully scrape donation from bantuanmedisuntukpasien. Going to scrape the next donation.\n"
     ]
    },
    {
     "name": "stderr",
     "output_type": "stream",
     "text": [
      "/Users/mac/Documents/RU/THESIS/working_thesis/scrape.py:286: FutureWarning: The frame.append method is deprecated and will be removed from pandas in a future version. Use pandas.concat instead.\n",
      "  df_donations_prop = df_donations_prop.append(df)\n"
     ]
    },
    {
     "name": "stdout",
     "output_type": "stream",
     "text": [
      "Successfully scrape donation from bangunjembatanpascabencana. Going to scrape the next donation.\n"
     ]
    },
    {
     "name": "stderr",
     "output_type": "stream",
     "text": [
      "/Users/mac/Documents/RU/THESIS/working_thesis/scrape.py:286: FutureWarning: The frame.append method is deprecated and will be removed from pandas in a future version. Use pandas.concat instead.\n",
      "  df_donations_prop = df_donations_prop.append(df)\n"
     ]
    },
    {
     "name": "stdout",
     "output_type": "stream",
     "text": [
      "Successfully scrape donation from sumurdesalumbungntt. Going to scrape the next donation.\n"
     ]
    },
    {
     "name": "stderr",
     "output_type": "stream",
     "text": [
      "/Users/mac/Documents/RU/THESIS/working_thesis/scrape.py:286: FutureWarning: The frame.append method is deprecated and will be removed from pandas in a future version. Use pandas.concat instead.\n",
      "  df_donations_prop = df_donations_prop.append(df)\n"
     ]
    },
    {
     "name": "stdout",
     "output_type": "stream",
     "text": [
      "Successfully scrape donation from donasimbahresmi. Going to scrape the next donation.\n"
     ]
    },
    {
     "name": "stderr",
     "output_type": "stream",
     "text": [
      "/Users/mac/Documents/RU/THESIS/working_thesis/scrape.py:286: FutureWarning: The frame.append method is deprecated and will be removed from pandas in a future version. Use pandas.concat instead.\n",
      "  df_donations_prop = df_donations_prop.append(df)\n"
     ]
    },
    {
     "name": "stdout",
     "output_type": "stream",
     "text": [
      "Successfully scrape donation from kepalapecahtertabrakmotor. Going to scrape the next donation.\n"
     ]
    },
    {
     "name": "stderr",
     "output_type": "stream",
     "text": [
      "/Users/mac/Documents/RU/THESIS/working_thesis/scrape.py:286: FutureWarning: The frame.append method is deprecated and will be removed from pandas in a future version. Use pandas.concat instead.\n",
      "  df_donations_prop = df_donations_prop.append(df)\n"
     ]
    },
    {
     "name": "stdout",
     "output_type": "stream",
     "text": [
      "Successfully scrape donation from zakatanakyatimsantridhuafagurungaji. Going to scrape the next donation.\n"
     ]
    },
    {
     "name": "stderr",
     "output_type": "stream",
     "text": [
      "/Users/mac/Documents/RU/THESIS/working_thesis/scrape.py:286: FutureWarning: The frame.append method is deprecated and will be removed from pandas in a future version. Use pandas.concat instead.\n",
      "  df_donations_prop = df_donations_prop.append(df)\n"
     ]
    },
    {
     "name": "stdout",
     "output_type": "stream",
     "text": [
      "Successfully scrape donation from berdermakitabsucikuaniem. Going to scrape the next donation.\n"
     ]
    },
    {
     "name": "stderr",
     "output_type": "stream",
     "text": [
      "/Users/mac/Documents/RU/THESIS/working_thesis/scrape.py:286: FutureWarning: The frame.append method is deprecated and will be removed from pandas in a future version. Use pandas.concat instead.\n",
      "  df_donations_prop = df_donations_prop.append(df)\n"
     ]
    },
    {
     "name": "stdout",
     "output_type": "stream",
     "text": [
      "Successfully scrape donation from sedekahberbagikarpet. Going to scrape the next donation.\n"
     ]
    },
    {
     "name": "stderr",
     "output_type": "stream",
     "text": [
      "/Users/mac/Documents/RU/THESIS/working_thesis/scrape.py:286: FutureWarning: The frame.append method is deprecated and will be removed from pandas in a future version. Use pandas.concat instead.\n",
      "  df_donations_prop = df_donations_prop.append(df)\n"
     ]
    },
    {
     "name": "stdout",
     "output_type": "stream",
     "text": [
      "Successfully scrape donation from zakatuntukfakirmiskinyatimtahfizhquran. Going to scrape the next donation.\n"
     ]
    },
    {
     "name": "stderr",
     "output_type": "stream",
     "text": [
      "/Users/mac/Documents/RU/THESIS/working_thesis/scrape.py:286: FutureWarning: The frame.append method is deprecated and will be removed from pandas in a future version. Use pandas.concat instead.\n",
      "  df_donations_prop = df_donations_prop.append(df)\n"
     ]
    },
    {
     "name": "stdout",
     "output_type": "stream",
     "text": [
      "Successfully scrape donation from bantulc. Going to scrape the next donation.\n"
     ]
    },
    {
     "name": "stderr",
     "output_type": "stream",
     "text": [
      "/Users/mac/Documents/RU/THESIS/working_thesis/scrape.py:286: FutureWarning: The frame.append method is deprecated and will be removed from pandas in a future version. Use pandas.concat instead.\n",
      "  df_donations_prop = df_donations_prop.append(df)\n"
     ]
    },
    {
     "name": "stdout",
     "output_type": "stream",
     "text": [
      "Successfully scrape donation from lawanleukemiaakutabizaralamilumpuhdankritis. Going to scrape the next donation.\n"
     ]
    },
    {
     "name": "stderr",
     "output_type": "stream",
     "text": [
      "/Users/mac/Documents/RU/THESIS/working_thesis/scrape.py:286: FutureWarning: The frame.append method is deprecated and will be removed from pandas in a future version. Use pandas.concat instead.\n",
      "  df_donations_prop = df_donations_prop.append(df)\n"
     ]
    },
    {
     "name": "stdout",
     "output_type": "stream",
     "text": [
      "Successfully scrape donation from quranbrailletuknegeri. Going to scrape the next donation.\n"
     ]
    },
    {
     "name": "stderr",
     "output_type": "stream",
     "text": [
      "/Users/mac/Documents/RU/THESIS/working_thesis/scrape.py:286: FutureWarning: The frame.append method is deprecated and will be removed from pandas in a future version. Use pandas.concat instead.\n",
      "  df_donations_prop = df_donations_prop.append(df)\n"
     ]
    },
    {
     "name": "stdout",
     "output_type": "stream",
     "text": [
      "Successfully scrape donation from zakatyatimdhuafaa. Going to scrape the next donation.\n"
     ]
    },
    {
     "name": "stderr",
     "output_type": "stream",
     "text": [
      "/Users/mac/Documents/RU/THESIS/working_thesis/scrape.py:286: FutureWarning: The frame.append method is deprecated and will be removed from pandas in a future version. Use pandas.concat instead.\n",
      "  df_donations_prop = df_donations_prop.append(df)\n"
     ]
    },
    {
     "name": "stdout",
     "output_type": "stream",
     "text": [
      "Successfully scrape donation from yayasanriyaadlulbarokah. Going to scrape the next donation.\n"
     ]
    },
    {
     "name": "stderr",
     "output_type": "stream",
     "text": [
      "/Users/mac/Documents/RU/THESIS/working_thesis/scrape.py:286: FutureWarning: The frame.append method is deprecated and will be removed from pandas in a future version. Use pandas.concat instead.\n",
      "  df_donations_prop = df_donations_prop.append(df)\n"
     ]
    },
    {
     "name": "stdout",
     "output_type": "stream",
     "text": [
      "Successfully scrape donation from bersamabantusembuh. Going to scrape the next donation.\n"
     ]
    },
    {
     "name": "stderr",
     "output_type": "stream",
     "text": [
      "/Users/mac/Documents/RU/THESIS/working_thesis/scrape.py:286: FutureWarning: The frame.append method is deprecated and will be removed from pandas in a future version. Use pandas.concat instead.\n",
      "  df_donations_prop = df_donations_prop.append(df)\n"
     ]
    },
    {
     "name": "stdout",
     "output_type": "stream",
     "text": [
      "Successfully scrape donation from kittenplace. Going to scrape the next donation.\n"
     ]
    },
    {
     "name": "stderr",
     "output_type": "stream",
     "text": [
      "/Users/mac/Documents/RU/THESIS/working_thesis/scrape.py:286: FutureWarning: The frame.append method is deprecated and will be removed from pandas in a future version. Use pandas.concat instead.\n",
      "  df_donations_prop = df_donations_prop.append(df)\n"
     ]
    },
    {
     "name": "stdout",
     "output_type": "stream",
     "text": [
      "Successfully scrape donation from sedekahberbagisajadah. Going to scrape the next donation.\n"
     ]
    },
    {
     "name": "stderr",
     "output_type": "stream",
     "text": [
      "/Users/mac/Documents/RU/THESIS/working_thesis/scrape.py:286: FutureWarning: The frame.append method is deprecated and will be removed from pandas in a future version. Use pandas.concat instead.\n",
      "  df_donations_prop = df_donations_prop.append(df)\n"
     ]
    },
    {
     "name": "stdout",
     "output_type": "stream",
     "text": [
      "Successfully scrape donation from bersihbersihsaranaibadahmasjid. Going to scrape the next donation.\n"
     ]
    },
    {
     "name": "stderr",
     "output_type": "stream",
     "text": [
      "/Users/mac/Documents/RU/THESIS/working_thesis/scrape.py:286: FutureWarning: The frame.append method is deprecated and will be removed from pandas in a future version. Use pandas.concat instead.\n",
      "  df_donations_prop = df_donations_prop.append(df)\n"
     ]
    },
    {
     "name": "stdout",
     "output_type": "stream",
     "text": [
      "Successfully scrape donation from ybkmbantuannesembuh. Going to scrape the next donation.\n"
     ]
    },
    {
     "name": "stderr",
     "output_type": "stream",
     "text": [
      "/Users/mac/Documents/RU/THESIS/working_thesis/scrape.py:286: FutureWarning: The frame.append method is deprecated and will be removed from pandas in a future version. Use pandas.concat instead.\n",
      "  df_donations_prop = df_donations_prop.append(df)\n"
     ]
    },
    {
     "name": "stdout",
     "output_type": "stream",
     "text": [
      "Successfully scrape donation from beasiswahafiztunanetra. Going to scrape the next donation.\n"
     ]
    },
    {
     "name": "stderr",
     "output_type": "stream",
     "text": [
      "/Users/mac/Documents/RU/THESIS/working_thesis/scrape.py:286: FutureWarning: The frame.append method is deprecated and will be removed from pandas in a future version. Use pandas.concat instead.\n",
      "  df_donations_prop = df_donations_prop.append(df)\n"
     ]
    },
    {
     "name": "stdout",
     "output_type": "stream",
     "text": [
      "Successfully scrape donation from tolongbanjirkalteng. Going to scrape the next donation.\n"
     ]
    },
    {
     "name": "stderr",
     "output_type": "stream",
     "text": [
      "/Users/mac/Documents/RU/THESIS/working_thesis/scrape.py:286: FutureWarning: The frame.append method is deprecated and will be removed from pandas in a future version. Use pandas.concat instead.\n",
      "  df_donations_prop = df_donations_prop.append(df)\n"
     ]
    },
    {
     "name": "stdout",
     "output_type": "stream",
     "text": [
      "Successfully scrape donation from sedekahberbagiberas. Going to scrape the next donation.\n"
     ]
    },
    {
     "name": "stderr",
     "output_type": "stream",
     "text": [
      "/Users/mac/Documents/RU/THESIS/working_thesis/scrape.py:286: FutureWarning: The frame.append method is deprecated and will be removed from pandas in a future version. Use pandas.concat instead.\n",
      "  df_donations_prop = df_donations_prop.append(df)\n"
     ]
    },
    {
     "name": "stdout",
     "output_type": "stream",
     "text": [
      "Successfully scrape donation from sahabatbangunshelterhewan. Going to scrape the next donation.\n"
     ]
    },
    {
     "name": "stderr",
     "output_type": "stream",
     "text": [
      "/Users/mac/Documents/RU/THESIS/working_thesis/scrape.py:286: FutureWarning: The frame.append method is deprecated and will be removed from pandas in a future version. Use pandas.concat instead.\n",
      "  df_donations_prop = df_donations_prop.append(df)\n"
     ]
    },
    {
     "name": "stdout",
     "output_type": "stream",
     "text": [
      "Successfully scrape donation from pengadaansumur. Going to scrape the next donation.\n"
     ]
    },
    {
     "name": "stderr",
     "output_type": "stream",
     "text": [
      "/Users/mac/Documents/RU/THESIS/working_thesis/scrape.py:286: FutureWarning: The frame.append method is deprecated and will be removed from pandas in a future version. Use pandas.concat instead.\n",
      "  df_donations_prop = df_donations_prop.append(df)\n"
     ]
    },
    {
     "name": "stdout",
     "output_type": "stream",
     "text": [
      "Successfully scrape donation from masjiddilandabencana. Going to scrape the next donation.\n"
     ]
    },
    {
     "name": "stderr",
     "output_type": "stream",
     "text": [
      "/Users/mac/Documents/RU/THESIS/working_thesis/scrape.py:286: FutureWarning: The frame.append method is deprecated and will be removed from pandas in a future version. Use pandas.concat instead.\n",
      "  df_donations_prop = df_donations_prop.append(df)\n"
     ]
    },
    {
     "name": "stdout",
     "output_type": "stream",
     "text": [
      "Successfully scrape donation from bisazakatpenghasilan. Going to scrape the next donation.\n"
     ]
    },
    {
     "name": "stderr",
     "output_type": "stream",
     "text": [
      "/Users/mac/Documents/RU/THESIS/working_thesis/scrape.py:286: FutureWarning: The frame.append method is deprecated and will be removed from pandas in a future version. Use pandas.concat instead.\n",
      "  df_donations_prop = df_donations_prop.append(df)\n"
     ]
    },
    {
     "name": "stdout",
     "output_type": "stream",
     "text": [
      "Successfully scrape donation from prayforkanjuruhan. Going to scrape the next donation.\n"
     ]
    },
    {
     "name": "stderr",
     "output_type": "stream",
     "text": [
      "/Users/mac/Documents/RU/THESIS/working_thesis/scrape.py:286: FutureWarning: The frame.append method is deprecated and will be removed from pandas in a future version. Use pandas.concat instead.\n",
      "  df_donations_prop = df_donations_prop.append(df)\n"
     ]
    },
    {
     "name": "stdout",
     "output_type": "stream",
     "text": [
      "Successfully scrape donation from sedekahberbagiquran. Going to scrape the next donation.\n"
     ]
    },
    {
     "name": "stderr",
     "output_type": "stream",
     "text": [
      "/Users/mac/Documents/RU/THESIS/working_thesis/scrape.py:286: FutureWarning: The frame.append method is deprecated and will be removed from pandas in a future version. Use pandas.concat instead.\n",
      "  df_donations_prop = df_donations_prop.append(df)\n"
     ]
    },
    {
     "name": "stdout",
     "output_type": "stream",
     "text": [
      "Successfully scrape donation from ymciuntukraysa. Going to scrape the next donation.\n"
     ]
    },
    {
     "name": "stderr",
     "output_type": "stream",
     "text": [
      "/Users/mac/Documents/RU/THESIS/working_thesis/scrape.py:286: FutureWarning: The frame.append method is deprecated and will be removed from pandas in a future version. Use pandas.concat instead.\n",
      "  df_donations_prop = df_donations_prop.append(df)\n"
     ]
    },
    {
     "name": "stdout",
     "output_type": "stream",
     "text": [
      "Successfully scrape donation from sedekahsubuhbantuyatimduafaahliquran. Going to scrape the next donation.\n"
     ]
    },
    {
     "name": "stderr",
     "output_type": "stream",
     "text": [
      "/Users/mac/Documents/RU/THESIS/working_thesis/scrape.py:286: FutureWarning: The frame.append method is deprecated and will be removed from pandas in a future version. Use pandas.concat instead.\n",
      "  df_donations_prop = df_donations_prop.append(df)\n"
     ]
    },
    {
     "name": "stdout",
     "output_type": "stream",
     "text": [
      "Successfully scrape donation from perdulianakyatimduafa. Going to scrape the next donation.\n"
     ]
    },
    {
     "name": "stderr",
     "output_type": "stream",
     "text": [
      "/Users/mac/Documents/RU/THESIS/working_thesis/scrape.py:286: FutureWarning: The frame.append method is deprecated and will be removed from pandas in a future version. Use pandas.concat instead.\n",
      "  df_donations_prop = df_donations_prop.append(df)\n"
     ]
    },
    {
     "name": "stdout",
     "output_type": "stream",
     "text": [
      "Successfully scrape donation from bantuhidayattersenyum. Going to scrape the next donation.\n"
     ]
    },
    {
     "name": "stderr",
     "output_type": "stream",
     "text": [
      "/Users/mac/Documents/RU/THESIS/working_thesis/scrape.py:286: FutureWarning: The frame.append method is deprecated and will be removed from pandas in a future version. Use pandas.concat instead.\n",
      "  df_donations_prop = df_donations_prop.append(df)\n"
     ]
    },
    {
     "name": "stdout",
     "output_type": "stream",
     "text": [
      "Successfully scrape donation from memberimakankucingliarlongiram. Going to scrape the next donation.\n"
     ]
    },
    {
     "name": "stderr",
     "output_type": "stream",
     "text": [
      "/Users/mac/Documents/RU/THESIS/working_thesis/scrape.py:286: FutureWarning: The frame.append method is deprecated and will be removed from pandas in a future version. Use pandas.concat instead.\n",
      "  df_donations_prop = df_donations_prop.append(df)\n"
     ]
    },
    {
     "name": "stdout",
     "output_type": "stream",
     "text": [
      "Successfully scrape donation from bantutisna. Going to scrape the next donation.\n"
     ]
    },
    {
     "name": "stderr",
     "output_type": "stream",
     "text": [
      "/Users/mac/Documents/RU/THESIS/working_thesis/scrape.py:286: FutureWarning: The frame.append method is deprecated and will be removed from pandas in a future version. Use pandas.concat instead.\n",
      "  df_donations_prop = df_donations_prop.append(df)\n"
     ]
    },
    {
     "name": "stdout",
     "output_type": "stream",
     "text": [
      "Successfully scrape donation from beasiswapendidikananakyatim. Going to scrape the next donation.\n"
     ]
    },
    {
     "name": "stderr",
     "output_type": "stream",
     "text": [
      "/Users/mac/Documents/RU/THESIS/working_thesis/scrape.py:286: FutureWarning: The frame.append method is deprecated and will be removed from pandas in a future version. Use pandas.concat instead.\n",
      "  df_donations_prop = df_donations_prop.append(df)\n"
     ]
    },
    {
     "name": "stdout",
     "output_type": "stream",
     "text": [
      "Successfully scrape donation from karpetmasjidkampung. Going to scrape the next donation.\n"
     ]
    },
    {
     "name": "stderr",
     "output_type": "stream",
     "text": [
      "/Users/mac/Documents/RU/THESIS/working_thesis/scrape.py:286: FutureWarning: The frame.append method is deprecated and will be removed from pandas in a future version. Use pandas.concat instead.\n",
      "  df_donations_prop = df_donations_prop.append(df)\n"
     ]
    },
    {
     "name": "stdout",
     "output_type": "stream",
     "text": [
      "Successfully scrape donation from sedekahjumatberbagiberkah. Going to scrape the next donation.\n"
     ]
    },
    {
     "name": "stderr",
     "output_type": "stream",
     "text": [
      "/Users/mac/Documents/RU/THESIS/working_thesis/scrape.py:286: FutureWarning: The frame.append method is deprecated and will be removed from pandas in a future version. Use pandas.concat instead.\n",
      "  df_donations_prop = df_donations_prop.append(df)\n"
     ]
    },
    {
     "name": "stdout",
     "output_type": "stream",
     "text": [
      "Successfully scrape donation from wakafmasjidmualaf. Going to scrape the next donation.\n"
     ]
    },
    {
     "name": "stderr",
     "output_type": "stream",
     "text": [
      "/Users/mac/Documents/RU/THESIS/working_thesis/scrape.py:286: FutureWarning: The frame.append method is deprecated and will be removed from pandas in a future version. Use pandas.concat instead.\n",
      "  df_donations_prop = df_donations_prop.append(df)\n"
     ]
    },
    {
     "name": "stdout",
     "output_type": "stream",
     "text": [
      "Successfully scrape donation from ydsftpqnuruljannah. Going to scrape the next donation.\n"
     ]
    },
    {
     "name": "stderr",
     "output_type": "stream",
     "text": [
      "/Users/mac/Documents/RU/THESIS/working_thesis/scrape.py:286: FutureWarning: The frame.append method is deprecated and will be removed from pandas in a future version. Use pandas.concat instead.\n",
      "  df_donations_prop = df_donations_prop.append(df)\n"
     ]
    },
    {
     "name": "stdout",
     "output_type": "stream",
     "text": [
      "Successfully scrape donation from pesonabantudikalva. Going to scrape the next donation.\n"
     ]
    },
    {
     "name": "stderr",
     "output_type": "stream",
     "text": [
      "/Users/mac/Documents/RU/THESIS/working_thesis/scrape.py:286: FutureWarning: The frame.append method is deprecated and will be removed from pandas in a future version. Use pandas.concat instead.\n",
      "  df_donations_prop = df_donations_prop.append(df)\n"
     ]
    },
    {
     "name": "stdout",
     "output_type": "stream",
     "text": [
      "Successfully scrape donation from smbantuabdulrahim. Going to scrape the next donation.\n"
     ]
    },
    {
     "name": "stderr",
     "output_type": "stream",
     "text": [
      "/Users/mac/Documents/RU/THESIS/working_thesis/scrape.py:286: FutureWarning: The frame.append method is deprecated and will be removed from pandas in a future version. Use pandas.concat instead.\n",
      "  df_donations_prop = df_donations_prop.append(df)\n"
     ]
    },
    {
     "name": "stdout",
     "output_type": "stream",
     "text": [
      "Successfully scrape donation from subuhsedekah. Going to scrape the next donation.\n"
     ]
    },
    {
     "name": "stderr",
     "output_type": "stream",
     "text": [
      "/Users/mac/Documents/RU/THESIS/working_thesis/scrape.py:286: FutureWarning: The frame.append method is deprecated and will be removed from pandas in a future version. Use pandas.concat instead.\n",
      "  df_donations_prop = df_donations_prop.append(df)\n"
     ]
    },
    {
     "name": "stdout",
     "output_type": "stream",
     "text": [
      "Successfully scrape donation from untuktemanbulispita. Going to scrape the next donation.\n"
     ]
    },
    {
     "name": "stderr",
     "output_type": "stream",
     "text": [
      "/Users/mac/Documents/RU/THESIS/working_thesis/scrape.py:286: FutureWarning: The frame.append method is deprecated and will be removed from pandas in a future version. Use pandas.concat instead.\n",
      "  df_donations_prop = df_donations_prop.append(df)\n"
     ]
    },
    {
     "name": "stdout",
     "output_type": "stream",
     "text": [
      "Successfully scrape donation from respekuntukyatim. Going to scrape the next donation.\n"
     ]
    },
    {
     "name": "stderr",
     "output_type": "stream",
     "text": [
      "/Users/mac/Documents/RU/THESIS/working_thesis/scrape.py:286: FutureWarning: The frame.append method is deprecated and will be removed from pandas in a future version. Use pandas.concat instead.\n",
      "  df_donations_prop = df_donations_prop.append(df)\n"
     ]
    },
    {
     "name": "stdout",
     "output_type": "stream",
     "text": [
      "Successfully scrape donation from tegakansyiarislam. Going to scrape the next donation.\n"
     ]
    },
    {
     "name": "stderr",
     "output_type": "stream",
     "text": [
      "/Users/mac/Documents/RU/THESIS/working_thesis/scrape.py:286: FutureWarning: The frame.append method is deprecated and will be removed from pandas in a future version. Use pandas.concat instead.\n",
      "  df_donations_prop = df_donations_prop.append(df)\n"
     ]
    },
    {
     "name": "stdout",
     "output_type": "stream",
     "text": [
      "Successfully scrape donation from sedekahsubuhuberbagisembakomakangratis. Going to scrape the next donation.\n"
     ]
    },
    {
     "name": "stderr",
     "output_type": "stream",
     "text": [
      "/Users/mac/Documents/RU/THESIS/working_thesis/scrape.py:286: FutureWarning: The frame.append method is deprecated and will be removed from pandas in a future version. Use pandas.concat instead.\n",
      "  df_donations_prop = df_donations_prop.append(df)\n"
     ]
    },
    {
     "name": "stdout",
     "output_type": "stream",
     "text": [
      "Successfully scrape donation from tolongkakekmargono. Going to scrape the next donation.\n"
     ]
    },
    {
     "name": "stderr",
     "output_type": "stream",
     "text": [
      "/Users/mac/Documents/RU/THESIS/working_thesis/scrape.py:286: FutureWarning: The frame.append method is deprecated and will be removed from pandas in a future version. Use pandas.concat instead.\n",
      "  df_donations_prop = df_donations_prop.append(df)\n"
     ]
    },
    {
     "name": "stdout",
     "output_type": "stream",
     "text": [
      "Successfully scrape donation from smbantualfatih. Going to scrape the next donation.\n"
     ]
    },
    {
     "name": "stderr",
     "output_type": "stream",
     "text": [
      "/Users/mac/Documents/RU/THESIS/working_thesis/scrape.py:286: FutureWarning: The frame.append method is deprecated and will be removed from pandas in a future version. Use pandas.concat instead.\n",
      "  df_donations_prop = df_donations_prop.append(df)\n"
     ]
    },
    {
     "name": "stdout",
     "output_type": "stream",
     "text": [
      "Successfully scrape donation from dkmbangunalikhlas. Going to scrape the next donation.\n"
     ]
    },
    {
     "name": "stderr",
     "output_type": "stream",
     "text": [
      "/Users/mac/Documents/RU/THESIS/working_thesis/scrape.py:286: FutureWarning: The frame.append method is deprecated and will be removed from pandas in a future version. Use pandas.concat instead.\n",
      "  df_donations_prop = df_donations_prop.append(df)\n"
     ]
    },
    {
     "name": "stdout",
     "output_type": "stream",
     "text": [
      "Successfully scrape donation from yayasantunassehat. Going to scrape the next donation.\n"
     ]
    },
    {
     "name": "stderr",
     "output_type": "stream",
     "text": [
      "/Users/mac/Documents/RU/THESIS/working_thesis/scrape.py:286: FutureWarning: The frame.append method is deprecated and will be removed from pandas in a future version. Use pandas.concat instead.\n",
      "  df_donations_prop = df_donations_prop.append(df)\n"
     ]
    },
    {
     "name": "stdout",
     "output_type": "stream",
     "text": [
      "Successfully scrape donation from ayobantusedekahmakananparapenghafalalquran. Going to scrape the next donation.\n"
     ]
    },
    {
     "name": "stderr",
     "output_type": "stream",
     "text": [
      "/Users/mac/Documents/RU/THESIS/working_thesis/scrape.py:286: FutureWarning: The frame.append method is deprecated and will be removed from pandas in a future version. Use pandas.concat instead.\n",
      "  df_donations_prop = df_donations_prop.append(df)\n"
     ]
    },
    {
     "name": "stdout",
     "output_type": "stream",
     "text": [
      "Successfully scrape donation from jariyahfirdaus. Going to scrape the next donation.\n"
     ]
    },
    {
     "name": "stderr",
     "output_type": "stream",
     "text": [
      "/Users/mac/Documents/RU/THESIS/working_thesis/scrape.py:286: FutureWarning: The frame.append method is deprecated and will be removed from pandas in a future version. Use pandas.concat instead.\n",
      "  df_donations_prop = df_donations_prop.append(df)\n"
     ]
    },
    {
     "name": "stdout",
     "output_type": "stream",
     "text": [
      "Successfully scrape donation from quranwakaf. Going to scrape the next donation.\n"
     ]
    },
    {
     "name": "stderr",
     "output_type": "stream",
     "text": [
      "/Users/mac/Documents/RU/THESIS/working_thesis/scrape.py:286: FutureWarning: The frame.append method is deprecated and will be removed from pandas in a future version. Use pandas.concat instead.\n",
      "  df_donations_prop = df_donations_prop.append(df)\n"
     ]
    },
    {
     "name": "stdout",
     "output_type": "stream",
     "text": [
      "Successfully scrape donation from panti1. Going to scrape the next donation.\n"
     ]
    },
    {
     "name": "stderr",
     "output_type": "stream",
     "text": [
      "/Users/mac/Documents/RU/THESIS/working_thesis/scrape.py:286: FutureWarning: The frame.append method is deprecated and will be removed from pandas in a future version. Use pandas.concat instead.\n",
      "  df_donations_prop = df_donations_prop.append(df)\n"
     ]
    },
    {
     "name": "stdout",
     "output_type": "stream",
     "text": [
      "Successfully scrape donation from savebekantan. Going to scrape the next donation.\n"
     ]
    },
    {
     "name": "stderr",
     "output_type": "stream",
     "text": [
      "/Users/mac/Documents/RU/THESIS/working_thesis/scrape.py:286: FutureWarning: The frame.append method is deprecated and will be removed from pandas in a future version. Use pandas.concat instead.\n",
      "  df_donations_prop = df_donations_prop.append(df)\n"
     ]
    },
    {
     "name": "stdout",
     "output_type": "stream",
     "text": [
      "Successfully scrape donation from berkahberbagimakanan. Going to scrape the next donation.\n"
     ]
    },
    {
     "name": "stderr",
     "output_type": "stream",
     "text": [
      "/Users/mac/Documents/RU/THESIS/working_thesis/scrape.py:286: FutureWarning: The frame.append method is deprecated and will be removed from pandas in a future version. Use pandas.concat instead.\n",
      "  df_donations_prop = df_donations_prop.append(df)\n"
     ]
    },
    {
     "name": "stdout",
     "output_type": "stream",
     "text": [
      "Successfully scrape donation from smbantuhumayun. Going to scrape the next donation.\n"
     ]
    },
    {
     "name": "stderr",
     "output_type": "stream",
     "text": [
      "/Users/mac/Documents/RU/THESIS/working_thesis/scrape.py:286: FutureWarning: The frame.append method is deprecated and will be removed from pandas in a future version. Use pandas.concat instead.\n",
      "  df_donations_prop = df_donations_prop.append(df)\n"
     ]
    },
    {
     "name": "stdout",
     "output_type": "stream",
     "text": [
      "Successfully scrape donation from bayikerongkongansempit. Going to scrape the next donation.\n"
     ]
    },
    {
     "name": "stderr",
     "output_type": "stream",
     "text": [
      "/Users/mac/Documents/RU/THESIS/working_thesis/scrape.py:286: FutureWarning: The frame.append method is deprecated and will be removed from pandas in a future version. Use pandas.concat instead.\n",
      "  df_donations_prop = df_donations_prop.append(df)\n"
     ]
    },
    {
     "name": "stdout",
     "output_type": "stream",
     "text": [
      "Successfully scrape donation from masjidassajjadah. Going to scrape the next donation.\n"
     ]
    },
    {
     "name": "stderr",
     "output_type": "stream",
     "text": [
      "/Users/mac/Documents/RU/THESIS/working_thesis/scrape.py:286: FutureWarning: The frame.append method is deprecated and will be removed from pandas in a future version. Use pandas.concat instead.\n",
      "  df_donations_prop = df_donations_prop.append(df)\n"
     ]
    },
    {
     "name": "stdout",
     "output_type": "stream",
     "text": [
      "Successfully scrape donation from pemberdayaangurungajiyatimdandhuafa. Going to scrape the next donation.\n"
     ]
    },
    {
     "name": "stderr",
     "output_type": "stream",
     "text": [
      "/Users/mac/Documents/RU/THESIS/working_thesis/scrape.py:286: FutureWarning: The frame.append method is deprecated and will be removed from pandas in a future version. Use pandas.concat instead.\n",
      "  df_donations_prop = df_donations_prop.append(df)\n"
     ]
    },
    {
     "name": "stdout",
     "output_type": "stream",
     "text": [
      "Successfully scrape donation from zakatberdayakanyatimdhuafadanfakirmiskin. Going to scrape the next donation.\n"
     ]
    },
    {
     "name": "stderr",
     "output_type": "stream",
     "text": [
      "/Users/mac/Documents/RU/THESIS/working_thesis/scrape.py:286: FutureWarning: The frame.append method is deprecated and will be removed from pandas in a future version. Use pandas.concat instead.\n",
      "  df_donations_prop = df_donations_prop.append(df)\n"
     ]
    },
    {
     "name": "stdout",
     "output_type": "stream",
     "text": [
      "Successfully scrape donation from donasihijau. Going to scrape the next donation.\n"
     ]
    },
    {
     "name": "stderr",
     "output_type": "stream",
     "text": [
      "/Users/mac/Documents/RU/THESIS/working_thesis/scrape.py:286: FutureWarning: The frame.append method is deprecated and will be removed from pandas in a future version. Use pandas.concat instead.\n",
      "  df_donations_prop = df_donations_prop.append(df)\n"
     ]
    },
    {
     "name": "stdout",
     "output_type": "stream",
     "text": [
      "Successfully scrape donation from membuatrumahdisurga. Going to scrape the next donation.\n"
     ]
    },
    {
     "name": "stderr",
     "output_type": "stream",
     "text": [
      "/Users/mac/Documents/RU/THESIS/working_thesis/scrape.py:286: FutureWarning: The frame.append method is deprecated and will be removed from pandas in a future version. Use pandas.concat instead.\n",
      "  df_donations_prop = df_donations_prop.append(df)\n"
     ]
    },
    {
     "name": "stdout",
     "output_type": "stream",
     "text": [
      "Successfully scrape donation from masjidlautze. Going to scrape the next donation.\n"
     ]
    },
    {
     "name": "stderr",
     "output_type": "stream",
     "text": [
      "/Users/mac/Documents/RU/THESIS/working_thesis/scrape.py:286: FutureWarning: The frame.append method is deprecated and will be removed from pandas in a future version. Use pandas.concat instead.\n",
      "  df_donations_prop = df_donations_prop.append(df)\n"
     ]
    },
    {
     "name": "stdout",
     "output_type": "stream",
     "text": [
      "Successfully scrape donation from sekolahmanusia. Going to scrape the next donation.\n"
     ]
    },
    {
     "name": "stderr",
     "output_type": "stream",
     "text": [
      "/Users/mac/Documents/RU/THESIS/working_thesis/scrape.py:286: FutureWarning: The frame.append method is deprecated and will be removed from pandas in a future version. Use pandas.concat instead.\n",
      "  df_donations_prop = df_donations_prop.append(df)\n"
     ]
    },
    {
     "name": "stdout",
     "output_type": "stream",
     "text": [
      "Successfully scrape donation from wakafalquranbwa. Going to scrape the next donation.\n"
     ]
    },
    {
     "name": "stderr",
     "output_type": "stream",
     "text": [
      "/Users/mac/Documents/RU/THESIS/working_thesis/scrape.py:286: FutureWarning: The frame.append method is deprecated and will be removed from pandas in a future version. Use pandas.concat instead.\n",
      "  df_donations_prop = df_donations_prop.append(df)\n"
     ]
    },
    {
     "name": "stdout",
     "output_type": "stream",
     "text": [
      "Successfully scrape donation from bantusafiasembuh. Going to scrape the next donation.\n"
     ]
    },
    {
     "name": "stderr",
     "output_type": "stream",
     "text": [
      "/Users/mac/Documents/RU/THESIS/working_thesis/scrape.py:286: FutureWarning: The frame.append method is deprecated and will be removed from pandas in a future version. Use pandas.concat instead.\n",
      "  df_donations_prop = df_donations_prop.append(df)\n"
     ]
    },
    {
     "name": "stdout",
     "output_type": "stream",
     "text": [
      "Successfully scrape donation from renovasimasjidnuruli. Going to scrape the next donation.\n"
     ]
    },
    {
     "name": "stderr",
     "output_type": "stream",
     "text": [
      "/Users/mac/Documents/RU/THESIS/working_thesis/scrape.py:286: FutureWarning: The frame.append method is deprecated and will be removed from pandas in a future version. Use pandas.concat instead.\n",
      "  df_donations_prop = df_donations_prop.append(df)\n"
     ]
    },
    {
     "name": "stdout",
     "output_type": "stream",
     "text": [
      "Successfully scrape donation from sedekahmakananjumat. Going to scrape the next donation.\n"
     ]
    },
    {
     "name": "stderr",
     "output_type": "stream",
     "text": [
      "/Users/mac/Documents/RU/THESIS/working_thesis/scrape.py:286: FutureWarning: The frame.append method is deprecated and will be removed from pandas in a future version. Use pandas.concat instead.\n",
      "  df_donations_prop = df_donations_prop.append(df)\n"
     ]
    },
    {
     "name": "stdout",
     "output_type": "stream",
     "text": [
      "Successfully scrape donation from bantuseptiacangkokgi. Going to scrape the next donation.\n"
     ]
    },
    {
     "name": "stderr",
     "output_type": "stream",
     "text": [
      "/Users/mac/Documents/RU/THESIS/working_thesis/scrape.py:286: FutureWarning: The frame.append method is deprecated and will be removed from pandas in a future version. Use pandas.concat instead.\n",
      "  df_donations_prop = df_donations_prop.append(df)\n"
     ]
    },
    {
     "name": "stdout",
     "output_type": "stream",
     "text": [
      "Successfully scrape donation from infaquntukhijragank. Going to scrape the next donation.\n"
     ]
    },
    {
     "name": "stderr",
     "output_type": "stream",
     "text": [
      "/Users/mac/Documents/RU/THESIS/working_thesis/scrape.py:286: FutureWarning: The frame.append method is deprecated and will be removed from pandas in a future version. Use pandas.concat instead.\n",
      "  df_donations_prop = df_donations_prop.append(df)\n"
     ]
    },
    {
     "name": "stdout",
     "output_type": "stream",
     "text": [
      "Successfully scrape donation from sedekahbuatoperasionalanakyatimdhuafa. Going to scrape the next donation.\n"
     ]
    },
    {
     "name": "stderr",
     "output_type": "stream",
     "text": [
      "/Users/mac/Documents/RU/THESIS/working_thesis/scrape.py:286: FutureWarning: The frame.append method is deprecated and will be removed from pandas in a future version. Use pandas.concat instead.\n",
      "  df_donations_prop = df_donations_prop.append(df)\n"
     ]
    },
    {
     "name": "stdout",
     "output_type": "stream",
     "text": [
      "Successfully scrape donation from beasiswatahfidzulquran. Going to scrape the next donation.\n"
     ]
    },
    {
     "name": "stderr",
     "output_type": "stream",
     "text": [
      "/Users/mac/Documents/RU/THESIS/working_thesis/scrape.py:286: FutureWarning: The frame.append method is deprecated and will be removed from pandas in a future version. Use pandas.concat instead.\n",
      "  df_donations_prop = df_donations_prop.append(df)\n"
     ]
    },
    {
     "name": "stdout",
     "output_type": "stream",
     "text": [
      "Successfully scrape donation from gowesberkah. Going to scrape the next donation.\n"
     ]
    },
    {
     "name": "stderr",
     "output_type": "stream",
     "text": [
      "/Users/mac/Documents/RU/THESIS/working_thesis/scrape.py:286: FutureWarning: The frame.append method is deprecated and will be removed from pandas in a future version. Use pandas.concat instead.\n",
      "  df_donations_prop = df_donations_prop.append(df)\n"
     ]
    },
    {
     "name": "stdout",
     "output_type": "stream",
     "text": [
      "Successfully scrape donation from wakafsumuruntukpesantren. Going to scrape the next donation.\n"
     ]
    },
    {
     "name": "stderr",
     "output_type": "stream",
     "text": [
      "/Users/mac/Documents/RU/THESIS/working_thesis/scrape.py:286: FutureWarning: The frame.append method is deprecated and will be removed from pandas in a future version. Use pandas.concat instead.\n",
      "  df_donations_prop = df_donations_prop.append(df)\n"
     ]
    },
    {
     "name": "stdout",
     "output_type": "stream",
     "text": [
      "Successfully scrape donation from tempatmengajianak. Going to scrape the next donation.\n"
     ]
    },
    {
     "name": "stderr",
     "output_type": "stream",
     "text": [
      "/Users/mac/Documents/RU/THESIS/working_thesis/scrape.py:286: FutureWarning: The frame.append method is deprecated and will be removed from pandas in a future version. Use pandas.concat instead.\n",
      "  df_donations_prop = df_donations_prop.append(df)\n"
     ]
    },
    {
     "name": "stdout",
     "output_type": "stream",
     "text": [
      "Successfully scrape donation from masjidpalangkaraya. Going to scrape the next donation.\n"
     ]
    },
    {
     "name": "stderr",
     "output_type": "stream",
     "text": [
      "/Users/mac/Documents/RU/THESIS/working_thesis/scrape.py:286: FutureWarning: The frame.append method is deprecated and will be removed from pandas in a future version. Use pandas.concat instead.\n",
      "  df_donations_prop = df_donations_prop.append(df)\n"
     ]
    },
    {
     "name": "stdout",
     "output_type": "stream",
     "text": [
      "Successfully scrape donation from pantiyatimanda. Going to scrape the next donation.\n"
     ]
    },
    {
     "name": "stderr",
     "output_type": "stream",
     "text": [
      "/Users/mac/Documents/RU/THESIS/working_thesis/scrape.py:286: FutureWarning: The frame.append method is deprecated and will be removed from pandas in a future version. Use pandas.concat instead.\n",
      "  df_donations_prop = df_donations_prop.append(df)\n"
     ]
    },
    {
     "name": "stdout",
     "output_type": "stream",
     "text": [
      "Successfully scrape donation from bantubangunpesantren. Going to scrape the next donation.\n"
     ]
    },
    {
     "name": "stderr",
     "output_type": "stream",
     "text": [
      "/Users/mac/Documents/RU/THESIS/working_thesis/scrape.py:286: FutureWarning: The frame.append method is deprecated and will be removed from pandas in a future version. Use pandas.concat instead.\n",
      "  df_donations_prop = df_donations_prop.append(df)\n"
     ]
    },
    {
     "name": "stdout",
     "output_type": "stream",
     "text": [
      "Successfully scrape donation from pedulianakyatimfutuhalarifin. Going to scrape the next donation.\n"
     ]
    },
    {
     "name": "stderr",
     "output_type": "stream",
     "text": [
      "/Users/mac/Documents/RU/THESIS/working_thesis/scrape.py:286: FutureWarning: The frame.append method is deprecated and will be removed from pandas in a future version. Use pandas.concat instead.\n",
      "  df_donations_prop = df_donations_prop.append(df)\n"
     ]
    },
    {
     "name": "stdout",
     "output_type": "stream",
     "text": [
      "Successfully scrape donation from bantuyosualawanleukimia. Going to scrape the next donation.\n"
     ]
    },
    {
     "name": "stderr",
     "output_type": "stream",
     "text": [
      "/Users/mac/Documents/RU/THESIS/working_thesis/scrape.py:286: FutureWarning: The frame.append method is deprecated and will be removed from pandas in a future version. Use pandas.concat instead.\n",
      "  df_donations_prop = df_donations_prop.append(df)\n"
     ]
    },
    {
     "name": "stdout",
     "output_type": "stream",
     "text": [
      "Successfully scrape donation from sedekahrenovasimasjidpelosok. Going to scrape the next donation.\n"
     ]
    },
    {
     "name": "stderr",
     "output_type": "stream",
     "text": [
      "/Users/mac/Documents/RU/THESIS/working_thesis/scrape.py:286: FutureWarning: The frame.append method is deprecated and will be removed from pandas in a future version. Use pandas.concat instead.\n",
      "  df_donations_prop = df_donations_prop.append(df)\n"
     ]
    },
    {
     "name": "stdout",
     "output_type": "stream",
     "text": [
      "Successfully scrape donation from sedekahobat. Going to scrape the next donation.\n"
     ]
    },
    {
     "name": "stderr",
     "output_type": "stream",
     "text": [
      "/Users/mac/Documents/RU/THESIS/working_thesis/scrape.py:286: FutureWarning: The frame.append method is deprecated and will be removed from pandas in a future version. Use pandas.concat instead.\n",
      "  df_donations_prop = df_donations_prop.append(df)\n"
     ]
    },
    {
     "name": "stdout",
     "output_type": "stream",
     "text": [
      "Successfully scrape donation from wisnulumpuhkuranggizi. Going to scrape the next donation.\n"
     ]
    },
    {
     "name": "stderr",
     "output_type": "stream",
     "text": [
      "/Users/mac/Documents/RU/THESIS/working_thesis/scrape.py:286: FutureWarning: The frame.append method is deprecated and will be removed from pandas in a future version. Use pandas.concat instead.\n",
      "  df_donations_prop = df_donations_prop.append(df)\n"
     ]
    },
    {
     "name": "stdout",
     "output_type": "stream",
     "text": [
      "Successfully scrape donation from programsti. Going to scrape the next donation.\n"
     ]
    },
    {
     "name": "stderr",
     "output_type": "stream",
     "text": [
      "/Users/mac/Documents/RU/THESIS/working_thesis/scrape.py:286: FutureWarning: The frame.append method is deprecated and will be removed from pandas in a future version. Use pandas.concat instead.\n",
      "  df_donations_prop = df_donations_prop.append(df)\n"
     ]
    },
    {
     "name": "stdout",
     "output_type": "stream",
     "text": [
      "Successfully scrape donation from bangunrumahalquran. Going to scrape the next donation.\n"
     ]
    },
    {
     "name": "stderr",
     "output_type": "stream",
     "text": [
      "/Users/mac/Documents/RU/THESIS/working_thesis/scrape.py:286: FutureWarning: The frame.append method is deprecated and will be removed from pandas in a future version. Use pandas.concat instead.\n",
      "  df_donations_prop = df_donations_prop.append(df)\n"
     ]
    },
    {
     "name": "stdout",
     "output_type": "stream",
     "text": [
      "Successfully scrape donation from sedekahlahirangratis. Going to scrape the next donation.\n"
     ]
    },
    {
     "name": "stderr",
     "output_type": "stream",
     "text": [
      "/Users/mac/Documents/RU/THESIS/working_thesis/scrape.py:286: FutureWarning: The frame.append method is deprecated and will be removed from pandas in a future version. Use pandas.concat instead.\n",
      "  df_donations_prop = df_donations_prop.append(df)\n"
     ]
    },
    {
     "name": "stdout",
     "output_type": "stream",
     "text": [
      "Successfully scrape donation from wakafairbersihbwa. Going to scrape the next donation.\n"
     ]
    },
    {
     "name": "stderr",
     "output_type": "stream",
     "text": [
      "/Users/mac/Documents/RU/THESIS/working_thesis/scrape.py:286: FutureWarning: The frame.append method is deprecated and will be removed from pandas in a future version. Use pandas.concat instead.\n",
      "  df_donations_prop = df_donations_prop.append(df)\n"
     ]
    },
    {
     "name": "stdout",
     "output_type": "stream",
     "text": [
      "Successfully scrape donation from ponpesdarussalam. Going to scrape the next donation.\n"
     ]
    },
    {
     "name": "stderr",
     "output_type": "stream",
     "text": [
      "/Users/mac/Documents/RU/THESIS/working_thesis/scrape.py:286: FutureWarning: The frame.append method is deprecated and will be removed from pandas in a future version. Use pandas.concat instead.\n",
      "  df_donations_prop = df_donations_prop.append(df)\n"
     ]
    },
    {
     "name": "stdout",
     "output_type": "stream",
     "text": [
      "Successfully scrape donation from pesawatr80. Going to scrape the next donation.\n"
     ]
    },
    {
     "name": "stderr",
     "output_type": "stream",
     "text": [
      "/Users/mac/Documents/RU/THESIS/working_thesis/scrape.py:286: FutureWarning: The frame.append method is deprecated and will be removed from pandas in a future version. Use pandas.concat instead.\n",
      "  df_donations_prop = df_donations_prop.append(df)\n"
     ]
    },
    {
     "name": "stdout",
     "output_type": "stream",
     "text": [
      "Successfully scrape donation from quranidproject. Going to scrape the next donation.\n"
     ]
    },
    {
     "name": "stderr",
     "output_type": "stream",
     "text": [
      "/Users/mac/Documents/RU/THESIS/working_thesis/scrape.py:286: FutureWarning: The frame.append method is deprecated and will be removed from pandas in a future version. Use pandas.concat instead.\n",
      "  df_donations_prop = df_donations_prop.append(df)\n"
     ]
    },
    {
     "name": "stdout",
     "output_type": "stream",
     "text": [
      "Successfully scrape donation from masjidirobohkanwarga. Going to scrape the next donation.\n"
     ]
    },
    {
     "name": "stderr",
     "output_type": "stream",
     "text": [
      "/Users/mac/Documents/RU/THESIS/working_thesis/scrape.py:286: FutureWarning: The frame.append method is deprecated and will be removed from pandas in a future version. Use pandas.concat instead.\n",
      "  df_donations_prop = df_donations_prop.append(df)\n"
     ]
    },
    {
     "name": "stdout",
     "output_type": "stream",
     "text": [
      "Successfully scrape donation from dengan25rbsudahjadiorangtuaasuhyatim. Going to scrape the next donation.\n"
     ]
    },
    {
     "name": "stderr",
     "output_type": "stream",
     "text": [
      "/Users/mac/Documents/RU/THESIS/working_thesis/scrape.py:286: FutureWarning: The frame.append method is deprecated and will be removed from pandas in a future version. Use pandas.concat instead.\n",
      "  df_donations_prop = df_donations_prop.append(df)\n"
     ]
    },
    {
     "name": "stdout",
     "output_type": "stream",
     "text": [
      "Successfully scrape donation from bantulansiapemulung. Going to scrape the next donation.\n"
     ]
    },
    {
     "name": "stderr",
     "output_type": "stream",
     "text": [
      "/Users/mac/Documents/RU/THESIS/working_thesis/scrape.py:286: FutureWarning: The frame.append method is deprecated and will be removed from pandas in a future version. Use pandas.concat instead.\n",
      "  df_donations_prop = df_donations_prop.append(df)\n"
     ]
    },
    {
     "name": "stdout",
     "output_type": "stream",
     "text": [
      "Successfully scrape donation from bantuasramayatim. Going to scrape the next donation.\n"
     ]
    },
    {
     "name": "stderr",
     "output_type": "stream",
     "text": [
      "/Users/mac/Documents/RU/THESIS/working_thesis/scrape.py:286: FutureWarning: The frame.append method is deprecated and will be removed from pandas in a future version. Use pandas.concat instead.\n",
      "  df_donations_prop = df_donations_prop.append(df)\n"
     ]
    },
    {
     "name": "stdout",
     "output_type": "stream",
     "text": [
      "Successfully scrape donation from bantuperjuangankakeksulaiman. Going to scrape the next donation.\n"
     ]
    },
    {
     "name": "stderr",
     "output_type": "stream",
     "text": [
      "/Users/mac/Documents/RU/THESIS/working_thesis/scrape.py:286: FutureWarning: The frame.append method is deprecated and will be removed from pandas in a future version. Use pandas.concat instead.\n",
      "  df_donations_prop = df_donations_prop.append(df)\n"
     ]
    },
    {
     "name": "stdout",
     "output_type": "stream",
     "text": [
      "Successfully scrape donation from berbagibukudigital. Going to scrape the next donation.\n"
     ]
    },
    {
     "name": "stderr",
     "output_type": "stream",
     "text": [
      "/Users/mac/Documents/RU/THESIS/working_thesis/scrape.py:286: FutureWarning: The frame.append method is deprecated and will be removed from pandas in a future version. Use pandas.concat instead.\n",
      "  df_donations_prop = df_donations_prop.append(df)\n"
     ]
    },
    {
     "name": "stdout",
     "output_type": "stream",
     "text": [
      "Successfully scrape donation from zakatakhirtahunrz. Going to scrape the next donation.\n"
     ]
    },
    {
     "name": "stderr",
     "output_type": "stream",
     "text": [
      "/Users/mac/Documents/RU/THESIS/working_thesis/scrape.py:286: FutureWarning: The frame.append method is deprecated and will be removed from pandas in a future version. Use pandas.concat instead.\n",
      "  df_donations_prop = df_donations_prop.append(df)\n"
     ]
    },
    {
     "name": "stdout",
     "output_type": "stream",
     "text": [
      "Successfully scrape donation from zakatpendidikanrpk. Going to scrape the next donation.\n"
     ]
    },
    {
     "name": "stderr",
     "output_type": "stream",
     "text": [
      "/Users/mac/Documents/RU/THESIS/working_thesis/scrape.py:286: FutureWarning: The frame.append method is deprecated and will be removed from pandas in a future version. Use pandas.concat instead.\n",
      "  df_donations_prop = df_donations_prop.append(df)\n"
     ]
    },
    {
     "name": "stdout",
     "output_type": "stream",
     "text": [
      "Successfully scrape donation from bantubangunasramasantriyatimdhuafa. Going to scrape the next donation.\n"
     ]
    },
    {
     "name": "stderr",
     "output_type": "stream",
     "text": [
      "/Users/mac/Documents/RU/THESIS/working_thesis/scrape.py:286: FutureWarning: The frame.append method is deprecated and will be removed from pandas in a future version. Use pandas.concat instead.\n",
      "  df_donations_prop = df_donations_prop.append(df)\n"
     ]
    },
    {
     "name": "stdout",
     "output_type": "stream",
     "text": [
      "Successfully scrape donation from bantuanuntukmensejahterakananakpantiasuhan. Going to scrape the next donation.\n"
     ]
    },
    {
     "name": "stderr",
     "output_type": "stream",
     "text": [
      "/Users/mac/Documents/RU/THESIS/working_thesis/scrape.py:286: FutureWarning: The frame.append method is deprecated and will be removed from pandas in a future version. Use pandas.concat instead.\n",
      "  df_donations_prop = df_donations_prop.append(df)\n"
     ]
    },
    {
     "name": "stdout",
     "output_type": "stream",
     "text": [
      "Successfully scrape donation from ponpestamankasih. Going to scrape the next donation.\n"
     ]
    },
    {
     "name": "stderr",
     "output_type": "stream",
     "text": [
      "/Users/mac/Documents/RU/THESIS/working_thesis/scrape.py:286: FutureWarning: The frame.append method is deprecated and will be removed from pandas in a future version. Use pandas.concat instead.\n",
      "  df_donations_prop = df_donations_prop.append(df)\n"
     ]
    },
    {
     "name": "stdout",
     "output_type": "stream",
     "text": [
      "Successfully scrape donation from bantukurnia. Going to scrape the next donation.\n"
     ]
    },
    {
     "name": "stderr",
     "output_type": "stream",
     "text": [
      "/Users/mac/Documents/RU/THESIS/working_thesis/scrape.py:286: FutureWarning: The frame.append method is deprecated and will be removed from pandas in a future version. Use pandas.concat instead.\n",
      "  df_donations_prop = df_donations_prop.append(df)\n"
     ]
    },
    {
     "name": "stdout",
     "output_type": "stream",
     "text": [
      "Successfully scrape donation from hijrahhapustato. Going to scrape the next donation.\n"
     ]
    },
    {
     "name": "stderr",
     "output_type": "stream",
     "text": [
      "/Users/mac/Documents/RU/THESIS/working_thesis/scrape.py:286: FutureWarning: The frame.append method is deprecated and will be removed from pandas in a future version. Use pandas.concat instead.\n",
      "  df_donations_prop = df_donations_prop.append(df)\n"
     ]
    },
    {
     "name": "stdout",
     "output_type": "stream",
     "text": [
      "Successfully scrape donation from jumatberbagibersama. Going to scrape the next donation.\n"
     ]
    },
    {
     "name": "stderr",
     "output_type": "stream",
     "text": [
      "/Users/mac/Documents/RU/THESIS/working_thesis/scrape.py:286: FutureWarning: The frame.append method is deprecated and will be removed from pandas in a future version. Use pandas.concat instead.\n",
      "  df_donations_prop = df_donations_prop.append(df)\n"
     ]
    },
    {
     "name": "stdout",
     "output_type": "stream",
     "text": [
      "Successfully scrape donation from nhbantupantialmarina. Going to scrape the next donation.\n"
     ]
    },
    {
     "name": "stderr",
     "output_type": "stream",
     "text": [
      "/Users/mac/Documents/RU/THESIS/working_thesis/scrape.py:286: FutureWarning: The frame.append method is deprecated and will be removed from pandas in a future version. Use pandas.concat instead.\n",
      "  df_donations_prop = df_donations_prop.append(df)\n"
     ]
    },
    {
     "name": "stdout",
     "output_type": "stream",
     "text": [
      "Successfully scrape donation from masjidbesarnuruddin. Going to scrape the next donation.\n"
     ]
    },
    {
     "name": "stderr",
     "output_type": "stream",
     "text": [
      "/Users/mac/Documents/RU/THESIS/working_thesis/scrape.py:286: FutureWarning: The frame.append method is deprecated and will be removed from pandas in a future version. Use pandas.concat instead.\n",
      "  df_donations_prop = df_donations_prop.append(df)\n"
     ]
    },
    {
     "name": "stdout",
     "output_type": "stream",
     "text": [
      "Successfully scrape donation from penghafalqngronggo. Going to scrape the next donation.\n"
     ]
    },
    {
     "name": "stderr",
     "output_type": "stream",
     "text": [
      "/Users/mac/Documents/RU/THESIS/working_thesis/scrape.py:286: FutureWarning: The frame.append method is deprecated and will be removed from pandas in a future version. Use pandas.concat instead.\n",
      "  df_donations_prop = df_donations_prop.append(df)\n"
     ]
    },
    {
     "name": "stdout",
     "output_type": "stream",
     "text": [
      "Successfully scrape donation from sumberdayainsani. Going to scrape the next donation.\n"
     ]
    },
    {
     "name": "stderr",
     "output_type": "stream",
     "text": [
      "/Users/mac/Documents/RU/THESIS/working_thesis/scrape.py:286: FutureWarning: The frame.append method is deprecated and will be removed from pandas in a future version. Use pandas.concat instead.\n",
      "  df_donations_prop = df_donations_prop.append(df)\n"
     ]
    },
    {
     "name": "stdout",
     "output_type": "stream",
     "text": [
      "Successfully scrape donation from zakatuswatunhasanah. Going to scrape the next donation.\n"
     ]
    },
    {
     "name": "stderr",
     "output_type": "stream",
     "text": [
      "/Users/mac/Documents/RU/THESIS/working_thesis/scrape.py:286: FutureWarning: The frame.append method is deprecated and will be removed from pandas in a future version. Use pandas.concat instead.\n",
      "  df_donations_prop = df_donations_prop.append(df)\n"
     ]
    },
    {
     "name": "stdout",
     "output_type": "stream",
     "text": [
      "Successfully scrape donation from saveanakjalanan. Going to scrape the next donation.\n"
     ]
    },
    {
     "name": "stderr",
     "output_type": "stream",
     "text": [
      "/Users/mac/Documents/RU/THESIS/working_thesis/scrape.py:286: FutureWarning: The frame.append method is deprecated and will be removed from pandas in a future version. Use pandas.concat instead.\n",
      "  df_donations_prop = df_donations_prop.append(df)\n"
     ]
    },
    {
     "name": "stdout",
     "output_type": "stream",
     "text": [
      "Successfully scrape donation from hadiahmasjidkokohtanetetengah. Going to scrape the next donation.\n"
     ]
    },
    {
     "name": "stderr",
     "output_type": "stream",
     "text": [
      "/Users/mac/Documents/RU/THESIS/working_thesis/scrape.py:286: FutureWarning: The frame.append method is deprecated and will be removed from pandas in a future version. Use pandas.concat instead.\n",
      "  df_donations_prop = df_donations_prop.append(df)\n"
     ]
    },
    {
     "name": "stdout",
     "output_type": "stream",
     "text": [
      "Successfully scrape donation from pesantrenquranyatim. Going to scrape the next donation.\n"
     ]
    },
    {
     "name": "stderr",
     "output_type": "stream",
     "text": [
      "/Users/mac/Documents/RU/THESIS/working_thesis/scrape.py:286: FutureWarning: The frame.append method is deprecated and will be removed from pandas in a future version. Use pandas.concat instead.\n",
      "  df_donations_prop = df_donations_prop.append(df)\n"
     ]
    },
    {
     "name": "stdout",
     "output_type": "stream",
     "text": [
      "Successfully scrape donation from doa1000yatim. Going to scrape the next donation.\n"
     ]
    },
    {
     "name": "stderr",
     "output_type": "stream",
     "text": [
      "/Users/mac/Documents/RU/THESIS/working_thesis/scrape.py:286: FutureWarning: The frame.append method is deprecated and will be removed from pandas in a future version. Use pandas.concat instead.\n",
      "  df_donations_prop = df_donations_prop.append(df)\n"
     ]
    },
    {
     "name": "stdout",
     "output_type": "stream",
     "text": [
      "Successfully scrape donation from inemjogja. Going to scrape the next donation.\n"
     ]
    },
    {
     "name": "stderr",
     "output_type": "stream",
     "text": [
      "/Users/mac/Documents/RU/THESIS/working_thesis/scrape.py:286: FutureWarning: The frame.append method is deprecated and will be removed from pandas in a future version. Use pandas.concat instead.\n",
      "  df_donations_prop = df_donations_prop.append(df)\n"
     ]
    },
    {
     "name": "stdout",
     "output_type": "stream",
     "text": [
      "Successfully scrape donation from bantuatifahbangkitkembali. Going to scrape the next donation.\n"
     ]
    },
    {
     "name": "stderr",
     "output_type": "stream",
     "text": [
      "/Users/mac/Documents/RU/THESIS/working_thesis/scrape.py:286: FutureWarning: The frame.append method is deprecated and will be removed from pandas in a future version. Use pandas.concat instead.\n",
      "  df_donations_prop = df_donations_prop.append(df)\n"
     ]
    },
    {
     "name": "stdout",
     "output_type": "stream",
     "text": [
      "Successfully scrape donation from bantudiksetiawan. Going to scrape the next donation.\n"
     ]
    },
    {
     "name": "stderr",
     "output_type": "stream",
     "text": [
      "/Users/mac/Documents/RU/THESIS/working_thesis/scrape.py:286: FutureWarning: The frame.append method is deprecated and will be removed from pandas in a future version. Use pandas.concat instead.\n",
      "  df_donations_prop = df_donations_prop.append(df)\n"
     ]
    },
    {
     "name": "stdout",
     "output_type": "stream",
     "text": [
      "Successfully scrape donation from masjidbanjir. Going to scrape the next donation.\n"
     ]
    },
    {
     "name": "stderr",
     "output_type": "stream",
     "text": [
      "/Users/mac/Documents/RU/THESIS/working_thesis/scrape.py:286: FutureWarning: The frame.append method is deprecated and will be removed from pandas in a future version. Use pandas.concat instead.\n",
      "  df_donations_prop = df_donations_prop.append(df)\n"
     ]
    },
    {
     "name": "stdout",
     "output_type": "stream",
     "text": [
      "Successfully scrape donation from zakatmutiarasurga. Going to scrape the next donation.\n"
     ]
    },
    {
     "name": "stderr",
     "output_type": "stream",
     "text": [
      "/Users/mac/Documents/RU/THESIS/working_thesis/scrape.py:286: FutureWarning: The frame.append method is deprecated and will be removed from pandas in a future version. Use pandas.concat instead.\n",
      "  df_donations_prop = df_donations_prop.append(df)\n"
     ]
    },
    {
     "name": "stdout",
     "output_type": "stream",
     "text": [
      "Successfully scrape donation from galangdanapendidikanbangsa. Going to scrape the next donation.\n"
     ]
    },
    {
     "name": "stderr",
     "output_type": "stream",
     "text": [
      "/Users/mac/Documents/RU/THESIS/working_thesis/scrape.py:286: FutureWarning: The frame.append method is deprecated and will be removed from pandas in a future version. Use pandas.concat instead.\n",
      "  df_donations_prop = df_donations_prop.append(df)\n"
     ]
    },
    {
     "name": "stdout",
     "output_type": "stream",
     "text": [
      "Successfully scrape donation from wakafquranmulia. Going to scrape the next donation.\n"
     ]
    },
    {
     "name": "stderr",
     "output_type": "stream",
     "text": [
      "/Users/mac/Documents/RU/THESIS/working_thesis/scrape.py:286: FutureWarning: The frame.append method is deprecated and will be removed from pandas in a future version. Use pandas.concat instead.\n",
      "  df_donations_prop = df_donations_prop.append(df)\n"
     ]
    },
    {
     "name": "stdout",
     "output_type": "stream",
     "text": [
      "Successfully scrape donation from selamatkanadekakbardaripenyakitnya. Going to scrape the next donation.\n"
     ]
    },
    {
     "name": "stderr",
     "output_type": "stream",
     "text": [
      "/Users/mac/Documents/RU/THESIS/working_thesis/scrape.py:286: FutureWarning: The frame.append method is deprecated and will be removed from pandas in a future version. Use pandas.concat instead.\n",
      "  df_donations_prop = df_donations_prop.append(df)\n"
     ]
    },
    {
     "name": "stdout",
     "output_type": "stream",
     "text": [
      "Successfully scrape donation from zakatim. Going to scrape the next donation.\n"
     ]
    },
    {
     "name": "stderr",
     "output_type": "stream",
     "text": [
      "/Users/mac/Documents/RU/THESIS/working_thesis/scrape.py:286: FutureWarning: The frame.append method is deprecated and will be removed from pandas in a future version. Use pandas.concat instead.\n",
      "  df_donations_prop = df_donations_prop.append(df)\n"
     ]
    },
    {
     "name": "stdout",
     "output_type": "stream",
     "text": [
      "Successfully scrape donation from pendidikan10000yatim. Going to scrape the next donation.\n"
     ]
    },
    {
     "name": "stderr",
     "output_type": "stream",
     "text": [
      "/Users/mac/Documents/RU/THESIS/working_thesis/scrape.py:286: FutureWarning: The frame.append method is deprecated and will be removed from pandas in a future version. Use pandas.concat instead.\n",
      "  df_donations_prop = df_donations_prop.append(df)\n"
     ]
    },
    {
     "name": "stdout",
     "output_type": "stream",
     "text": [
      "Successfully scrape donation from bantuhafizahoperasi. Going to scrape the next donation.\n"
     ]
    },
    {
     "name": "stderr",
     "output_type": "stream",
     "text": [
      "/Users/mac/Documents/RU/THESIS/working_thesis/scrape.py:286: FutureWarning: The frame.append method is deprecated and will be removed from pandas in a future version. Use pandas.concat instead.\n",
      "  df_donations_prop = df_donations_prop.append(df)\n"
     ]
    },
    {
     "name": "stdout",
     "output_type": "stream",
     "text": [
      "Successfully scrape donation from elisagegarotak. Going to scrape the next donation.\n"
     ]
    },
    {
     "name": "stderr",
     "output_type": "stream",
     "text": [
      "/Users/mac/Documents/RU/THESIS/working_thesis/scrape.py:286: FutureWarning: The frame.append method is deprecated and will be removed from pandas in a future version. Use pandas.concat instead.\n",
      "  df_donations_prop = df_donations_prop.append(df)\n"
     ]
    },
    {
     "name": "stdout",
     "output_type": "stream",
     "text": [
      "Successfully scrape donation from bekalanakyatim. Going to scrape the next donation.\n"
     ]
    },
    {
     "name": "stderr",
     "output_type": "stream",
     "text": [
      "/Users/mac/Documents/RU/THESIS/working_thesis/scrape.py:286: FutureWarning: The frame.append method is deprecated and will be removed from pandas in a future version. Use pandas.concat instead.\n",
      "  df_donations_prop = df_donations_prop.append(df)\n"
     ]
    },
    {
     "name": "stdout",
     "output_type": "stream",
     "text": [
      "Successfully scrape donation from senatorhijau. Going to scrape the next donation.\n"
     ]
    },
    {
     "name": "stderr",
     "output_type": "stream",
     "text": [
      "/Users/mac/Documents/RU/THESIS/working_thesis/scrape.py:286: FutureWarning: The frame.append method is deprecated and will be removed from pandas in a future version. Use pandas.concat instead.\n",
      "  df_donations_prop = df_donations_prop.append(df)\n"
     ]
    },
    {
     "name": "stdout",
     "output_type": "stream",
     "text": [
      "Successfully scrape donation from zakat2021. Going to scrape the next donation.\n"
     ]
    },
    {
     "name": "stderr",
     "output_type": "stream",
     "text": [
      "/Users/mac/Documents/RU/THESIS/working_thesis/scrape.py:286: FutureWarning: The frame.append method is deprecated and will be removed from pandas in a future version. Use pandas.concat instead.\n",
      "  df_donations_prop = df_donations_prop.append(df)\n"
     ]
    },
    {
     "name": "stdout",
     "output_type": "stream",
     "text": [
      "Successfully scrape donation from wakaf1jutaalquran. Going to scrape the next donation.\n"
     ]
    },
    {
     "name": "stderr",
     "output_type": "stream",
     "text": [
      "/Users/mac/Documents/RU/THESIS/working_thesis/scrape.py:286: FutureWarning: The frame.append method is deprecated and will be removed from pandas in a future version. Use pandas.concat instead.\n",
      "  df_donations_prop = df_donations_prop.append(df)\n"
     ]
    },
    {
     "name": "stdout",
     "output_type": "stream",
     "text": [
      "Successfully scrape donation from humairasedangkritis. Going to scrape the next donation.\n"
     ]
    },
    {
     "name": "stderr",
     "output_type": "stream",
     "text": [
      "/Users/mac/Documents/RU/THESIS/working_thesis/scrape.py:286: FutureWarning: The frame.append method is deprecated and will be removed from pandas in a future version. Use pandas.concat instead.\n",
      "  df_donations_prop = df_donations_prop.append(df)\n"
     ]
    },
    {
     "name": "stdout",
     "output_type": "stream",
     "text": [
      "Successfully scrape donation from shelternathasatwa. Going to scrape the next donation.\n"
     ]
    },
    {
     "name": "stderr",
     "output_type": "stream",
     "text": [
      "/Users/mac/Documents/RU/THESIS/working_thesis/scrape.py:286: FutureWarning: The frame.append method is deprecated and will be removed from pandas in a future version. Use pandas.concat instead.\n",
      "  df_donations_prop = df_donations_prop.append(df)\n"
     ]
    },
    {
     "name": "stdout",
     "output_type": "stream",
     "text": [
      "Successfully scrape donation from zakatistanayatim. Going to scrape the next donation.\n"
     ]
    },
    {
     "name": "stderr",
     "output_type": "stream",
     "text": [
      "/Users/mac/Documents/RU/THESIS/working_thesis/scrape.py:286: FutureWarning: The frame.append method is deprecated and will be removed from pandas in a future version. Use pandas.concat instead.\n",
      "  df_donations_prop = df_donations_prop.append(df)\n"
     ]
    },
    {
     "name": "stdout",
     "output_type": "stream",
     "text": [
      "Successfully scrape donation from santunananak2bangunasramatahfidz. Going to scrape the next donation.\n"
     ]
    },
    {
     "name": "stderr",
     "output_type": "stream",
     "text": [
      "/Users/mac/Documents/RU/THESIS/working_thesis/scrape.py:286: FutureWarning: The frame.append method is deprecated and will be removed from pandas in a future version. Use pandas.concat instead.\n",
      "  df_donations_prop = df_donations_prop.append(df)\n"
     ]
    },
    {
     "name": "stdout",
     "output_type": "stream",
     "text": [
      "Successfully scrape donation from ydsfalastidurlansia. Going to scrape the next donation.\n"
     ]
    },
    {
     "name": "stderr",
     "output_type": "stream",
     "text": [
      "/Users/mac/Documents/RU/THESIS/working_thesis/scrape.py:286: FutureWarning: The frame.append method is deprecated and will be removed from pandas in a future version. Use pandas.concat instead.\n",
      "  df_donations_prop = df_donations_prop.append(df)\n"
     ]
    },
    {
     "name": "stdout",
     "output_type": "stream",
     "text": [
      "Error when scraping donation from gerejabukitsionboko. Going to scrape the next donation.\n",
      "Successfully scrape donation from zakatbantuyatimfakirmiskintahfizhquran. Going to scrape the next donation.\n"
     ]
    },
    {
     "name": "stderr",
     "output_type": "stream",
     "text": [
      "/Users/mac/Documents/RU/THESIS/working_thesis/scrape.py:286: FutureWarning: The frame.append method is deprecated and will be removed from pandas in a future version. Use pandas.concat instead.\n",
      "  df_donations_prop = df_donations_prop.append(df)\n"
     ]
    },
    {
     "name": "stdout",
     "output_type": "stream",
     "text": [
      "Successfully scrape donation from tahfidzpertamabali. Going to scrape the next donation.\n"
     ]
    },
    {
     "name": "stderr",
     "output_type": "stream",
     "text": [
      "/Users/mac/Documents/RU/THESIS/working_thesis/scrape.py:286: FutureWarning: The frame.append method is deprecated and will be removed from pandas in a future version. Use pandas.concat instead.\n",
      "  df_donations_prop = df_donations_prop.append(df)\n"
     ]
    },
    {
     "name": "stdout",
     "output_type": "stream",
     "text": [
      "Successfully scrape donation from gojekbantuyatim. Going to scrape the next donation.\n"
     ]
    },
    {
     "name": "stderr",
     "output_type": "stream",
     "text": [
      "/Users/mac/Documents/RU/THESIS/working_thesis/scrape.py:286: FutureWarning: The frame.append method is deprecated and will be removed from pandas in a future version. Use pandas.concat instead.\n",
      "  df_donations_prop = df_donations_prop.append(df)\n"
     ]
    },
    {
     "name": "stdout",
     "output_type": "stream",
     "text": [
      "Successfully scrape donation from untukanakindonesia. Going to scrape the next donation.\n"
     ]
    },
    {
     "name": "stderr",
     "output_type": "stream",
     "text": [
      "/Users/mac/Documents/RU/THESIS/working_thesis/scrape.py:286: FutureWarning: The frame.append method is deprecated and will be removed from pandas in a future version. Use pandas.concat instead.\n",
      "  df_donations_prop = df_donations_prop.append(df)\n"
     ]
    },
    {
     "name": "stdout",
     "output_type": "stream",
     "text": [
      "Successfully scrape donation from bantulansiapantijompo. Going to scrape the next donation.\n"
     ]
    },
    {
     "name": "stderr",
     "output_type": "stream",
     "text": [
      "/Users/mac/Documents/RU/THESIS/working_thesis/scrape.py:286: FutureWarning: The frame.append method is deprecated and will be removed from pandas in a future version. Use pandas.concat instead.\n",
      "  df_donations_prop = df_donations_prop.append(df)\n"
     ]
    },
    {
     "name": "stdout",
     "output_type": "stream",
     "text": [
      "Successfully scrape donation from awalbangunsedekahsubuhpantiasuhan. Going to scrape the next donation.\n"
     ]
    },
    {
     "name": "stderr",
     "output_type": "stream",
     "text": [
      "/Users/mac/Documents/RU/THESIS/working_thesis/scrape.py:286: FutureWarning: The frame.append method is deprecated and will be removed from pandas in a future version. Use pandas.concat instead.\n",
      "  df_donations_prop = df_donations_prop.append(df)\n"
     ]
    },
    {
     "name": "stdout",
     "output_type": "stream",
     "text": [
      "Successfully scrape donation from mukenapelosok. Going to scrape the next donation.\n"
     ]
    },
    {
     "name": "stderr",
     "output_type": "stream",
     "text": [
      "/Users/mac/Documents/RU/THESIS/working_thesis/scrape.py:286: FutureWarning: The frame.append method is deprecated and will be removed from pandas in a future version. Use pandas.concat instead.\n",
      "  df_donations_prop = df_donations_prop.append(df)\n"
     ]
    },
    {
     "name": "stdout",
     "output_type": "stream",
     "text": [
      "Successfully scrape donation from bantumuslimpalestina. Going to scrape the next donation.\n"
     ]
    },
    {
     "name": "stderr",
     "output_type": "stream",
     "text": [
      "/Users/mac/Documents/RU/THESIS/working_thesis/scrape.py:286: FutureWarning: The frame.append method is deprecated and will be removed from pandas in a future version. Use pandas.concat instead.\n",
      "  df_donations_prop = df_donations_prop.append(df)\n"
     ]
    },
    {
     "name": "stdout",
     "output_type": "stream",
     "text": [
      "Successfully scrape donation from bisawakafquran. Going to scrape the next donation.\n"
     ]
    },
    {
     "name": "stderr",
     "output_type": "stream",
     "text": [
      "/Users/mac/Documents/RU/THESIS/working_thesis/scrape.py:286: FutureWarning: The frame.append method is deprecated and will be removed from pandas in a future version. Use pandas.concat instead.\n",
      "  df_donations_prop = df_donations_prop.append(df)\n"
     ]
    },
    {
     "name": "stdout",
     "output_type": "stream",
     "text": [
      "Successfully scrape donation from kapalindonesiabarat. Going to scrape the next donation.\n"
     ]
    },
    {
     "name": "stderr",
     "output_type": "stream",
     "text": [
      "/Users/mac/Documents/RU/THESIS/working_thesis/scrape.py:286: FutureWarning: The frame.append method is deprecated and will be removed from pandas in a future version. Use pandas.concat instead.\n",
      "  df_donations_prop = df_donations_prop.append(df)\n"
     ]
    },
    {
     "name": "stdout",
     "output_type": "stream",
     "text": [
      "Successfully scrape donation from kirimbudi. Going to scrape the next donation.\n"
     ]
    },
    {
     "name": "stderr",
     "output_type": "stream",
     "text": [
      "/Users/mac/Documents/RU/THESIS/working_thesis/scrape.py:286: FutureWarning: The frame.append method is deprecated and will be removed from pandas in a future version. Use pandas.concat instead.\n",
      "  df_donations_prop = df_donations_prop.append(df)\n"
     ]
    },
    {
     "name": "stdout",
     "output_type": "stream",
     "text": [
      "Successfully scrape donation from berbagimakanan. Going to scrape the next donation.\n"
     ]
    },
    {
     "name": "stderr",
     "output_type": "stream",
     "text": [
      "/Users/mac/Documents/RU/THESIS/working_thesis/scrape.py:286: FutureWarning: The frame.append method is deprecated and will be removed from pandas in a future version. Use pandas.concat instead.\n",
      "  df_donations_prop = df_donations_prop.append(df)\n"
     ]
    },
    {
     "name": "stdout",
     "output_type": "stream",
     "text": [
      "Successfully scrape donation from mbkbantusyukron. Going to scrape the next donation.\n"
     ]
    },
    {
     "name": "stderr",
     "output_type": "stream",
     "text": [
      "/Users/mac/Documents/RU/THESIS/working_thesis/scrape.py:286: FutureWarning: The frame.append method is deprecated and will be removed from pandas in a future version. Use pandas.concat instead.\n",
      "  df_donations_prop = df_donations_prop.append(df)\n"
     ]
    },
    {
     "name": "stdout",
     "output_type": "stream",
     "text": [
      "Successfully scrape donation from pembangunanapinailulmuna22. Going to scrape the next donation.\n"
     ]
    },
    {
     "name": "stderr",
     "output_type": "stream",
     "text": [
      "/Users/mac/Documents/RU/THESIS/working_thesis/scrape.py:286: FutureWarning: The frame.append method is deprecated and will be removed from pandas in a future version. Use pandas.concat instead.\n",
      "  df_donations_prop = df_donations_prop.append(df)\n"
     ]
    },
    {
     "name": "stdout",
     "output_type": "stream",
     "text": [
      "Successfully scrape donation from ambulanuntukpelosok. Going to scrape the next donation.\n"
     ]
    },
    {
     "name": "stderr",
     "output_type": "stream",
     "text": [
      "/Users/mac/Documents/RU/THESIS/working_thesis/scrape.py:286: FutureWarning: The frame.append method is deprecated and will be removed from pandas in a future version. Use pandas.concat instead.\n",
      "  df_donations_prop = df_donations_prop.append(df)\n"
     ]
    },
    {
     "name": "stdout",
     "output_type": "stream",
     "text": [
      "Successfully scrape donation from bantupantiroslin. Going to scrape the next donation.\n"
     ]
    },
    {
     "name": "stderr",
     "output_type": "stream",
     "text": [
      "/Users/mac/Documents/RU/THESIS/working_thesis/scrape.py:286: FutureWarning: The frame.append method is deprecated and will be removed from pandas in a future version. Use pandas.concat instead.\n",
      "  df_donations_prop = df_donations_prop.append(df)\n"
     ]
    },
    {
     "name": "stdout",
     "output_type": "stream",
     "text": [
      "Successfully scrape donation from dukunganbagisantripelosok. Going to scrape the next donation.\n"
     ]
    },
    {
     "name": "stderr",
     "output_type": "stream",
     "text": [
      "/Users/mac/Documents/RU/THESIS/working_thesis/scrape.py:286: FutureWarning: The frame.append method is deprecated and will be removed from pandas in a future version. Use pandas.concat instead.\n",
      "  df_donations_prop = df_donations_prop.append(df)\n"
     ]
    },
    {
     "name": "stdout",
     "output_type": "stream",
     "text": [
      "Successfully scrape donation from zakatbinaanfakirmiskindansantridhuafa. Going to scrape the next donation.\n"
     ]
    },
    {
     "name": "stderr",
     "output_type": "stream",
     "text": [
      "/Users/mac/Documents/RU/THESIS/working_thesis/scrape.py:286: FutureWarning: The frame.append method is deprecated and will be removed from pandas in a future version. Use pandas.concat instead.\n",
      "  df_donations_prop = df_donations_prop.append(df)\n"
     ]
    },
    {
     "name": "stdout",
     "output_type": "stream",
     "text": [
      "Successfully scrape donation from knjakarta. Going to scrape the next donation.\n"
     ]
    },
    {
     "name": "stderr",
     "output_type": "stream",
     "text": [
      "/Users/mac/Documents/RU/THESIS/working_thesis/scrape.py:286: FutureWarning: The frame.append method is deprecated and will be removed from pandas in a future version. Use pandas.concat instead.\n",
      "  df_donations_prop = df_donations_prop.append(df)\n"
     ]
    },
    {
     "name": "stdout",
     "output_type": "stream",
     "text": [
      "Successfully scrape donation from bertaawun. Going to scrape the next donation.\n"
     ]
    },
    {
     "name": "stderr",
     "output_type": "stream",
     "text": [
      "/Users/mac/Documents/RU/THESIS/working_thesis/scrape.py:286: FutureWarning: The frame.append method is deprecated and will be removed from pandas in a future version. Use pandas.concat instead.\n",
      "  df_donations_prop = df_donations_prop.append(df)\n"
     ]
    },
    {
     "name": "stdout",
     "output_type": "stream",
     "text": [
      "Successfully scrape donation from bantumasjidpq2. Going to scrape the next donation.\n"
     ]
    },
    {
     "name": "stderr",
     "output_type": "stream",
     "text": [
      "/Users/mac/Documents/RU/THESIS/working_thesis/scrape.py:286: FutureWarning: The frame.append method is deprecated and will be removed from pandas in a future version. Use pandas.concat instead.\n",
      "  df_donations_prop = df_donations_prop.append(df)\n"
     ]
    },
    {
     "name": "stdout",
     "output_type": "stream",
     "text": [
      "Successfully scrape donation from ponpesdaarulikhlas. Going to scrape the next donation.\n"
     ]
    },
    {
     "name": "stderr",
     "output_type": "stream",
     "text": [
      "/Users/mac/Documents/RU/THESIS/working_thesis/scrape.py:286: FutureWarning: The frame.append method is deprecated and will be removed from pandas in a future version. Use pandas.concat instead.\n",
      "  df_donations_prop = df_donations_prop.append(df)\n"
     ]
    },
    {
     "name": "stdout",
     "output_type": "stream",
     "text": [
      "Successfully scrape donation from sedekahsubuhdarurattebinglongsor. Going to scrape the next donation.\n"
     ]
    },
    {
     "name": "stderr",
     "output_type": "stream",
     "text": [
      "/Users/mac/Documents/RU/THESIS/working_thesis/scrape.py:286: FutureWarning: The frame.append method is deprecated and will be removed from pandas in a future version. Use pandas.concat instead.\n",
      "  df_donations_prop = df_donations_prop.append(df)\n"
     ]
    },
    {
     "name": "stdout",
     "output_type": "stream",
     "text": [
      "Successfully scrape donation from sedekahbaznas. Going to scrape the next donation.\n"
     ]
    },
    {
     "name": "stderr",
     "output_type": "stream",
     "text": [
      "/Users/mac/Documents/RU/THESIS/working_thesis/scrape.py:286: FutureWarning: The frame.append method is deprecated and will be removed from pandas in a future version. Use pandas.concat instead.\n",
      "  df_donations_prop = df_donations_prop.append(df)\n"
     ]
    },
    {
     "name": "stdout",
     "output_type": "stream",
     "text": [
      "Successfully scrape donation from alirkankebaikanselamatkanribuankucingjalanan. Going to scrape the next donation.\n"
     ]
    },
    {
     "name": "stderr",
     "output_type": "stream",
     "text": [
      "/Users/mac/Documents/RU/THESIS/working_thesis/scrape.py:286: FutureWarning: The frame.append method is deprecated and will be removed from pandas in a future version. Use pandas.concat instead.\n",
      "  df_donations_prop = df_donations_prop.append(df)\n"
     ]
    },
    {
     "name": "stdout",
     "output_type": "stream",
     "text": [
      "Successfully scrape donation from wakaftanahuntukpembangunanponpesyatim. Going to scrape the next donation.\n"
     ]
    },
    {
     "name": "stderr",
     "output_type": "stream",
     "text": [
      "/Users/mac/Documents/RU/THESIS/working_thesis/scrape.py:286: FutureWarning: The frame.append method is deprecated and will be removed from pandas in a future version. Use pandas.concat instead.\n",
      "  df_donations_prop = df_donations_prop.append(df)\n"
     ]
    },
    {
     "name": "stdout",
     "output_type": "stream",
     "text": [
      "Successfully scrape donation from bangun100aksesairminumdansanitasi. Going to scrape the next donation.\n"
     ]
    },
    {
     "name": "stderr",
     "output_type": "stream",
     "text": [
      "/Users/mac/Documents/RU/THESIS/working_thesis/scrape.py:286: FutureWarning: The frame.append method is deprecated and will be removed from pandas in a future version. Use pandas.concat instead.\n",
      "  df_donations_prop = df_donations_prop.append(df)\n"
     ]
    },
    {
     "name": "stdout",
     "output_type": "stream",
     "text": [
      "Successfully scrape donation from waqafalquranbs. Going to scrape the next donation.\n"
     ]
    },
    {
     "name": "stderr",
     "output_type": "stream",
     "text": [
      "/Users/mac/Documents/RU/THESIS/working_thesis/scrape.py:286: FutureWarning: The frame.append method is deprecated and will be removed from pandas in a future version. Use pandas.concat instead.\n",
      "  df_donations_prop = df_donations_prop.append(df)\n"
     ]
    },
    {
     "name": "stdout",
     "output_type": "stream",
     "text": [
      "Successfully scrape donation from sahabatcintaanakyatim. Going to scrape the next donation.\n"
     ]
    },
    {
     "name": "stderr",
     "output_type": "stream",
     "text": [
      "/Users/mac/Documents/RU/THESIS/working_thesis/scrape.py:286: FutureWarning: The frame.append method is deprecated and will be removed from pandas in a future version. Use pandas.concat instead.\n",
      "  df_donations_prop = df_donations_prop.append(df)\n"
     ]
    },
    {
     "name": "stdout",
     "output_type": "stream",
     "text": [
      "Successfully scrape donation from bantuadekmazanioperasi. Going to scrape the next donation.\n"
     ]
    },
    {
     "name": "stderr",
     "output_type": "stream",
     "text": [
      "/Users/mac/Documents/RU/THESIS/working_thesis/scrape.py:286: FutureWarning: The frame.append method is deprecated and will be removed from pandas in a future version. Use pandas.concat instead.\n",
      "  df_donations_prop = df_donations_prop.append(df)\n"
     ]
    },
    {
     "name": "stdout",
     "output_type": "stream",
     "text": [
      "Successfully scrape donation from bantusanitasi. Going to scrape the next donation.\n"
     ]
    },
    {
     "name": "stderr",
     "output_type": "stream",
     "text": [
      "/Users/mac/Documents/RU/THESIS/working_thesis/scrape.py:286: FutureWarning: The frame.append method is deprecated and will be removed from pandas in a future version. Use pandas.concat instead.\n",
      "  df_donations_prop = df_donations_prop.append(df)\n"
     ]
    },
    {
     "name": "stdout",
     "output_type": "stream",
     "text": [
      "Successfully scrape donation from sumurdaerahpedalaman. Going to scrape the next donation.\n"
     ]
    },
    {
     "name": "stderr",
     "output_type": "stream",
     "text": [
      "/Users/mac/Documents/RU/THESIS/working_thesis/scrape.py:286: FutureWarning: The frame.append method is deprecated and will be removed from pandas in a future version. Use pandas.concat instead.\n",
      "  df_donations_prop = df_donations_prop.append(df)\n"
     ]
    },
    {
     "name": "stdout",
     "output_type": "stream",
     "text": [
      "Successfully scrape donation from catsheltercirebon. Going to scrape the next donation.\n"
     ]
    },
    {
     "name": "stderr",
     "output_type": "stream",
     "text": [
      "/Users/mac/Documents/RU/THESIS/working_thesis/scrape.py:286: FutureWarning: The frame.append method is deprecated and will be removed from pandas in a future version. Use pandas.concat instead.\n",
      "  df_donations_prop = df_donations_prop.append(df)\n"
     ]
    },
    {
     "name": "stdout",
     "output_type": "stream",
     "text": [
      "Successfully scrape donation from tolongkucingluka. Going to scrape the next donation.\n"
     ]
    },
    {
     "name": "stderr",
     "output_type": "stream",
     "text": [
      "/Users/mac/Documents/RU/THESIS/working_thesis/scrape.py:286: FutureWarning: The frame.append method is deprecated and will be removed from pandas in a future version. Use pandas.concat instead.\n",
      "  df_donations_prop = df_donations_prop.append(df)\n"
     ]
    },
    {
     "name": "stdout",
     "output_type": "stream",
     "text": [
      "Successfully scrape donation from yckgbantunenekfatma. Going to scrape the next donation.\n"
     ]
    },
    {
     "name": "stderr",
     "output_type": "stream",
     "text": [
      "/Users/mac/Documents/RU/THESIS/working_thesis/scrape.py:286: FutureWarning: The frame.append method is deprecated and will be removed from pandas in a future version. Use pandas.concat instead.\n",
      "  df_donations_prop = df_donations_prop.append(df)\n"
     ]
    },
    {
     "name": "stdout",
     "output_type": "stream",
     "text": [
      "Successfully scrape donation from zakatmalsucikanhartasejahterkanparaasnaf. Going to scrape the next donation.\n"
     ]
    },
    {
     "name": "stderr",
     "output_type": "stream",
     "text": [
      "/Users/mac/Documents/RU/THESIS/working_thesis/scrape.py:286: FutureWarning: The frame.append method is deprecated and will be removed from pandas in a future version. Use pandas.concat instead.\n",
      "  df_donations_prop = df_donations_prop.append(df)\n"
     ]
    },
    {
     "name": "stdout",
     "output_type": "stream",
     "text": [
      "Successfully scrape donation from berbagibensinwarga. Going to scrape the next donation.\n"
     ]
    },
    {
     "name": "stderr",
     "output_type": "stream",
     "text": [
      "/Users/mac/Documents/RU/THESIS/working_thesis/scrape.py:286: FutureWarning: The frame.append method is deprecated and will be removed from pandas in a future version. Use pandas.concat instead.\n",
      "  df_donations_prop = df_donations_prop.append(df)\n"
     ]
    },
    {
     "name": "stdout",
     "output_type": "stream",
     "text": [
      "Successfully scrape donation from berkahinegeri. Going to scrape the next donation.\n"
     ]
    },
    {
     "name": "stderr",
     "output_type": "stream",
     "text": [
      "/Users/mac/Documents/RU/THESIS/working_thesis/scrape.py:286: FutureWarning: The frame.append method is deprecated and will be removed from pandas in a future version. Use pandas.concat instead.\n",
      "  df_donations_prop = df_donations_prop.append(df)\n"
     ]
    },
    {
     "name": "stdout",
     "output_type": "stream",
     "text": [
      "Successfully scrape donation from bantukebutuhangizidekaisya. Going to scrape the next donation.\n"
     ]
    },
    {
     "name": "stderr",
     "output_type": "stream",
     "text": [
      "/Users/mac/Documents/RU/THESIS/working_thesis/scrape.py:286: FutureWarning: The frame.append method is deprecated and will be removed from pandas in a future version. Use pandas.concat instead.\n",
      "  df_donations_prop = df_donations_prop.append(df)\n"
     ]
    },
    {
     "name": "stdout",
     "output_type": "stream",
     "text": [
      "Successfully scrape donation from ponpestahfizd. Going to scrape the next donation.\n"
     ]
    },
    {
     "name": "stderr",
     "output_type": "stream",
     "text": [
      "/Users/mac/Documents/RU/THESIS/working_thesis/scrape.py:286: FutureWarning: The frame.append method is deprecated and will be removed from pandas in a future version. Use pandas.concat instead.\n",
      "  df_donations_prop = df_donations_prop.append(df)\n"
     ]
    },
    {
     "name": "stdout",
     "output_type": "stream",
     "text": [
      "Successfully scrape donation from shelterditeror. Going to scrape the next donation.\n"
     ]
    },
    {
     "name": "stderr",
     "output_type": "stream",
     "text": [
      "/Users/mac/Documents/RU/THESIS/working_thesis/scrape.py:286: FutureWarning: The frame.append method is deprecated and will be removed from pandas in a future version. Use pandas.concat instead.\n",
      "  df_donations_prop = df_donations_prop.append(df)\n"
     ]
    },
    {
     "name": "stdout",
     "output_type": "stream",
     "text": [
      "Successfully scrape donation from infaqyatimberbagi. Going to scrape the next donation.\n"
     ]
    },
    {
     "name": "stderr",
     "output_type": "stream",
     "text": [
      "/Users/mac/Documents/RU/THESIS/working_thesis/scrape.py:286: FutureWarning: The frame.append method is deprecated and will be removed from pandas in a future version. Use pandas.concat instead.\n",
      "  df_donations_prop = df_donations_prop.append(df)\n"
     ]
    },
    {
     "name": "stdout",
     "output_type": "stream",
     "text": [
      "Successfully scrape donation from modalpetani. Going to scrape the next donation.\n"
     ]
    },
    {
     "name": "stderr",
     "output_type": "stream",
     "text": [
      "/Users/mac/Documents/RU/THESIS/working_thesis/scrape.py:286: FutureWarning: The frame.append method is deprecated and will be removed from pandas in a future version. Use pandas.concat instead.\n",
      "  df_donations_prop = df_donations_prop.append(df)\n"
     ]
    },
    {
     "name": "stdout",
     "output_type": "stream",
     "text": [
      "Successfully scrape donation from zakatsenyumkita. Going to scrape the next donation.\n"
     ]
    },
    {
     "name": "stderr",
     "output_type": "stream",
     "text": [
      "/Users/mac/Documents/RU/THESIS/working_thesis/scrape.py:286: FutureWarning: The frame.append method is deprecated and will be removed from pandas in a future version. Use pandas.concat instead.\n",
      "  df_donations_prop = df_donations_prop.append(df)\n"
     ]
    },
    {
     "name": "stdout",
     "output_type": "stream",
     "text": [
      "Successfully scrape donation from sedekahjariyahuntuk40anakasuh. Going to scrape the next donation.\n"
     ]
    },
    {
     "name": "stderr",
     "output_type": "stream",
     "text": [
      "/Users/mac/Documents/RU/THESIS/working_thesis/scrape.py:286: FutureWarning: The frame.append method is deprecated and will be removed from pandas in a future version. Use pandas.concat instead.\n",
      "  df_donations_prop = df_donations_prop.append(df)\n"
     ]
    },
    {
     "name": "stdout",
     "output_type": "stream",
     "text": [
      "Successfully scrape donation from savenusakambangan. Going to scrape the next donation.\n"
     ]
    },
    {
     "name": "stderr",
     "output_type": "stream",
     "text": [
      "/Users/mac/Documents/RU/THESIS/working_thesis/scrape.py:286: FutureWarning: The frame.append method is deprecated and will be removed from pandas in a future version. Use pandas.concat instead.\n",
      "  df_donations_prop = df_donations_prop.append(df)\n"
     ]
    },
    {
     "name": "stdout",
     "output_type": "stream",
     "text": [
      "Successfully scrape donation from banturayyanbhayanaka. Going to scrape the next donation.\n"
     ]
    },
    {
     "name": "stderr",
     "output_type": "stream",
     "text": [
      "/Users/mac/Documents/RU/THESIS/working_thesis/scrape.py:286: FutureWarning: The frame.append method is deprecated and will be removed from pandas in a future version. Use pandas.concat instead.\n",
      "  df_donations_prop = df_donations_prop.append(df)\n"
     ]
    },
    {
     "name": "stdout",
     "output_type": "stream",
     "text": [
      "Successfully scrape donation from petanipengrajinlokal. Going to scrape the next donation.\n"
     ]
    },
    {
     "name": "stderr",
     "output_type": "stream",
     "text": [
      "/Users/mac/Documents/RU/THESIS/working_thesis/scrape.py:286: FutureWarning: The frame.append method is deprecated and will be removed from pandas in a future version. Use pandas.concat instead.\n",
      "  df_donations_prop = df_donations_prop.append(df)\n"
     ]
    },
    {
     "name": "stdout",
     "output_type": "stream",
     "text": [
      "Successfully scrape donation from maritolonganabul. Going to scrape the next donation.\n"
     ]
    },
    {
     "name": "stderr",
     "output_type": "stream",
     "text": [
      "/Users/mac/Documents/RU/THESIS/working_thesis/scrape.py:286: FutureWarning: The frame.append method is deprecated and will be removed from pandas in a future version. Use pandas.concat instead.\n",
      "  df_donations_prop = df_donations_prop.append(df)\n"
     ]
    },
    {
     "name": "stdout",
     "output_type": "stream",
     "text": [
      "Successfully scrape donation from asramasantriciamis. Going to scrape the next donation.\n"
     ]
    },
    {
     "name": "stderr",
     "output_type": "stream",
     "text": [
      "/Users/mac/Documents/RU/THESIS/working_thesis/scrape.py:286: FutureWarning: The frame.append method is deprecated and will be removed from pandas in a future version. Use pandas.concat instead.\n",
      "  df_donations_prop = df_donations_prop.append(df)\n"
     ]
    },
    {
     "name": "stdout",
     "output_type": "stream",
     "text": [
      "Successfully scrape donation from zakatberdayakanyatimdhuafatahfidzalquran. Going to scrape the next donation.\n"
     ]
    },
    {
     "name": "stderr",
     "output_type": "stream",
     "text": [
      "/Users/mac/Documents/RU/THESIS/working_thesis/scrape.py:286: FutureWarning: The frame.append method is deprecated and will be removed from pandas in a future version. Use pandas.concat instead.\n",
      "  df_donations_prop = df_donations_prop.append(df)\n"
     ]
    },
    {
     "name": "stdout",
     "output_type": "stream",
     "text": [
      "Successfully scrape donation from bantupendidikan. Going to scrape the next donation.\n"
     ]
    },
    {
     "name": "stderr",
     "output_type": "stream",
     "text": [
      "/Users/mac/Documents/RU/THESIS/working_thesis/scrape.py:286: FutureWarning: The frame.append method is deprecated and will be removed from pandas in a future version. Use pandas.concat instead.\n",
      "  df_donations_prop = df_donations_prop.append(df)\n"
     ]
    },
    {
     "name": "stdout",
     "output_type": "stream",
     "text": [
      "Successfully scrape donation from wakaftanahpesantren. Going to scrape the next donation.\n"
     ]
    },
    {
     "name": "stderr",
     "output_type": "stream",
     "text": [
      "/Users/mac/Documents/RU/THESIS/working_thesis/scrape.py:286: FutureWarning: The frame.append method is deprecated and will be removed from pandas in a future version. Use pandas.concat instead.\n",
      "  df_donations_prop = df_donations_prop.append(df)\n"
     ]
    },
    {
     "name": "stdout",
     "output_type": "stream",
     "text": [
      "Successfully scrape donation from bisanolonglansia. Going to scrape the next donation.\n"
     ]
    },
    {
     "name": "stderr",
     "output_type": "stream",
     "text": [
      "/Users/mac/Documents/RU/THESIS/working_thesis/scrape.py:286: FutureWarning: The frame.append method is deprecated and will be removed from pandas in a future version. Use pandas.concat instead.\n",
      "  df_donations_prop = df_donations_prop.append(df)\n"
     ]
    },
    {
     "name": "stdout",
     "output_type": "stream",
     "text": [
      "Successfully scrape donation from komunitastaufan. Going to scrape the next donation.\n"
     ]
    },
    {
     "name": "stderr",
     "output_type": "stream",
     "text": [
      "/Users/mac/Documents/RU/THESIS/working_thesis/scrape.py:286: FutureWarning: The frame.append method is deprecated and will be removed from pandas in a future version. Use pandas.concat instead.\n",
      "  df_donations_prop = df_donations_prop.append(df)\n"
     ]
    },
    {
     "name": "stdout",
     "output_type": "stream",
     "text": [
      "Successfully scrape donation from nasibungkusindah. Going to scrape the next donation.\n"
     ]
    },
    {
     "name": "stderr",
     "output_type": "stream",
     "text": [
      "/Users/mac/Documents/RU/THESIS/working_thesis/scrape.py:286: FutureWarning: The frame.append method is deprecated and will be removed from pandas in a future version. Use pandas.concat instead.\n",
      "  df_donations_prop = df_donations_prop.append(df)\n"
     ]
    },
    {
     "name": "stdout",
     "output_type": "stream",
     "text": [
      "Successfully scrape donation from rumahharapantapos. Going to scrape the next donation.\n"
     ]
    },
    {
     "name": "stderr",
     "output_type": "stream",
     "text": [
      "/Users/mac/Documents/RU/THESIS/working_thesis/scrape.py:286: FutureWarning: The frame.append method is deprecated and will be removed from pandas in a future version. Use pandas.concat instead.\n",
      "  df_donations_prop = df_donations_prop.append(df)\n"
     ]
    },
    {
     "name": "stdout",
     "output_type": "stream",
     "text": [
      "Successfully scrape donation from bangunmasjidpertamapulaubajo. Going to scrape the next donation.\n"
     ]
    },
    {
     "name": "stderr",
     "output_type": "stream",
     "text": [
      "/Users/mac/Documents/RU/THESIS/working_thesis/scrape.py:286: FutureWarning: The frame.append method is deprecated and will be removed from pandas in a future version. Use pandas.concat instead.\n",
      "  df_donations_prop = df_donations_prop.append(df)\n"
     ]
    },
    {
     "name": "stdout",
     "output_type": "stream",
     "text": [
      "Successfully scrape donation from bantupendidikansdn07. Going to scrape the next donation.\n"
     ]
    },
    {
     "name": "stderr",
     "output_type": "stream",
     "text": [
      "/Users/mac/Documents/RU/THESIS/working_thesis/scrape.py:286: FutureWarning: The frame.append method is deprecated and will be removed from pandas in a future version. Use pandas.concat instead.\n",
      "  df_donations_prop = df_donations_prop.append(df)\n"
     ]
    },
    {
     "name": "stdout",
     "output_type": "stream",
     "text": [
      "Successfully scrape donation from bisausaha. Going to scrape the next donation.\n"
     ]
    },
    {
     "name": "stderr",
     "output_type": "stream",
     "text": [
      "/Users/mac/Documents/RU/THESIS/working_thesis/scrape.py:286: FutureWarning: The frame.append method is deprecated and will be removed from pandas in a future version. Use pandas.concat instead.\n",
      "  df_donations_prop = df_donations_prop.append(df)\n"
     ]
    },
    {
     "name": "stdout",
     "output_type": "stream",
     "text": [
      "Successfully scrape donation from yuksedekahpagi. Going to scrape the next donation.\n"
     ]
    },
    {
     "name": "stderr",
     "output_type": "stream",
     "text": [
      "/Users/mac/Documents/RU/THESIS/working_thesis/scrape.py:286: FutureWarning: The frame.append method is deprecated and will be removed from pandas in a future version. Use pandas.concat instead.\n",
      "  df_donations_prop = df_donations_prop.append(df)\n"
     ]
    },
    {
     "name": "stdout",
     "output_type": "stream",
     "text": [
      "Successfully scrape donation from bisabangkitgarut2022. Going to scrape the next donation.\n"
     ]
    },
    {
     "name": "stderr",
     "output_type": "stream",
     "text": [
      "/Users/mac/Documents/RU/THESIS/working_thesis/scrape.py:286: FutureWarning: The frame.append method is deprecated and will be removed from pandas in a future version. Use pandas.concat instead.\n",
      "  df_donations_prop = df_donations_prop.append(df)\n"
     ]
    },
    {
     "name": "stdout",
     "output_type": "stream",
     "text": [
      "Successfully scrape donation from zakatbantuyatimdhuafajompodanfiisabiililah. Going to scrape the next donation.\n"
     ]
    },
    {
     "name": "stderr",
     "output_type": "stream",
     "text": [
      "/Users/mac/Documents/RU/THESIS/working_thesis/scrape.py:286: FutureWarning: The frame.append method is deprecated and will be removed from pandas in a future version. Use pandas.concat instead.\n",
      "  df_donations_prop = df_donations_prop.append(df)\n"
     ]
    },
    {
     "name": "stdout",
     "output_type": "stream",
     "text": [
      "Successfully scrape donation from foodcyclehub. Going to scrape the next donation.\n"
     ]
    },
    {
     "name": "stderr",
     "output_type": "stream",
     "text": [
      "/Users/mac/Documents/RU/THESIS/working_thesis/scrape.py:286: FutureWarning: The frame.append method is deprecated and will be removed from pandas in a future version. Use pandas.concat instead.\n",
      "  df_donations_prop = df_donations_prop.append(df)\n"
     ]
    },
    {
     "name": "stdout",
     "output_type": "stream",
     "text": [
      "Successfully scrape donation from dkmbangunmusholah. Going to scrape the next donation.\n"
     ]
    },
    {
     "name": "stderr",
     "output_type": "stream",
     "text": [
      "/Users/mac/Documents/RU/THESIS/working_thesis/scrape.py:286: FutureWarning: The frame.append method is deprecated and will be removed from pandas in a future version. Use pandas.concat instead.\n",
      "  df_donations_prop = df_donations_prop.append(df)\n"
     ]
    },
    {
     "name": "stdout",
     "output_type": "stream",
     "text": [
      "Successfully scrape donation from orangtuatunanetra. Going to scrape the next donation.\n"
     ]
    },
    {
     "name": "stderr",
     "output_type": "stream",
     "text": [
      "/Users/mac/Documents/RU/THESIS/working_thesis/scrape.py:286: FutureWarning: The frame.append method is deprecated and will be removed from pandas in a future version. Use pandas.concat instead.\n",
      "  df_donations_prop = df_donations_prop.append(df)\n"
     ]
    },
    {
     "name": "stdout",
     "output_type": "stream",
     "text": [
      "Successfully scrape donation from zakatyagin. Going to scrape the next donation.\n"
     ]
    },
    {
     "name": "stderr",
     "output_type": "stream",
     "text": [
      "/Users/mac/Documents/RU/THESIS/working_thesis/scrape.py:286: FutureWarning: The frame.append method is deprecated and will be removed from pandas in a future version. Use pandas.concat instead.\n",
      "  df_donations_prop = df_donations_prop.append(df)\n"
     ]
    },
    {
     "name": "stdout",
     "output_type": "stream",
     "text": [
      "Successfully scrape donation from dukunganuntuksembuh. Going to scrape the next donation.\n"
     ]
    },
    {
     "name": "stderr",
     "output_type": "stream",
     "text": [
      "/Users/mac/Documents/RU/THESIS/working_thesis/scrape.py:286: FutureWarning: The frame.append method is deprecated and will be removed from pandas in a future version. Use pandas.concat instead.\n",
      "  df_donations_prop = df_donations_prop.append(df)\n"
     ]
    },
    {
     "name": "stdout",
     "output_type": "stream",
     "text": [
      "Successfully scrape donation from patunganmembelipetimati. Going to scrape the next donation.\n"
     ]
    },
    {
     "name": "stderr",
     "output_type": "stream",
     "text": [
      "/Users/mac/Documents/RU/THESIS/working_thesis/scrape.py:286: FutureWarning: The frame.append method is deprecated and will be removed from pandas in a future version. Use pandas.concat instead.\n",
      "  df_donations_prop = df_donations_prop.append(df)\n"
     ]
    },
    {
     "name": "stdout",
     "output_type": "stream",
     "text": [
      "Successfully scrape donation from santritahfidzdhuafa. Going to scrape the next donation.\n"
     ]
    },
    {
     "name": "stderr",
     "output_type": "stream",
     "text": [
      "/Users/mac/Documents/RU/THESIS/working_thesis/scrape.py:286: FutureWarning: The frame.append method is deprecated and will be removed from pandas in a future version. Use pandas.concat instead.\n",
      "  df_donations_prop = df_donations_prop.append(df)\n"
     ]
    },
    {
     "name": "stdout",
     "output_type": "stream",
     "text": [
      "Successfully scrape donation from infaquntuk350anakyatimpenghapalalquran. Going to scrape the next donation.\n"
     ]
    },
    {
     "name": "stderr",
     "output_type": "stream",
     "text": [
      "/Users/mac/Documents/RU/THESIS/working_thesis/scrape.py:286: FutureWarning: The frame.append method is deprecated and will be removed from pandas in a future version. Use pandas.concat instead.\n",
      "  df_donations_prop = df_donations_prop.append(df)\n"
     ]
    },
    {
     "name": "stdout",
     "output_type": "stream",
     "text": [
      "Successfully scrape donation from bantuandrasembuhdarigiziburukdancolostomi. Going to scrape the next donation.\n"
     ]
    },
    {
     "name": "stderr",
     "output_type": "stream",
     "text": [
      "/Users/mac/Documents/RU/THESIS/working_thesis/scrape.py:286: FutureWarning: The frame.append method is deprecated and will be removed from pandas in a future version. Use pandas.concat instead.\n",
      "  df_donations_prop = df_donations_prop.append(df)\n"
     ]
    },
    {
     "name": "stdout",
     "output_type": "stream",
     "text": [
      "Successfully scrape donation from bantuadikfaizsembuhdaritumormata. Going to scrape the next donation.\n"
     ]
    },
    {
     "name": "stderr",
     "output_type": "stream",
     "text": [
      "/Users/mac/Documents/RU/THESIS/working_thesis/scrape.py:286: FutureWarning: The frame.append method is deprecated and will be removed from pandas in a future version. Use pandas.concat instead.\n",
      "  df_donations_prop = df_donations_prop.append(df)\n"
     ]
    },
    {
     "name": "stdout",
     "output_type": "stream",
     "text": [
      "Successfully scrape donation from zakatodesa. Going to scrape the next donation.\n"
     ]
    },
    {
     "name": "stderr",
     "output_type": "stream",
     "text": [
      "/Users/mac/Documents/RU/THESIS/working_thesis/scrape.py:286: FutureWarning: The frame.append method is deprecated and will be removed from pandas in a future version. Use pandas.concat instead.\n",
      "  df_donations_prop = df_donations_prop.append(df)\n"
     ]
    },
    {
     "name": "stdout",
     "output_type": "stream",
     "text": [
      "Successfully scrape donation from letshelpukomretaker. Going to scrape the next donation.\n"
     ]
    },
    {
     "name": "stderr",
     "output_type": "stream",
     "text": [
      "/Users/mac/Documents/RU/THESIS/working_thesis/scrape.py:286: FutureWarning: The frame.append method is deprecated and will be removed from pandas in a future version. Use pandas.concat instead.\n",
      "  df_donations_prop = df_donations_prop.append(df)\n"
     ]
    },
    {
     "name": "stdout",
     "output_type": "stream",
     "text": [
      "Successfully scrape donation from perubahaniklimxtanammangrove. Going to scrape the next donation.\n"
     ]
    },
    {
     "name": "stderr",
     "output_type": "stream",
     "text": [
      "/Users/mac/Documents/RU/THESIS/working_thesis/scrape.py:286: FutureWarning: The frame.append method is deprecated and will be removed from pandas in a future version. Use pandas.concat instead.\n",
      "  df_donations_prop = df_donations_prop.append(df)\n"
     ]
    },
    {
     "name": "stdout",
     "output_type": "stream",
     "text": [
      "Successfully scrape donation from senyumabrina. Going to scrape the next donation.\n"
     ]
    },
    {
     "name": "stderr",
     "output_type": "stream",
     "text": [
      "/Users/mac/Documents/RU/THESIS/working_thesis/scrape.py:286: FutureWarning: The frame.append method is deprecated and will be removed from pandas in a future version. Use pandas.concat instead.\n",
      "  df_donations_prop = df_donations_prop.append(df)\n"
     ]
    },
    {
     "name": "stdout",
     "output_type": "stream",
     "text": [
      "Successfully scrape donation from bantukasihuntukbertahan. Going to scrape the next donation.\n"
     ]
    },
    {
     "name": "stderr",
     "output_type": "stream",
     "text": [
      "/Users/mac/Documents/RU/THESIS/working_thesis/scrape.py:286: FutureWarning: The frame.append method is deprecated and will be removed from pandas in a future version. Use pandas.concat instead.\n",
      "  df_donations_prop = df_donations_prop.append(df)\n"
     ]
    },
    {
     "name": "stdout",
     "output_type": "stream",
     "text": [
      "Successfully scrape donation from rabbaniansid. Going to scrape the next donation.\n"
     ]
    },
    {
     "name": "stderr",
     "output_type": "stream",
     "text": [
      "/Users/mac/Documents/RU/THESIS/working_thesis/scrape.py:286: FutureWarning: The frame.append method is deprecated and will be removed from pandas in a future version. Use pandas.concat instead.\n",
      "  df_donations_prop = df_donations_prop.append(df)\n"
     ]
    },
    {
     "name": "stdout",
     "output_type": "stream",
     "text": [
      "Successfully scrape donation from kakelukasbuta. Going to scrape the next donation.\n"
     ]
    },
    {
     "name": "stderr",
     "output_type": "stream",
     "text": [
      "/Users/mac/Documents/RU/THESIS/working_thesis/scrape.py:286: FutureWarning: The frame.append method is deprecated and will be removed from pandas in a future version. Use pandas.concat instead.\n",
      "  df_donations_prop = df_donations_prop.append(df)\n"
     ]
    },
    {
     "name": "stdout",
     "output_type": "stream",
     "text": [
      "Successfully scrape donation from wargayamanmenangis. Going to scrape the next donation.\n"
     ]
    },
    {
     "name": "stderr",
     "output_type": "stream",
     "text": [
      "/Users/mac/Documents/RU/THESIS/working_thesis/scrape.py:286: FutureWarning: The frame.append method is deprecated and will be removed from pandas in a future version. Use pandas.concat instead.\n",
      "  df_donations_prop = df_donations_prop.append(df)\n"
     ]
    },
    {
     "name": "stdout",
     "output_type": "stream",
     "text": [
      "Successfully scrape donation from bantupermataaljami. Going to scrape the next donation.\n"
     ]
    },
    {
     "name": "stderr",
     "output_type": "stream",
     "text": [
      "/Users/mac/Documents/RU/THESIS/working_thesis/scrape.py:286: FutureWarning: The frame.append method is deprecated and will be removed from pandas in a future version. Use pandas.concat instead.\n",
      "  df_donations_prop = df_donations_prop.append(df)\n"
     ]
    },
    {
     "name": "stdout",
     "output_type": "stream",
     "text": [
      "Successfully scrape donation from bantubangunmesjidpelosok. Going to scrape the next donation.\n"
     ]
    },
    {
     "name": "stderr",
     "output_type": "stream",
     "text": [
      "/Users/mac/Documents/RU/THESIS/working_thesis/scrape.py:286: FutureWarning: The frame.append method is deprecated and will be removed from pandas in a future version. Use pandas.concat instead.\n",
      "  df_donations_prop = df_donations_prop.append(df)\n"
     ]
    },
    {
     "name": "stdout",
     "output_type": "stream",
     "text": [
      "Successfully scrape donation from bangun5surauditengahhutansolok. Going to scrape the next donation.\n"
     ]
    },
    {
     "name": "stderr",
     "output_type": "stream",
     "text": [
      "/Users/mac/Documents/RU/THESIS/working_thesis/scrape.py:286: FutureWarning: The frame.append method is deprecated and will be removed from pandas in a future version. Use pandas.concat instead.\n",
      "  df_donations_prop = df_donations_prop.append(df)\n"
     ]
    },
    {
     "name": "stdout",
     "output_type": "stream",
     "text": [
      "Successfully scrape donation from wakaftanahmasjidalik. Going to scrape the next donation.\n"
     ]
    },
    {
     "name": "stderr",
     "output_type": "stream",
     "text": [
      "/Users/mac/Documents/RU/THESIS/working_thesis/scrape.py:286: FutureWarning: The frame.append method is deprecated and will be removed from pandas in a future version. Use pandas.concat instead.\n",
      "  df_donations_prop = df_donations_prop.append(df)\n"
     ]
    },
    {
     "name": "stdout",
     "output_type": "stream",
     "text": [
      "Successfully scrape donation from ybkmpedulimanek. Going to scrape the next donation.\n"
     ]
    },
    {
     "name": "stderr",
     "output_type": "stream",
     "text": [
      "/Users/mac/Documents/RU/THESIS/working_thesis/scrape.py:286: FutureWarning: The frame.append method is deprecated and will be removed from pandas in a future version. Use pandas.concat instead.\n",
      "  df_donations_prop = df_donations_prop.append(df)\n"
     ]
    },
    {
     "name": "stdout",
     "output_type": "stream",
     "text": [
      "Successfully scrape donation from zakatyatimpenghafalquran. Going to scrape the next donation.\n"
     ]
    },
    {
     "name": "stderr",
     "output_type": "stream",
     "text": [
      "/Users/mac/Documents/RU/THESIS/working_thesis/scrape.py:286: FutureWarning: The frame.append method is deprecated and will be removed from pandas in a future version. Use pandas.concat instead.\n",
      "  df_donations_prop = df_donations_prop.append(df)\n"
     ]
    },
    {
     "name": "stdout",
     "output_type": "stream",
     "text": [
      "Successfully scrape donation from dukunganuntukyatim. Going to scrape the next donation.\n"
     ]
    },
    {
     "name": "stderr",
     "output_type": "stream",
     "text": [
      "/Users/mac/Documents/RU/THESIS/working_thesis/scrape.py:286: FutureWarning: The frame.append method is deprecated and will be removed from pandas in a future version. Use pandas.concat instead.\n",
      "  df_donations_prop = df_donations_prop.append(df)\n"
     ]
    },
    {
     "name": "stdout",
     "output_type": "stream",
     "text": [
      "Successfully scrape donation from bantubiayasekolahsiswatidakmampu. Going to scrape the next donation.\n"
     ]
    },
    {
     "name": "stderr",
     "output_type": "stream",
     "text": [
      "/Users/mac/Documents/RU/THESIS/working_thesis/scrape.py:286: FutureWarning: The frame.append method is deprecated and will be removed from pandas in a future version. Use pandas.concat instead.\n",
      "  df_donations_prop = df_donations_prop.append(df)\n"
     ]
    },
    {
     "name": "stdout",
     "output_type": "stream",
     "text": [
      "Successfully scrape donation from gedung. Going to scrape the next donation.\n"
     ]
    },
    {
     "name": "stderr",
     "output_type": "stream",
     "text": [
      "/Users/mac/Documents/RU/THESIS/working_thesis/scrape.py:286: FutureWarning: The frame.append method is deprecated and will be removed from pandas in a future version. Use pandas.concat instead.\n",
      "  df_donations_prop = df_donations_prop.append(df)\n"
     ]
    },
    {
     "name": "stdout",
     "output_type": "stream",
     "text": [
      "Successfully scrape donation from bundasalamahbisasembuh. Going to scrape the next donation.\n"
     ]
    },
    {
     "name": "stderr",
     "output_type": "stream",
     "text": [
      "/Users/mac/Documents/RU/THESIS/working_thesis/scrape.py:286: FutureWarning: The frame.append method is deprecated and will be removed from pandas in a future version. Use pandas.concat instead.\n",
      "  df_donations_prop = df_donations_prop.append(df)\n"
     ]
    },
    {
     "name": "stdout",
     "output_type": "stream",
     "text": [
      "Successfully scrape donation from pedulikucingliardankelaparan. Going to scrape the next donation.\n"
     ]
    },
    {
     "name": "stderr",
     "output_type": "stream",
     "text": [
      "/Users/mac/Documents/RU/THESIS/working_thesis/scrape.py:286: FutureWarning: The frame.append method is deprecated and will be removed from pandas in a future version. Use pandas.concat instead.\n",
      "  df_donations_prop = df_donations_prop.append(df)\n"
     ]
    },
    {
     "name": "stdout",
     "output_type": "stream",
     "text": [
      "Successfully scrape donation from gerejakatoliksantopaulustotokarto. Going to scrape the next donation.\n"
     ]
    },
    {
     "name": "stderr",
     "output_type": "stream",
     "text": [
      "/Users/mac/Documents/RU/THESIS/working_thesis/scrape.py:286: FutureWarning: The frame.append method is deprecated and will be removed from pandas in a future version. Use pandas.concat instead.\n",
      "  df_donations_prop = df_donations_prop.append(df)\n"
     ]
    },
    {
     "name": "stdout",
     "output_type": "stream",
     "text": [
      "Successfully scrape donation from bantuanakyatimhafid. Going to scrape the next donation.\n"
     ]
    },
    {
     "name": "stderr",
     "output_type": "stream",
     "text": [
      "/Users/mac/Documents/RU/THESIS/working_thesis/scrape.py:286: FutureWarning: The frame.append method is deprecated and will be removed from pandas in a future version. Use pandas.concat instead.\n",
      "  df_donations_prop = df_donations_prop.append(df)\n"
     ]
    },
    {
     "name": "stdout",
     "output_type": "stream",
     "text": [
      "Successfully scrape donation from bantuyatimsukses. Going to scrape the next donation.\n"
     ]
    },
    {
     "name": "stderr",
     "output_type": "stream",
     "text": [
      "/Users/mac/Documents/RU/THESIS/working_thesis/scrape.py:286: FutureWarning: The frame.append method is deprecated and will be removed from pandas in a future version. Use pandas.concat instead.\n",
      "  df_donations_prop = df_donations_prop.append(df)\n"
     ]
    },
    {
     "name": "stdout",
     "output_type": "stream",
     "text": [
      "Successfully scrape donation from satuhatiberbagi. Going to scrape the next donation.\n"
     ]
    },
    {
     "name": "stderr",
     "output_type": "stream",
     "text": [
      "/Users/mac/Documents/RU/THESIS/working_thesis/scrape.py:286: FutureWarning: The frame.append method is deprecated and will be removed from pandas in a future version. Use pandas.concat instead.\n",
      "  df_donations_prop = df_donations_prop.append(df)\n"
     ]
    },
    {
     "name": "stdout",
     "output_type": "stream",
     "text": [
      "Successfully scrape donation from sedekahjariahsumurbor. Going to scrape the next donation.\n"
     ]
    },
    {
     "name": "stderr",
     "output_type": "stream",
     "text": [
      "/Users/mac/Documents/RU/THESIS/working_thesis/scrape.py:286: FutureWarning: The frame.append method is deprecated and will be removed from pandas in a future version. Use pandas.concat instead.\n",
      "  df_donations_prop = df_donations_prop.append(df)\n"
     ]
    },
    {
     "name": "stdout",
     "output_type": "stream",
     "text": [
      "Successfully scrape donation from orangindo4orangutan. Going to scrape the next donation.\n"
     ]
    },
    {
     "name": "stderr",
     "output_type": "stream",
     "text": [
      "/Users/mac/Documents/RU/THESIS/working_thesis/scrape.py:286: FutureWarning: The frame.append method is deprecated and will be removed from pandas in a future version. Use pandas.concat instead.\n",
      "  df_donations_prop = df_donations_prop.append(df)\n"
     ]
    },
    {
     "name": "stdout",
     "output_type": "stream",
     "text": [
      "Successfully scrape donation from attawabbiin. Going to scrape the next donation.\n"
     ]
    },
    {
     "name": "stderr",
     "output_type": "stream",
     "text": [
      "/Users/mac/Documents/RU/THESIS/working_thesis/scrape.py:286: FutureWarning: The frame.append method is deprecated and will be removed from pandas in a future version. Use pandas.concat instead.\n",
      "  df_donations_prop = df_donations_prop.append(df)\n"
     ]
    },
    {
     "name": "stdout",
     "output_type": "stream",
     "text": [
      "Successfully scrape donation from bantunurulyaqin. Going to scrape the next donation.\n"
     ]
    },
    {
     "name": "stderr",
     "output_type": "stream",
     "text": [
      "/Users/mac/Documents/RU/THESIS/working_thesis/scrape.py:286: FutureWarning: The frame.append method is deprecated and will be removed from pandas in a future version. Use pandas.concat instead.\n",
      "  df_donations_prop = df_donations_prop.append(df)\n"
     ]
    },
    {
     "name": "stdout",
     "output_type": "stream",
     "text": [
      "Successfully scrape donation from bisazakathafidzquran. Going to scrape the next donation.\n"
     ]
    },
    {
     "name": "stderr",
     "output_type": "stream",
     "text": [
      "/Users/mac/Documents/RU/THESIS/working_thesis/scrape.py:286: FutureWarning: The frame.append method is deprecated and will be removed from pandas in a future version. Use pandas.concat instead.\n",
      "  df_donations_prop = df_donations_prop.append(df)\n"
     ]
    },
    {
     "name": "stdout",
     "output_type": "stream",
     "text": [
      "Successfully scrape donation from pantidifabeldhuafa. Going to scrape the next donation.\n"
     ]
    },
    {
     "name": "stderr",
     "output_type": "stream",
     "text": [
      "/Users/mac/Documents/RU/THESIS/working_thesis/scrape.py:286: FutureWarning: The frame.append method is deprecated and will be removed from pandas in a future version. Use pandas.concat instead.\n",
      "  df_donations_prop = df_donations_prop.append(df)\n"
     ]
    },
    {
     "name": "stdout",
     "output_type": "stream",
     "text": [
      "Successfully scrape donation from bisawakafpangan. Going to scrape the next donation.\n"
     ]
    },
    {
     "name": "stderr",
     "output_type": "stream",
     "text": [
      "/Users/mac/Documents/RU/THESIS/working_thesis/scrape.py:286: FutureWarning: The frame.append method is deprecated and will be removed from pandas in a future version. Use pandas.concat instead.\n",
      "  df_donations_prop = df_donations_prop.append(df)\n"
     ]
    },
    {
     "name": "stdout",
     "output_type": "stream",
     "text": [
      "Successfully scrape donation from bantuyandribacabuku. Going to scrape the next donation.\n"
     ]
    },
    {
     "name": "stderr",
     "output_type": "stream",
     "text": [
      "/Users/mac/Documents/RU/THESIS/working_thesis/scrape.py:286: FutureWarning: The frame.append method is deprecated and will be removed from pandas in a future version. Use pandas.concat instead.\n",
      "  df_donations_prop = df_donations_prop.append(df)\n"
     ]
    },
    {
     "name": "stdout",
     "output_type": "stream",
     "text": [
      "Successfully scrape donation from pendidikanyatim1. Going to scrape the next donation.\n"
     ]
    },
    {
     "name": "stderr",
     "output_type": "stream",
     "text": [
      "/Users/mac/Documents/RU/THESIS/working_thesis/scrape.py:286: FutureWarning: The frame.append method is deprecated and will be removed from pandas in a future version. Use pandas.concat instead.\n",
      "  df_donations_prop = df_donations_prop.append(df)\n"
     ]
    },
    {
     "name": "stdout",
     "output_type": "stream",
     "text": [
      "Successfully scrape donation from sedekahairpelosoknegri. Going to scrape the next donation.\n"
     ]
    },
    {
     "name": "stderr",
     "output_type": "stream",
     "text": [
      "/Users/mac/Documents/RU/THESIS/working_thesis/scrape.py:286: FutureWarning: The frame.append method is deprecated and will be removed from pandas in a future version. Use pandas.concat instead.\n",
      "  df_donations_prop = df_donations_prop.append(df)\n"
     ]
    },
    {
     "name": "stdout",
     "output_type": "stream",
     "text": [
      "Successfully scrape donation from jelajahtimur. Going to scrape the next donation.\n"
     ]
    },
    {
     "name": "stderr",
     "output_type": "stream",
     "text": [
      "/Users/mac/Documents/RU/THESIS/working_thesis/scrape.py:286: FutureWarning: The frame.append method is deprecated and will be removed from pandas in a future version. Use pandas.concat instead.\n",
      "  df_donations_prop = df_donations_prop.append(df)\n"
     ]
    },
    {
     "name": "stdout",
     "output_type": "stream",
     "text": [
      "Successfully scrape donation from penyulombok. Going to scrape the next donation.\n"
     ]
    },
    {
     "name": "stderr",
     "output_type": "stream",
     "text": [
      "/Users/mac/Documents/RU/THESIS/working_thesis/scrape.py:286: FutureWarning: The frame.append method is deprecated and will be removed from pandas in a future version. Use pandas.concat instead.\n",
      "  df_donations_prop = df_donations_prop.append(df)\n"
     ]
    },
    {
     "name": "stdout",
     "output_type": "stream",
     "text": [
      "Successfully scrape donation from kolektegerejantt. Going to scrape the next donation.\n"
     ]
    },
    {
     "name": "stderr",
     "output_type": "stream",
     "text": [
      "/Users/mac/Documents/RU/THESIS/working_thesis/scrape.py:286: FutureWarning: The frame.append method is deprecated and will be removed from pandas in a future version. Use pandas.concat instead.\n",
      "  df_donations_prop = df_donations_prop.append(df)\n"
     ]
    },
    {
     "name": "stdout",
     "output_type": "stream",
     "text": [
      "Successfully scrape donation from musholauntuksdit. Going to scrape the next donation.\n"
     ]
    },
    {
     "name": "stderr",
     "output_type": "stream",
     "text": [
      "/Users/mac/Documents/RU/THESIS/working_thesis/scrape.py:286: FutureWarning: The frame.append method is deprecated and will be removed from pandas in a future version. Use pandas.concat instead.\n",
      "  df_donations_prop = df_donations_prop.append(df)\n"
     ]
    },
    {
     "name": "stdout",
     "output_type": "stream",
     "text": [
      "Successfully scrape donation from bantupsaaalhaddad. Going to scrape the next donation.\n"
     ]
    },
    {
     "name": "stderr",
     "output_type": "stream",
     "text": [
      "/Users/mac/Documents/RU/THESIS/working_thesis/scrape.py:286: FutureWarning: The frame.append method is deprecated and will be removed from pandas in a future version. Use pandas.concat instead.\n",
      "  df_donations_prop = df_donations_prop.append(df)\n"
     ]
    },
    {
     "name": "stdout",
     "output_type": "stream",
     "text": [
      "Successfully scrape donation from aksiberbagiquran. Going to scrape the next donation.\n"
     ]
    },
    {
     "name": "stderr",
     "output_type": "stream",
     "text": [
      "/Users/mac/Documents/RU/THESIS/working_thesis/scrape.py:286: FutureWarning: The frame.append method is deprecated and will be removed from pandas in a future version. Use pandas.concat instead.\n",
      "  df_donations_prop = df_donations_prop.append(df)\n"
     ]
    },
    {
     "name": "stdout",
     "output_type": "stream",
     "text": [
      "Successfully scrape donation from ybkmpeduli200anakcp. Going to scrape the next donation.\n"
     ]
    },
    {
     "name": "stderr",
     "output_type": "stream",
     "text": [
      "/Users/mac/Documents/RU/THESIS/working_thesis/scrape.py:286: FutureWarning: The frame.append method is deprecated and will be removed from pandas in a future version. Use pandas.concat instead.\n",
      "  df_donations_prop = df_donations_prop.append(df)\n"
     ]
    },
    {
     "name": "stdout",
     "output_type": "stream",
     "text": [
      "Successfully scrape donation from bisasedekahsubuhsehariseribu. Going to scrape the next donation.\n"
     ]
    },
    {
     "name": "stderr",
     "output_type": "stream",
     "text": [
      "/Users/mac/Documents/RU/THESIS/working_thesis/scrape.py:286: FutureWarning: The frame.append method is deprecated and will be removed from pandas in a future version. Use pandas.concat instead.\n",
      "  df_donations_prop = df_donations_prop.append(df)\n"
     ]
    },
    {
     "name": "stdout",
     "output_type": "stream",
     "text": [
      "Successfully scrape donation from awalidengansedekahsubuh. Going to scrape the next donation.\n"
     ]
    },
    {
     "name": "stderr",
     "output_type": "stream",
     "text": [
      "/Users/mac/Documents/RU/THESIS/working_thesis/scrape.py:286: FutureWarning: The frame.append method is deprecated and will be removed from pandas in a future version. Use pandas.concat instead.\n",
      "  df_donations_prop = df_donations_prop.append(df)\n"
     ]
    },
    {
     "name": "stdout",
     "output_type": "stream",
     "text": [
      "Successfully scrape donation from masjidsantriyatim. Going to scrape the next donation.\n"
     ]
    },
    {
     "name": "stderr",
     "output_type": "stream",
     "text": [
      "/Users/mac/Documents/RU/THESIS/working_thesis/scrape.py:286: FutureWarning: The frame.append method is deprecated and will be removed from pandas in a future version. Use pandas.concat instead.\n",
      "  df_donations_prop = df_donations_prop.append(df)\n"
     ]
    },
    {
     "name": "stdout",
     "output_type": "stream",
     "text": [
      "Successfully scrape donation from sedekahbrailledibantul. Going to scrape the next donation.\n"
     ]
    },
    {
     "name": "stderr",
     "output_type": "stream",
     "text": [
      "/Users/mac/Documents/RU/THESIS/working_thesis/scrape.py:286: FutureWarning: The frame.append method is deprecated and will be removed from pandas in a future version. Use pandas.concat instead.\n",
      "  df_donations_prop = df_donations_prop.append(df)\n"
     ]
    },
    {
     "name": "stdout",
     "output_type": "stream",
     "text": [
      "Successfully scrape donation from pantiyatimpiatu. Going to scrape the next donation.\n"
     ]
    },
    {
     "name": "stderr",
     "output_type": "stream",
     "text": [
      "/Users/mac/Documents/RU/THESIS/working_thesis/scrape.py:286: FutureWarning: The frame.append method is deprecated and will be removed from pandas in a future version. Use pandas.concat instead.\n",
      "  df_donations_prop = df_donations_prop.append(df)\n"
     ]
    },
    {
     "name": "stdout",
     "output_type": "stream",
     "text": [
      "Successfully scrape donation from donasipenjagahutan. Going to scrape the next donation.\n"
     ]
    },
    {
     "name": "stderr",
     "output_type": "stream",
     "text": [
      "/Users/mac/Documents/RU/THESIS/working_thesis/scrape.py:286: FutureWarning: The frame.append method is deprecated and will be removed from pandas in a future version. Use pandas.concat instead.\n",
      "  df_donations_prop = df_donations_prop.append(df)\n"
     ]
    },
    {
     "name": "stdout",
     "output_type": "stream",
     "text": [
      "Successfully scrape donation from banguntoiletsehat. Going to scrape the next donation.\n"
     ]
    },
    {
     "name": "stderr",
     "output_type": "stream",
     "text": [
      "/Users/mac/Documents/RU/THESIS/working_thesis/scrape.py:286: FutureWarning: The frame.append method is deprecated and will be removed from pandas in a future version. Use pandas.concat instead.\n",
      "  df_donations_prop = df_donations_prop.append(df)\n"
     ]
    },
    {
     "name": "stdout",
     "output_type": "stream",
     "text": [
      "Successfully scrape donation from wakafsumurntt. Going to scrape the next donation.\n"
     ]
    },
    {
     "name": "stderr",
     "output_type": "stream",
     "text": [
      "/Users/mac/Documents/RU/THESIS/working_thesis/scrape.py:286: FutureWarning: The frame.append method is deprecated and will be removed from pandas in a future version. Use pandas.concat instead.\n",
      "  df_donations_prop = df_donations_prop.append(df)\n"
     ]
    },
    {
     "name": "stdout",
     "output_type": "stream",
     "text": [
      "Successfully scrape donation from opendonasiuntukmembantukucingliar. Going to scrape the next donation.\n"
     ]
    },
    {
     "name": "stderr",
     "output_type": "stream",
     "text": [
      "/Users/mac/Documents/RU/THESIS/working_thesis/scrape.py:286: FutureWarning: The frame.append method is deprecated and will be removed from pandas in a future version. Use pandas.concat instead.\n",
      "  df_donations_prop = df_donations_prop.append(df)\n"
     ]
    },
    {
     "name": "stdout",
     "output_type": "stream",
     "text": [
      "Successfully scrape donation from mukenamasjid. Going to scrape the next donation.\n"
     ]
    },
    {
     "name": "stderr",
     "output_type": "stream",
     "text": [
      "/Users/mac/Documents/RU/THESIS/working_thesis/scrape.py:286: FutureWarning: The frame.append method is deprecated and will be removed from pandas in a future version. Use pandas.concat instead.\n",
      "  df_donations_prop = df_donations_prop.append(df)\n"
     ]
    },
    {
     "name": "stdout",
     "output_type": "stream",
     "text": [
      "Successfully scrape donation from inisiatifzakat. Going to scrape the next donation.\n"
     ]
    },
    {
     "name": "stderr",
     "output_type": "stream",
     "text": [
      "/Users/mac/Documents/RU/THESIS/working_thesis/scrape.py:286: FutureWarning: The frame.append method is deprecated and will be removed from pandas in a future version. Use pandas.concat instead.\n",
      "  df_donations_prop = df_donations_prop.append(df)\n"
     ]
    },
    {
     "name": "stdout",
     "output_type": "stream",
     "text": [
      "Successfully scrape donation from beasiswacendekia. Going to scrape the next donation.\n"
     ]
    },
    {
     "name": "stderr",
     "output_type": "stream",
     "text": [
      "/Users/mac/Documents/RU/THESIS/working_thesis/scrape.py:286: FutureWarning: The frame.append method is deprecated and will be removed from pandas in a future version. Use pandas.concat instead.\n",
      "  df_donations_prop = df_donations_prop.append(df)\n"
     ]
    },
    {
     "name": "stdout",
     "output_type": "stream",
     "text": [
      "Successfully scrape donation from jumatbergizi. Going to scrape the next donation.\n"
     ]
    },
    {
     "name": "stderr",
     "output_type": "stream",
     "text": [
      "/Users/mac/Documents/RU/THESIS/working_thesis/scrape.py:286: FutureWarning: The frame.append method is deprecated and will be removed from pandas in a future version. Use pandas.concat instead.\n",
      "  df_donations_prop = df_donations_prop.append(df)\n"
     ]
    },
    {
     "name": "stdout",
     "output_type": "stream",
     "text": [
      "Successfully scrape donation from santuniyatimdandhuafagazapalestina. Going to scrape the next donation.\n"
     ]
    },
    {
     "name": "stderr",
     "output_type": "stream",
     "text": [
      "/Users/mac/Documents/RU/THESIS/working_thesis/scrape.py:286: FutureWarning: The frame.append method is deprecated and will be removed from pandas in a future version. Use pandas.concat instead.\n",
      "  df_donations_prop = df_donations_prop.append(df)\n"
     ]
    },
    {
     "name": "stdout",
     "output_type": "stream",
     "text": [
      "Successfully scrape donation from ybkmbantuvilio. Going to scrape the next donation.\n"
     ]
    },
    {
     "name": "stderr",
     "output_type": "stream",
     "text": [
      "/Users/mac/Documents/RU/THESIS/working_thesis/scrape.py:286: FutureWarning: The frame.append method is deprecated and will be removed from pandas in a future version. Use pandas.concat instead.\n",
      "  df_donations_prop = df_donations_prop.append(df)\n"
     ]
    },
    {
     "name": "stdout",
     "output_type": "stream",
     "text": [
      "Successfully scrape donation from masjiddhuafatahfidz. Going to scrape the next donation.\n"
     ]
    },
    {
     "name": "stderr",
     "output_type": "stream",
     "text": [
      "/Users/mac/Documents/RU/THESIS/working_thesis/scrape.py:286: FutureWarning: The frame.append method is deprecated and will be removed from pandas in a future version. Use pandas.concat instead.\n",
      "  df_donations_prop = df_donations_prop.append(df)\n"
     ]
    },
    {
     "name": "stdout",
     "output_type": "stream",
     "text": [
      "Successfully scrape donation from bantuabiamirbangunmasjid. Going to scrape the next donation.\n"
     ]
    },
    {
     "name": "stderr",
     "output_type": "stream",
     "text": [
      "/Users/mac/Documents/RU/THESIS/working_thesis/scrape.py:286: FutureWarning: The frame.append method is deprecated and will be removed from pandas in a future version. Use pandas.concat instead.\n",
      "  df_donations_prop = df_donations_prop.append(df)\n"
     ]
    },
    {
     "name": "stdout",
     "output_type": "stream",
     "text": [
      "Successfully scrape donation from bangungerejaloloole. Going to scrape the next donation.\n"
     ]
    },
    {
     "name": "stderr",
     "output_type": "stream",
     "text": [
      "/Users/mac/Documents/RU/THESIS/working_thesis/scrape.py:286: FutureWarning: The frame.append method is deprecated and will be removed from pandas in a future version. Use pandas.concat instead.\n",
      "  df_donations_prop = df_donations_prop.append(df)\n"
     ]
    },
    {
     "name": "stdout",
     "output_type": "stream",
     "text": [
      "Successfully scrape donation from bulerawat200anak. Going to scrape the next donation.\n"
     ]
    },
    {
     "name": "stderr",
     "output_type": "stream",
     "text": [
      "/Users/mac/Documents/RU/THESIS/working_thesis/scrape.py:286: FutureWarning: The frame.append method is deprecated and will be removed from pandas in a future version. Use pandas.concat instead.\n",
      "  df_donations_prop = df_donations_prop.append(df)\n"
     ]
    },
    {
     "name": "stdout",
     "output_type": "stream",
     "text": [
      "Successfully scrape donation from sedekahsubuhbantupantiasuhan. Going to scrape the next donation.\n"
     ]
    },
    {
     "name": "stderr",
     "output_type": "stream",
     "text": [
      "/Users/mac/Documents/RU/THESIS/working_thesis/scrape.py:286: FutureWarning: The frame.append method is deprecated and will be removed from pandas in a future version. Use pandas.concat instead.\n",
      "  df_donations_prop = df_donations_prop.append(df)\n"
     ]
    },
    {
     "name": "stdout",
     "output_type": "stream",
     "text": [
      "Successfully scrape donation from bantuanaksyria. Going to scrape the next donation.\n"
     ]
    },
    {
     "name": "stderr",
     "output_type": "stream",
     "text": [
      "/Users/mac/Documents/RU/THESIS/working_thesis/scrape.py:286: FutureWarning: The frame.append method is deprecated and will be removed from pandas in a future version. Use pandas.concat instead.\n",
      "  df_donations_prop = df_donations_prop.append(df)\n"
     ]
    },
    {
     "name": "stdout",
     "output_type": "stream",
     "text": [
      "Successfully scrape donation from dhuafabisakuliah. Going to scrape the next donation.\n"
     ]
    },
    {
     "name": "stderr",
     "output_type": "stream",
     "text": [
      "/Users/mac/Documents/RU/THESIS/working_thesis/scrape.py:286: FutureWarning: The frame.append method is deprecated and will be removed from pandas in a future version. Use pandas.concat instead.\n",
      "  df_donations_prop = df_donations_prop.append(df)\n"
     ]
    },
    {
     "name": "stdout",
     "output_type": "stream",
     "text": [
      "Successfully scrape donation from biayaoperasionalpengelolaansampah. Going to scrape the next donation.\n"
     ]
    },
    {
     "name": "stderr",
     "output_type": "stream",
     "text": [
      "/Users/mac/Documents/RU/THESIS/working_thesis/scrape.py:286: FutureWarning: The frame.append method is deprecated and will be removed from pandas in a future version. Use pandas.concat instead.\n",
      "  df_donations_prop = df_donations_prop.append(df)\n"
     ]
    },
    {
     "name": "stdout",
     "output_type": "stream",
     "text": [
      "Successfully scrape donation from apikun. Going to scrape the next donation.\n"
     ]
    },
    {
     "name": "stderr",
     "output_type": "stream",
     "text": [
      "/Users/mac/Documents/RU/THESIS/working_thesis/scrape.py:286: FutureWarning: The frame.append method is deprecated and will be removed from pandas in a future version. Use pandas.concat instead.\n",
      "  df_donations_prop = df_donations_prop.append(df)\n"
     ]
    },
    {
     "name": "stdout",
     "output_type": "stream",
     "text": [
      "Successfully scrape donation from ironimasjidpelosokmajene. Going to scrape the next donation.\n"
     ]
    },
    {
     "name": "stderr",
     "output_type": "stream",
     "text": [
      "/Users/mac/Documents/RU/THESIS/working_thesis/scrape.py:286: FutureWarning: The frame.append method is deprecated and will be removed from pandas in a future version. Use pandas.concat instead.\n",
      "  df_donations_prop = df_donations_prop.append(df)\n"
     ]
    },
    {
     "name": "stdout",
     "output_type": "stream",
     "text": [
      "Successfully scrape donation from terapidisabilitas. Going to scrape the next donation.\n"
     ]
    },
    {
     "name": "stderr",
     "output_type": "stream",
     "text": [
      "/Users/mac/Documents/RU/THESIS/working_thesis/scrape.py:286: FutureWarning: The frame.append method is deprecated and will be removed from pandas in a future version. Use pandas.concat instead.\n",
      "  df_donations_prop = df_donations_prop.append(df)\n"
     ]
    },
    {
     "name": "stdout",
     "output_type": "stream",
     "text": [
      "Successfully scrape donation from laznaspyi. Going to scrape the next donation.\n"
     ]
    },
    {
     "name": "stderr",
     "output_type": "stream",
     "text": [
      "/Users/mac/Documents/RU/THESIS/working_thesis/scrape.py:286: FutureWarning: The frame.append method is deprecated and will be removed from pandas in a future version. Use pandas.concat instead.\n",
      "  df_donations_prop = df_donations_prop.append(df)\n"
     ]
    },
    {
     "name": "stdout",
     "output_type": "stream",
     "text": [
      "Successfully scrape donation from bantumasjidgempasumbar. Going to scrape the next donation.\n"
     ]
    },
    {
     "name": "stderr",
     "output_type": "stream",
     "text": [
      "/Users/mac/Documents/RU/THESIS/working_thesis/scrape.py:286: FutureWarning: The frame.append method is deprecated and will be removed from pandas in a future version. Use pandas.concat instead.\n",
      "  df_donations_prop = df_donations_prop.append(df)\n"
     ]
    },
    {
     "name": "stdout",
     "output_type": "stream",
     "text": [
      "Successfully scrape donation from bantumasjidterdampakbencana. Going to scrape the next donation.\n"
     ]
    },
    {
     "name": "stderr",
     "output_type": "stream",
     "text": [
      "/Users/mac/Documents/RU/THESIS/working_thesis/scrape.py:286: FutureWarning: The frame.append method is deprecated and will be removed from pandas in a future version. Use pandas.concat instead.\n",
      "  df_donations_prop = df_donations_prop.append(df)\n"
     ]
    },
    {
     "name": "stdout",
     "output_type": "stream",
     "text": [
      "Successfully scrape donation from masjidrawanambruk. Going to scrape the next donation.\n"
     ]
    },
    {
     "name": "stderr",
     "output_type": "stream",
     "text": [
      "/Users/mac/Documents/RU/THESIS/working_thesis/scrape.py:286: FutureWarning: The frame.append method is deprecated and will be removed from pandas in a future version. Use pandas.concat instead.\n",
      "  df_donations_prop = df_donations_prop.append(df)\n"
     ]
    },
    {
     "name": "stdout",
     "output_type": "stream",
     "text": [
      "Successfully scrape donation from sedekahberassantri. Going to scrape the next donation.\n"
     ]
    },
    {
     "name": "stderr",
     "output_type": "stream",
     "text": [
      "/Users/mac/Documents/RU/THESIS/working_thesis/scrape.py:286: FutureWarning: The frame.append method is deprecated and will be removed from pandas in a future version. Use pandas.concat instead.\n",
      "  df_donations_prop = df_donations_prop.append(df)\n"
     ]
    },
    {
     "name": "stdout",
     "output_type": "stream",
     "text": [
      "Successfully scrape donation from yakobuspeduli. Going to scrape the next donation.\n"
     ]
    },
    {
     "name": "stderr",
     "output_type": "stream",
     "text": [
      "/Users/mac/Documents/RU/THESIS/working_thesis/scrape.py:286: FutureWarning: The frame.append method is deprecated and will be removed from pandas in a future version. Use pandas.concat instead.\n",
      "  df_donations_prop = df_donations_prop.append(df)\n"
     ]
    },
    {
     "name": "stdout",
     "output_type": "stream",
     "text": [
      "Successfully scrape donation from sedekahalquranpantiasuhan. Going to scrape the next donation.\n"
     ]
    },
    {
     "name": "stderr",
     "output_type": "stream",
     "text": [
      "/Users/mac/Documents/RU/THESIS/working_thesis/scrape.py:286: FutureWarning: The frame.append method is deprecated and will be removed from pandas in a future version. Use pandas.concat instead.\n",
      "  df_donations_prop = df_donations_prop.append(df)\n"
     ]
    },
    {
     "name": "stdout",
     "output_type": "stream",
     "text": [
      "Successfully scrape donation from penuhikebutuhangizibayiterlantar. Going to scrape the next donation.\n"
     ]
    },
    {
     "name": "stderr",
     "output_type": "stream",
     "text": [
      "/Users/mac/Documents/RU/THESIS/working_thesis/scrape.py:286: FutureWarning: The frame.append method is deprecated and will be removed from pandas in a future version. Use pandas.concat instead.\n",
      "  df_donations_prop = df_donations_prop.append(df)\n"
     ]
    },
    {
     "name": "stdout",
     "output_type": "stream",
     "text": [
      "Successfully scrape donation from banguntpqmutalaqqi. Going to scrape the next donation.\n"
     ]
    },
    {
     "name": "stderr",
     "output_type": "stream",
     "text": [
      "/Users/mac/Documents/RU/THESIS/working_thesis/scrape.py:286: FutureWarning: The frame.append method is deprecated and will be removed from pandas in a future version. Use pandas.concat instead.\n",
      "  df_donations_prop = df_donations_prop.append(df)\n"
     ]
    },
    {
     "name": "stdout",
     "output_type": "stream",
     "text": [
      "Successfully scrape donation from bersihbungabank2. Going to scrape the next donation.\n"
     ]
    },
    {
     "name": "stderr",
     "output_type": "stream",
     "text": [
      "/Users/mac/Documents/RU/THESIS/working_thesis/scrape.py:286: FutureWarning: The frame.append method is deprecated and will be removed from pandas in a future version. Use pandas.concat instead.\n",
      "  df_donations_prop = df_donations_prop.append(df)\n"
     ]
    },
    {
     "name": "stdout",
     "output_type": "stream",
     "text": [
      "Successfully scrape donation from bangunasramaponpes. Going to scrape the next donation.\n"
     ]
    },
    {
     "name": "stderr",
     "output_type": "stream",
     "text": [
      "/Users/mac/Documents/RU/THESIS/working_thesis/scrape.py:286: FutureWarning: The frame.append method is deprecated and will be removed from pandas in a future version. Use pandas.concat instead.\n",
      "  df_donations_prop = df_donations_prop.append(df)\n"
     ]
    },
    {
     "name": "stdout",
     "output_type": "stream",
     "text": [
      "Successfully scrape donation from kreditberkah. Going to scrape the next donation.\n"
     ]
    },
    {
     "name": "stderr",
     "output_type": "stream",
     "text": [
      "/Users/mac/Documents/RU/THESIS/working_thesis/scrape.py:286: FutureWarning: The frame.append method is deprecated and will be removed from pandas in a future version. Use pandas.concat instead.\n",
      "  df_donations_prop = df_donations_prop.append(df)\n"
     ]
    },
    {
     "name": "stdout",
     "output_type": "stream",
     "text": [
      "Successfully scrape donation from donasigerejapamutaran. Going to scrape the next donation.\n"
     ]
    },
    {
     "name": "stderr",
     "output_type": "stream",
     "text": [
      "/Users/mac/Documents/RU/THESIS/working_thesis/scrape.py:286: FutureWarning: The frame.append method is deprecated and will be removed from pandas in a future version. Use pandas.concat instead.\n",
      "  df_donations_prop = df_donations_prop.append(df)\n"
     ]
    },
    {
     "name": "stdout",
     "output_type": "stream",
     "text": [
      "Successfully scrape donation from kolektegerejaoebubun. Going to scrape the next donation.\n"
     ]
    },
    {
     "name": "stderr",
     "output_type": "stream",
     "text": [
      "/Users/mac/Documents/RU/THESIS/working_thesis/scrape.py:286: FutureWarning: The frame.append method is deprecated and will be removed from pandas in a future version. Use pandas.concat instead.\n",
      "  df_donations_prop = df_donations_prop.append(df)\n"
     ]
    },
    {
     "name": "stdout",
     "output_type": "stream",
     "text": [
      "Successfully scrape donation from musholatts. Going to scrape the next donation.\n"
     ]
    },
    {
     "name": "stderr",
     "output_type": "stream",
     "text": [
      "/Users/mac/Documents/RU/THESIS/working_thesis/scrape.py:286: FutureWarning: The frame.append method is deprecated and will be removed from pandas in a future version. Use pandas.concat instead.\n",
      "  df_donations_prop = df_donations_prop.append(df)\n"
     ]
    },
    {
     "name": "stdout",
     "output_type": "stream",
     "text": [
      "Successfully scrape donation from zakatyatimyimb. Going to scrape the next donation.\n"
     ]
    },
    {
     "name": "stderr",
     "output_type": "stream",
     "text": [
      "/Users/mac/Documents/RU/THESIS/working_thesis/scrape.py:286: FutureWarning: The frame.append method is deprecated and will be removed from pandas in a future version. Use pandas.concat instead.\n",
      "  df_donations_prop = df_donations_prop.append(df)\n"
     ]
    },
    {
     "name": "stdout",
     "output_type": "stream",
     "text": [
      "Successfully scrape donation from bisazakathubuntukfalaahulqodiiri. Going to scrape the next donation.\n"
     ]
    },
    {
     "name": "stderr",
     "output_type": "stream",
     "text": [
      "/Users/mac/Documents/RU/THESIS/working_thesis/scrape.py:286: FutureWarning: The frame.append method is deprecated and will be removed from pandas in a future version. Use pandas.concat instead.\n",
      "  df_donations_prop = df_donations_prop.append(df)\n"
     ]
    },
    {
     "name": "stdout",
     "output_type": "stream",
     "text": [
      "Successfully scrape donation from zakatpondokyatim. Going to scrape the next donation.\n"
     ]
    },
    {
     "name": "stderr",
     "output_type": "stream",
     "text": [
      "/Users/mac/Documents/RU/THESIS/working_thesis/scrape.py:286: FutureWarning: The frame.append method is deprecated and will be removed from pandas in a future version. Use pandas.concat instead.\n",
      "  df_donations_prop = df_donations_prop.append(df)\n"
     ]
    },
    {
     "name": "stdout",
     "output_type": "stream",
     "text": [
      "Successfully scrape donation from zakatqurani. Going to scrape the next donation.\n"
     ]
    },
    {
     "name": "stderr",
     "output_type": "stream",
     "text": [
      "/Users/mac/Documents/RU/THESIS/working_thesis/scrape.py:286: FutureWarning: The frame.append method is deprecated and will be removed from pandas in a future version. Use pandas.concat instead.\n",
      "  df_donations_prop = df_donations_prop.append(df)\n"
     ]
    },
    {
     "name": "stdout",
     "output_type": "stream",
     "text": [
      "Successfully scrape donation from bantuanakyatimpiatudankurangmampu. Going to scrape the next donation.\n"
     ]
    },
    {
     "name": "stderr",
     "output_type": "stream",
     "text": [
      "/Users/mac/Documents/RU/THESIS/working_thesis/scrape.py:286: FutureWarning: The frame.append method is deprecated and will be removed from pandas in a future version. Use pandas.concat instead.\n",
      "  df_donations_prop = df_donations_prop.append(df)\n"
     ]
    },
    {
     "name": "stdout",
     "output_type": "stream",
     "text": [
      "Successfully scrape donation from bantuanak2pantiasuhancahayanatanael. Going to scrape the next donation.\n"
     ]
    },
    {
     "name": "stderr",
     "output_type": "stream",
     "text": [
      "/Users/mac/Documents/RU/THESIS/working_thesis/scrape.py:286: FutureWarning: The frame.append method is deprecated and will be removed from pandas in a future version. Use pandas.concat instead.\n",
      "  df_donations_prop = df_donations_prop.append(df)\n"
     ]
    },
    {
     "name": "stdout",
     "output_type": "stream",
     "text": [
      "Successfully scrape donation from kemanusianyaman. Going to scrape the next donation.\n"
     ]
    },
    {
     "name": "stderr",
     "output_type": "stream",
     "text": [
      "/Users/mac/Documents/RU/THESIS/working_thesis/scrape.py:286: FutureWarning: The frame.append method is deprecated and will be removed from pandas in a future version. Use pandas.concat instead.\n",
      "  df_donations_prop = df_donations_prop.append(df)\n"
     ]
    },
    {
     "name": "stdout",
     "output_type": "stream",
     "text": [
      "Successfully scrape donation from bisausahapakrochim. Going to scrape the next donation.\n"
     ]
    },
    {
     "name": "stderr",
     "output_type": "stream",
     "text": [
      "/Users/mac/Documents/RU/THESIS/working_thesis/scrape.py:286: FutureWarning: The frame.append method is deprecated and will be removed from pandas in a future version. Use pandas.concat instead.\n",
      "  df_donations_prop = df_donations_prop.append(df)\n"
     ]
    },
    {
     "name": "stdout",
     "output_type": "stream",
     "text": [
      "Successfully scrape donation from celenganquran. Going to scrape the next donation.\n"
     ]
    },
    {
     "name": "stderr",
     "output_type": "stream",
     "text": [
      "/Users/mac/Documents/RU/THESIS/working_thesis/scrape.py:286: FutureWarning: The frame.append method is deprecated and will be removed from pandas in a future version. Use pandas.concat instead.\n",
      "  df_donations_prop = df_donations_prop.append(df)\n"
     ]
    },
    {
     "name": "stdout",
     "output_type": "stream",
     "text": [
      "Successfully scrape donation from sahabatcintaponpeshudallah. Going to scrape the next donation.\n"
     ]
    },
    {
     "name": "stderr",
     "output_type": "stream",
     "text": [
      "/Users/mac/Documents/RU/THESIS/working_thesis/scrape.py:286: FutureWarning: The frame.append method is deprecated and will be removed from pandas in a future version. Use pandas.concat instead.\n",
      "  df_donations_prop = df_donations_prop.append(df)\n"
     ]
    },
    {
     "name": "stdout",
     "output_type": "stream",
     "text": [
      "Successfully scrape donation from wakafdq. Going to scrape the next donation.\n"
     ]
    },
    {
     "name": "stderr",
     "output_type": "stream",
     "text": [
      "/Users/mac/Documents/RU/THESIS/working_thesis/scrape.py:286: FutureWarning: The frame.append method is deprecated and will be removed from pandas in a future version. Use pandas.concat instead.\n",
      "  df_donations_prop = df_donations_prop.append(df)\n"
     ]
    },
    {
     "name": "stdout",
     "output_type": "stream",
     "text": [
      "Successfully scrape donation from pembangunanmasjidbaitussalam. Going to scrape the next donation.\n"
     ]
    },
    {
     "name": "stderr",
     "output_type": "stream",
     "text": [
      "/Users/mac/Documents/RU/THESIS/working_thesis/scrape.py:286: FutureWarning: The frame.append method is deprecated and will be removed from pandas in a future version. Use pandas.concat instead.\n",
      "  df_donations_prop = df_donations_prop.append(df)\n"
     ]
    },
    {
     "name": "stdout",
     "output_type": "stream",
     "text": [
      "Successfully scrape donation from bantulansiarenovasigedunggerejanya. Going to scrape the next donation.\n"
     ]
    },
    {
     "name": "stderr",
     "output_type": "stream",
     "text": [
      "/Users/mac/Documents/RU/THESIS/working_thesis/scrape.py:286: FutureWarning: The frame.append method is deprecated and will be removed from pandas in a future version. Use pandas.concat instead.\n",
      "  df_donations_prop = df_donations_prop.append(df)\n"
     ]
    },
    {
     "name": "stdout",
     "output_type": "stream",
     "text": [
      "Successfully scrape donation from masjidbabulrahman. Going to scrape the next donation.\n"
     ]
    },
    {
     "name": "stderr",
     "output_type": "stream",
     "text": [
      "/Users/mac/Documents/RU/THESIS/working_thesis/scrape.py:286: FutureWarning: The frame.append method is deprecated and will be removed from pandas in a future version. Use pandas.concat instead.\n",
      "  df_donations_prop = df_donations_prop.append(df)\n"
     ]
    },
    {
     "name": "stdout",
     "output_type": "stream",
     "text": [
      "Successfully scrape donation from sedekahsubuhsantriyatim. Going to scrape the next donation.\n"
     ]
    },
    {
     "name": "stderr",
     "output_type": "stream",
     "text": [
      "/Users/mac/Documents/RU/THESIS/working_thesis/scrape.py:286: FutureWarning: The frame.append method is deprecated and will be removed from pandas in a future version. Use pandas.concat instead.\n",
      "  df_donations_prop = df_donations_prop.append(df)\n"
     ]
    },
    {
     "name": "stdout",
     "output_type": "stream",
     "text": [
      "Successfully scrape donation from sedekahsubuhwujudkancitacitasantriyatimdarulmakmur. Going to scrape the next donation.\n"
     ]
    },
    {
     "name": "stderr",
     "output_type": "stream",
     "text": [
      "/Users/mac/Documents/RU/THESIS/working_thesis/scrape.py:286: FutureWarning: The frame.append method is deprecated and will be removed from pandas in a future version. Use pandas.concat instead.\n",
      "  df_donations_prop = df_donations_prop.append(df)\n"
     ]
    },
    {
     "name": "stdout",
     "output_type": "stream",
     "text": [
      "Successfully scrape donation from jumatberkahsedekah. Going to scrape the next donation.\n"
     ]
    },
    {
     "name": "stderr",
     "output_type": "stream",
     "text": [
      "/Users/mac/Documents/RU/THESIS/working_thesis/scrape.py:286: FutureWarning: The frame.append method is deprecated and will be removed from pandas in a future version. Use pandas.concat instead.\n",
      "  df_donations_prop = df_donations_prop.append(df)\n"
     ]
    },
    {
     "name": "stdout",
     "output_type": "stream",
     "text": [
      "Successfully scrape donation from negeriuntukflores. Going to scrape the next donation.\n"
     ]
    },
    {
     "name": "stderr",
     "output_type": "stream",
     "text": [
      "/Users/mac/Documents/RU/THESIS/working_thesis/scrape.py:286: FutureWarning: The frame.append method is deprecated and will be removed from pandas in a future version. Use pandas.concat instead.\n",
      "  df_donations_prop = df_donations_prop.append(df)\n"
     ]
    },
    {
     "name": "stdout",
     "output_type": "stream",
     "text": [
      "Successfully scrape donation from ychiautismcenter. Going to scrape the next donation.\n"
     ]
    },
    {
     "name": "stderr",
     "output_type": "stream",
     "text": [
      "/Users/mac/Documents/RU/THESIS/working_thesis/scrape.py:286: FutureWarning: The frame.append method is deprecated and will be removed from pandas in a future version. Use pandas.concat instead.\n",
      "  df_donations_prop = df_donations_prop.append(df)\n"
     ]
    },
    {
     "name": "stdout",
     "output_type": "stream",
     "text": [
      "Successfully scrape donation from pendidikanmeratus. Going to scrape the next donation.\n"
     ]
    },
    {
     "name": "stderr",
     "output_type": "stream",
     "text": [
      "/Users/mac/Documents/RU/THESIS/working_thesis/scrape.py:286: FutureWarning: The frame.append method is deprecated and will be removed from pandas in a future version. Use pandas.concat instead.\n",
      "  df_donations_prop = df_donations_prop.append(df)\n"
     ]
    },
    {
     "name": "stdout",
     "output_type": "stream",
     "text": [
      "Successfully scrape donation from bantupendidikanratusandisabilitas. Going to scrape the next donation.\n"
     ]
    },
    {
     "name": "stderr",
     "output_type": "stream",
     "text": [
      "/Users/mac/Documents/RU/THESIS/working_thesis/scrape.py:286: FutureWarning: The frame.append method is deprecated and will be removed from pandas in a future version. Use pandas.concat instead.\n",
      "  df_donations_prop = df_donations_prop.append(df)\n"
     ]
    },
    {
     "name": "stdout",
     "output_type": "stream",
     "text": [
      "Successfully scrape donation from mobilambulancegratisuntukwargapelosok. Going to scrape the next donation.\n"
     ]
    },
    {
     "name": "stderr",
     "output_type": "stream",
     "text": [
      "/Users/mac/Documents/RU/THESIS/working_thesis/scrape.py:286: FutureWarning: The frame.append method is deprecated and will be removed from pandas in a future version. Use pandas.concat instead.\n",
      "  df_donations_prop = df_donations_prop.append(df)\n"
     ]
    },
    {
     "name": "stdout",
     "output_type": "stream",
     "text": [
      "Successfully scrape donation from patungansumurponpes. Going to scrape the next donation.\n"
     ]
    },
    {
     "name": "stderr",
     "output_type": "stream",
     "text": [
      "/Users/mac/Documents/RU/THESIS/working_thesis/scrape.py:286: FutureWarning: The frame.append method is deprecated and will be removed from pandas in a future version. Use pandas.concat instead.\n",
      "  df_donations_prop = df_donations_prop.append(df)\n"
     ]
    },
    {
     "name": "stdout",
     "output_type": "stream",
     "text": [
      "Successfully scrape donation from bedahrumahjamaahmasjid. Going to scrape the next donation.\n"
     ]
    },
    {
     "name": "stderr",
     "output_type": "stream",
     "text": [
      "/Users/mac/Documents/RU/THESIS/working_thesis/scrape.py:286: FutureWarning: The frame.append method is deprecated and will be removed from pandas in a future version. Use pandas.concat instead.\n",
      "  df_donations_prop = df_donations_prop.append(df)\n"
     ]
    },
    {
     "name": "stdout",
     "output_type": "stream",
     "text": [
      "Successfully scrape donation from senyumuntukazkia. Going to scrape the next donation.\n"
     ]
    },
    {
     "name": "stderr",
     "output_type": "stream",
     "text": [
      "/Users/mac/Documents/RU/THESIS/working_thesis/scrape.py:286: FutureWarning: The frame.append method is deprecated and will be removed from pandas in a future version. Use pandas.concat instead.\n",
      "  df_donations_prop = df_donations_prop.append(df)\n"
     ]
    },
    {
     "name": "stdout",
     "output_type": "stream",
     "text": [
      "Successfully scrape donation from bengkuludaruratbanjir. Going to scrape the next donation.\n"
     ]
    },
    {
     "name": "stderr",
     "output_type": "stream",
     "text": [
      "/Users/mac/Documents/RU/THESIS/working_thesis/scrape.py:286: FutureWarning: The frame.append method is deprecated and will be removed from pandas in a future version. Use pandas.concat instead.\n",
      "  df_donations_prop = df_donations_prop.append(df)\n"
     ]
    },
    {
     "name": "stdout",
     "output_type": "stream",
     "text": [
      "Successfully scrape donation from sedekahsembakomasjid. Going to scrape the next donation.\n"
     ]
    },
    {
     "name": "stderr",
     "output_type": "stream",
     "text": [
      "/Users/mac/Documents/RU/THESIS/working_thesis/scrape.py:286: FutureWarning: The frame.append method is deprecated and will be removed from pandas in a future version. Use pandas.concat instead.\n",
      "  df_donations_prop = df_donations_prop.append(df)\n"
     ]
    },
    {
     "name": "stdout",
     "output_type": "stream",
     "text": [
      "Successfully scrape donation from masjidlapukgorontalo. Going to scrape the next donation.\n"
     ]
    },
    {
     "name": "stderr",
     "output_type": "stream",
     "text": [
      "/Users/mac/Documents/RU/THESIS/working_thesis/scrape.py:286: FutureWarning: The frame.append method is deprecated and will be removed from pandas in a future version. Use pandas.concat instead.\n",
      "  df_donations_prop = df_donations_prop.append(df)\n"
     ]
    },
    {
     "name": "stdout",
     "output_type": "stream",
     "text": [
      "Successfully scrape donation from sedekahsubuh100anakyatim. Going to scrape the next donation.\n"
     ]
    },
    {
     "name": "stderr",
     "output_type": "stream",
     "text": [
      "/Users/mac/Documents/RU/THESIS/working_thesis/scrape.py:286: FutureWarning: The frame.append method is deprecated and will be removed from pandas in a future version. Use pandas.concat instead.\n",
      "  df_donations_prop = df_donations_prop.append(df)\n"
     ]
    },
    {
     "name": "stdout",
     "output_type": "stream",
     "text": [
      "Successfully scrape donation from farhanfaruq. Going to scrape the next donation.\n"
     ]
    },
    {
     "name": "stderr",
     "output_type": "stream",
     "text": [
      "/Users/mac/Documents/RU/THESIS/working_thesis/scrape.py:286: FutureWarning: The frame.append method is deprecated and will be removed from pandas in a future version. Use pandas.concat instead.\n",
      "  df_donations_prop = df_donations_prop.append(df)\n"
     ]
    },
    {
     "name": "stdout",
     "output_type": "stream",
     "text": [
      "Successfully scrape donation from gorobabantubayisemarang. Going to scrape the next donation.\n"
     ]
    },
    {
     "name": "stderr",
     "output_type": "stream",
     "text": [
      "/Users/mac/Documents/RU/THESIS/working_thesis/scrape.py:286: FutureWarning: The frame.append method is deprecated and will be removed from pandas in a future version. Use pandas.concat instead.\n",
      "  df_donations_prop = df_donations_prop.append(df)\n"
     ]
    },
    {
     "name": "stdout",
     "output_type": "stream",
     "text": [
      "Successfully scrape donation from bantulansiakalbar. Going to scrape the next donation.\n"
     ]
    },
    {
     "name": "stderr",
     "output_type": "stream",
     "text": [
      "/Users/mac/Documents/RU/THESIS/working_thesis/scrape.py:286: FutureWarning: The frame.append method is deprecated and will be removed from pandas in a future version. Use pandas.concat instead.\n",
      "  df_donations_prop = df_donations_prop.append(df)\n"
     ]
    },
    {
     "name": "stdout",
     "output_type": "stream",
     "text": [
      "Successfully scrape donation from makansantri. Going to scrape the next donation.\n"
     ]
    },
    {
     "name": "stderr",
     "output_type": "stream",
     "text": [
      "/Users/mac/Documents/RU/THESIS/working_thesis/scrape.py:286: FutureWarning: The frame.append method is deprecated and will be removed from pandas in a future version. Use pandas.concat instead.\n",
      "  df_donations_prop = df_donations_prop.append(df)\n"
     ]
    },
    {
     "name": "stdout",
     "output_type": "stream",
     "text": [
      "Successfully scrape donation from pohonuntukmasadepan. Going to scrape the next donation.\n"
     ]
    },
    {
     "name": "stderr",
     "output_type": "stream",
     "text": [
      "/Users/mac/Documents/RU/THESIS/working_thesis/scrape.py:286: FutureWarning: The frame.append method is deprecated and will be removed from pandas in a future version. Use pandas.concat instead.\n",
      "  df_donations_prop = df_donations_prop.append(df)\n"
     ]
    },
    {
     "name": "stdout",
     "output_type": "stream",
     "text": [
      "Successfully scrape donation from bantutanamcoral. Going to scrape the next donation.\n"
     ]
    },
    {
     "name": "stderr",
     "output_type": "stream",
     "text": [
      "/Users/mac/Documents/RU/THESIS/working_thesis/scrape.py:286: FutureWarning: The frame.append method is deprecated and will be removed from pandas in a future version. Use pandas.concat instead.\n",
      "  df_donations_prop = df_donations_prop.append(df)\n"
     ]
    },
    {
     "name": "stdout",
     "output_type": "stream",
     "text": [
      "Successfully scrape donation from yovianatanpapaha. Going to scrape the next donation.\n"
     ]
    },
    {
     "name": "stderr",
     "output_type": "stream",
     "text": [
      "/Users/mac/Documents/RU/THESIS/working_thesis/scrape.py:286: FutureWarning: The frame.append method is deprecated and will be removed from pandas in a future version. Use pandas.concat instead.\n",
      "  df_donations_prop = df_donations_prop.append(df)\n"
     ]
    },
    {
     "name": "stdout",
     "output_type": "stream",
     "text": [
      "Successfully scrape donation from piatujualanjagung. Going to scrape the next donation.\n"
     ]
    },
    {
     "name": "stderr",
     "output_type": "stream",
     "text": [
      "/Users/mac/Documents/RU/THESIS/working_thesis/scrape.py:286: FutureWarning: The frame.append method is deprecated and will be removed from pandas in a future version. Use pandas.concat instead.\n",
      "  df_donations_prop = df_donations_prop.append(df)\n"
     ]
    },
    {
     "name": "stdout",
     "output_type": "stream",
     "text": [
      "Successfully scrape donation from solidaritaskanjuruhan. Going to scrape the next donation.\n"
     ]
    },
    {
     "name": "stderr",
     "output_type": "stream",
     "text": [
      "/Users/mac/Documents/RU/THESIS/working_thesis/scrape.py:286: FutureWarning: The frame.append method is deprecated and will be removed from pandas in a future version. Use pandas.concat instead.\n",
      "  df_donations_prop = df_donations_prop.append(df)\n"
     ]
    },
    {
     "name": "stdout",
     "output_type": "stream",
     "text": [
      "Successfully scrape donation from airbersihdigunungkidul. Going to scrape the next donation.\n"
     ]
    },
    {
     "name": "stderr",
     "output_type": "stream",
     "text": [
      "/Users/mac/Documents/RU/THESIS/working_thesis/scrape.py:286: FutureWarning: The frame.append method is deprecated and will be removed from pandas in a future version. Use pandas.concat instead.\n",
      "  df_donations_prop = df_donations_prop.append(df)\n"
     ]
    },
    {
     "name": "stdout",
     "output_type": "stream",
     "text": [
      "Successfully scrape donation from ayokitabisabantuselamatkankucingliar. Going to scrape the next donation.\n"
     ]
    },
    {
     "name": "stderr",
     "output_type": "stream",
     "text": [
      "/Users/mac/Documents/RU/THESIS/working_thesis/scrape.py:286: FutureWarning: The frame.append method is deprecated and will be removed from pandas in a future version. Use pandas.concat instead.\n",
      "  df_donations_prop = df_donations_prop.append(df)\n"
     ]
    },
    {
     "name": "stdout",
     "output_type": "stream",
     "text": [
      "Successfully scrape donation from bantudonasirumahsayakebakaran. Going to scrape the next donation.\n"
     ]
    },
    {
     "name": "stderr",
     "output_type": "stream",
     "text": [
      "/Users/mac/Documents/RU/THESIS/working_thesis/scrape.py:286: FutureWarning: The frame.append method is deprecated and will be removed from pandas in a future version. Use pandas.concat instead.\n",
      "  df_donations_prop = df_donations_prop.append(df)\n"
     ]
    },
    {
     "name": "stdout",
     "output_type": "stream",
     "text": [
      "Successfully scrape donation from sedekahalatsholat. Going to scrape the next donation.\n"
     ]
    },
    {
     "name": "stderr",
     "output_type": "stream",
     "text": [
      "/Users/mac/Documents/RU/THESIS/working_thesis/scrape.py:286: FutureWarning: The frame.append method is deprecated and will be removed from pandas in a future version. Use pandas.concat instead.\n",
      "  df_donations_prop = df_donations_prop.append(df)\n"
     ]
    },
    {
     "name": "stdout",
     "output_type": "stream",
     "text": [
      "Successfully scrape donation from lantaibatu. Going to scrape the next donation.\n"
     ]
    },
    {
     "name": "stderr",
     "output_type": "stream",
     "text": [
      "/Users/mac/Documents/RU/THESIS/working_thesis/scrape.py:286: FutureWarning: The frame.append method is deprecated and will be removed from pandas in a future version. Use pandas.concat instead.\n",
      "  df_donations_prop = df_donations_prop.append(df)\n"
     ]
    },
    {
     "name": "stdout",
     "output_type": "stream",
     "text": [
      "Successfully scrape donation from bangipulberjuanghidupdarimacaroni. Going to scrape the next donation.\n"
     ]
    },
    {
     "name": "stderr",
     "output_type": "stream",
     "text": [
      "/Users/mac/Documents/RU/THESIS/working_thesis/scrape.py:286: FutureWarning: The frame.append method is deprecated and will be removed from pandas in a future version. Use pandas.concat instead.\n",
      "  df_donations_prop = df_donations_prop.append(df)\n"
     ]
    },
    {
     "name": "stdout",
     "output_type": "stream",
     "text": [
      "Successfully scrape donation from zakatyatamabmm. Going to scrape the next donation.\n"
     ]
    },
    {
     "name": "stderr",
     "output_type": "stream",
     "text": [
      "/Users/mac/Documents/RU/THESIS/working_thesis/scrape.py:286: FutureWarning: The frame.append method is deprecated and will be removed from pandas in a future version. Use pandas.concat instead.\n",
      "  df_donations_prop = df_donations_prop.append(df)\n"
     ]
    },
    {
     "name": "stdout",
     "output_type": "stream",
     "text": [
      "Successfully scrape donation from asramasantribelopa. Going to scrape the next donation.\n"
     ]
    },
    {
     "name": "stderr",
     "output_type": "stream",
     "text": [
      "/Users/mac/Documents/RU/THESIS/working_thesis/scrape.py:286: FutureWarning: The frame.append method is deprecated and will be removed from pandas in a future version. Use pandas.concat instead.\n",
      "  df_donations_prop = df_donations_prop.append(df)\n"
     ]
    },
    {
     "name": "stdout",
     "output_type": "stream",
     "text": [
      "Successfully scrape donation from merdekakanpejuangkanker. Going to scrape the next donation.\n"
     ]
    },
    {
     "name": "stderr",
     "output_type": "stream",
     "text": [
      "/Users/mac/Documents/RU/THESIS/working_thesis/scrape.py:286: FutureWarning: The frame.append method is deprecated and will be removed from pandas in a future version. Use pandas.concat instead.\n",
      "  df_donations_prop = df_donations_prop.append(df)\n"
     ]
    },
    {
     "name": "stdout",
     "output_type": "stream",
     "text": [
      "Successfully scrape donation from bantukakekmaderi. Going to scrape the next donation.\n"
     ]
    },
    {
     "name": "stderr",
     "output_type": "stream",
     "text": [
      "/Users/mac/Documents/RU/THESIS/working_thesis/scrape.py:286: FutureWarning: The frame.append method is deprecated and will be removed from pandas in a future version. Use pandas.concat instead.\n",
      "  df_donations_prop = df_donations_prop.append(df)\n"
     ]
    },
    {
     "name": "stdout",
     "output_type": "stream",
     "text": [
      "Successfully scrape donation from sedekahalquranuntukmualafdipedalaman. Going to scrape the next donation.\n"
     ]
    },
    {
     "name": "stderr",
     "output_type": "stream",
     "text": [
      "/Users/mac/Documents/RU/THESIS/working_thesis/scrape.py:286: FutureWarning: The frame.append method is deprecated and will be removed from pandas in a future version. Use pandas.concat instead.\n",
      "  df_donations_prop = df_donations_prop.append(df)\n"
     ]
    },
    {
     "name": "stdout",
     "output_type": "stream",
     "text": [
      "Successfully scrape donation from jembatanpelosoksulawesi. Going to scrape the next donation.\n"
     ]
    },
    {
     "name": "stderr",
     "output_type": "stream",
     "text": [
      "/Users/mac/Documents/RU/THESIS/working_thesis/scrape.py:286: FutureWarning: The frame.append method is deprecated and will be removed from pandas in a future version. Use pandas.concat instead.\n",
      "  df_donations_prop = df_donations_prop.append(df)\n"
     ]
    },
    {
     "name": "stdout",
     "output_type": "stream",
     "text": [
      "Successfully scrape donation from pedulikucingjalanank3l. Going to scrape the next donation.\n"
     ]
    },
    {
     "name": "stderr",
     "output_type": "stream",
     "text": [
      "/Users/mac/Documents/RU/THESIS/working_thesis/scrape.py:286: FutureWarning: The frame.append method is deprecated and will be removed from pandas in a future version. Use pandas.concat instead.\n",
      "  df_donations_prop = df_donations_prop.append(df)\n"
     ]
    },
    {
     "name": "stdout",
     "output_type": "stream",
     "text": [
      "Successfully scrape donation from borongjualan. Going to scrape the next donation.\n"
     ]
    },
    {
     "name": "stderr",
     "output_type": "stream",
     "text": [
      "/Users/mac/Documents/RU/THESIS/working_thesis/scrape.py:286: FutureWarning: The frame.append method is deprecated and will be removed from pandas in a future version. Use pandas.concat instead.\n",
      "  df_donations_prop = df_donations_prop.append(df)\n"
     ]
    },
    {
     "name": "stdout",
     "output_type": "stream",
     "text": [
      "Successfully scrape donation from pembangunanmasjidhidayatullahkotadepok. Going to scrape the next donation.\n"
     ]
    },
    {
     "name": "stderr",
     "output_type": "stream",
     "text": [
      "/Users/mac/Documents/RU/THESIS/working_thesis/scrape.py:286: FutureWarning: The frame.append method is deprecated and will be removed from pandas in a future version. Use pandas.concat instead.\n",
      "  df_donations_prop = df_donations_prop.append(df)\n"
     ]
    },
    {
     "name": "stdout",
     "output_type": "stream",
     "text": [
      "Successfully scrape donation from kapelanikodemus. Going to scrape the next donation.\n"
     ]
    },
    {
     "name": "stderr",
     "output_type": "stream",
     "text": [
      "/Users/mac/Documents/RU/THESIS/working_thesis/scrape.py:286: FutureWarning: The frame.append method is deprecated and will be removed from pandas in a future version. Use pandas.concat instead.\n",
      "  df_donations_prop = df_donations_prop.append(df)\n"
     ]
    },
    {
     "name": "stdout",
     "output_type": "stream",
     "text": [
      "Successfully scrape donation from masjidimanikary. Going to scrape the next donation.\n"
     ]
    },
    {
     "name": "stderr",
     "output_type": "stream",
     "text": [
      "/Users/mac/Documents/RU/THESIS/working_thesis/scrape.py:286: FutureWarning: The frame.append method is deprecated and will be removed from pandas in a future version. Use pandas.concat instead.\n",
      "  df_donations_prop = df_donations_prop.append(df)\n"
     ]
    },
    {
     "name": "stdout",
     "output_type": "stream",
     "text": [
      "Successfully scrape donation from panelsuryantt. Going to scrape the next donation.\n"
     ]
    },
    {
     "name": "stderr",
     "output_type": "stream",
     "text": [
      "/Users/mac/Documents/RU/THESIS/working_thesis/scrape.py:286: FutureWarning: The frame.append method is deprecated and will be removed from pandas in a future version. Use pandas.concat instead.\n",
      "  df_donations_prop = df_donations_prop.append(df)\n"
     ]
    },
    {
     "name": "stdout",
     "output_type": "stream",
     "text": [
      "Successfully scrape donation from renovasibongkartotalmasjidbaiturrohim. Going to scrape the next donation.\n"
     ]
    },
    {
     "name": "stderr",
     "output_type": "stream",
     "text": [
      "/Users/mac/Documents/RU/THESIS/working_thesis/scrape.py:286: FutureWarning: The frame.append method is deprecated and will be removed from pandas in a future version. Use pandas.concat instead.\n",
      "  df_donations_prop = df_donations_prop.append(df)\n"
     ]
    },
    {
     "name": "stdout",
     "output_type": "stream",
     "text": [
      "Successfully scrape donation from bantugurudifabeldannakdownsyndrome. Going to scrape the next donation.\n"
     ]
    },
    {
     "name": "stderr",
     "output_type": "stream",
     "text": [
      "/Users/mac/Documents/RU/THESIS/working_thesis/scrape.py:286: FutureWarning: The frame.append method is deprecated and will be removed from pandas in a future version. Use pandas.concat instead.\n",
      "  df_donations_prop = df_donations_prop.append(df)\n"
     ]
    },
    {
     "name": "stdout",
     "output_type": "stream",
     "text": [
      "Successfully scrape donation from kitabisabebaskanlahan. Going to scrape the next donation.\n"
     ]
    },
    {
     "name": "stderr",
     "output_type": "stream",
     "text": [
      "/Users/mac/Documents/RU/THESIS/working_thesis/scrape.py:286: FutureWarning: The frame.append method is deprecated and will be removed from pandas in a future version. Use pandas.concat instead.\n",
      "  df_donations_prop = df_donations_prop.append(df)\n"
     ]
    },
    {
     "name": "stdout",
     "output_type": "stream",
     "text": [
      "Successfully scrape donation from bantu300yatimhafalquran. Going to scrape the next donation.\n"
     ]
    },
    {
     "name": "stderr",
     "output_type": "stream",
     "text": [
      "/Users/mac/Documents/RU/THESIS/working_thesis/scrape.py:286: FutureWarning: The frame.append method is deprecated and will be removed from pandas in a future version. Use pandas.concat instead.\n",
      "  df_donations_prop = df_donations_prop.append(df)\n"
     ]
    },
    {
     "name": "stdout",
     "output_type": "stream",
     "text": [
      "Successfully scrape donation from meraihpahaladengansedekahsubuh. Going to scrape the next donation.\n"
     ]
    },
    {
     "name": "stderr",
     "output_type": "stream",
     "text": [
      "/Users/mac/Documents/RU/THESIS/working_thesis/scrape.py:286: FutureWarning: The frame.append method is deprecated and will be removed from pandas in a future version. Use pandas.concat instead.\n",
      "  df_donations_prop = df_donations_prop.append(df)\n"
     ]
    },
    {
     "name": "stdout",
     "output_type": "stream",
     "text": [
      "Successfully scrape donation from bantusantritahfidzpunyatempatsendiri. Going to scrape the next donation.\n"
     ]
    },
    {
     "name": "stderr",
     "output_type": "stream",
     "text": [
      "/Users/mac/Documents/RU/THESIS/working_thesis/scrape.py:286: FutureWarning: The frame.append method is deprecated and will be removed from pandas in a future version. Use pandas.concat instead.\n",
      "  df_donations_prop = df_donations_prop.append(df)\n"
     ]
    },
    {
     "name": "stdout",
     "output_type": "stream",
     "text": [
      "Successfully scrape donation from dengangajinyamamanaomihidupi53anakpanti. Going to scrape the next donation.\n"
     ]
    },
    {
     "name": "stderr",
     "output_type": "stream",
     "text": [
      "/Users/mac/Documents/RU/THESIS/working_thesis/scrape.py:286: FutureWarning: The frame.append method is deprecated and will be removed from pandas in a future version. Use pandas.concat instead.\n",
      "  df_donations_prop = df_donations_prop.append(df)\n"
     ]
    },
    {
     "name": "stdout",
     "output_type": "stream",
     "text": [
      "Successfully scrape donation from membelipetimati. Going to scrape the next donation.\n"
     ]
    },
    {
     "name": "stderr",
     "output_type": "stream",
     "text": [
      "/Users/mac/Documents/RU/THESIS/working_thesis/scrape.py:286: FutureWarning: The frame.append method is deprecated and will be removed from pandas in a future version. Use pandas.concat instead.\n",
      "  df_donations_prop = df_donations_prop.append(df)\n"
     ]
    },
    {
     "name": "stdout",
     "output_type": "stream",
     "text": [
      "Successfully scrape donation from foodforlebanon. Going to scrape the next donation.\n"
     ]
    },
    {
     "name": "stderr",
     "output_type": "stream",
     "text": [
      "/Users/mac/Documents/RU/THESIS/working_thesis/scrape.py:286: FutureWarning: The frame.append method is deprecated and will be removed from pandas in a future version. Use pandas.concat instead.\n",
      "  df_donations_prop = df_donations_prop.append(df)\n"
     ]
    },
    {
     "name": "stdout",
     "output_type": "stream",
     "text": [
      "Successfully scrape donation from ringankanbebanduafa. Going to scrape the next donation.\n"
     ]
    },
    {
     "name": "stderr",
     "output_type": "stream",
     "text": [
      "/Users/mac/Documents/RU/THESIS/working_thesis/scrape.py:286: FutureWarning: The frame.append method is deprecated and will be removed from pandas in a future version. Use pandas.concat instead.\n",
      "  df_donations_prop = df_donations_prop.append(df)\n"
     ]
    },
    {
     "name": "stdout",
     "output_type": "stream",
     "text": [
      "Successfully scrape donation from infaqyatimtyi. Going to scrape the next donation.\n"
     ]
    },
    {
     "name": "stderr",
     "output_type": "stream",
     "text": [
      "/Users/mac/Documents/RU/THESIS/working_thesis/scrape.py:286: FutureWarning: The frame.append method is deprecated and will be removed from pandas in a future version. Use pandas.concat instead.\n",
      "  df_donations_prop = df_donations_prop.append(df)\n"
     ]
    },
    {
     "name": "stdout",
     "output_type": "stream",
     "text": [
      "Successfully scrape donation from pesantrengratisuntuksantritahfizh. Going to scrape the next donation.\n"
     ]
    },
    {
     "name": "stderr",
     "output_type": "stream",
     "text": [
      "/Users/mac/Documents/RU/THESIS/working_thesis/scrape.py:286: FutureWarning: The frame.append method is deprecated and will be removed from pandas in a future version. Use pandas.concat instead.\n",
      "  df_donations_prop = df_donations_prop.append(df)\n"
     ]
    },
    {
     "name": "stdout",
     "output_type": "stream",
     "text": [
      "Successfully scrape donation from bantuponpestahfidzguntur. Going to scrape the next donation.\n"
     ]
    },
    {
     "name": "stderr",
     "output_type": "stream",
     "text": [
      "/Users/mac/Documents/RU/THESIS/working_thesis/scrape.py:286: FutureWarning: The frame.append method is deprecated and will be removed from pandas in a future version. Use pandas.concat instead.\n",
      "  df_donations_prop = df_donations_prop.append(df)\n"
     ]
    },
    {
     "name": "stdout",
     "output_type": "stream",
     "text": [
      "Successfully scrape donation from sdkhberas. Going to scrape the next donation.\n"
     ]
    },
    {
     "name": "stderr",
     "output_type": "stream",
     "text": [
      "/Users/mac/Documents/RU/THESIS/working_thesis/scrape.py:286: FutureWarning: The frame.append method is deprecated and will be removed from pandas in a future version. Use pandas.concat instead.\n",
      "  df_donations_prop = df_donations_prop.append(df)\n"
     ]
    },
    {
     "name": "stdout",
     "output_type": "stream",
     "text": [
      "Successfully scrape donation from perbaikangedungpantilepraalvernosingkawang. Going to scrape the next donation.\n"
     ]
    },
    {
     "name": "stderr",
     "output_type": "stream",
     "text": [
      "/Users/mac/Documents/RU/THESIS/working_thesis/scrape.py:286: FutureWarning: The frame.append method is deprecated and will be removed from pandas in a future version. Use pandas.concat instead.\n",
      "  df_donations_prop = df_donations_prop.append(df)\n"
     ]
    },
    {
     "name": "stdout",
     "output_type": "stream",
     "text": [
      "Successfully scrape donation from wakaflahanasramatahfidz. Going to scrape the next donation.\n"
     ]
    },
    {
     "name": "stderr",
     "output_type": "stream",
     "text": [
      "/Users/mac/Documents/RU/THESIS/working_thesis/scrape.py:286: FutureWarning: The frame.append method is deprecated and will be removed from pandas in a future version. Use pandas.concat instead.\n",
      "  df_donations_prop = df_donations_prop.append(df)\n"
     ]
    },
    {
     "name": "stdout",
     "output_type": "stream",
     "text": [
      "Successfully scrape donation from formasiraya. Going to scrape the next donation.\n"
     ]
    },
    {
     "name": "stderr",
     "output_type": "stream",
     "text": [
      "/Users/mac/Documents/RU/THESIS/working_thesis/scrape.py:286: FutureWarning: The frame.append method is deprecated and will be removed from pandas in a future version. Use pandas.concat instead.\n",
      "  df_donations_prop = df_donations_prop.append(df)\n"
     ]
    },
    {
     "name": "stdout",
     "output_type": "stream",
     "text": [
      "Successfully scrape donation from berbagilistrikkampungloangntt. Going to scrape the next donation.\n"
     ]
    },
    {
     "name": "stderr",
     "output_type": "stream",
     "text": [
      "/Users/mac/Documents/RU/THESIS/working_thesis/scrape.py:286: FutureWarning: The frame.append method is deprecated and will be removed from pandas in a future version. Use pandas.concat instead.\n",
      "  df_donations_prop = df_donations_prop.append(df)\n"
     ]
    },
    {
     "name": "stdout",
     "output_type": "stream",
     "text": [
      "Successfully scrape donation from pahlawanmasjidindonesia. Going to scrape the next donation.\n"
     ]
    },
    {
     "name": "stderr",
     "output_type": "stream",
     "text": [
      "/Users/mac/Documents/RU/THESIS/working_thesis/scrape.py:286: FutureWarning: The frame.append method is deprecated and will be removed from pandas in a future version. Use pandas.concat instead.\n",
      "  df_donations_prop = df_donations_prop.append(df)\n"
     ]
    },
    {
     "name": "stdout",
     "output_type": "stream",
     "text": [
      "Successfully scrape donation from sedekahmembangunrumahkucingterlantar. Going to scrape the next donation.\n"
     ]
    },
    {
     "name": "stderr",
     "output_type": "stream",
     "text": [
      "/Users/mac/Documents/RU/THESIS/working_thesis/scrape.py:286: FutureWarning: The frame.append method is deprecated and will be removed from pandas in a future version. Use pandas.concat instead.\n",
      "  df_donations_prop = df_donations_prop.append(df)\n"
     ]
    },
    {
     "name": "stdout",
     "output_type": "stream",
     "text": [
      "Successfully scrape donation from pedulibencanabanjirmedan. Going to scrape the next donation.\n"
     ]
    },
    {
     "name": "stderr",
     "output_type": "stream",
     "text": [
      "/Users/mac/Documents/RU/THESIS/working_thesis/scrape.py:286: FutureWarning: The frame.append method is deprecated and will be removed from pandas in a future version. Use pandas.concat instead.\n",
      "  df_donations_prop = df_donations_prop.append(df)\n"
     ]
    },
    {
     "name": "stdout",
     "output_type": "stream",
     "text": [
      "Successfully scrape donation from mohonbantupembangunangerejastrafaellahusa. Going to scrape the next donation.\n"
     ]
    },
    {
     "name": "stderr",
     "output_type": "stream",
     "text": [
      "/Users/mac/Documents/RU/THESIS/working_thesis/scrape.py:286: FutureWarning: The frame.append method is deprecated and will be removed from pandas in a future version. Use pandas.concat instead.\n",
      "  df_donations_prop = df_donations_prop.append(df)\n"
     ]
    },
    {
     "name": "stdout",
     "output_type": "stream",
     "text": [
      "Successfully scrape donation from zariahmasjidalikhsancipining. Going to scrape the next donation.\n"
     ]
    },
    {
     "name": "stderr",
     "output_type": "stream",
     "text": [
      "/Users/mac/Documents/RU/THESIS/working_thesis/scrape.py:286: FutureWarning: The frame.append method is deprecated and will be removed from pandas in a future version. Use pandas.concat instead.\n",
      "  df_donations_prop = df_donations_prop.append(df)\n"
     ]
    },
    {
     "name": "stdout",
     "output_type": "stream",
     "text": [
      "Successfully scrape donation from banturenovasimushollaalishlahkebanjiran. Going to scrape the next donation.\n"
     ]
    },
    {
     "name": "stderr",
     "output_type": "stream",
     "text": [
      "/Users/mac/Documents/RU/THESIS/working_thesis/scrape.py:286: FutureWarning: The frame.append method is deprecated and will be removed from pandas in a future version. Use pandas.concat instead.\n",
      "  df_donations_prop = df_donations_prop.append(df)\n"
     ]
    },
    {
     "name": "stdout",
     "output_type": "stream",
     "text": [
      "Successfully scrape donation from yukikutbangunmasjidbukitkakilangitdilingga. Going to scrape the next donation.\n"
     ]
    },
    {
     "name": "stderr",
     "output_type": "stream",
     "text": [
      "/Users/mac/Documents/RU/THESIS/working_thesis/scrape.py:286: FutureWarning: The frame.append method is deprecated and will be removed from pandas in a future version. Use pandas.concat instead.\n",
      "  df_donations_prop = df_donations_prop.append(df)\n"
     ]
    },
    {
     "name": "stdout",
     "output_type": "stream",
     "text": [
      "Successfully scrape donation from bantupembangunanmasjidalhijroh. Going to scrape the next donation.\n"
     ]
    },
    {
     "name": "stderr",
     "output_type": "stream",
     "text": [
      "/Users/mac/Documents/RU/THESIS/working_thesis/scrape.py:286: FutureWarning: The frame.append method is deprecated and will be removed from pandas in a future version. Use pandas.concat instead.\n",
      "  df_donations_prop = df_donations_prop.append(df)\n"
     ]
    },
    {
     "name": "stdout",
     "output_type": "stream",
     "text": [
      "Successfully scrape donation from masjidpelosokenrekang. Going to scrape the next donation.\n"
     ]
    },
    {
     "name": "stderr",
     "output_type": "stream",
     "text": [
      "/Users/mac/Documents/RU/THESIS/working_thesis/scrape.py:286: FutureWarning: The frame.append method is deprecated and will be removed from pandas in a future version. Use pandas.concat instead.\n",
      "  df_donations_prop = df_donations_prop.append(df)\n"
     ]
    },
    {
     "name": "stdout",
     "output_type": "stream",
     "text": [
      "Successfully scrape donation from masjidkayutimor. Going to scrape the next donation.\n"
     ]
    },
    {
     "name": "stderr",
     "output_type": "stream",
     "text": [
      "/Users/mac/Documents/RU/THESIS/working_thesis/scrape.py:286: FutureWarning: The frame.append method is deprecated and will be removed from pandas in a future version. Use pandas.concat instead.\n",
      "  df_donations_prop = df_donations_prop.append(df)\n"
     ]
    },
    {
     "name": "stdout",
     "output_type": "stream",
     "text": [
      "Successfully scrape donation from disabilitasdaksa. Going to scrape the next donation.\n"
     ]
    },
    {
     "name": "stderr",
     "output_type": "stream",
     "text": [
      "/Users/mac/Documents/RU/THESIS/working_thesis/scrape.py:286: FutureWarning: The frame.append method is deprecated and will be removed from pandas in a future version. Use pandas.concat instead.\n",
      "  df_donations_prop = df_donations_prop.append(df)\n"
     ]
    },
    {
     "name": "stdout",
     "output_type": "stream",
     "text": [
      "Successfully scrape donation from yukberzakat. Going to scrape the next donation.\n"
     ]
    },
    {
     "name": "stderr",
     "output_type": "stream",
     "text": [
      "/Users/mac/Documents/RU/THESIS/working_thesis/scrape.py:286: FutureWarning: The frame.append method is deprecated and will be removed from pandas in a future version. Use pandas.concat instead.\n",
      "  df_donations_prop = df_donations_prop.append(df)\n"
     ]
    },
    {
     "name": "stdout",
     "output_type": "stream",
     "text": [
      "Successfully scrape donation from zakatuntukpangandisabilitas. Going to scrape the next donation.\n"
     ]
    },
    {
     "name": "stderr",
     "output_type": "stream",
     "text": [
      "/Users/mac/Documents/RU/THESIS/working_thesis/scrape.py:286: FutureWarning: The frame.append method is deprecated and will be removed from pandas in a future version. Use pandas.concat instead.\n",
      "  df_donations_prop = df_donations_prop.append(df)\n"
     ]
    },
    {
     "name": "stdout",
     "output_type": "stream",
     "text": [
      "Successfully scrape donation from zakatsantunanyatimdhuafa. Going to scrape the next donation.\n"
     ]
    },
    {
     "name": "stderr",
     "output_type": "stream",
     "text": [
      "/Users/mac/Documents/RU/THESIS/working_thesis/scrape.py:286: FutureWarning: The frame.append method is deprecated and will be removed from pandas in a future version. Use pandas.concat instead.\n",
      "  df_donations_prop = df_donations_prop.append(df)\n"
     ]
    },
    {
     "name": "stdout",
     "output_type": "stream",
     "text": [
      "Successfully scrape donation from bantukasihmakananakyatimjompodansantri. Going to scrape the next donation.\n"
     ]
    },
    {
     "name": "stderr",
     "output_type": "stream",
     "text": [
      "/Users/mac/Documents/RU/THESIS/working_thesis/scrape.py:286: FutureWarning: The frame.append method is deprecated and will be removed from pandas in a future version. Use pandas.concat instead.\n",
      "  df_donations_prop = df_donations_prop.append(df)\n"
     ]
    },
    {
     "name": "stdout",
     "output_type": "stream",
     "text": [
      "Successfully scrape donation from kadountukanakpantiasuhan. Going to scrape the next donation.\n"
     ]
    },
    {
     "name": "stderr",
     "output_type": "stream",
     "text": [
      "/Users/mac/Documents/RU/THESIS/working_thesis/scrape.py:286: FutureWarning: The frame.append method is deprecated and will be removed from pandas in a future version. Use pandas.concat instead.\n",
      "  df_donations_prop = df_donations_prop.append(df)\n"
     ]
    },
    {
     "name": "stdout",
     "output_type": "stream",
     "text": [
      "Successfully scrape donation from sedekahuntukbiayahidupanakyatimwadhuafa. Going to scrape the next donation.\n"
     ]
    },
    {
     "name": "stderr",
     "output_type": "stream",
     "text": [
      "/Users/mac/Documents/RU/THESIS/working_thesis/scrape.py:286: FutureWarning: The frame.append method is deprecated and will be removed from pandas in a future version. Use pandas.concat instead.\n",
      "  df_donations_prop = df_donations_prop.append(df)\n"
     ]
    },
    {
     "name": "stdout",
     "output_type": "stream",
     "text": [
      "Successfully scrape donation from pondokdibm. Going to scrape the next donation.\n"
     ]
    },
    {
     "name": "stderr",
     "output_type": "stream",
     "text": [
      "/Users/mac/Documents/RU/THESIS/working_thesis/scrape.py:286: FutureWarning: The frame.append method is deprecated and will be removed from pandas in a future version. Use pandas.concat instead.\n",
      "  df_donations_prop = df_donations_prop.append(df)\n"
     ]
    },
    {
     "name": "stdout",
     "output_type": "stream",
     "text": [
      "Successfully scrape donation from lanjutsekolahwalaucorona. Going to scrape the next donation.\n"
     ]
    },
    {
     "name": "stderr",
     "output_type": "stream",
     "text": [
      "/Users/mac/Documents/RU/THESIS/working_thesis/scrape.py:286: FutureWarning: The frame.append method is deprecated and will be removed from pandas in a future version. Use pandas.concat instead.\n",
      "  df_donations_prop = df_donations_prop.append(df)\n"
     ]
    },
    {
     "name": "stdout",
     "output_type": "stream",
     "text": [
      "Successfully scrape donation from beasiswayatim. Going to scrape the next donation.\n"
     ]
    },
    {
     "name": "stderr",
     "output_type": "stream",
     "text": [
      "/Users/mac/Documents/RU/THESIS/working_thesis/scrape.py:286: FutureWarning: The frame.append method is deprecated and will be removed from pandas in a future version. Use pandas.concat instead.\n",
      "  df_donations_prop = df_donations_prop.append(df)\n"
     ]
    },
    {
     "name": "stdout",
     "output_type": "stream",
     "text": [
      "Successfully scrape donation from bantukamisedekahmakanangratistiaphari. Going to scrape the next donation.\n"
     ]
    },
    {
     "name": "stderr",
     "output_type": "stream",
     "text": [
      "/Users/mac/Documents/RU/THESIS/working_thesis/scrape.py:286: FutureWarning: The frame.append method is deprecated and will be removed from pandas in a future version. Use pandas.concat instead.\n",
      "  df_donations_prop = df_donations_prop.append(df)\n"
     ]
    },
    {
     "name": "stdout",
     "output_type": "stream",
     "text": [
      "Successfully scrape donation from hadiahrumahlayakustad. Going to scrape the next donation.\n"
     ]
    },
    {
     "name": "stderr",
     "output_type": "stream",
     "text": [
      "/Users/mac/Documents/RU/THESIS/working_thesis/scrape.py:286: FutureWarning: The frame.append method is deprecated and will be removed from pandas in a future version. Use pandas.concat instead.\n",
      "  df_donations_prop = df_donations_prop.append(df)\n"
     ]
    },
    {
     "name": "stdout",
     "output_type": "stream",
     "text": [
      "Successfully scrape donation from perjuanganhidupayahdananaknya. Going to scrape the next donation.\n"
     ]
    },
    {
     "name": "stderr",
     "output_type": "stream",
     "text": [
      "/Users/mac/Documents/RU/THESIS/working_thesis/scrape.py:286: FutureWarning: The frame.append method is deprecated and will be removed from pandas in a future version. Use pandas.concat instead.\n",
      "  df_donations_prop = df_donations_prop.append(df)\n"
     ]
    },
    {
     "name": "stdout",
     "output_type": "stream",
     "text": [
      "Successfully scrape donation from pesantrentahfidzpelosok. Going to scrape the next donation.\n"
     ]
    },
    {
     "name": "stderr",
     "output_type": "stream",
     "text": [
      "/Users/mac/Documents/RU/THESIS/working_thesis/scrape.py:286: FutureWarning: The frame.append method is deprecated and will be removed from pandas in a future version. Use pandas.concat instead.\n",
      "  df_donations_prop = df_donations_prop.append(df)\n"
     ]
    },
    {
     "name": "stdout",
     "output_type": "stream",
     "text": [
      "Successfully scrape donation from wakafpembebasanlahanpessantrenpenghafalquran. Going to scrape the next donation.\n"
     ]
    },
    {
     "name": "stderr",
     "output_type": "stream",
     "text": [
      "/Users/mac/Documents/RU/THESIS/working_thesis/scrape.py:286: FutureWarning: The frame.append method is deprecated and will be removed from pandas in a future version. Use pandas.concat instead.\n",
      "  df_donations_prop = df_donations_prop.append(df)\n"
     ]
    },
    {
     "name": "stdout",
     "output_type": "stream",
     "text": [
      "Successfully scrape donation from bantuansemenmasjid. Going to scrape the next donation.\n"
     ]
    },
    {
     "name": "stderr",
     "output_type": "stream",
     "text": [
      "/Users/mac/Documents/RU/THESIS/working_thesis/scrape.py:286: FutureWarning: The frame.append method is deprecated and will be removed from pandas in a future version. Use pandas.concat instead.\n",
      "  df_donations_prop = df_donations_prop.append(df)\n"
     ]
    },
    {
     "name": "stdout",
     "output_type": "stream",
     "text": [
      "Successfully scrape donation from bantuparapedagangkecil. Going to scrape the next donation.\n"
     ]
    },
    {
     "name": "stderr",
     "output_type": "stream",
     "text": [
      "/Users/mac/Documents/RU/THESIS/working_thesis/scrape.py:286: FutureWarning: The frame.append method is deprecated and will be removed from pandas in a future version. Use pandas.concat instead.\n",
      "  df_donations_prop = df_donations_prop.append(df)\n"
     ]
    },
    {
     "name": "stdout",
     "output_type": "stream",
     "text": [
      "Successfully scrape donation from modalusahakonter. Going to scrape the next donation.\n"
     ]
    },
    {
     "name": "stderr",
     "output_type": "stream",
     "text": [
      "/Users/mac/Documents/RU/THESIS/working_thesis/scrape.py:286: FutureWarning: The frame.append method is deprecated and will be removed from pandas in a future version. Use pandas.concat instead.\n",
      "  df_donations_prop = df_donations_prop.append(df)\n"
     ]
    },
    {
     "name": "stdout",
     "output_type": "stream",
     "text": [
      "Successfully scrape donation from bantukucingliarhidupaman. Going to scrape the next donation.\n"
     ]
    },
    {
     "name": "stderr",
     "output_type": "stream",
     "text": [
      "/Users/mac/Documents/RU/THESIS/working_thesis/scrape.py:286: FutureWarning: The frame.append method is deprecated and will be removed from pandas in a future version. Use pandas.concat instead.\n",
      "  df_donations_prop = df_donations_prop.append(df)\n"
     ]
    },
    {
     "name": "stdout",
     "output_type": "stream",
     "text": [
      "Successfully scrape donation from banturehabilitasicenterbarukukangsumatra. Going to scrape the next donation.\n"
     ]
    },
    {
     "name": "stderr",
     "output_type": "stream",
     "text": [
      "/Users/mac/Documents/RU/THESIS/working_thesis/scrape.py:286: FutureWarning: The frame.append method is deprecated and will be removed from pandas in a future version. Use pandas.concat instead.\n",
      "  df_donations_prop = df_donations_prop.append(df)\n"
     ]
    },
    {
     "name": "stdout",
     "output_type": "stream",
     "text": [
      "Successfully scrape donation from airbersihuntuknegeri. Going to scrape the next donation.\n"
     ]
    },
    {
     "name": "stderr",
     "output_type": "stream",
     "text": [
      "/Users/mac/Documents/RU/THESIS/working_thesis/scrape.py:286: FutureWarning: The frame.append method is deprecated and will be removed from pandas in a future version. Use pandas.concat instead.\n",
      "  df_donations_prop = df_donations_prop.append(df)\n"
     ]
    },
    {
     "name": "stdout",
     "output_type": "stream",
     "text": [
      "Successfully scrape donation from infaqsdqhrenovmasjiattaqwa. Going to scrape the next donation.\n"
     ]
    },
    {
     "name": "stderr",
     "output_type": "stream",
     "text": [
      "/Users/mac/Documents/RU/THESIS/working_thesis/scrape.py:286: FutureWarning: The frame.append method is deprecated and will be removed from pandas in a future version. Use pandas.concat instead.\n",
      "  df_donations_prop = df_donations_prop.append(df)\n"
     ]
    },
    {
     "name": "stdout",
     "output_type": "stream",
     "text": [
      "Successfully scrape donation from patungankainaltarsembahyangtokwi. Going to scrape the next donation.\n"
     ]
    },
    {
     "name": "stderr",
     "output_type": "stream",
     "text": [
      "/Users/mac/Documents/RU/THESIS/working_thesis/scrape.py:286: FutureWarning: The frame.append method is deprecated and will be removed from pandas in a future version. Use pandas.concat instead.\n",
      "  df_donations_prop = df_donations_prop.append(df)\n"
     ]
    },
    {
     "name": "stdout",
     "output_type": "stream",
     "text": [
      "Successfully scrape donation from pembangunanmasjidshirootholmustaqiimsurabaya. Going to scrape the next donation.\n"
     ]
    },
    {
     "name": "stderr",
     "output_type": "stream",
     "text": [
      "/Users/mac/Documents/RU/THESIS/working_thesis/scrape.py:286: FutureWarning: The frame.append method is deprecated and will be removed from pandas in a future version. Use pandas.concat instead.\n",
      "  df_donations_prop = df_donations_prop.append(df)\n"
     ]
    },
    {
     "name": "stdout",
     "output_type": "stream",
     "text": [
      "Successfully scrape donation from infaqpembangunanmasjidnurulislam. Going to scrape the next donation.\n"
     ]
    },
    {
     "name": "stderr",
     "output_type": "stream",
     "text": [
      "/Users/mac/Documents/RU/THESIS/working_thesis/scrape.py:286: FutureWarning: The frame.append method is deprecated and will be removed from pandas in a future version. Use pandas.concat instead.\n",
      "  df_donations_prop = df_donations_prop.append(df)\n"
     ]
    },
    {
     "name": "stdout",
     "output_type": "stream",
     "text": [
      "Successfully scrape donation from pembangunanmesjidassalamivorygarden. Going to scrape the next donation.\n"
     ]
    },
    {
     "name": "stderr",
     "output_type": "stream",
     "text": [
      "/Users/mac/Documents/RU/THESIS/working_thesis/scrape.py:286: FutureWarning: The frame.append method is deprecated and will be removed from pandas in a future version. Use pandas.concat instead.\n",
      "  df_donations_prop = df_donations_prop.append(df)\n"
     ]
    },
    {
     "name": "stdout",
     "output_type": "stream",
     "text": [
      "Successfully scrape donation from membangunmasjid2lantaiseringtidakmuat. Going to scrape the next donation.\n"
     ]
    },
    {
     "name": "stderr",
     "output_type": "stream",
     "text": [
      "/Users/mac/Documents/RU/THESIS/working_thesis/scrape.py:286: FutureWarning: The frame.append method is deprecated and will be removed from pandas in a future version. Use pandas.concat instead.\n",
      "  df_donations_prop = df_donations_prop.append(df)\n"
     ]
    },
    {
     "name": "stdout",
     "output_type": "stream",
     "text": [
      "Successfully scrape donation from terangimasjidpedalaman. Going to scrape the next donation.\n"
     ]
    },
    {
     "name": "stderr",
     "output_type": "stream",
     "text": [
      "/Users/mac/Documents/RU/THESIS/working_thesis/scrape.py:286: FutureWarning: The frame.append method is deprecated and will be removed from pandas in a future version. Use pandas.concat instead.\n",
      "  df_donations_prop = df_donations_prop.append(df)\n"
     ]
    },
    {
     "name": "stdout",
     "output_type": "stream",
     "text": [
      "Successfully scrape donation from masjidbabussholeh. Going to scrape the next donation.\n"
     ]
    },
    {
     "name": "stderr",
     "output_type": "stream",
     "text": [
      "/Users/mac/Documents/RU/THESIS/working_thesis/scrape.py:286: FutureWarning: The frame.append method is deprecated and will be removed from pandas in a future version. Use pandas.concat instead.\n",
      "  df_donations_prop = df_donations_prop.append(df)\n"
     ]
    },
    {
     "name": "stdout",
     "output_type": "stream",
     "text": [
      "Successfully scrape donation from bantupembangunanmusholaalfurqon. Going to scrape the next donation.\n"
     ]
    },
    {
     "name": "stderr",
     "output_type": "stream",
     "text": [
      "/Users/mac/Documents/RU/THESIS/working_thesis/scrape.py:286: FutureWarning: The frame.append method is deprecated and will be removed from pandas in a future version. Use pandas.concat instead.\n",
      "  df_donations_prop = df_donations_prop.append(df)\n"
     ]
    },
    {
     "name": "stdout",
     "output_type": "stream",
     "text": [
      "Successfully scrape donation from pembangunanmusholanursyahid. Going to scrape the next donation.\n"
     ]
    },
    {
     "name": "stderr",
     "output_type": "stream",
     "text": [
      "/Users/mac/Documents/RU/THESIS/working_thesis/scrape.py:286: FutureWarning: The frame.append method is deprecated and will be removed from pandas in a future version. Use pandas.concat instead.\n",
      "  df_donations_prop = df_donations_prop.append(df)\n"
     ]
    },
    {
     "name": "stdout",
     "output_type": "stream",
     "text": [
      "Successfully scrape donation from jadiberkatbuatdaerahpelosok. Going to scrape the next donation.\n"
     ]
    },
    {
     "name": "stderr",
     "output_type": "stream",
     "text": [
      "/Users/mac/Documents/RU/THESIS/working_thesis/scrape.py:286: FutureWarning: The frame.append method is deprecated and will be removed from pandas in a future version. Use pandas.concat instead.\n",
      "  df_donations_prop = df_donations_prop.append(df)\n"
     ]
    },
    {
     "name": "stdout",
     "output_type": "stream",
     "text": [
      "Successfully scrape donation from masjidlapukmajene. Going to scrape the next donation.\n"
     ]
    },
    {
     "name": "stderr",
     "output_type": "stream",
     "text": [
      "/Users/mac/Documents/RU/THESIS/working_thesis/scrape.py:286: FutureWarning: The frame.append method is deprecated and will be removed from pandas in a future version. Use pandas.concat instead.\n",
      "  df_donations_prop = df_donations_prop.append(df)\n"
     ]
    },
    {
     "name": "stdout",
     "output_type": "stream",
     "text": [
      "Successfully scrape donation from ydsfpejuangtunanetra. Going to scrape the next donation.\n"
     ]
    },
    {
     "name": "stderr",
     "output_type": "stream",
     "text": [
      "/Users/mac/Documents/RU/THESIS/working_thesis/scrape.py:286: FutureWarning: The frame.append method is deprecated and will be removed from pandas in a future version. Use pandas.concat instead.\n",
      "  df_donations_prop = df_donations_prop.append(df)\n"
     ]
    },
    {
     "name": "stdout",
     "output_type": "stream",
     "text": [
      "Successfully scrape donation from zakatuntukgurungajidiindonesia. Going to scrape the next donation.\n"
     ]
    },
    {
     "name": "stderr",
     "output_type": "stream",
     "text": [
      "/Users/mac/Documents/RU/THESIS/working_thesis/scrape.py:286: FutureWarning: The frame.append method is deprecated and will be removed from pandas in a future version. Use pandas.concat instead.\n",
      "  df_donations_prop = df_donations_prop.append(df)\n"
     ]
    },
    {
     "name": "stdout",
     "output_type": "stream",
     "text": [
      "Successfully scrape donation from zakathafara. Going to scrape the next donation.\n"
     ]
    },
    {
     "name": "stderr",
     "output_type": "stream",
     "text": [
      "/Users/mac/Documents/RU/THESIS/working_thesis/scrape.py:286: FutureWarning: The frame.append method is deprecated and will be removed from pandas in a future version. Use pandas.concat instead.\n",
      "  df_donations_prop = df_donations_prop.append(df)\n"
     ]
    },
    {
     "name": "stdout",
     "output_type": "stream",
     "text": [
      "Successfully scrape donation from rumahyatim1. Going to scrape the next donation.\n"
     ]
    },
    {
     "name": "stderr",
     "output_type": "stream",
     "text": [
      "/Users/mac/Documents/RU/THESIS/working_thesis/scrape.py:286: FutureWarning: The frame.append method is deprecated and will be removed from pandas in a future version. Use pandas.concat instead.\n",
      "  df_donations_prop = df_donations_prop.append(df)\n"
     ]
    },
    {
     "name": "stdout",
     "output_type": "stream",
     "text": [
      "Successfully scrape donation from bantubiayaoperasionalpondokyatimdhuafa. Going to scrape the next donation.\n"
     ]
    },
    {
     "name": "stderr",
     "output_type": "stream",
     "text": [
      "/Users/mac/Documents/RU/THESIS/working_thesis/scrape.py:286: FutureWarning: The frame.append method is deprecated and will be removed from pandas in a future version. Use pandas.concat instead.\n",
      "  df_donations_prop = df_donations_prop.append(df)\n"
     ]
    },
    {
     "name": "stdout",
     "output_type": "stream",
     "text": [
      "Successfully scrape donation from asramadanmusholla. Going to scrape the next donation.\n"
     ]
    },
    {
     "name": "stderr",
     "output_type": "stream",
     "text": [
      "/Users/mac/Documents/RU/THESIS/working_thesis/scrape.py:286: FutureWarning: The frame.append method is deprecated and will be removed from pandas in a future version. Use pandas.concat instead.\n",
      "  df_donations_prop = df_donations_prop.append(df)\n"
     ]
    },
    {
     "name": "stdout",
     "output_type": "stream",
     "text": [
      "Successfully scrape donation from bantuanakanakyatimpiatu. Going to scrape the next donation.\n"
     ]
    },
    {
     "name": "stderr",
     "output_type": "stream",
     "text": [
      "/Users/mac/Documents/RU/THESIS/working_thesis/scrape.py:286: FutureWarning: The frame.append method is deprecated and will be removed from pandas in a future version. Use pandas.concat instead.\n",
      "  df_donations_prop = df_donations_prop.append(df)\n"
     ]
    },
    {
     "name": "stdout",
     "output_type": "stream",
     "text": [
      "Successfully scrape donation from semangatcintayatim. Going to scrape the next donation.\n"
     ]
    },
    {
     "name": "stderr",
     "output_type": "stream",
     "text": [
      "/Users/mac/Documents/RU/THESIS/working_thesis/scrape.py:286: FutureWarning: The frame.append method is deprecated and will be removed from pandas in a future version. Use pandas.concat instead.\n",
      "  df_donations_prop = df_donations_prop.append(df)\n"
     ]
    },
    {
     "name": "stdout",
     "output_type": "stream",
     "text": [
      "Successfully scrape donation from sedekahsubuhrenovasiasramasantritahfidz. Going to scrape the next donation.\n"
     ]
    },
    {
     "name": "stderr",
     "output_type": "stream",
     "text": [
      "/Users/mac/Documents/RU/THESIS/working_thesis/scrape.py:286: FutureWarning: The frame.append method is deprecated and will be removed from pandas in a future version. Use pandas.concat instead.\n",
      "  df_donations_prop = df_donations_prop.append(df)\n"
     ]
    },
    {
     "name": "stdout",
     "output_type": "stream",
     "text": [
      "Successfully scrape donation from sedekahuntuksantripenghafalquranyatimdhuafa. Going to scrape the next donation.\n"
     ]
    },
    {
     "name": "stderr",
     "output_type": "stream",
     "text": [
      "/Users/mac/Documents/RU/THESIS/working_thesis/scrape.py:286: FutureWarning: The frame.append method is deprecated and will be removed from pandas in a future version. Use pandas.concat instead.\n",
      "  df_donations_prop = df_donations_prop.append(df)\n"
     ]
    },
    {
     "name": "stdout",
     "output_type": "stream",
     "text": [
      "Successfully scrape donation from bantupembeliantanahdanbangunanpantiasuhan. Going to scrape the next donation.\n"
     ]
    },
    {
     "name": "stderr",
     "output_type": "stream",
     "text": [
      "/Users/mac/Documents/RU/THESIS/working_thesis/scrape.py:286: FutureWarning: The frame.append method is deprecated and will be removed from pandas in a future version. Use pandas.concat instead.\n",
      "  df_donations_prop = df_donations_prop.append(df)\n"
     ]
    },
    {
     "name": "stdout",
     "output_type": "stream",
     "text": [
      "Successfully scrape donation from pedulianakntt. Going to scrape the next donation.\n"
     ]
    },
    {
     "name": "stderr",
     "output_type": "stream",
     "text": [
      "/Users/mac/Documents/RU/THESIS/working_thesis/scrape.py:286: FutureWarning: The frame.append method is deprecated and will be removed from pandas in a future version. Use pandas.concat instead.\n",
      "  df_donations_prop = df_donations_prop.append(df)\n"
     ]
    },
    {
     "name": "stdout",
     "output_type": "stream",
     "text": [
      "Successfully scrape donation from bantuyatimpiatuhiv. Going to scrape the next donation.\n"
     ]
    },
    {
     "name": "stderr",
     "output_type": "stream",
     "text": [
      "/Users/mac/Documents/RU/THESIS/working_thesis/scrape.py:286: FutureWarning: The frame.append method is deprecated and will be removed from pandas in a future version. Use pandas.concat instead.\n",
      "  df_donations_prop = df_donations_prop.append(df)\n"
     ]
    },
    {
     "name": "stdout",
     "output_type": "stream",
     "text": [
      "Successfully scrape donation from bantuyatimpiatudandhuafadapatasrama. Going to scrape the next donation.\n"
     ]
    },
    {
     "name": "stderr",
     "output_type": "stream",
     "text": [
      "/Users/mac/Documents/RU/THESIS/working_thesis/scrape.py:286: FutureWarning: The frame.append method is deprecated and will be removed from pandas in a future version. Use pandas.concat instead.\n",
      "  df_donations_prop = df_donations_prop.append(df)\n"
     ]
    },
    {
     "name": "stdout",
     "output_type": "stream",
     "text": [
      "Successfully scrape donation from patunganpesantren. Going to scrape the next donation.\n"
     ]
    },
    {
     "name": "stderr",
     "output_type": "stream",
     "text": [
      "/Users/mac/Documents/RU/THESIS/working_thesis/scrape.py:286: FutureWarning: The frame.append method is deprecated and will be removed from pandas in a future version. Use pandas.concat instead.\n",
      "  df_donations_prop = df_donations_prop.append(df)\n"
     ]
    },
    {
     "name": "stdout",
     "output_type": "stream",
     "text": [
      "Successfully scrape donation from makananlayakuntuksantrimali. Going to scrape the next donation.\n"
     ]
    },
    {
     "name": "stderr",
     "output_type": "stream",
     "text": [
      "/Users/mac/Documents/RU/THESIS/working_thesis/scrape.py:286: FutureWarning: The frame.append method is deprecated and will be removed from pandas in a future version. Use pandas.concat instead.\n",
      "  df_donations_prop = df_donations_prop.append(df)\n"
     ]
    },
    {
     "name": "stdout",
     "output_type": "stream",
     "text": [
      "Successfully scrape donation from sedekahuntuk70anaktahfidzquran. Going to scrape the next donation.\n"
     ]
    },
    {
     "name": "stderr",
     "output_type": "stream",
     "text": [
      "/Users/mac/Documents/RU/THESIS/working_thesis/scrape.py:286: FutureWarning: The frame.append method is deprecated and will be removed from pandas in a future version. Use pandas.concat instead.\n",
      "  df_donations_prop = df_donations_prop.append(df)\n"
     ]
    },
    {
     "name": "stdout",
     "output_type": "stream",
     "text": [
      "Successfully scrape donation from sedekahquranuntukhafidz. Going to scrape the next donation.\n"
     ]
    },
    {
     "name": "stderr",
     "output_type": "stream",
     "text": [
      "/Users/mac/Documents/RU/THESIS/working_thesis/scrape.py:286: FutureWarning: The frame.append method is deprecated and will be removed from pandas in a future version. Use pandas.concat instead.\n",
      "  df_donations_prop = df_donations_prop.append(df)\n"
     ]
    },
    {
     "name": "stdout",
     "output_type": "stream",
     "text": [
      "Successfully scrape donation from bantuanpembangunanjembatanpenghubungwaigolo. Going to scrape the next donation.\n"
     ]
    },
    {
     "name": "stderr",
     "output_type": "stream",
     "text": [
      "/Users/mac/Documents/RU/THESIS/working_thesis/scrape.py:286: FutureWarning: The frame.append method is deprecated and will be removed from pandas in a future version. Use pandas.concat instead.\n",
      "  df_donations_prop = df_donations_prop.append(df)\n"
     ]
    },
    {
     "name": "stdout",
     "output_type": "stream",
     "text": [
      "Successfully scrape donation from banturehabgedungtkpertiwi. Going to scrape the next donation.\n"
     ]
    },
    {
     "name": "stderr",
     "output_type": "stream",
     "text": [
      "/Users/mac/Documents/RU/THESIS/working_thesis/scrape.py:286: FutureWarning: The frame.append method is deprecated and will be removed from pandas in a future version. Use pandas.concat instead.\n",
      "  df_donations_prop = df_donations_prop.append(df)\n"
     ]
    },
    {
     "name": "stdout",
     "output_type": "stream",
     "text": [
      "Successfully scrape donation from aksisedekahairbersih. Going to scrape the next donation.\n"
     ]
    },
    {
     "name": "stderr",
     "output_type": "stream",
     "text": [
      "/Users/mac/Documents/RU/THESIS/working_thesis/scrape.py:286: FutureWarning: The frame.append method is deprecated and will be removed from pandas in a future version. Use pandas.concat instead.\n",
      "  df_donations_prop = df_donations_prop.append(df)\n"
     ]
    },
    {
     "name": "stdout",
     "output_type": "stream",
     "text": [
      "Successfully scrape donation from wujudkanmimpiustsalimudinmilikiasrama. Going to scrape the next donation.\n"
     ]
    },
    {
     "name": "stderr",
     "output_type": "stream",
     "text": [
      "/Users/mac/Documents/RU/THESIS/working_thesis/scrape.py:286: FutureWarning: The frame.append method is deprecated and will be removed from pandas in a future version. Use pandas.concat instead.\n",
      "  df_donations_prop = df_donations_prop.append(df)\n"
     ]
    },
    {
     "name": "stdout",
     "output_type": "stream",
     "text": [
      "Successfully scrape donation from rumahtahfidzuntukyatimdandhuafa. Going to scrape the next donation.\n"
     ]
    },
    {
     "name": "stderr",
     "output_type": "stream",
     "text": [
      "/Users/mac/Documents/RU/THESIS/working_thesis/scrape.py:286: FutureWarning: The frame.append method is deprecated and will be removed from pandas in a future version. Use pandas.concat instead.\n",
      "  df_donations_prop = df_donations_prop.append(df)\n"
     ]
    },
    {
     "name": "stdout",
     "output_type": "stream",
     "text": [
      "Successfully scrape donation from bangunmadrasahlayak. Going to scrape the next donation.\n"
     ]
    },
    {
     "name": "stderr",
     "output_type": "stream",
     "text": [
      "/Users/mac/Documents/RU/THESIS/working_thesis/scrape.py:286: FutureWarning: The frame.append method is deprecated and will be removed from pandas in a future version. Use pandas.concat instead.\n",
      "  df_donations_prop = df_donations_prop.append(df)\n"
     ]
    },
    {
     "name": "stdout",
     "output_type": "stream",
     "text": [
      "Successfully scrape donation from sedekahpengadaansaranaairbersih. Going to scrape the next donation.\n"
     ]
    },
    {
     "name": "stderr",
     "output_type": "stream",
     "text": [
      "/Users/mac/Documents/RU/THESIS/working_thesis/scrape.py:286: FutureWarning: The frame.append method is deprecated and will be removed from pandas in a future version. Use pandas.concat instead.\n",
      "  df_donations_prop = df_donations_prop.append(df)\n"
     ]
    },
    {
     "name": "stdout",
     "output_type": "stream",
     "text": [
      "Successfully scrape donation from wakaf10rbuntuk1000orangbaik. Going to scrape the next donation.\n"
     ]
    },
    {
     "name": "stderr",
     "output_type": "stream",
     "text": [
      "/Users/mac/Documents/RU/THESIS/working_thesis/scrape.py:286: FutureWarning: The frame.append method is deprecated and will be removed from pandas in a future version. Use pandas.concat instead.\n",
      "  df_donations_prop = df_donations_prop.append(df)\n"
     ]
    },
    {
     "name": "stdout",
     "output_type": "stream",
     "text": [
      "Successfully scrape donation from musholarawanbanjirrob. Going to scrape the next donation.\n"
     ]
    },
    {
     "name": "stderr",
     "output_type": "stream",
     "text": [
      "/Users/mac/Documents/RU/THESIS/working_thesis/scrape.py:286: FutureWarning: The frame.append method is deprecated and will be removed from pandas in a future version. Use pandas.concat instead.\n",
      "  df_donations_prop = df_donations_prop.append(df)\n"
     ]
    },
    {
     "name": "stdout",
     "output_type": "stream",
     "text": [
      "Successfully scrape donation from airbersihuntukmasyarakatdesahoelea1. Going to scrape the next donation.\n"
     ]
    },
    {
     "name": "stderr",
     "output_type": "stream",
     "text": [
      "/Users/mac/Documents/RU/THESIS/working_thesis/scrape.py:286: FutureWarning: The frame.append method is deprecated and will be removed from pandas in a future version. Use pandas.concat instead.\n",
      "  df_donations_prop = df_donations_prop.append(df)\n"
     ]
    },
    {
     "name": "stdout",
     "output_type": "stream",
     "text": [
      "Successfully scrape donation from pembangunanasramatahfidzibnussabil. Going to scrape the next donation.\n"
     ]
    },
    {
     "name": "stderr",
     "output_type": "stream",
     "text": [
      "/Users/mac/Documents/RU/THESIS/working_thesis/scrape.py:286: FutureWarning: The frame.append method is deprecated and will be removed from pandas in a future version. Use pandas.concat instead.\n",
      "  df_donations_prop = df_donations_prop.append(df)\n"
     ]
    },
    {
     "name": "stdout",
     "output_type": "stream",
     "text": [
      "Successfully scrape donation from infaqpembangunan2022pesantren. Going to scrape the next donation.\n"
     ]
    },
    {
     "name": "stderr",
     "output_type": "stream",
     "text": [
      "/Users/mac/Documents/RU/THESIS/working_thesis/scrape.py:286: FutureWarning: The frame.append method is deprecated and will be removed from pandas in a future version. Use pandas.concat instead.\n",
      "  df_donations_prop = df_donations_prop.append(df)\n"
     ]
    },
    {
     "name": "stdout",
     "output_type": "stream",
     "text": [
      "Successfully scrape donation from wakafgedungsantri. Going to scrape the next donation.\n"
     ]
    },
    {
     "name": "stderr",
     "output_type": "stream",
     "text": [
      "/Users/mac/Documents/RU/THESIS/working_thesis/scrape.py:286: FutureWarning: The frame.append method is deprecated and will be removed from pandas in a future version. Use pandas.concat instead.\n",
      "  df_donations_prop = df_donations_prop.append(df)\n"
     ]
    },
    {
     "name": "stdout",
     "output_type": "stream",
     "text": [
      "Successfully scrape donation from pembangunangedungtpakualatungkal. Going to scrape the next donation.\n"
     ]
    },
    {
     "name": "stderr",
     "output_type": "stream",
     "text": [
      "/Users/mac/Documents/RU/THESIS/working_thesis/scrape.py:286: FutureWarning: The frame.append method is deprecated and will be removed from pandas in a future version. Use pandas.concat instead.\n",
      "  df_donations_prop = df_donations_prop.append(df)\n"
     ]
    },
    {
     "name": "stdout",
     "output_type": "stream",
     "text": [
      "Successfully scrape donation from togetherwecandoit. Going to scrape the next donation.\n"
     ]
    },
    {
     "name": "stderr",
     "output_type": "stream",
     "text": [
      "/Users/mac/Documents/RU/THESIS/working_thesis/scrape.py:286: FutureWarning: The frame.append method is deprecated and will be removed from pandas in a future version. Use pandas.concat instead.\n",
      "  df_donations_prop = df_donations_prop.append(df)\n"
     ]
    },
    {
     "name": "stdout",
     "output_type": "stream",
     "text": [
      "Successfully scrape donation from ayobantupondokperlindungansatwabali. Going to scrape the next donation.\n"
     ]
    },
    {
     "name": "stderr",
     "output_type": "stream",
     "text": [
      "/Users/mac/Documents/RU/THESIS/working_thesis/scrape.py:286: FutureWarning: The frame.append method is deprecated and will be removed from pandas in a future version. Use pandas.concat instead.\n",
      "  df_donations_prop = df_donations_prop.append(df)\n"
     ]
    },
    {
     "name": "stdout",
     "output_type": "stream",
     "text": [
      "Successfully scrape donation from bantuanabulceriakembali. Going to scrape the next donation.\n"
     ]
    },
    {
     "name": "stderr",
     "output_type": "stream",
     "text": [
      "/Users/mac/Documents/RU/THESIS/working_thesis/scrape.py:286: FutureWarning: The frame.append method is deprecated and will be removed from pandas in a future version. Use pandas.concat instead.\n",
      "  df_donations_prop = df_donations_prop.append(df)\n"
     ]
    },
    {
     "name": "stdout",
     "output_type": "stream",
     "text": [
      "Successfully scrape donation from bantutuntaskanmasjiddanasramasantri. Going to scrape the next donation.\n"
     ]
    },
    {
     "name": "stderr",
     "output_type": "stream",
     "text": [
      "/Users/mac/Documents/RU/THESIS/working_thesis/scrape.py:286: FutureWarning: The frame.append method is deprecated and will be removed from pandas in a future version. Use pandas.concat instead.\n",
      "  df_donations_prop = df_donations_prop.append(df)\n"
     ]
    },
    {
     "name": "stdout",
     "output_type": "stream",
     "text": [
      "Successfully scrape donation from ydsfbantumasjidnurulyaqin. Going to scrape the next donation.\n"
     ]
    },
    {
     "name": "stderr",
     "output_type": "stream",
     "text": [
      "/Users/mac/Documents/RU/THESIS/working_thesis/scrape.py:286: FutureWarning: The frame.append method is deprecated and will be removed from pandas in a future version. Use pandas.concat instead.\n",
      "  df_donations_prop = df_donations_prop.append(df)\n"
     ]
    },
    {
     "name": "stdout",
     "output_type": "stream",
     "text": [
      "Successfully scrape donation from bantuusyaraiya. Going to scrape the next donation.\n"
     ]
    },
    {
     "name": "stderr",
     "output_type": "stream",
     "text": [
      "/Users/mac/Documents/RU/THESIS/working_thesis/scrape.py:286: FutureWarning: The frame.append method is deprecated and will be removed from pandas in a future version. Use pandas.concat instead.\n",
      "  df_donations_prop = df_donations_prop.append(df)\n"
     ]
    },
    {
     "name": "stdout",
     "output_type": "stream",
     "text": [
      "Successfully scrape donation from untuktemankakipalsu. Going to scrape the next donation.\n"
     ]
    },
    {
     "name": "stderr",
     "output_type": "stream",
     "text": [
      "/Users/mac/Documents/RU/THESIS/working_thesis/scrape.py:286: FutureWarning: The frame.append method is deprecated and will be removed from pandas in a future version. Use pandas.concat instead.\n",
      "  df_donations_prop = df_donations_prop.append(df)\n"
     ]
    },
    {
     "name": "stdout",
     "output_type": "stream",
     "text": [
      "Successfully scrape donation from zakatalphaindonesia. Going to scrape the next donation.\n"
     ]
    },
    {
     "name": "stderr",
     "output_type": "stream",
     "text": [
      "/Users/mac/Documents/RU/THESIS/working_thesis/scrape.py:286: FutureWarning: The frame.append method is deprecated and will be removed from pandas in a future version. Use pandas.concat instead.\n",
      "  df_donations_prop = df_donations_prop.append(df)\n"
     ]
    },
    {
     "name": "stdout",
     "output_type": "stream",
     "text": [
      "Successfully scrape donation from aksizakat. Going to scrape the next donation.\n"
     ]
    },
    {
     "name": "stderr",
     "output_type": "stream",
     "text": [
      "/Users/mac/Documents/RU/THESIS/working_thesis/scrape.py:286: FutureWarning: The frame.append method is deprecated and will be removed from pandas in a future version. Use pandas.concat instead.\n",
      "  df_donations_prop = df_donations_prop.append(df)\n"
     ]
    },
    {
     "name": "stdout",
     "output_type": "stream",
     "text": [
      "Successfully scrape donation from yukzakat. Going to scrape the next donation.\n"
     ]
    },
    {
     "name": "stderr",
     "output_type": "stream",
     "text": [
      "/Users/mac/Documents/RU/THESIS/working_thesis/scrape.py:286: FutureWarning: The frame.append method is deprecated and will be removed from pandas in a future version. Use pandas.concat instead.\n",
      "  df_donations_prop = df_donations_prop.append(df)\n"
     ]
    },
    {
     "name": "stdout",
     "output_type": "stream",
     "text": [
      "Successfully scrape donation from bantupantiasuhancahayanatanael. Going to scrape the next donation.\n"
     ]
    },
    {
     "name": "stderr",
     "output_type": "stream",
     "text": [
      "/Users/mac/Documents/RU/THESIS/working_thesis/scrape.py:286: FutureWarning: The frame.append method is deprecated and will be removed from pandas in a future version. Use pandas.concat instead.\n",
      "  df_donations_prop = df_donations_prop.append(df)\n"
     ]
    },
    {
     "name": "stdout",
     "output_type": "stream",
     "text": [
      "Successfully scrape donation from bantumawarkasihbwi. Going to scrape the next donation.\n"
     ]
    },
    {
     "name": "stderr",
     "output_type": "stream",
     "text": [
      "/Users/mac/Documents/RU/THESIS/working_thesis/scrape.py:286: FutureWarning: The frame.append method is deprecated and will be removed from pandas in a future version. Use pandas.concat instead.\n",
      "  df_donations_prop = df_donations_prop.append(df)\n"
     ]
    },
    {
     "name": "stdout",
     "output_type": "stream",
     "text": [
      "Successfully scrape donation from sedekahsubuhpantiasuhanberkah. Going to scrape the next donation.\n"
     ]
    },
    {
     "name": "stderr",
     "output_type": "stream",
     "text": [
      "/Users/mac/Documents/RU/THESIS/working_thesis/scrape.py:286: FutureWarning: The frame.append method is deprecated and will be removed from pandas in a future version. Use pandas.concat instead.\n",
      "  df_donations_prop = df_donations_prop.append(df)\n"
     ]
    },
    {
     "name": "stdout",
     "output_type": "stream",
     "text": [
      "Successfully scrape donation from berkahitahun2022dengansedekahsubuh. Going to scrape the next donation.\n"
     ]
    },
    {
     "name": "stderr",
     "output_type": "stream",
     "text": [
      "/Users/mac/Documents/RU/THESIS/working_thesis/scrape.py:286: FutureWarning: The frame.append method is deprecated and will be removed from pandas in a future version. Use pandas.concat instead.\n",
      "  df_donations_prop = df_donations_prop.append(df)\n"
     ]
    },
    {
     "name": "stdout",
     "output_type": "stream",
     "text": [
      "Successfully scrape donation from bantuyatimpiatufakir. Going to scrape the next donation.\n"
     ]
    },
    {
     "name": "stderr",
     "output_type": "stream",
     "text": [
      "/Users/mac/Documents/RU/THESIS/working_thesis/scrape.py:286: FutureWarning: The frame.append method is deprecated and will be removed from pandas in a future version. Use pandas.concat instead.\n",
      "  df_donations_prop = df_donations_prop.append(df)\n"
     ]
    },
    {
     "name": "stdout",
     "output_type": "stream",
     "text": [
      "Successfully scrape donation from daarulaitambontangselatan. Going to scrape the next donation.\n"
     ]
    },
    {
     "name": "stderr",
     "output_type": "stream",
     "text": [
      "/Users/mac/Documents/RU/THESIS/working_thesis/scrape.py:286: FutureWarning: The frame.append method is deprecated and will be removed from pandas in a future version. Use pandas.concat instead.\n",
      "  df_donations_prop = df_donations_prop.append(df)\n"
     ]
    },
    {
     "name": "stdout",
     "output_type": "stream",
     "text": [
      "Successfully scrape donation from sedekahariah25santrihafuz. Going to scrape the next donation.\n"
     ]
    },
    {
     "name": "stderr",
     "output_type": "stream",
     "text": [
      "/Users/mac/Documents/RU/THESIS/working_thesis/scrape.py:286: FutureWarning: The frame.append method is deprecated and will be removed from pandas in a future version. Use pandas.concat instead.\n",
      "  df_donations_prop = df_donations_prop.append(df)\n"
     ]
    },
    {
     "name": "stdout",
     "output_type": "stream",
     "text": [
      "Successfully scrape donation from veteranntt. Going to scrape the next donation.\n"
     ]
    },
    {
     "name": "stderr",
     "output_type": "stream",
     "text": [
      "/Users/mac/Documents/RU/THESIS/working_thesis/scrape.py:286: FutureWarning: The frame.append method is deprecated and will be removed from pandas in a future version. Use pandas.concat instead.\n",
      "  df_donations_prop = df_donations_prop.append(df)\n"
     ]
    },
    {
     "name": "stdout",
     "output_type": "stream",
     "text": [
      "Successfully scrape donation from patunganjariahpengadaanmobilambulanuntukumat. Going to scrape the next donation.\n"
     ]
    },
    {
     "name": "stderr",
     "output_type": "stream",
     "text": [
      "/Users/mac/Documents/RU/THESIS/working_thesis/scrape.py:286: FutureWarning: The frame.append method is deprecated and will be removed from pandas in a future version. Use pandas.concat instead.\n",
      "  df_donations_prop = df_donations_prop.append(df)\n"
     ]
    },
    {
     "name": "stdout",
     "output_type": "stream",
     "text": [
      "Successfully scrape donation from muliakanyatimsantri. Going to scrape the next donation.\n"
     ]
    },
    {
     "name": "stderr",
     "output_type": "stream",
     "text": [
      "/Users/mac/Documents/RU/THESIS/working_thesis/scrape.py:286: FutureWarning: The frame.append method is deprecated and will be removed from pandas in a future version. Use pandas.concat instead.\n",
      "  df_donations_prop = df_donations_prop.append(df)\n"
     ]
    },
    {
     "name": "stdout",
     "output_type": "stream",
     "text": [
      "Successfully scrape donation from jamestaistimewapilot. Going to scrape the next donation.\n"
     ]
    },
    {
     "name": "stderr",
     "output_type": "stream",
     "text": [
      "/Users/mac/Documents/RU/THESIS/working_thesis/scrape.py:286: FutureWarning: The frame.append method is deprecated and will be removed from pandas in a future version. Use pandas.concat instead.\n",
      "  df_donations_prop = df_donations_prop.append(df)\n"
     ]
    },
    {
     "name": "stdout",
     "output_type": "stream",
     "text": [
      "Successfully scrape donation from franzwidjaya. Going to scrape the next donation.\n"
     ]
    },
    {
     "name": "stderr",
     "output_type": "stream",
     "text": [
      "/Users/mac/Documents/RU/THESIS/working_thesis/scrape.py:286: FutureWarning: The frame.append method is deprecated and will be removed from pandas in a future version. Use pandas.concat instead.\n",
      "  df_donations_prop = df_donations_prop.append(df)\n"
     ]
    },
    {
     "name": "stdout",
     "output_type": "stream",
     "text": [
      "Successfully scrape donation from pengadaaansaranabelajar. Going to scrape the next donation.\n"
     ]
    },
    {
     "name": "stderr",
     "output_type": "stream",
     "text": [
      "/Users/mac/Documents/RU/THESIS/working_thesis/scrape.py:286: FutureWarning: The frame.append method is deprecated and will be removed from pandas in a future version. Use pandas.concat instead.\n",
      "  df_donations_prop = df_donations_prop.append(df)\n"
     ]
    },
    {
     "name": "stdout",
     "output_type": "stream",
     "text": [
      "Successfully scrape donation from bantujuandadananakyatimsekolah. Going to scrape the next donation.\n"
     ]
    },
    {
     "name": "stderr",
     "output_type": "stream",
     "text": [
      "/Users/mac/Documents/RU/THESIS/working_thesis/scrape.py:286: FutureWarning: The frame.append method is deprecated and will be removed from pandas in a future version. Use pandas.concat instead.\n",
      "  df_donations_prop = df_donations_prop.append(df)\n"
     ]
    },
    {
     "name": "stdout",
     "output_type": "stream",
     "text": [
      "Successfully scrape donation from perlengkapansekolahuntukanakyatimdandhuafa. Going to scrape the next donation.\n"
     ]
    },
    {
     "name": "stderr",
     "output_type": "stream",
     "text": [
      "/Users/mac/Documents/RU/THESIS/working_thesis/scrape.py:286: FutureWarning: The frame.append method is deprecated and will be removed from pandas in a future version. Use pandas.concat instead.\n",
      "  df_donations_prop = df_donations_prop.append(df)\n"
     ]
    },
    {
     "name": "stdout",
     "output_type": "stream",
     "text": [
      "Successfully scrape donation from sedekahjariahpembangunanpesantrenalfattah. Going to scrape the next donation.\n"
     ]
    },
    {
     "name": "stderr",
     "output_type": "stream",
     "text": [
      "/Users/mac/Documents/RU/THESIS/working_thesis/scrape.py:286: FutureWarning: The frame.append method is deprecated and will be removed from pandas in a future version. Use pandas.concat instead.\n",
      "  df_donations_prop = df_donations_prop.append(df)\n"
     ]
    },
    {
     "name": "stdout",
     "output_type": "stream",
     "text": [
      "Successfully scrape donation from renovasimisattaqwa60. Going to scrape the next donation.\n"
     ]
    },
    {
     "name": "stderr",
     "output_type": "stream",
     "text": [
      "/Users/mac/Documents/RU/THESIS/working_thesis/scrape.py:286: FutureWarning: The frame.append method is deprecated and will be removed from pandas in a future version. Use pandas.concat instead.\n",
      "  df_donations_prop = df_donations_prop.append(df)\n"
     ]
    },
    {
     "name": "stdout",
     "output_type": "stream",
     "text": [
      "Successfully scrape donation from friendsforfonibantufonilanjutkuliah. Going to scrape the next donation.\n"
     ]
    },
    {
     "name": "stderr",
     "output_type": "stream",
     "text": [
      "/Users/mac/Documents/RU/THESIS/working_thesis/scrape.py:286: FutureWarning: The frame.append method is deprecated and will be removed from pandas in a future version. Use pandas.concat instead.\n",
      "  df_donations_prop = df_donations_prop.append(df)\n"
     ]
    },
    {
     "name": "stdout",
     "output_type": "stream",
     "text": [
      "Successfully scrape donation from tpqnurulathfal. Going to scrape the next donation.\n"
     ]
    },
    {
     "name": "stderr",
     "output_type": "stream",
     "text": [
      "/Users/mac/Documents/RU/THESIS/working_thesis/scrape.py:286: FutureWarning: The frame.append method is deprecated and will be removed from pandas in a future version. Use pandas.concat instead.\n",
      "  df_donations_prop = df_donations_prop.append(df)\n"
     ]
    },
    {
     "name": "stdout",
     "output_type": "stream",
     "text": [
      "Successfully scrape donation from pedulipendidikan100yatim. Going to scrape the next donation.\n"
     ]
    },
    {
     "name": "stderr",
     "output_type": "stream",
     "text": [
      "/Users/mac/Documents/RU/THESIS/working_thesis/scrape.py:286: FutureWarning: The frame.append method is deprecated and will be removed from pandas in a future version. Use pandas.concat instead.\n",
      "  df_donations_prop = df_donations_prop.append(df)\n"
     ]
    },
    {
     "name": "stdout",
     "output_type": "stream",
     "text": [
      "Successfully scrape donation from cahayatunasbangsasiapcerdaskanbangsa. Going to scrape the next donation.\n"
     ]
    },
    {
     "name": "stderr",
     "output_type": "stream",
     "text": [
      "/Users/mac/Documents/RU/THESIS/working_thesis/scrape.py:286: FutureWarning: The frame.append method is deprecated and will be removed from pandas in a future version. Use pandas.concat instead.\n",
      "  df_donations_prop = df_donations_prop.append(df)\n"
     ]
    },
    {
     "name": "stdout",
     "output_type": "stream",
     "text": [
      "Successfully scrape donation from yasadamembangun. Going to scrape the next donation.\n"
     ]
    },
    {
     "name": "stderr",
     "output_type": "stream",
     "text": [
      "/Users/mac/Documents/RU/THESIS/working_thesis/scrape.py:286: FutureWarning: The frame.append method is deprecated and will be removed from pandas in a future version. Use pandas.concat instead.\n",
      "  df_donations_prop = df_donations_prop.append(df)\n"
     ]
    },
    {
     "name": "stdout",
     "output_type": "stream",
     "text": [
      "Successfully scrape donation from sedekahuntuk180santri. Going to scrape the next donation.\n"
     ]
    },
    {
     "name": "stderr",
     "output_type": "stream",
     "text": [
      "/Users/mac/Documents/RU/THESIS/working_thesis/scrape.py:286: FutureWarning: The frame.append method is deprecated and will be removed from pandas in a future version. Use pandas.concat instead.\n",
      "  df_donations_prop = df_donations_prop.append(df)\n"
     ]
    },
    {
     "name": "stdout",
     "output_type": "stream",
     "text": [
      "Successfully scrape donation from tolonggededarikejang. Going to scrape the next donation.\n"
     ]
    },
    {
     "name": "stderr",
     "output_type": "stream",
     "text": [
      "/Users/mac/Documents/RU/THESIS/working_thesis/scrape.py:286: FutureWarning: The frame.append method is deprecated and will be removed from pandas in a future version. Use pandas.concat instead.\n",
      "  df_donations_prop = df_donations_prop.append(df)\n"
     ]
    },
    {
     "name": "stdout",
     "output_type": "stream",
     "text": [
      "Successfully scrape donation from sinergibantusofia. Going to scrape the next donation.\n"
     ]
    },
    {
     "name": "stderr",
     "output_type": "stream",
     "text": [
      "/Users/mac/Documents/RU/THESIS/working_thesis/scrape.py:286: FutureWarning: The frame.append method is deprecated and will be removed from pandas in a future version. Use pandas.concat instead.\n",
      "  df_donations_prop = df_donations_prop.append(df)\n"
     ]
    },
    {
     "name": "stdout",
     "output_type": "stream",
     "text": [
      "Successfully scrape donation from pembuatankanopiponpesnurulanwar. Going to scrape the next donation.\n"
     ]
    },
    {
     "name": "stderr",
     "output_type": "stream",
     "text": [
      "/Users/mac/Documents/RU/THESIS/working_thesis/scrape.py:286: FutureWarning: The frame.append method is deprecated and will be removed from pandas in a future version. Use pandas.concat instead.\n",
      "  df_donations_prop = df_donations_prop.append(df)\n"
     ]
    },
    {
     "name": "stdout",
     "output_type": "stream",
     "text": [
      "Successfully scrape donation from renovasipembangunanpaudharapanibu. Going to scrape the next donation.\n"
     ]
    },
    {
     "name": "stderr",
     "output_type": "stream",
     "text": [
      "/Users/mac/Documents/RU/THESIS/working_thesis/scrape.py:286: FutureWarning: The frame.append method is deprecated and will be removed from pandas in a future version. Use pandas.concat instead.\n",
      "  df_donations_prop = df_donations_prop.append(df)\n"
     ]
    },
    {
     "name": "stdout",
     "output_type": "stream",
     "text": [
      "Successfully scrape donation from ulurtanganbangunkelassditpermatakayong. Going to scrape the next donation.\n"
     ]
    },
    {
     "name": "stderr",
     "output_type": "stream",
     "text": [
      "/Users/mac/Documents/RU/THESIS/working_thesis/scrape.py:286: FutureWarning: The frame.append method is deprecated and will be removed from pandas in a future version. Use pandas.concat instead.\n",
      "  df_donations_prop = df_donations_prop.append(df)\n"
     ]
    },
    {
     "name": "stdout",
     "output_type": "stream",
     "text": [
      "Successfully scrape donation from sedekah35santrimilikiasrama. Going to scrape the next donation.\n"
     ]
    },
    {
     "name": "stderr",
     "output_type": "stream",
     "text": [
      "/Users/mac/Documents/RU/THESIS/working_thesis/scrape.py:286: FutureWarning: The frame.append method is deprecated and will be removed from pandas in a future version. Use pandas.concat instead.\n",
      "  df_donations_prop = df_donations_prop.append(df)\n"
     ]
    },
    {
     "name": "stdout",
     "output_type": "stream",
     "text": [
      "Successfully scrape donation from tpqdesapelosok. Going to scrape the next donation.\n"
     ]
    },
    {
     "name": "stderr",
     "output_type": "stream",
     "text": [
      "/Users/mac/Documents/RU/THESIS/working_thesis/scrape.py:286: FutureWarning: The frame.append method is deprecated and will be removed from pandas in a future version. Use pandas.concat instead.\n",
      "  df_donations_prop = df_donations_prop.append(df)\n"
     ]
    },
    {
     "name": "stdout",
     "output_type": "stream",
     "text": [
      "Successfully scrape donation from cahayalistrikuntukflores. Going to scrape the next donation.\n"
     ]
    },
    {
     "name": "stderr",
     "output_type": "stream",
     "text": [
      "/Users/mac/Documents/RU/THESIS/working_thesis/scrape.py:286: FutureWarning: The frame.append method is deprecated and will be removed from pandas in a future version. Use pandas.concat instead.\n",
      "  df_donations_prop = df_donations_prop.append(df)\n"
     ]
    },
    {
     "name": "stdout",
     "output_type": "stream",
     "text": [
      "Successfully scrape donation from yayasanarroudloh. Going to scrape the next donation.\n"
     ]
    },
    {
     "name": "stderr",
     "output_type": "stream",
     "text": [
      "/Users/mac/Documents/RU/THESIS/working_thesis/scrape.py:286: FutureWarning: The frame.append method is deprecated and will be removed from pandas in a future version. Use pandas.concat instead.\n",
      "  df_donations_prop = df_donations_prop.append(df)\n"
     ]
    },
    {
     "name": "stdout",
     "output_type": "stream",
     "text": [
      "Successfully scrape donation from pesantrenulilalbabbogor. Going to scrape the next donation.\n"
     ]
    },
    {
     "name": "stderr",
     "output_type": "stream",
     "text": [
      "/Users/mac/Documents/RU/THESIS/working_thesis/scrape.py:286: FutureWarning: The frame.append method is deprecated and will be removed from pandas in a future version. Use pandas.concat instead.\n",
      "  df_donations_prop = df_donations_prop.append(df)\n"
     ]
    },
    {
     "name": "stdout",
     "output_type": "stream",
     "text": [
      "Successfully scrape donation from klinikkesehatangratis. Going to scrape the next donation.\n"
     ]
    },
    {
     "name": "stderr",
     "output_type": "stream",
     "text": [
      "/Users/mac/Documents/RU/THESIS/working_thesis/scrape.py:286: FutureWarning: The frame.append method is deprecated and will be removed from pandas in a future version. Use pandas.concat instead.\n",
      "  df_donations_prop = df_donations_prop.append(df)\n"
     ]
    },
    {
     "name": "stdout",
     "output_type": "stream",
     "text": [
      "Successfully scrape donation from pembangunanruangkelassmpitistiqlal. Going to scrape the next donation.\n"
     ]
    },
    {
     "name": "stderr",
     "output_type": "stream",
     "text": [
      "/Users/mac/Documents/RU/THESIS/working_thesis/scrape.py:286: FutureWarning: The frame.append method is deprecated and will be removed from pandas in a future version. Use pandas.concat instead.\n",
      "  df_donations_prop = df_donations_prop.append(df)\n"
     ]
    },
    {
     "name": "stdout",
     "output_type": "stream",
     "text": [
      "Successfully scrape donation from sedekahuntukrenovasipembangunangedungaula. Going to scrape the next donation.\n"
     ]
    },
    {
     "name": "stderr",
     "output_type": "stream",
     "text": [
      "/Users/mac/Documents/RU/THESIS/working_thesis/scrape.py:286: FutureWarning: The frame.append method is deprecated and will be removed from pandas in a future version. Use pandas.concat instead.\n",
      "  df_donations_prop = df_donations_prop.append(df)\n"
     ]
    },
    {
     "name": "stdout",
     "output_type": "stream",
     "text": [
      "Successfully scrape donation from ketukanhatiperjuanganmencarirezeki. Going to scrape the next donation.\n"
     ]
    },
    {
     "name": "stderr",
     "output_type": "stream",
     "text": [
      "/Users/mac/Documents/RU/THESIS/working_thesis/scrape.py:286: FutureWarning: The frame.append method is deprecated and will be removed from pandas in a future version. Use pandas.concat instead.\n",
      "  df_donations_prop = df_donations_prop.append(df)\n"
     ]
    },
    {
     "name": "stdout",
     "output_type": "stream",
     "text": [
      "Successfully scrape donation from patunganbangunmadrasah. Going to scrape the next donation.\n"
     ]
    },
    {
     "name": "stderr",
     "output_type": "stream",
     "text": [
      "/Users/mac/Documents/RU/THESIS/working_thesis/scrape.py:286: FutureWarning: The frame.append method is deprecated and will be removed from pandas in a future version. Use pandas.concat instead.\n",
      "  df_donations_prop = df_donations_prop.append(df)\n"
     ]
    },
    {
     "name": "stdout",
     "output_type": "stream",
     "text": [
      "Successfully scrape donation from donasiponpesalmakhally. Going to scrape the next donation.\n"
     ]
    },
    {
     "name": "stderr",
     "output_type": "stream",
     "text": [
      "/Users/mac/Documents/RU/THESIS/working_thesis/scrape.py:286: FutureWarning: The frame.append method is deprecated and will be removed from pandas in a future version. Use pandas.concat instead.\n",
      "  df_donations_prop = df_donations_prop.append(df)\n"
     ]
    },
    {
     "name": "stdout",
     "output_type": "stream",
     "text": [
      "Successfully scrape donation from pembeliantanahuntukpesantren. Going to scrape the next donation.\n"
     ]
    },
    {
     "name": "stderr",
     "output_type": "stream",
     "text": [
      "/Users/mac/Documents/RU/THESIS/working_thesis/scrape.py:286: FutureWarning: The frame.append method is deprecated and will be removed from pandas in a future version. Use pandas.concat instead.\n",
      "  df_donations_prop = df_donations_prop.append(df)\n"
     ]
    },
    {
     "name": "stdout",
     "output_type": "stream",
     "text": [
      "Successfully scrape donation from investasiakhiratbangunmadrasah. Going to scrape the next donation.\n"
     ]
    },
    {
     "name": "stderr",
     "output_type": "stream",
     "text": [
      "/Users/mac/Documents/RU/THESIS/working_thesis/scrape.py:286: FutureWarning: The frame.append method is deprecated and will be removed from pandas in a future version. Use pandas.concat instead.\n",
      "  df_donations_prop = df_donations_prop.append(df)\n"
     ]
    },
    {
     "name": "stdout",
     "output_type": "stream",
     "text": [
      "Successfully scrape donation from rumahsinggahuntukpasiensehatsecaragratis. Going to scrape the next donation.\n"
     ]
    },
    {
     "name": "stderr",
     "output_type": "stream",
     "text": [
      "/Users/mac/Documents/RU/THESIS/working_thesis/scrape.py:286: FutureWarning: The frame.append method is deprecated and will be removed from pandas in a future version. Use pandas.concat instead.\n",
      "  df_donations_prop = df_donations_prop.append(df)\n"
     ]
    },
    {
     "name": "stdout",
     "output_type": "stream",
     "text": [
      "Successfully scrape donation from wakafgedungasramanurulfathtahap1. Going to scrape the next donation.\n"
     ]
    },
    {
     "name": "stderr",
     "output_type": "stream",
     "text": [
      "/Users/mac/Documents/RU/THESIS/working_thesis/scrape.py:286: FutureWarning: The frame.append method is deprecated and will be removed from pandas in a future version. Use pandas.concat instead.\n",
      "  df_donations_prop = df_donations_prop.append(df)\n"
     ]
    },
    {
     "name": "stdout",
     "output_type": "stream",
     "text": [
      "Successfully scrape donation from wakafbangunasramark. Going to scrape the next donation.\n"
     ]
    },
    {
     "name": "stderr",
     "output_type": "stream",
     "text": [
      "/Users/mac/Documents/RU/THESIS/working_thesis/scrape.py:286: FutureWarning: The frame.append method is deprecated and will be removed from pandas in a future version. Use pandas.concat instead.\n",
      "  df_donations_prop = df_donations_prop.append(df)\n"
     ]
    },
    {
     "name": "stdout",
     "output_type": "stream",
     "text": [
      "Successfully scrape donation from renovasigedungdanpenambahangedungmdta. Going to scrape the next donation.\n"
     ]
    },
    {
     "name": "stderr",
     "output_type": "stream",
     "text": [
      "/Users/mac/Documents/RU/THESIS/working_thesis/scrape.py:286: FutureWarning: The frame.append method is deprecated and will be removed from pandas in a future version. Use pandas.concat instead.\n",
      "  df_donations_prop = df_donations_prop.append(df)\n"
     ]
    },
    {
     "name": "stdout",
     "output_type": "stream",
     "text": [
      "Successfully scrape donation from tpadarulquran. Going to scrape the next donation.\n"
     ]
    },
    {
     "name": "stderr",
     "output_type": "stream",
     "text": [
      "/Users/mac/Documents/RU/THESIS/working_thesis/scrape.py:286: FutureWarning: The frame.append method is deprecated and will be removed from pandas in a future version. Use pandas.concat instead.\n",
      "  df_donations_prop = df_donations_prop.append(df)\n"
     ]
    },
    {
     "name": "stdout",
     "output_type": "stream",
     "text": [
      "Successfully scrape donation from sedekahsumurbormasjidarrasyidpalabuhanratu. Going to scrape the next donation.\n"
     ]
    },
    {
     "name": "stderr",
     "output_type": "stream",
     "text": [
      "/Users/mac/Documents/RU/THESIS/working_thesis/scrape.py:286: FutureWarning: The frame.append method is deprecated and will be removed from pandas in a future version. Use pandas.concat instead.\n",
      "  df_donations_prop = df_donations_prop.append(df)\n"
     ]
    },
    {
     "name": "stdout",
     "output_type": "stream",
     "text": [
      "Successfully scrape donation from yayasanalfatah. Going to scrape the next donation.\n"
     ]
    },
    {
     "name": "stderr",
     "output_type": "stream",
     "text": [
      "/Users/mac/Documents/RU/THESIS/working_thesis/scrape.py:286: FutureWarning: The frame.append method is deprecated and will be removed from pandas in a future version. Use pandas.concat instead.\n",
      "  df_donations_prop = df_donations_prop.append(df)\n"
     ]
    },
    {
     "name": "stdout",
     "output_type": "stream",
     "text": [
      "Successfully scrape donation from pembangunanmadrasahdigarut. Going to scrape the next donation.\n"
     ]
    },
    {
     "name": "stderr",
     "output_type": "stream",
     "text": [
      "/Users/mac/Documents/RU/THESIS/working_thesis/scrape.py:286: FutureWarning: The frame.append method is deprecated and will be removed from pandas in a future version. Use pandas.concat instead.\n",
      "  df_donations_prop = df_donations_prop.append(df)\n"
     ]
    },
    {
     "name": "stdout",
     "output_type": "stream",
     "text": [
      "Successfully scrape donation from ymupprtq. Going to scrape the next donation.\n"
     ]
    },
    {
     "name": "stderr",
     "output_type": "stream",
     "text": [
      "/Users/mac/Documents/RU/THESIS/working_thesis/scrape.py:286: FutureWarning: The frame.append method is deprecated and will be removed from pandas in a future version. Use pandas.concat instead.\n",
      "  df_donations_prop = df_donations_prop.append(df)\n"
     ]
    },
    {
     "name": "stdout",
     "output_type": "stream",
     "text": [
      "Successfully scrape donation from bantudayahhidayatulqudus. Going to scrape the next donation.\n"
     ]
    },
    {
     "name": "stderr",
     "output_type": "stream",
     "text": [
      "/Users/mac/Documents/RU/THESIS/working_thesis/scrape.py:286: FutureWarning: The frame.append method is deprecated and will be removed from pandas in a future version. Use pandas.concat instead.\n",
      "  df_donations_prop = df_donations_prop.append(df)\n"
     ]
    },
    {
     "name": "stdout",
     "output_type": "stream",
     "text": [
      "Successfully scrape donation from pembangunponpesalmaarif. Going to scrape the next donation.\n"
     ]
    },
    {
     "name": "stderr",
     "output_type": "stream",
     "text": [
      "/Users/mac/Documents/RU/THESIS/working_thesis/scrape.py:286: FutureWarning: The frame.append method is deprecated and will be removed from pandas in a future version. Use pandas.concat instead.\n",
      "  df_donations_prop = df_donations_prop.append(df)\n"
     ]
    },
    {
     "name": "stdout",
     "output_type": "stream",
     "text": [
      "Successfully scrape donation from jariyahkampusannabawy. Going to scrape the next donation.\n"
     ]
    },
    {
     "name": "stderr",
     "output_type": "stream",
     "text": [
      "/Users/mac/Documents/RU/THESIS/working_thesis/scrape.py:286: FutureWarning: The frame.append method is deprecated and will be removed from pandas in a future version. Use pandas.concat instead.\n",
      "  df_donations_prop = df_donations_prop.append(df)\n"
     ]
    },
    {
     "name": "stdout",
     "output_type": "stream",
     "text": [
      "Successfully scrape donation from sedekahjariyahpembangunanponpesromhulhuda. Going to scrape the next donation.\n"
     ]
    },
    {
     "name": "stderr",
     "output_type": "stream",
     "text": [
      "/Users/mac/Documents/RU/THESIS/working_thesis/scrape.py:286: FutureWarning: The frame.append method is deprecated and will be removed from pandas in a future version. Use pandas.concat instead.\n",
      "  df_donations_prop = df_donations_prop.append(df)\n"
     ]
    },
    {
     "name": "stdout",
     "output_type": "stream",
     "text": [
      "Successfully scrape donation from rehabilitasigedungsmaspgriwiniraisabu. Going to scrape the next donation.\n"
     ]
    },
    {
     "name": "stderr",
     "output_type": "stream",
     "text": [
      "/Users/mac/Documents/RU/THESIS/working_thesis/scrape.py:286: FutureWarning: The frame.append method is deprecated and will be removed from pandas in a future version. Use pandas.concat instead.\n",
      "  df_donations_prop = df_donations_prop.append(df)\n"
     ]
    },
    {
     "name": "stdout",
     "output_type": "stream",
     "text": [
      "Successfully scrape donation from sedekahinvestasiakhirat. Going to scrape the next donation.\n"
     ]
    },
    {
     "name": "stderr",
     "output_type": "stream",
     "text": [
      "/Users/mac/Documents/RU/THESIS/working_thesis/scrape.py:286: FutureWarning: The frame.append method is deprecated and will be removed from pandas in a future version. Use pandas.concat instead.\n",
      "  df_donations_prop = df_donations_prop.append(df)\n"
     ]
    },
    {
     "name": "stdout",
     "output_type": "stream",
     "text": [
      "Successfully scrape donation from pembangunanponpesbgr. Going to scrape the next donation.\n"
     ]
    },
    {
     "name": "stderr",
     "output_type": "stream",
     "text": [
      "/Users/mac/Documents/RU/THESIS/working_thesis/scrape.py:286: FutureWarning: The frame.append method is deprecated and will be removed from pandas in a future version. Use pandas.concat instead.\n",
      "  df_donations_prop = df_donations_prop.append(df)\n"
     ]
    },
    {
     "name": "stdout",
     "output_type": "stream",
     "text": [
      "Successfully scrape donation from renovasipesantrenyatim. Going to scrape the next donation.\n"
     ]
    },
    {
     "name": "stderr",
     "output_type": "stream",
     "text": [
      "/Users/mac/Documents/RU/THESIS/working_thesis/scrape.py:286: FutureWarning: The frame.append method is deprecated and will be removed from pandas in a future version. Use pandas.concat instead.\n",
      "  df_donations_prop = df_donations_prop.append(df)\n"
     ]
    },
    {
     "name": "stdout",
     "output_type": "stream",
     "text": [
      "Successfully scrape donation from amaljariyahuntukpenyadangdisabilitas. Going to scrape the next donation.\n"
     ]
    },
    {
     "name": "stderr",
     "output_type": "stream",
     "text": [
      "/Users/mac/Documents/RU/THESIS/working_thesis/scrape.py:286: FutureWarning: The frame.append method is deprecated and will be removed from pandas in a future version. Use pandas.concat instead.\n",
      "  df_donations_prop = df_donations_prop.append(df)\n"
     ]
    },
    {
     "name": "stdout",
     "output_type": "stream",
     "text": [
      "Successfully scrape donation from pembangunankampungwisata. Going to scrape the next donation.\n"
     ]
    },
    {
     "name": "stderr",
     "output_type": "stream",
     "text": [
      "/Users/mac/Documents/RU/THESIS/working_thesis/scrape.py:286: FutureWarning: The frame.append method is deprecated and will be removed from pandas in a future version. Use pandas.concat instead.\n",
      "  df_donations_prop = df_donations_prop.append(df)\n"
     ]
    },
    {
     "name": "stdout",
     "output_type": "stream",
     "text": [
      "Successfully scrape donation from membangunrumahproduksikelompoktani. Going to scrape the next donation.\n"
     ]
    },
    {
     "name": "stderr",
     "output_type": "stream",
     "text": [
      "/Users/mac/Documents/RU/THESIS/working_thesis/scrape.py:286: FutureWarning: The frame.append method is deprecated and will be removed from pandas in a future version. Use pandas.concat instead.\n",
      "  df_donations_prop = df_donations_prop.append(df)\n"
     ]
    },
    {
     "name": "stdout",
     "output_type": "stream",
     "text": [
      "Successfully scrape donation from modaluntukmerintisusaha. Going to scrape the next donation.\n"
     ]
    },
    {
     "name": "stderr",
     "output_type": "stream",
     "text": [
      "/Users/mac/Documents/RU/THESIS/working_thesis/scrape.py:286: FutureWarning: The frame.append method is deprecated and will be removed from pandas in a future version. Use pandas.concat instead.\n",
      "  df_donations_prop = df_donations_prop.append(df)\n"
     ]
    },
    {
     "name": "stdout",
     "output_type": "stream",
     "text": [
      "Successfully scrape donation from donasibsmsuburcilacap. Going to scrape the next donation.\n"
     ]
    },
    {
     "name": "stderr",
     "output_type": "stream",
     "text": [
      "/Users/mac/Documents/RU/THESIS/working_thesis/scrape.py:286: FutureWarning: The frame.append method is deprecated and will be removed from pandas in a future version. Use pandas.concat instead.\n",
      "  df_donations_prop = df_donations_prop.append(df)\n"
     ]
    },
    {
     "name": "stdout",
     "output_type": "stream",
     "text": [
      "Successfully scrape donation from patrion. Going to scrape the next donation.\n"
     ]
    },
    {
     "name": "stderr",
     "output_type": "stream",
     "text": [
      "/Users/mac/Documents/RU/THESIS/working_thesis/scrape.py:286: FutureWarning: The frame.append method is deprecated and will be removed from pandas in a future version. Use pandas.concat instead.\n",
      "  df_donations_prop = df_donations_prop.append(df)\n"
     ]
    },
    {
     "name": "stdout",
     "output_type": "stream",
     "text": [
      "Successfully scrape donation from lutungkelabu. Going to scrape the next donation.\n"
     ]
    },
    {
     "name": "stderr",
     "output_type": "stream",
     "text": [
      "/Users/mac/Documents/RU/THESIS/working_thesis/scrape.py:286: FutureWarning: The frame.append method is deprecated and will be removed from pandas in a future version. Use pandas.concat instead.\n",
      "  df_donations_prop = df_donations_prop.append(df)\n"
     ]
    },
    {
     "name": "stdout",
     "output_type": "stream",
     "text": [
      "Successfully scrape donation from bangunmasjiddikampung. Going to scrape the next donation.\n"
     ]
    },
    {
     "name": "stderr",
     "output_type": "stream",
     "text": [
      "/Users/mac/Documents/RU/THESIS/working_thesis/scrape.py:286: FutureWarning: The frame.append method is deprecated and will be removed from pandas in a future version. Use pandas.concat instead.\n",
      "  df_donations_prop = df_donations_prop.append(df)\n"
     ]
    },
    {
     "name": "stdout",
     "output_type": "stream",
     "text": [
      "Successfully scrape donation from anginkencangmerusak107rumahwargadimaros. Going to scrape the next donation.\n"
     ]
    },
    {
     "name": "stderr",
     "output_type": "stream",
     "text": [
      "/Users/mac/Documents/RU/THESIS/working_thesis/scrape.py:286: FutureWarning: The frame.append method is deprecated and will be removed from pandas in a future version. Use pandas.concat instead.\n",
      "  df_donations_prop = df_donations_prop.append(df)\n"
     ]
    },
    {
     "name": "stdout",
     "output_type": "stream",
     "text": [
      "Successfully scrape donation from bantumasyarakatuntukmembangunmesjid. Going to scrape the next donation.\n"
     ]
    },
    {
     "name": "stderr",
     "output_type": "stream",
     "text": [
      "/Users/mac/Documents/RU/THESIS/working_thesis/scrape.py:286: FutureWarning: The frame.append method is deprecated and will be removed from pandas in a future version. Use pandas.concat instead.\n",
      "  df_donations_prop = df_donations_prop.append(df)\n"
     ]
    },
    {
     "name": "stdout",
     "output_type": "stream",
     "text": [
      "Successfully scrape donation from kasihuntukmarta. Going to scrape the next donation.\n"
     ]
    },
    {
     "name": "stderr",
     "output_type": "stream",
     "text": [
      "/Users/mac/Documents/RU/THESIS/working_thesis/scrape.py:286: FutureWarning: The frame.append method is deprecated and will be removed from pandas in a future version. Use pandas.concat instead.\n",
      "  df_donations_prop = df_donations_prop.append(df)\n"
     ]
    },
    {
     "name": "stdout",
     "output_type": "stream",
     "text": [
      "Successfully scrape donation from daipedalamanbutuhbantuan. Going to scrape the next donation.\n"
     ]
    },
    {
     "name": "stderr",
     "output_type": "stream",
     "text": [
      "/Users/mac/Documents/RU/THESIS/working_thesis/scrape.py:286: FutureWarning: The frame.append method is deprecated and will be removed from pandas in a future version. Use pandas.concat instead.\n",
      "  df_donations_prop = df_donations_prop.append(df)\n"
     ]
    },
    {
     "name": "stdout",
     "output_type": "stream",
     "text": [
      "Successfully scrape donation from ydsfmuadzintunanetra. Going to scrape the next donation.\n"
     ]
    },
    {
     "name": "stderr",
     "output_type": "stream",
     "text": [
      "/Users/mac/Documents/RU/THESIS/working_thesis/scrape.py:286: FutureWarning: The frame.append method is deprecated and will be removed from pandas in a future version. Use pandas.concat instead.\n",
      "  df_donations_prop = df_donations_prop.append(df)\n"
     ]
    },
    {
     "name": "stdout",
     "output_type": "stream",
     "text": [
      "Successfully scrape donation from zakatpedulisesama. Going to scrape the next donation.\n"
     ]
    },
    {
     "name": "stderr",
     "output_type": "stream",
     "text": [
      "/Users/mac/Documents/RU/THESIS/working_thesis/scrape.py:286: FutureWarning: The frame.append method is deprecated and will be removed from pandas in a future version. Use pandas.concat instead.\n",
      "  df_donations_prop = df_donations_prop.append(df)\n"
     ]
    },
    {
     "name": "stdout",
     "output_type": "stream",
     "text": [
      "Successfully scrape donation from bantuwargabinaanpantiasuhancahayanatanael. Going to scrape the next donation.\n"
     ]
    },
    {
     "name": "stderr",
     "output_type": "stream",
     "text": [
      "/Users/mac/Documents/RU/THESIS/working_thesis/scrape.py:286: FutureWarning: The frame.append method is deprecated and will be removed from pandas in a future version. Use pandas.concat instead.\n",
      "  df_donations_prop = df_donations_prop.append(df)\n"
     ]
    },
    {
     "name": "stdout",
     "output_type": "stream",
     "text": [
      "Successfully scrape donation from bantuanoperasionaldanpemeliharaangedung. Going to scrape the next donation.\n"
     ]
    },
    {
     "name": "stderr",
     "output_type": "stream",
     "text": [
      "/Users/mac/Documents/RU/THESIS/working_thesis/scrape.py:286: FutureWarning: The frame.append method is deprecated and will be removed from pandas in a future version. Use pandas.concat instead.\n",
      "  df_donations_prop = df_donations_prop.append(df)\n"
     ]
    },
    {
     "name": "stdout",
     "output_type": "stream",
     "text": [
      "Successfully scrape donation from quranmuwakafmu. Going to scrape the next donation.\n"
     ]
    },
    {
     "name": "stderr",
     "output_type": "stream",
     "text": [
      "/Users/mac/Documents/RU/THESIS/working_thesis/scrape.py:286: FutureWarning: The frame.append method is deprecated and will be removed from pandas in a future version. Use pandas.concat instead.\n",
      "  df_donations_prop = df_donations_prop.append(df)\n"
     ]
    },
    {
     "name": "stdout",
     "output_type": "stream",
     "text": [
      "Successfully scrape donation from donasiuntukruangbelajarsantri. Going to scrape the next donation.\n"
     ]
    },
    {
     "name": "stderr",
     "output_type": "stream",
     "text": [
      "/Users/mac/Documents/RU/THESIS/working_thesis/scrape.py:286: FutureWarning: The frame.append method is deprecated and will be removed from pandas in a future version. Use pandas.concat instead.\n",
      "  df_donations_prop = df_donations_prop.append(df)\n"
     ]
    },
    {
     "name": "stdout",
     "output_type": "stream",
     "text": [
      "Successfully scrape donation from bantuanrenovasigedungmadrasahalmanshuriyah. Going to scrape the next donation.\n"
     ]
    },
    {
     "name": "stderr",
     "output_type": "stream",
     "text": [
      "/Users/mac/Documents/RU/THESIS/working_thesis/scrape.py:286: FutureWarning: The frame.append method is deprecated and will be removed from pandas in a future version. Use pandas.concat instead.\n",
      "  df_donations_prop = df_donations_prop.append(df)\n"
     ]
    },
    {
     "name": "stdout",
     "output_type": "stream",
     "text": [
      "Successfully scrape donation from sedekahuntukpara50santripenghafalquran. Going to scrape the next donation.\n"
     ]
    },
    {
     "name": "stderr",
     "output_type": "stream",
     "text": [
      "/Users/mac/Documents/RU/THESIS/working_thesis/scrape.py:286: FutureWarning: The frame.append method is deprecated and will be removed from pandas in a future version. Use pandas.concat instead.\n",
      "  df_donations_prop = df_donations_prop.append(df)\n"
     ]
    },
    {
     "name": "stdout",
     "output_type": "stream",
     "text": [
      "Successfully scrape donation from bantuponpesalmanshuriyah. Going to scrape the next donation.\n"
     ]
    },
    {
     "name": "stderr",
     "output_type": "stream",
     "text": [
      "/Users/mac/Documents/RU/THESIS/working_thesis/scrape.py:286: FutureWarning: The frame.append method is deprecated and will be removed from pandas in a future version. Use pandas.concat instead.\n",
      "  df_donations_prop = df_donations_prop.append(df)\n"
     ]
    },
    {
     "name": "stdout",
     "output_type": "stream",
     "text": [
      "Successfully scrape donation from wakafpembangunanpesantrencendekiaqurani. Going to scrape the next donation.\n"
     ]
    },
    {
     "name": "stderr",
     "output_type": "stream",
     "text": [
      "/Users/mac/Documents/RU/THESIS/working_thesis/scrape.py:286: FutureWarning: The frame.append method is deprecated and will be removed from pandas in a future version. Use pandas.concat instead.\n",
      "  df_donations_prop = df_donations_prop.append(df)\n"
     ]
    },
    {
     "name": "stdout",
     "output_type": "stream",
     "text": [
      "Successfully scrape donation from bantubangunsekolahislamselaganraya. Going to scrape the next donation.\n"
     ]
    },
    {
     "name": "stderr",
     "output_type": "stream",
     "text": [
      "/Users/mac/Documents/RU/THESIS/working_thesis/scrape.py:286: FutureWarning: The frame.append method is deprecated and will be removed from pandas in a future version. Use pandas.concat instead.\n",
      "  df_donations_prop = df_donations_prop.append(df)\n"
     ]
    },
    {
     "name": "stdout",
     "output_type": "stream",
     "text": [
      "Successfully scrape donation from beasiswayatimpiatupemulungdandhuafa. Going to scrape the next donation.\n"
     ]
    },
    {
     "name": "stderr",
     "output_type": "stream",
     "text": [
      "/Users/mac/Documents/RU/THESIS/working_thesis/scrape.py:286: FutureWarning: The frame.append method is deprecated and will be removed from pandas in a future version. Use pandas.concat instead.\n",
      "  df_donations_prop = df_donations_prop.append(df)\n"
     ]
    },
    {
     "name": "stdout",
     "output_type": "stream",
     "text": [
      "Successfully scrape donation from daaruladzkararraudhotaen. Going to scrape the next donation.\n"
     ]
    },
    {
     "name": "stderr",
     "output_type": "stream",
     "text": [
      "/Users/mac/Documents/RU/THESIS/working_thesis/scrape.py:286: FutureWarning: The frame.append method is deprecated and will be removed from pandas in a future version. Use pandas.concat instead.\n",
      "  df_donations_prop = df_donations_prop.append(df)\n"
     ]
    },
    {
     "name": "stdout",
     "output_type": "stream",
     "text": [
      "Successfully scrape donation from sedekahustadzkonsultasionline. Going to scrape the next donation.\n"
     ]
    },
    {
     "name": "stderr",
     "output_type": "stream",
     "text": [
      "/Users/mac/Documents/RU/THESIS/working_thesis/scrape.py:286: FutureWarning: The frame.append method is deprecated and will be removed from pandas in a future version. Use pandas.concat instead.\n",
      "  df_donations_prop = df_donations_prop.append(df)\n"
     ]
    },
    {
     "name": "stdout",
     "output_type": "stream",
     "text": [
      "Successfully scrape donation from selagi. Going to scrape the next donation.\n"
     ]
    },
    {
     "name": "stderr",
     "output_type": "stream",
     "text": [
      "/Users/mac/Documents/RU/THESIS/working_thesis/scrape.py:286: FutureWarning: The frame.append method is deprecated and will be removed from pandas in a future version. Use pandas.concat instead.\n",
      "  df_donations_prop = df_donations_prop.append(df)\n"
     ]
    },
    {
     "name": "stdout",
     "output_type": "stream",
     "text": [
      "Successfully scrape donation from diasporataiwanr80. Going to scrape the next donation.\n"
     ]
    },
    {
     "name": "stderr",
     "output_type": "stream",
     "text": [
      "/Users/mac/Documents/RU/THESIS/working_thesis/scrape.py:286: FutureWarning: The frame.append method is deprecated and will be removed from pandas in a future version. Use pandas.concat instead.\n",
      "  df_donations_prop = df_donations_prop.append(df)\n"
     ]
    },
    {
     "name": "stdout",
     "output_type": "stream",
     "text": [
      "Successfully scrape donation from diasporar80. Going to scrape the next donation.\n"
     ]
    },
    {
     "name": "stderr",
     "output_type": "stream",
     "text": [
      "/Users/mac/Documents/RU/THESIS/working_thesis/scrape.py:286: FutureWarning: The frame.append method is deprecated and will be removed from pandas in a future version. Use pandas.concat instead.\n",
      "  df_donations_prop = df_donations_prop.append(df)\n"
     ]
    },
    {
     "name": "stdout",
     "output_type": "stream",
     "text": [
      "Successfully scrape donation from diasporaomanr80. Going to scrape the next donation.\n"
     ]
    },
    {
     "name": "stderr",
     "output_type": "stream",
     "text": [
      "/Users/mac/Documents/RU/THESIS/working_thesis/scrape.py:286: FutureWarning: The frame.append method is deprecated and will be removed from pandas in a future version. Use pandas.concat instead.\n",
      "  df_donations_prop = df_donations_prop.append(df)\n"
     ]
    },
    {
     "name": "stdout",
     "output_type": "stream",
     "text": [
      "Successfully scrape donation from diasporaqatarr80. Going to scrape the next donation.\n"
     ]
    },
    {
     "name": "stderr",
     "output_type": "stream",
     "text": [
      "/Users/mac/Documents/RU/THESIS/working_thesis/scrape.py:286: FutureWarning: The frame.append method is deprecated and will be removed from pandas in a future version. Use pandas.concat instead.\n",
      "  df_donations_prop = df_donations_prop.append(df)\n"
     ]
    },
    {
     "name": "stdout",
     "output_type": "stream",
     "text": [
      "Successfully scrape donation from diasporakuwaitr80. Going to scrape the next donation.\n"
     ]
    },
    {
     "name": "stderr",
     "output_type": "stream",
     "text": [
      "/Users/mac/Documents/RU/THESIS/working_thesis/scrape.py:286: FutureWarning: The frame.append method is deprecated and will be removed from pandas in a future version. Use pandas.concat instead.\n",
      "  df_donations_prop = df_donations_prop.append(df)\n"
     ]
    },
    {
     "name": "stdout",
     "output_type": "stream",
     "text": [
      "Successfully scrape donation from bantushelteranabul. Going to scrape the next donation.\n"
     ]
    },
    {
     "name": "stderr",
     "output_type": "stream",
     "text": [
      "/Users/mac/Documents/RU/THESIS/working_thesis/scrape.py:286: FutureWarning: The frame.append method is deprecated and will be removed from pandas in a future version. Use pandas.concat instead.\n",
      "  df_donations_prop = df_donations_prop.append(df)\n"
     ]
    },
    {
     "name": "stdout",
     "output_type": "stream",
     "text": [
      "Successfully scrape donation from annurrenovasi. Going to scrape the next donation.\n"
     ]
    },
    {
     "name": "stderr",
     "output_type": "stream",
     "text": [
      "/Users/mac/Documents/RU/THESIS/working_thesis/scrape.py:286: FutureWarning: The frame.append method is deprecated and will be removed from pandas in a future version. Use pandas.concat instead.\n",
      "  df_donations_prop = df_donations_prop.append(df)\n"
     ]
    },
    {
     "name": "stdout",
     "output_type": "stream",
     "text": [
      "Successfully scrape donation from difabelbahagia. Going to scrape the next donation.\n"
     ]
    },
    {
     "name": "stderr",
     "output_type": "stream",
     "text": [
      "/Users/mac/Documents/RU/THESIS/working_thesis/scrape.py:286: FutureWarning: The frame.append method is deprecated and will be removed from pandas in a future version. Use pandas.concat instead.\n",
      "  df_donations_prop = df_donations_prop.append(df)\n"
     ]
    },
    {
     "name": "stdout",
     "output_type": "stream",
     "text": [
      "Successfully scrape donation from bantumuadzindifabel. Going to scrape the next donation.\n"
     ]
    },
    {
     "name": "stderr",
     "output_type": "stream",
     "text": [
      "/Users/mac/Documents/RU/THESIS/working_thesis/scrape.py:286: FutureWarning: The frame.append method is deprecated and will be removed from pandas in a future version. Use pandas.concat instead.\n",
      "  df_donations_prop = df_donations_prop.append(df)\n"
     ]
    },
    {
     "name": "stdout",
     "output_type": "stream",
     "text": [
      "Successfully scrape donation from bantusaudaratunanetramenjadihafizhquran. Going to scrape the next donation.\n"
     ]
    },
    {
     "name": "stderr",
     "output_type": "stream",
     "text": [
      "/Users/mac/Documents/RU/THESIS/working_thesis/scrape.py:286: FutureWarning: The frame.append method is deprecated and will be removed from pandas in a future version. Use pandas.concat instead.\n",
      "  df_donations_prop = df_donations_prop.append(df)\n"
     ]
    },
    {
     "name": "stdout",
     "output_type": "stream",
     "text": [
      "Successfully scrape donation from biayaanakyatimpiatudipantiasuhanaknesiaanakindonesia. Going to scrape the next donation.\n"
     ]
    },
    {
     "name": "stderr",
     "output_type": "stream",
     "text": [
      "/Users/mac/Documents/RU/THESIS/working_thesis/scrape.py:286: FutureWarning: The frame.append method is deprecated and will be removed from pandas in a future version. Use pandas.concat instead.\n",
      "  df_donations_prop = df_donations_prop.append(df)\n"
     ]
    },
    {
     "name": "stdout",
     "output_type": "stream",
     "text": [
      "Successfully scrape donation from donasiuntukpendidikananakdaerahterpencil. Going to scrape the next donation.\n"
     ]
    },
    {
     "name": "stderr",
     "output_type": "stream",
     "text": [
      "/Users/mac/Documents/RU/THESIS/working_thesis/scrape.py:286: FutureWarning: The frame.append method is deprecated and will be removed from pandas in a future version. Use pandas.concat instead.\n",
      "  df_donations_prop = df_donations_prop.append(df)\n"
     ]
    },
    {
     "name": "stdout",
     "output_type": "stream",
     "text": [
      "Successfully scrape donation from senyumquran. Going to scrape the next donation.\n"
     ]
    },
    {
     "name": "stderr",
     "output_type": "stream",
     "text": [
      "/Users/mac/Documents/RU/THESIS/working_thesis/scrape.py:286: FutureWarning: The frame.append method is deprecated and will be removed from pandas in a future version. Use pandas.concat instead.\n",
      "  df_donations_prop = df_donations_prop.append(df)\n"
     ]
    },
    {
     "name": "stdout",
     "output_type": "stream",
     "text": [
      "Successfully scrape donation from jadiorangtuaasuhuntukanakyatimdandhuafa. Going to scrape the next donation.\n"
     ]
    },
    {
     "name": "stderr",
     "output_type": "stream",
     "text": [
      "/Users/mac/Documents/RU/THESIS/working_thesis/scrape.py:286: FutureWarning: The frame.append method is deprecated and will be removed from pandas in a future version. Use pandas.concat instead.\n",
      "  df_donations_prop = df_donations_prop.append(df)\n"
     ]
    },
    {
     "name": "stdout",
     "output_type": "stream",
     "text": [
      "Successfully scrape donation from asysyafiiyah. Going to scrape the next donation.\n"
     ]
    },
    {
     "name": "stderr",
     "output_type": "stream",
     "text": [
      "/Users/mac/Documents/RU/THESIS/working_thesis/scrape.py:286: FutureWarning: The frame.append method is deprecated and will be removed from pandas in a future version. Use pandas.concat instead.\n",
      "  df_donations_prop = df_donations_prop.append(df)\n"
     ]
    },
    {
     "name": "stdout",
     "output_type": "stream",
     "text": [
      "Successfully scrape donation from wujudkankeinginanseoranggurumembangunsekolah. Going to scrape the next donation.\n"
     ]
    },
    {
     "name": "stderr",
     "output_type": "stream",
     "text": [
      "/Users/mac/Documents/RU/THESIS/working_thesis/scrape.py:286: FutureWarning: The frame.append method is deprecated and will be removed from pandas in a future version. Use pandas.concat instead.\n",
      "  df_donations_prop = df_donations_prop.append(df)\n"
     ]
    },
    {
     "name": "stdout",
     "output_type": "stream",
     "text": [
      "Successfully scrape donation from wakafkanmushafquran. Going to scrape the next donation.\n"
     ]
    },
    {
     "name": "stderr",
     "output_type": "stream",
     "text": [
      "/Users/mac/Documents/RU/THESIS/working_thesis/scrape.py:286: FutureWarning: The frame.append method is deprecated and will be removed from pandas in a future version. Use pandas.concat instead.\n",
      "  df_donations_prop = df_donations_prop.append(df)\n"
     ]
    },
    {
     "name": "stdout",
     "output_type": "stream",
     "text": [
      "Successfully scrape donation from rumahmerahputih. Going to scrape the next donation.\n"
     ]
    },
    {
     "name": "stderr",
     "output_type": "stream",
     "text": [
      "/Users/mac/Documents/RU/THESIS/working_thesis/scrape.py:286: FutureWarning: The frame.append method is deprecated and will be removed from pandas in a future version. Use pandas.concat instead.\n",
      "  df_donations_prop = df_donations_prop.append(df)\n"
     ]
    },
    {
     "name": "stdout",
     "output_type": "stream",
     "text": [
      "Successfully scrape donation from ihsaniyahpeduli. Going to scrape the next donation.\n"
     ]
    },
    {
     "name": "stderr",
     "output_type": "stream",
     "text": [
      "/Users/mac/Documents/RU/THESIS/working_thesis/scrape.py:286: FutureWarning: The frame.append method is deprecated and will be removed from pandas in a future version. Use pandas.concat instead.\n",
      "  df_donations_prop = df_donations_prop.append(df)\n"
     ]
    },
    {
     "name": "stdout",
     "output_type": "stream",
     "text": [
      "Successfully scrape donation from bantusantridipelosokdesa. Going to scrape the next donation.\n"
     ]
    },
    {
     "name": "stderr",
     "output_type": "stream",
     "text": [
      "/Users/mac/Documents/RU/THESIS/working_thesis/scrape.py:286: FutureWarning: The frame.append method is deprecated and will be removed from pandas in a future version. Use pandas.concat instead.\n",
      "  df_donations_prop = df_donations_prop.append(df)\n"
     ]
    },
    {
     "name": "stdout",
     "output_type": "stream",
     "text": [
      "Successfully scrape donation from cetak30jutaprogrammer. Going to scrape the next donation.\n"
     ]
    },
    {
     "name": "stderr",
     "output_type": "stream",
     "text": [
      "/Users/mac/Documents/RU/THESIS/working_thesis/scrape.py:286: FutureWarning: The frame.append method is deprecated and will be removed from pandas in a future version. Use pandas.concat instead.\n",
      "  df_donations_prop = df_donations_prop.append(df)\n"
     ]
    },
    {
     "name": "stdout",
     "output_type": "stream",
     "text": [
      "Successfully scrape donation from sedekahpembangunanruangkelassantri. Going to scrape the next donation.\n"
     ]
    },
    {
     "name": "stderr",
     "output_type": "stream",
     "text": [
      "/Users/mac/Documents/RU/THESIS/working_thesis/scrape.py:286: FutureWarning: The frame.append method is deprecated and will be removed from pandas in a future version. Use pandas.concat instead.\n",
      "  df_donations_prop = df_donations_prop.append(df)\n"
     ]
    },
    {
     "name": "stdout",
     "output_type": "stream",
     "text": [
      "Successfully scrape donation from selamatkannegeridengansambungharapanmereka. Going to scrape the next donation.\n"
     ]
    },
    {
     "name": "stderr",
     "output_type": "stream",
     "text": [
      "/Users/mac/Documents/RU/THESIS/working_thesis/scrape.py:286: FutureWarning: The frame.append method is deprecated and will be removed from pandas in a future version. Use pandas.concat instead.\n",
      "  df_donations_prop = df_donations_prop.append(df)\n"
     ]
    },
    {
     "name": "stdout",
     "output_type": "stream",
     "text": [
      "Successfully scrape donation from aksiuntuknelayan. Going to scrape the next donation.\n"
     ]
    },
    {
     "name": "stderr",
     "output_type": "stream",
     "text": [
      "/Users/mac/Documents/RU/THESIS/working_thesis/scrape.py:286: FutureWarning: The frame.append method is deprecated and will be removed from pandas in a future version. Use pandas.concat instead.\n",
      "  df_donations_prop = df_donations_prop.append(df)\n"
     ]
    },
    {
     "name": "stdout",
     "output_type": "stream",
     "text": [
      "Successfully scrape donation from tolongadamanaktukangojek. Going to scrape the next donation.\n"
     ]
    },
    {
     "name": "stderr",
     "output_type": "stream",
     "text": [
      "/Users/mac/Documents/RU/THESIS/working_thesis/scrape.py:286: FutureWarning: The frame.append method is deprecated and will be removed from pandas in a future version. Use pandas.concat instead.\n",
      "  df_donations_prop = df_donations_prop.append(df)\n"
     ]
    },
    {
     "name": "stdout",
     "output_type": "stream",
     "text": [
      "Successfully scrape donation from cilotaforkarangasem. Going to scrape the next donation.\n"
     ]
    },
    {
     "name": "stderr",
     "output_type": "stream",
     "text": [
      "/Users/mac/Documents/RU/THESIS/working_thesis/scrape.py:286: FutureWarning: The frame.append method is deprecated and will be removed from pandas in a future version. Use pandas.concat instead.\n",
      "  df_donations_prop = df_donations_prop.append(df)\n"
     ]
    },
    {
     "name": "stdout",
     "output_type": "stream",
     "text": [
      "Error when scraping donation from wakafproduktifuntukibu. Going to scrape the next donation.\n",
      "Successfully scrape donation from hisabakhirat. Going to scrape the next donation.\n"
     ]
    },
    {
     "name": "stderr",
     "output_type": "stream",
     "text": [
      "/Users/mac/Documents/RU/THESIS/working_thesis/scrape.py:286: FutureWarning: The frame.append method is deprecated and will be removed from pandas in a future version. Use pandas.concat instead.\n",
      "  df_donations_prop = df_donations_prop.append(df)\n"
     ]
    },
    {
     "name": "stdout",
     "output_type": "stream",
     "text": [
      "Successfully scrape donation from bantupakyongkigusreray. Going to scrape the next donation.\n"
     ]
    },
    {
     "name": "stderr",
     "output_type": "stream",
     "text": [
      "/Users/mac/Documents/RU/THESIS/working_thesis/scrape.py:286: FutureWarning: The frame.append method is deprecated and will be removed from pandas in a future version. Use pandas.concat instead.\n",
      "  df_donations_prop = df_donations_prop.append(df)\n"
     ]
    },
    {
     "name": "stdout",
     "output_type": "stream",
     "text": [
      "Successfully scrape donation from pedulimamamilka. Going to scrape the next donation.\n"
     ]
    },
    {
     "name": "stderr",
     "output_type": "stream",
     "text": [
      "/Users/mac/Documents/RU/THESIS/working_thesis/scrape.py:286: FutureWarning: The frame.append method is deprecated and will be removed from pandas in a future version. Use pandas.concat instead.\n",
      "  df_donations_prop = df_donations_prop.append(df)\n"
     ]
    },
    {
     "name": "stdout",
     "output_type": "stream",
     "text": [
      "Successfully scrape donation from bantukamiberdayakandifabelntb. Going to scrape the next donation.\n"
     ]
    },
    {
     "name": "stderr",
     "output_type": "stream",
     "text": [
      "/Users/mac/Documents/RU/THESIS/working_thesis/scrape.py:286: FutureWarning: The frame.append method is deprecated and will be removed from pandas in a future version. Use pandas.concat instead.\n",
      "  df_donations_prop = df_donations_prop.append(df)\n"
     ]
    },
    {
     "name": "stdout",
     "output_type": "stream",
     "text": [
      "Successfully scrape donation from zakatharta. Going to scrape the next donation.\n"
     ]
    },
    {
     "name": "stderr",
     "output_type": "stream",
     "text": [
      "/Users/mac/Documents/RU/THESIS/working_thesis/scrape.py:286: FutureWarning: The frame.append method is deprecated and will be removed from pandas in a future version. Use pandas.concat instead.\n",
      "  df_donations_prop = df_donations_prop.append(df)\n"
     ]
    },
    {
     "name": "stdout",
     "output_type": "stream",
     "text": [
      "Successfully scrape donation from mckparalansia. Going to scrape the next donation.\n"
     ]
    },
    {
     "name": "stderr",
     "output_type": "stream",
     "text": [
      "/Users/mac/Documents/RU/THESIS/working_thesis/scrape.py:286: FutureWarning: The frame.append method is deprecated and will be removed from pandas in a future version. Use pandas.concat instead.\n",
      "  df_donations_prop = df_donations_prop.append(df)\n"
     ]
    },
    {
     "name": "stdout",
     "output_type": "stream",
     "text": [
      "Successfully scrape donation from sedekahmakanpasien. Going to scrape the next donation.\n"
     ]
    },
    {
     "name": "stderr",
     "output_type": "stream",
     "text": [
      "/Users/mac/Documents/RU/THESIS/working_thesis/scrape.py:286: FutureWarning: The frame.append method is deprecated and will be removed from pandas in a future version. Use pandas.concat instead.\n",
      "  df_donations_prop = df_donations_prop.append(df)\n"
     ]
    },
    {
     "name": "stdout",
     "output_type": "stream",
     "text": [
      "Successfully scrape donation from sediamakanpasiendhuafa. Going to scrape the next donation.\n"
     ]
    },
    {
     "name": "stderr",
     "output_type": "stream",
     "text": [
      "/Users/mac/Documents/RU/THESIS/working_thesis/scrape.py:286: FutureWarning: The frame.append method is deprecated and will be removed from pandas in a future version. Use pandas.concat instead.\n",
      "  df_donations_prop = df_donations_prop.append(df)\n"
     ]
    },
    {
     "name": "stdout",
     "output_type": "stream",
     "text": [
      "Successfully scrape donation from pesantrengodigital. Going to scrape the next donation.\n"
     ]
    },
    {
     "name": "stderr",
     "output_type": "stream",
     "text": [
      "/Users/mac/Documents/RU/THESIS/working_thesis/scrape.py:286: FutureWarning: The frame.append method is deprecated and will be removed from pandas in a future version. Use pandas.concat instead.\n",
      "  df_donations_prop = df_donations_prop.append(df)\n"
     ]
    },
    {
     "name": "stdout",
     "output_type": "stream",
     "text": [
      "Successfully scrape donation from maribantupendidikangratisdaritksampaisma. Going to scrape the next donation.\n"
     ]
    },
    {
     "name": "stderr",
     "output_type": "stream",
     "text": [
      "/Users/mac/Documents/RU/THESIS/working_thesis/scrape.py:286: FutureWarning: The frame.append method is deprecated and will be removed from pandas in a future version. Use pandas.concat instead.\n",
      "  df_donations_prop = df_donations_prop.append(df)\n"
     ]
    },
    {
     "name": "stdout",
     "output_type": "stream",
     "text": [
      "Successfully scrape donation from sekolahalam. Going to scrape the next donation.\n"
     ]
    },
    {
     "name": "stderr",
     "output_type": "stream",
     "text": [
      "/Users/mac/Documents/RU/THESIS/working_thesis/scrape.py:286: FutureWarning: The frame.append method is deprecated and will be removed from pandas in a future version. Use pandas.concat instead.\n",
      "  df_donations_prop = df_donations_prop.append(df)\n"
     ]
    },
    {
     "name": "stdout",
     "output_type": "stream",
     "text": [
      "Successfully scrape donation from kebuntahfidzkreatifcintaabiummi. Going to scrape the next donation.\n"
     ]
    },
    {
     "name": "stderr",
     "output_type": "stream",
     "text": [
      "/Users/mac/Documents/RU/THESIS/working_thesis/scrape.py:286: FutureWarning: The frame.append method is deprecated and will be removed from pandas in a future version. Use pandas.concat instead.\n",
      "  df_donations_prop = df_donations_prop.append(df)\n"
     ]
    },
    {
     "name": "stdout",
     "output_type": "stream",
     "text": [
      "Successfully scrape donation from membangunanakbangsa. Going to scrape the next donation.\n"
     ]
    },
    {
     "name": "stderr",
     "output_type": "stream",
     "text": [
      "/Users/mac/Documents/RU/THESIS/working_thesis/scrape.py:286: FutureWarning: The frame.append method is deprecated and will be removed from pandas in a future version. Use pandas.concat instead.\n",
      "  df_donations_prop = df_donations_prop.append(df)\n"
     ]
    },
    {
     "name": "stdout",
     "output_type": "stream",
     "text": [
      "Successfully scrape donation from pendidikanpenghafalalquranyatimdhuafa. Going to scrape the next donation.\n"
     ]
    },
    {
     "name": "stderr",
     "output_type": "stream",
     "text": [
      "/Users/mac/Documents/RU/THESIS/working_thesis/scrape.py:286: FutureWarning: The frame.append method is deprecated and will be removed from pandas in a future version. Use pandas.concat instead.\n",
      "  df_donations_prop = df_donations_prop.append(df)\n"
     ]
    },
    {
     "name": "stdout",
     "output_type": "stream",
     "text": [
      "Successfully scrape donation from investasikupahalaku. Going to scrape the next donation.\n"
     ]
    },
    {
     "name": "stderr",
     "output_type": "stream",
     "text": [
      "/Users/mac/Documents/RU/THESIS/working_thesis/scrape.py:286: FutureWarning: The frame.append method is deprecated and will be removed from pandas in a future version. Use pandas.concat instead.\n",
      "  df_donations_prop = df_donations_prop.append(df)\n"
     ]
    },
    {
     "name": "stdout",
     "output_type": "stream",
     "text": [
      "Successfully scrape donation from jagamasadepan. Going to scrape the next donation.\n"
     ]
    },
    {
     "name": "stderr",
     "output_type": "stream",
     "text": [
      "/Users/mac/Documents/RU/THESIS/working_thesis/scrape.py:286: FutureWarning: The frame.append method is deprecated and will be removed from pandas in a future version. Use pandas.concat instead.\n",
      "  df_donations_prop = df_donations_prop.append(df)\n"
     ]
    },
    {
     "name": "stdout",
     "output_type": "stream",
     "text": [
      "Successfully scrape donation from ruangestetika. Going to scrape the next donation.\n"
     ]
    },
    {
     "name": "stderr",
     "output_type": "stream",
     "text": [
      "/Users/mac/Documents/RU/THESIS/working_thesis/scrape.py:286: FutureWarning: The frame.append method is deprecated and will be removed from pandas in a future version. Use pandas.concat instead.\n",
      "  df_donations_prop = df_donations_prop.append(df)\n"
     ]
    },
    {
     "name": "stdout",
     "output_type": "stream",
     "text": [
      "Successfully scrape donation from strayfighter. Going to scrape the next donation.\n"
     ]
    },
    {
     "name": "stderr",
     "output_type": "stream",
     "text": [
      "/Users/mac/Documents/RU/THESIS/working_thesis/scrape.py:286: FutureWarning: The frame.append method is deprecated and will be removed from pandas in a future version. Use pandas.concat instead.\n",
      "  df_donations_prop = df_donations_prop.append(df)\n"
     ]
    },
    {
     "name": "stdout",
     "output_type": "stream",
     "text": [
      "Successfully scrape donation from korbanbencanaalam. Going to scrape the next donation.\n"
     ]
    },
    {
     "name": "stderr",
     "output_type": "stream",
     "text": [
      "/Users/mac/Documents/RU/THESIS/working_thesis/scrape.py:286: FutureWarning: The frame.append method is deprecated and will be removed from pandas in a future version. Use pandas.concat instead.\n",
      "  df_donations_prop = df_donations_prop.append(df)\n"
     ]
    },
    {
     "name": "stdout",
     "output_type": "stream",
     "text": [
      "Successfully scrape donation from bantuabdneruda. Going to scrape the next donation.\n"
     ]
    },
    {
     "name": "stderr",
     "output_type": "stream",
     "text": [
      "/Users/mac/Documents/RU/THESIS/working_thesis/scrape.py:286: FutureWarning: The frame.append method is deprecated and will be removed from pandas in a future version. Use pandas.concat instead.\n",
      "  df_donations_prop = df_donations_prop.append(df)\n"
     ]
    },
    {
     "name": "stdout",
     "output_type": "stream",
     "text": [
      "Successfully scrape donation from sedekahsubuhbantupendidikandisabilitas. Going to scrape the next donation.\n"
     ]
    },
    {
     "name": "stderr",
     "output_type": "stream",
     "text": [
      "/Users/mac/Documents/RU/THESIS/working_thesis/scrape.py:286: FutureWarning: The frame.append method is deprecated and will be removed from pandas in a future version. Use pandas.concat instead.\n",
      "  df_donations_prop = df_donations_prop.append(df)\n"
     ]
    },
    {
     "name": "stdout",
     "output_type": "stream",
     "text": [
      "Successfully scrape donation from smambulancegratis. Going to scrape the next donation.\n"
     ]
    },
    {
     "name": "stderr",
     "output_type": "stream",
     "text": [
      "/Users/mac/Documents/RU/THESIS/working_thesis/scrape.py:286: FutureWarning: The frame.append method is deprecated and will be removed from pandas in a future version. Use pandas.concat instead.\n",
      "  df_donations_prop = df_donations_prop.append(df)\n"
     ]
    },
    {
     "name": "stdout",
     "output_type": "stream",
     "text": [
      "Successfully scrape donation from yayasanparamarta. Going to scrape the next donation.\n"
     ]
    },
    {
     "name": "stderr",
     "output_type": "stream",
     "text": [
      "/Users/mac/Documents/RU/THESIS/working_thesis/scrape.py:286: FutureWarning: The frame.append method is deprecated and will be removed from pandas in a future version. Use pandas.concat instead.\n",
      "  df_donations_prop = df_donations_prop.append(df)\n"
     ]
    },
    {
     "name": "stdout",
     "output_type": "stream",
     "text": [
      "Successfully scrape donation from sumurdusunkarangasem. Going to scrape the next donation.\n"
     ]
    },
    {
     "name": "stderr",
     "output_type": "stream",
     "text": [
      "/Users/mac/Documents/RU/THESIS/working_thesis/scrape.py:286: FutureWarning: The frame.append method is deprecated and will be removed from pandas in a future version. Use pandas.concat instead.\n",
      "  df_donations_prop = df_donations_prop.append(df)\n"
     ]
    },
    {
     "name": "stdout",
     "output_type": "stream",
     "text": [
      "Successfully scrape donation from bantupkbmbbnpadang. Going to scrape the next donation.\n"
     ]
    },
    {
     "name": "stderr",
     "output_type": "stream",
     "text": [
      "/Users/mac/Documents/RU/THESIS/working_thesis/scrape.py:286: FutureWarning: The frame.append method is deprecated and will be removed from pandas in a future version. Use pandas.concat instead.\n",
      "  df_donations_prop = df_donations_prop.append(df)\n"
     ]
    },
    {
     "name": "stdout",
     "output_type": "stream",
     "text": [
      "Successfully scrape donation from bukapuasasunnah. Going to scrape the next donation.\n"
     ]
    },
    {
     "name": "stderr",
     "output_type": "stream",
     "text": [
      "/Users/mac/Documents/RU/THESIS/working_thesis/scrape.py:286: FutureWarning: The frame.append method is deprecated and will be removed from pandas in a future version. Use pandas.concat instead.\n",
      "  df_donations_prop = df_donations_prop.append(df)\n"
     ]
    },
    {
     "name": "stdout",
     "output_type": "stream",
     "text": [
      "Successfully scrape donation from sedekahmusarjanakananakpantidandhuafas1. Going to scrape the next donation.\n"
     ]
    },
    {
     "name": "stderr",
     "output_type": "stream",
     "text": [
      "/Users/mac/Documents/RU/THESIS/working_thesis/scrape.py:286: FutureWarning: The frame.append method is deprecated and will be removed from pandas in a future version. Use pandas.concat instead.\n",
      "  df_donations_prop = df_donations_prop.append(df)\n"
     ]
    },
    {
     "name": "stdout",
     "output_type": "stream",
     "text": [
      "Successfully scrape donation from rumahqurancampakamulyacianjur. Going to scrape the next donation.\n"
     ]
    },
    {
     "name": "stderr",
     "output_type": "stream",
     "text": [
      "/Users/mac/Documents/RU/THESIS/working_thesis/scrape.py:286: FutureWarning: The frame.append method is deprecated and will be removed from pandas in a future version. Use pandas.concat instead.\n",
      "  df_donations_prop = df_donations_prop.append(df)\n"
     ]
    },
    {
     "name": "stdout",
     "output_type": "stream",
     "text": [
      "Successfully scrape donation from sedekahpendidikanyatim. Going to scrape the next donation.\n"
     ]
    },
    {
     "name": "stderr",
     "output_type": "stream",
     "text": [
      "/Users/mac/Documents/RU/THESIS/working_thesis/scrape.py:286: FutureWarning: The frame.append method is deprecated and will be removed from pandas in a future version. Use pandas.concat instead.\n",
      "  df_donations_prop = df_donations_prop.append(df)\n"
     ]
    },
    {
     "name": "stdout",
     "output_type": "stream",
     "text": [
      "Successfully scrape donation from alquranuntukmuslimuganda. Going to scrape the next donation.\n"
     ]
    },
    {
     "name": "stderr",
     "output_type": "stream",
     "text": [
      "/Users/mac/Documents/RU/THESIS/working_thesis/scrape.py:286: FutureWarning: The frame.append method is deprecated and will be removed from pandas in a future version. Use pandas.concat instead.\n",
      "  df_donations_prop = df_donations_prop.append(df)\n"
     ]
    },
    {
     "name": "stdout",
     "output_type": "stream",
     "text": [
      "Successfully scrape donation from produserfilm. Going to scrape the next donation.\n"
     ]
    },
    {
     "name": "stderr",
     "output_type": "stream",
     "text": [
      "/Users/mac/Documents/RU/THESIS/working_thesis/scrape.py:286: FutureWarning: The frame.append method is deprecated and will be removed from pandas in a future version. Use pandas.concat instead.\n",
      "  df_donations_prop = df_donations_prop.append(df)\n"
     ]
    },
    {
     "name": "stdout",
     "output_type": "stream",
     "text": [
      "Successfully scrape donation from dukungaplikasiagama. Going to scrape the next donation.\n"
     ]
    },
    {
     "name": "stderr",
     "output_type": "stream",
     "text": [
      "/Users/mac/Documents/RU/THESIS/working_thesis/scrape.py:286: FutureWarning: The frame.append method is deprecated and will be removed from pandas in a future version. Use pandas.concat instead.\n",
      "  df_donations_prop = df_donations_prop.append(df)\n"
     ]
    },
    {
     "name": "stdout",
     "output_type": "stream",
     "text": [
      "Successfully scrape donation from sedekahjariyahiqrodanquran. Going to scrape the next donation.\n"
     ]
    },
    {
     "name": "stderr",
     "output_type": "stream",
     "text": [
      "/Users/mac/Documents/RU/THESIS/working_thesis/scrape.py:286: FutureWarning: The frame.append method is deprecated and will be removed from pandas in a future version. Use pandas.concat instead.\n",
      "  df_donations_prop = df_donations_prop.append(df)\n"
     ]
    },
    {
     "name": "stdout",
     "output_type": "stream",
     "text": [
      "Successfully scrape donation from solidaritasgunungsemeru. Going to scrape the next donation.\n"
     ]
    },
    {
     "name": "stderr",
     "output_type": "stream",
     "text": [
      "/Users/mac/Documents/RU/THESIS/working_thesis/scrape.py:286: FutureWarning: The frame.append method is deprecated and will be removed from pandas in a future version. Use pandas.concat instead.\n",
      "  df_donations_prop = df_donations_prop.append(df)\n"
     ]
    },
    {
     "name": "stdout",
     "output_type": "stream",
     "text": [
      "Successfully scrape donation from donasibantusaudaraterdampakgempa. Going to scrape the next donation.\n"
     ]
    },
    {
     "name": "stderr",
     "output_type": "stream",
     "text": [
      "/Users/mac/Documents/RU/THESIS/working_thesis/scrape.py:286: FutureWarning: The frame.append method is deprecated and will be removed from pandas in a future version. Use pandas.concat instead.\n",
      "  df_donations_prop = df_donations_prop.append(df)\n"
     ]
    },
    {
     "name": "stdout",
     "output_type": "stream",
     "text": [
      "Successfully scrape donation from banturatusandisabilitasdhuafamilikialatbantu. Going to scrape the next donation.\n"
     ]
    },
    {
     "name": "stderr",
     "output_type": "stream",
     "text": [
      "/Users/mac/Documents/RU/THESIS/working_thesis/scrape.py:286: FutureWarning: The frame.append method is deprecated and will be removed from pandas in a future version. Use pandas.concat instead.\n",
      "  df_donations_prop = df_donations_prop.append(df)\n"
     ]
    },
    {
     "name": "stdout",
     "output_type": "stream",
     "text": [
      "Successfully scrape donation from zakatbantuyatimdhuafapenghafalalquran. Going to scrape the next donation.\n"
     ]
    },
    {
     "name": "stderr",
     "output_type": "stream",
     "text": [
      "/Users/mac/Documents/RU/THESIS/working_thesis/scrape.py:286: FutureWarning: The frame.append method is deprecated and will be removed from pandas in a future version. Use pandas.concat instead.\n",
      "  df_donations_prop = df_donations_prop.append(df)\n"
     ]
    },
    {
     "name": "stdout",
     "output_type": "stream",
     "text": [
      "Successfully scrape donation from onehelpone. Going to scrape the next donation.\n"
     ]
    },
    {
     "name": "stderr",
     "output_type": "stream",
     "text": [
      "/Users/mac/Documents/RU/THESIS/working_thesis/scrape.py:286: FutureWarning: The frame.append method is deprecated and will be removed from pandas in a future version. Use pandas.concat instead.\n",
      "  df_donations_prop = df_donations_prop.append(df)\n"
     ]
    },
    {
     "name": "stdout",
     "output_type": "stream",
     "text": [
      "Successfully scrape donation from sodaqohbiayaoprasionalyayasan. Going to scrape the next donation.\n"
     ]
    },
    {
     "name": "stderr",
     "output_type": "stream",
     "text": [
      "/Users/mac/Documents/RU/THESIS/working_thesis/scrape.py:286: FutureWarning: The frame.append method is deprecated and will be removed from pandas in a future version. Use pandas.concat instead.\n",
      "  df_donations_prop = df_donations_prop.append(df)\n"
     ]
    },
    {
     "name": "stdout",
     "output_type": "stream",
     "text": [
      "Successfully scrape donation from pesantrenpancasila. Going to scrape the next donation.\n"
     ]
    },
    {
     "name": "stderr",
     "output_type": "stream",
     "text": [
      "/Users/mac/Documents/RU/THESIS/working_thesis/scrape.py:286: FutureWarning: The frame.append method is deprecated and will be removed from pandas in a future version. Use pandas.concat instead.\n",
      "  df_donations_prop = df_donations_prop.append(df)\n"
     ]
    },
    {
     "name": "stdout",
     "output_type": "stream",
     "text": [
      "Successfully scrape donation from siterpaduibadurrahman. Going to scrape the next donation.\n"
     ]
    },
    {
     "name": "stderr",
     "output_type": "stream",
     "text": [
      "/Users/mac/Documents/RU/THESIS/working_thesis/scrape.py:286: FutureWarning: The frame.append method is deprecated and will be removed from pandas in a future version. Use pandas.concat instead.\n",
      "  df_donations_prop = df_donations_prop.append(df)\n"
     ]
    },
    {
     "name": "stdout",
     "output_type": "stream",
     "text": [
      "Successfully scrape donation from pedulicarles. Going to scrape the next donation.\n"
     ]
    },
    {
     "name": "stderr",
     "output_type": "stream",
     "text": [
      "/Users/mac/Documents/RU/THESIS/working_thesis/scrape.py:286: FutureWarning: The frame.append method is deprecated and will be removed from pandas in a future version. Use pandas.concat instead.\n",
      "  df_donations_prop = df_donations_prop.append(df)\n"
     ]
    },
    {
     "name": "stdout",
     "output_type": "stream",
     "text": [
      "Successfully scrape donation from jangkarecovillagekab. Going to scrape the next donation.\n"
     ]
    },
    {
     "name": "stderr",
     "output_type": "stream",
     "text": [
      "/Users/mac/Documents/RU/THESIS/working_thesis/scrape.py:286: FutureWarning: The frame.append method is deprecated and will be removed from pandas in a future version. Use pandas.concat instead.\n",
      "  df_donations_prop = df_donations_prop.append(df)\n"
     ]
    },
    {
     "name": "stdout",
     "output_type": "stream",
     "text": [
      "Successfully scrape donation from sapikerbau212. Going to scrape the next donation.\n"
     ]
    },
    {
     "name": "stderr",
     "output_type": "stream",
     "text": [
      "/Users/mac/Documents/RU/THESIS/working_thesis/scrape.py:286: FutureWarning: The frame.append method is deprecated and will be removed from pandas in a future version. Use pandas.concat instead.\n",
      "  df_donations_prop = df_donations_prop.append(df)\n"
     ]
    },
    {
     "name": "stdout",
     "output_type": "stream",
     "text": [
      "Successfully scrape donation from kitadkungr80. Going to scrape the next donation.\n"
     ]
    },
    {
     "name": "stderr",
     "output_type": "stream",
     "text": [
      "/Users/mac/Documents/RU/THESIS/working_thesis/scrape.py:286: FutureWarning: The frame.append method is deprecated and will be removed from pandas in a future version. Use pandas.concat instead.\n",
      "  df_donations_prop = df_donations_prop.append(df)\n"
     ]
    },
    {
     "name": "stdout",
     "output_type": "stream",
     "text": [
      "Successfully scrape donation from rumahrehabilitasihewannathasatwa. Going to scrape the next donation.\n"
     ]
    },
    {
     "name": "stderr",
     "output_type": "stream",
     "text": [
      "/Users/mac/Documents/RU/THESIS/working_thesis/scrape.py:286: FutureWarning: The frame.append method is deprecated and will be removed from pandas in a future version. Use pandas.concat instead.\n",
      "  df_donations_prop = df_donations_prop.append(df)\n"
     ]
    },
    {
     "name": "stdout",
     "output_type": "stream",
     "text": [
      "Successfully scrape donation from banjirbandangsukaweninggarutjawabarat. Going to scrape the next donation.\n"
     ]
    },
    {
     "name": "stderr",
     "output_type": "stream",
     "text": [
      "/Users/mac/Documents/RU/THESIS/working_thesis/scrape.py:286: FutureWarning: The frame.append method is deprecated and will be removed from pandas in a future version. Use pandas.concat instead.\n",
      "  df_donations_prop = df_donations_prop.append(df)\n"
     ]
    },
    {
     "name": "stdout",
     "output_type": "stream",
     "text": [
      "Successfully scrape donation from masjidpascagempasulbar. Going to scrape the next donation.\n"
     ]
    },
    {
     "name": "stderr",
     "output_type": "stream",
     "text": [
      "/Users/mac/Documents/RU/THESIS/working_thesis/scrape.py:286: FutureWarning: The frame.append method is deprecated and will be removed from pandas in a future version. Use pandas.concat instead.\n",
      "  df_donations_prop = df_donations_prop.append(df)\n"
     ]
    },
    {
     "name": "stdout",
     "output_type": "stream",
     "text": [
      "Successfully scrape donation from kalselsiagabanjir. Going to scrape the next donation.\n"
     ]
    },
    {
     "name": "stderr",
     "output_type": "stream",
     "text": [
      "/Users/mac/Documents/RU/THESIS/working_thesis/scrape.py:286: FutureWarning: The frame.append method is deprecated and will be removed from pandas in a future version. Use pandas.concat instead.\n",
      "  df_donations_prop = df_donations_prop.append(df)\n"
     ]
    },
    {
     "name": "stdout",
     "output_type": "stream",
     "text": [
      "Successfully scrape donation from bantuanakdifabel. Going to scrape the next donation.\n"
     ]
    },
    {
     "name": "stderr",
     "output_type": "stream",
     "text": [
      "/Users/mac/Documents/RU/THESIS/working_thesis/scrape.py:286: FutureWarning: The frame.append method is deprecated and will be removed from pandas in a future version. Use pandas.concat instead.\n",
      "  df_donations_prop = df_donations_prop.append(df)\n"
     ]
    },
    {
     "name": "stdout",
     "output_type": "stream",
     "text": [
      "Successfully scrape donation from bantukosterjandabuta. Going to scrape the next donation.\n"
     ]
    },
    {
     "name": "stderr",
     "output_type": "stream",
     "text": [
      "/Users/mac/Documents/RU/THESIS/working_thesis/scrape.py:286: FutureWarning: The frame.append method is deprecated and will be removed from pandas in a future version. Use pandas.concat instead.\n",
      "  df_donations_prop = df_donations_prop.append(df)\n"
     ]
    },
    {
     "name": "stdout",
     "output_type": "stream",
     "text": [
      "Successfully scrape donation from pejuang100kakipalsu. Going to scrape the next donation.\n"
     ]
    },
    {
     "name": "stderr",
     "output_type": "stream",
     "text": [
      "/Users/mac/Documents/RU/THESIS/working_thesis/scrape.py:286: FutureWarning: The frame.append method is deprecated and will be removed from pandas in a future version. Use pandas.concat instead.\n",
      "  df_donations_prop = df_donations_prop.append(df)\n"
     ]
    },
    {
     "name": "stdout",
     "output_type": "stream",
     "text": [
      "Successfully scrape donation from rumahbelajaralqurandantahfidz. Going to scrape the next donation.\n"
     ]
    },
    {
     "name": "stderr",
     "output_type": "stream",
     "text": [
      "/Users/mac/Documents/RU/THESIS/working_thesis/scrape.py:286: FutureWarning: The frame.append method is deprecated and will be removed from pandas in a future version. Use pandas.concat instead.\n",
      "  df_donations_prop = df_donations_prop.append(df)\n"
     ]
    },
    {
     "name": "stdout",
     "output_type": "stream",
     "text": [
      "Successfully scrape donation from bantukucingdananjingterlantardintt. Going to scrape the next donation.\n"
     ]
    },
    {
     "name": "stderr",
     "output_type": "stream",
     "text": [
      "/Users/mac/Documents/RU/THESIS/working_thesis/scrape.py:286: FutureWarning: The frame.append method is deprecated and will be removed from pandas in a future version. Use pandas.concat instead.\n",
      "  df_donations_prop = df_donations_prop.append(df)\n"
     ]
    },
    {
     "name": "stdout",
     "output_type": "stream",
     "text": [
      "Successfully scrape donation from paketsedekahpenuntutilmudansantripenghapalquran. Going to scrape the next donation.\n"
     ]
    },
    {
     "name": "stderr",
     "output_type": "stream",
     "text": [
      "/Users/mac/Documents/RU/THESIS/working_thesis/scrape.py:286: FutureWarning: The frame.append method is deprecated and will be removed from pandas in a future version. Use pandas.concat instead.\n",
      "  df_donations_prop = df_donations_prop.append(df)\n"
     ]
    },
    {
     "name": "stdout",
     "output_type": "stream",
     "text": [
      "Successfully scrape donation from bantuyrskanker. Going to scrape the next donation.\n"
     ]
    },
    {
     "name": "stderr",
     "output_type": "stream",
     "text": [
      "/Users/mac/Documents/RU/THESIS/working_thesis/scrape.py:286: FutureWarning: The frame.append method is deprecated and will be removed from pandas in a future version. Use pandas.concat instead.\n",
      "  df_donations_prop = df_donations_prop.append(df)\n"
     ]
    },
    {
     "name": "stdout",
     "output_type": "stream",
     "text": [
      "Successfully scrape donation from ybkmbantuibutunggaldifabel. Going to scrape the next donation.\n"
     ]
    },
    {
     "name": "stderr",
     "output_type": "stream",
     "text": [
      "/Users/mac/Documents/RU/THESIS/working_thesis/scrape.py:286: FutureWarning: The frame.append method is deprecated and will be removed from pandas in a future version. Use pandas.concat instead.\n",
      "  df_donations_prop = df_donations_prop.append(df)\n"
     ]
    },
    {
     "name": "stdout",
     "output_type": "stream",
     "text": [
      "Successfully scrape donation from quranbraillenetra. Going to scrape the next donation.\n"
     ]
    },
    {
     "name": "stderr",
     "output_type": "stream",
     "text": [
      "/Users/mac/Documents/RU/THESIS/working_thesis/scrape.py:286: FutureWarning: The frame.append method is deprecated and will be removed from pandas in a future version. Use pandas.concat instead.\n",
      "  df_donations_prop = df_donations_prop.append(df)\n"
     ]
    },
    {
     "name": "stdout",
     "output_type": "stream",
     "text": [
      "Successfully scrape donation from bantuperjuanganbusulamisimanusiakayu. Going to scrape the next donation.\n"
     ]
    },
    {
     "name": "stderr",
     "output_type": "stream",
     "text": [
      "/Users/mac/Documents/RU/THESIS/working_thesis/scrape.py:286: FutureWarning: The frame.append method is deprecated and will be removed from pandas in a future version. Use pandas.concat instead.\n",
      "  df_donations_prop = df_donations_prop.append(df)\n"
     ]
    },
    {
     "name": "stdout",
     "output_type": "stream",
     "text": [
      "Successfully scrape donation from zakathafidzalquran. Going to scrape the next donation.\n"
     ]
    },
    {
     "name": "stderr",
     "output_type": "stream",
     "text": [
      "/Users/mac/Documents/RU/THESIS/working_thesis/scrape.py:286: FutureWarning: The frame.append method is deprecated and will be removed from pandas in a future version. Use pandas.concat instead.\n",
      "  df_donations_prop = df_donations_prop.append(df)\n"
     ]
    },
    {
     "name": "stdout",
     "output_type": "stream",
     "text": [
      "Successfully scrape donation from gizi3yatim. Going to scrape the next donation.\n"
     ]
    },
    {
     "name": "stderr",
     "output_type": "stream",
     "text": [
      "/Users/mac/Documents/RU/THESIS/working_thesis/scrape.py:286: FutureWarning: The frame.append method is deprecated and will be removed from pandas in a future version. Use pandas.concat instead.\n",
      "  df_donations_prop = df_donations_prop.append(df)\n"
     ]
    },
    {
     "name": "stdout",
     "output_type": "stream",
     "text": [
      "Successfully scrape donation from panelsuryawaetulu. Going to scrape the next donation.\n"
     ]
    },
    {
     "name": "stderr",
     "output_type": "stream",
     "text": [
      "/Users/mac/Documents/RU/THESIS/working_thesis/scrape.py:286: FutureWarning: The frame.append method is deprecated and will be removed from pandas in a future version. Use pandas.concat instead.\n",
      "  df_donations_prop = df_donations_prop.append(df)\n"
     ]
    },
    {
     "name": "stdout",
     "output_type": "stream",
     "text": [
      "Successfully scrape donation from bantusulian. Going to scrape the next donation.\n"
     ]
    },
    {
     "name": "stderr",
     "output_type": "stream",
     "text": [
      "/Users/mac/Documents/RU/THESIS/working_thesis/scrape.py:286: FutureWarning: The frame.append method is deprecated and will be removed from pandas in a future version. Use pandas.concat instead.\n",
      "  df_donations_prop = df_donations_prop.append(df)\n"
     ]
    },
    {
     "name": "stdout",
     "output_type": "stream",
     "text": [
      "Successfully scrape donation from ulurtanganatasisampahprobolinggo. Going to scrape the next donation.\n"
     ]
    },
    {
     "name": "stderr",
     "output_type": "stream",
     "text": [
      "/Users/mac/Documents/RU/THESIS/working_thesis/scrape.py:286: FutureWarning: The frame.append method is deprecated and will be removed from pandas in a future version. Use pandas.concat instead.\n",
      "  df_donations_prop = df_donations_prop.append(df)\n"
     ]
    },
    {
     "name": "stdout",
     "output_type": "stream",
     "text": [
      "Successfully scrape donation from donasipenganggurandesa. Going to scrape the next donation.\n"
     ]
    },
    {
     "name": "stderr",
     "output_type": "stream",
     "text": [
      "/Users/mac/Documents/RU/THESIS/working_thesis/scrape.py:286: FutureWarning: The frame.append method is deprecated and will be removed from pandas in a future version. Use pandas.concat instead.\n",
      "  df_donations_prop = df_donations_prop.append(df)\n"
     ]
    },
    {
     "name": "stdout",
     "output_type": "stream",
     "text": [
      "Successfully scrape donation from btsdijambidoglover. Going to scrape the next donation.\n"
     ]
    },
    {
     "name": "stderr",
     "output_type": "stream",
     "text": [
      "/Users/mac/Documents/RU/THESIS/working_thesis/scrape.py:286: FutureWarning: The frame.append method is deprecated and will be removed from pandas in a future version. Use pandas.concat instead.\n",
      "  df_donations_prop = df_donations_prop.append(df)\n"
     ]
    },
    {
     "name": "stdout",
     "output_type": "stream",
     "text": [
      "Successfully scrape donation from savesatwaliar. Going to scrape the next donation.\n"
     ]
    },
    {
     "name": "stderr",
     "output_type": "stream",
     "text": [
      "/Users/mac/Documents/RU/THESIS/working_thesis/scrape.py:286: FutureWarning: The frame.append method is deprecated and will be removed from pandas in a future version. Use pandas.concat instead.\n",
      "  df_donations_prop = df_donations_prop.append(df)\n"
     ]
    },
    {
     "name": "stdout",
     "output_type": "stream",
     "text": [
      "Successfully scrape donation from bantumadrasahkampung. Going to scrape the next donation.\n"
     ]
    },
    {
     "name": "stderr",
     "output_type": "stream",
     "text": [
      "/Users/mac/Documents/RU/THESIS/working_thesis/scrape.py:286: FutureWarning: The frame.append method is deprecated and will be removed from pandas in a future version. Use pandas.concat instead.\n",
      "  df_donations_prop = df_donations_prop.append(df)\n"
     ]
    },
    {
     "name": "stdout",
     "output_type": "stream",
     "text": [
      "Successfully scrape donation from sedekahjariyahsaungpenghafalalquran. Going to scrape the next donation.\n"
     ]
    },
    {
     "name": "stderr",
     "output_type": "stream",
     "text": [
      "/Users/mac/Documents/RU/THESIS/working_thesis/scrape.py:286: FutureWarning: The frame.append method is deprecated and will be removed from pandas in a future version. Use pandas.concat instead.\n",
      "  df_donations_prop = df_donations_prop.append(df)\n"
     ]
    },
    {
     "name": "stdout",
     "output_type": "stream",
     "text": [
      "Successfully scrape donation from gdpeduliabrasiamurang. Going to scrape the next donation.\n"
     ]
    },
    {
     "name": "stderr",
     "output_type": "stream",
     "text": [
      "/Users/mac/Documents/RU/THESIS/working_thesis/scrape.py:286: FutureWarning: The frame.append method is deprecated and will be removed from pandas in a future version. Use pandas.concat instead.\n",
      "  df_donations_prop = df_donations_prop.append(df)\n"
     ]
    },
    {
     "name": "stdout",
     "output_type": "stream",
     "text": [
      "Successfully scrape donation from rumahmarbottunanetra. Going to scrape the next donation.\n"
     ]
    },
    {
     "name": "stderr",
     "output_type": "stream",
     "text": [
      "/Users/mac/Documents/RU/THESIS/working_thesis/scrape.py:286: FutureWarning: The frame.append method is deprecated and will be removed from pandas in a future version. Use pandas.concat instead.\n",
      "  df_donations_prop = df_donations_prop.append(df)\n"
     ]
    },
    {
     "name": "stdout",
     "output_type": "stream",
     "text": [
      "Successfully scrape donation from manajemenzakatindonesia. Going to scrape the next donation.\n"
     ]
    },
    {
     "name": "stderr",
     "output_type": "stream",
     "text": [
      "/Users/mac/Documents/RU/THESIS/working_thesis/scrape.py:286: FutureWarning: The frame.append method is deprecated and will be removed from pandas in a future version. Use pandas.concat instead.\n",
      "  df_donations_prop = df_donations_prop.append(df)\n"
     ]
    },
    {
     "name": "stdout",
     "output_type": "stream",
     "text": [
      "Successfully scrape donation from zakatalkautsar. Going to scrape the next donation.\n"
     ]
    },
    {
     "name": "stderr",
     "output_type": "stream",
     "text": [
      "/Users/mac/Documents/RU/THESIS/working_thesis/scrape.py:286: FutureWarning: The frame.append method is deprecated and will be removed from pandas in a future version. Use pandas.concat instead.\n",
      "  df_donations_prop = df_donations_prop.append(df)\n"
     ]
    },
    {
     "name": "stdout",
     "output_type": "stream",
     "text": [
      "Successfully scrape donation from zakatdhuafaaceh. Going to scrape the next donation.\n"
     ]
    },
    {
     "name": "stderr",
     "output_type": "stream",
     "text": [
      "/Users/mac/Documents/RU/THESIS/working_thesis/scrape.py:286: FutureWarning: The frame.append method is deprecated and will be removed from pandas in a future version. Use pandas.concat instead.\n",
      "  df_donations_prop = df_donations_prop.append(df)\n"
     ]
    },
    {
     "name": "stdout",
     "output_type": "stream",
     "text": [
      "Successfully scrape donation from lazisglobalmuttaqin. Going to scrape the next donation.\n"
     ]
    },
    {
     "name": "stderr",
     "output_type": "stream",
     "text": [
      "/Users/mac/Documents/RU/THESIS/working_thesis/scrape.py:286: FutureWarning: The frame.append method is deprecated and will be removed from pandas in a future version. Use pandas.concat instead.\n",
      "  df_donations_prop = df_donations_prop.append(df)\n"
     ]
    },
    {
     "name": "stdout",
     "output_type": "stream",
     "text": [
      "Successfully scrape donation from gttterkatung. Going to scrape the next donation.\n"
     ]
    },
    {
     "name": "stderr",
     "output_type": "stream",
     "text": [
      "/Users/mac/Documents/RU/THESIS/working_thesis/scrape.py:286: FutureWarning: The frame.append method is deprecated and will be removed from pandas in a future version. Use pandas.concat instead.\n",
      "  df_donations_prop = df_donations_prop.append(df)\n"
     ]
    },
    {
     "name": "stdout",
     "output_type": "stream",
     "text": [
      "Successfully scrape donation from bantunenekliesulian. Going to scrape the next donation.\n"
     ]
    },
    {
     "name": "stderr",
     "output_type": "stream",
     "text": [
      "/Users/mac/Documents/RU/THESIS/working_thesis/scrape.py:286: FutureWarning: The frame.append method is deprecated and will be removed from pandas in a future version. Use pandas.concat instead.\n",
      "  df_donations_prop = df_donations_prop.append(df)\n"
     ]
    },
    {
     "name": "stdout",
     "output_type": "stream",
     "text": [
      "Successfully scrape donation from berimakanlansiaterlantar. Going to scrape the next donation.\n"
     ]
    },
    {
     "name": "stderr",
     "output_type": "stream",
     "text": [
      "/Users/mac/Documents/RU/THESIS/working_thesis/scrape.py:286: FutureWarning: The frame.append method is deprecated and will be removed from pandas in a future version. Use pandas.concat instead.\n",
      "  df_donations_prop = df_donations_prop.append(df)\n"
     ]
    },
    {
     "name": "stdout",
     "output_type": "stream",
     "text": [
      "Successfully scrape donation from pelayanansusterselfi. Going to scrape the next donation.\n"
     ]
    },
    {
     "name": "stderr",
     "output_type": "stream",
     "text": [
      "/Users/mac/Documents/RU/THESIS/working_thesis/scrape.py:286: FutureWarning: The frame.append method is deprecated and will be removed from pandas in a future version. Use pandas.concat instead.\n",
      "  df_donations_prop = df_donations_prop.append(df)\n"
     ]
    },
    {
     "name": "stdout",
     "output_type": "stream",
     "text": [
      "Successfully scrape donation from masjidpeduliyatim. Going to scrape the next donation.\n"
     ]
    },
    {
     "name": "stderr",
     "output_type": "stream",
     "text": [
      "/Users/mac/Documents/RU/THESIS/working_thesis/scrape.py:286: FutureWarning: The frame.append method is deprecated and will be removed from pandas in a future version. Use pandas.concat instead.\n",
      "  df_donations_prop = df_donations_prop.append(df)\n"
     ]
    },
    {
     "name": "stdout",
     "output_type": "stream",
     "text": [
      "Successfully scrape donation from aksibantukorbanbencana. Going to scrape the next donation.\n"
     ]
    },
    {
     "name": "stderr",
     "output_type": "stream",
     "text": [
      "/Users/mac/Documents/RU/THESIS/working_thesis/scrape.py:286: FutureWarning: The frame.append method is deprecated and will be removed from pandas in a future version. Use pandas.concat instead.\n",
      "  df_donations_prop = df_donations_prop.append(df)\n"
     ]
    },
    {
     "name": "stdout",
     "output_type": "stream",
     "text": [
      "Successfully scrape donation from bantupenyintaskebakaranexlepradankusta. Going to scrape the next donation.\n"
     ]
    },
    {
     "name": "stderr",
     "output_type": "stream",
     "text": [
      "/Users/mac/Documents/RU/THESIS/working_thesis/scrape.py:286: FutureWarning: The frame.append method is deprecated and will be removed from pandas in a future version. Use pandas.concat instead.\n",
      "  df_donations_prop = df_donations_prop.append(df)\n"
     ]
    },
    {
     "name": "stdout",
     "output_type": "stream",
     "text": [
      "Successfully scrape donation from pedulialbertina. Going to scrape the next donation.\n"
     ]
    },
    {
     "name": "stderr",
     "output_type": "stream",
     "text": [
      "/Users/mac/Documents/RU/THESIS/working_thesis/scrape.py:286: FutureWarning: The frame.append method is deprecated and will be removed from pandas in a future version. Use pandas.concat instead.\n",
      "  df_donations_prop = df_donations_prop.append(df)\n"
     ]
    },
    {
     "name": "stdout",
     "output_type": "stream",
     "text": [
      "Successfully scrape donation from bantuabahsaman. Going to scrape the next donation.\n"
     ]
    },
    {
     "name": "stderr",
     "output_type": "stream",
     "text": [
      "/Users/mac/Documents/RU/THESIS/working_thesis/scrape.py:286: FutureWarning: The frame.append method is deprecated and will be removed from pandas in a future version. Use pandas.concat instead.\n",
      "  df_donations_prop = df_donations_prop.append(df)\n"
     ]
    },
    {
     "name": "stdout",
     "output_type": "stream",
     "text": [
      "Successfully scrape donation from bantuusahakafi. Going to scrape the next donation.\n"
     ]
    },
    {
     "name": "stderr",
     "output_type": "stream",
     "text": [
      "/Users/mac/Documents/RU/THESIS/working_thesis/scrape.py:286: FutureWarning: The frame.append method is deprecated and will be removed from pandas in a future version. Use pandas.concat instead.\n",
      "  df_donations_prop = df_donations_prop.append(df)\n"
     ]
    },
    {
     "name": "stdout",
     "output_type": "stream",
     "text": [
      "Successfully scrape donation from zakatmaalsucikanharta. Going to scrape the next donation.\n"
     ]
    },
    {
     "name": "stderr",
     "output_type": "stream",
     "text": [
      "/Users/mac/Documents/RU/THESIS/working_thesis/scrape.py:286: FutureWarning: The frame.append method is deprecated and will be removed from pandas in a future version. Use pandas.concat instead.\n",
      "  df_donations_prop = df_donations_prop.append(df)\n"
     ]
    },
    {
     "name": "stdout",
     "output_type": "stream",
     "text": [
      "Successfully scrape donation from inspiratorrawatratusananbuljalanan. Going to scrape the next donation.\n"
     ]
    },
    {
     "name": "stderr",
     "output_type": "stream",
     "text": [
      "/Users/mac/Documents/RU/THESIS/working_thesis/scrape.py:286: FutureWarning: The frame.append method is deprecated and will be removed from pandas in a future version. Use pandas.concat instead.\n",
      "  df_donations_prop = df_donations_prop.append(df)\n"
     ]
    },
    {
     "name": "stdout",
     "output_type": "stream",
     "text": [
      "Successfully scrape donation from sapapedulisesama. Going to scrape the next donation.\n"
     ]
    },
    {
     "name": "stderr",
     "output_type": "stream",
     "text": [
      "/Users/mac/Documents/RU/THESIS/working_thesis/scrape.py:286: FutureWarning: The frame.append method is deprecated and will be removed from pandas in a future version. Use pandas.concat instead.\n",
      "  df_donations_prop = df_donations_prop.append(df)\n"
     ]
    },
    {
     "name": "stdout",
     "output_type": "stream",
     "text": [
      "Successfully scrape donation from bingkisan4gaza. Going to scrape the next donation.\n"
     ]
    },
    {
     "name": "stderr",
     "output_type": "stream",
     "text": [
      "/Users/mac/Documents/RU/THESIS/working_thesis/scrape.py:286: FutureWarning: The frame.append method is deprecated and will be removed from pandas in a future version. Use pandas.concat instead.\n",
      "  df_donations_prop = df_donations_prop.append(df)\n"
     ]
    },
    {
     "name": "stdout",
     "output_type": "stream",
     "text": [
      "Successfully scrape donation from bantuperbaikinasibparapemudayangkurangmampu. Going to scrape the next donation.\n"
     ]
    },
    {
     "name": "stderr",
     "output_type": "stream",
     "text": [
      "/Users/mac/Documents/RU/THESIS/working_thesis/scrape.py:286: FutureWarning: The frame.append method is deprecated and will be removed from pandas in a future version. Use pandas.concat instead.\n",
      "  df_donations_prop = df_donations_prop.append(df)\n"
     ]
    },
    {
     "name": "stdout",
     "output_type": "stream",
     "text": [
      "Successfully scrape donation from anabulbisamakan. Going to scrape the next donation.\n"
     ]
    },
    {
     "name": "stderr",
     "output_type": "stream",
     "text": [
      "/Users/mac/Documents/RU/THESIS/working_thesis/scrape.py:286: FutureWarning: The frame.append method is deprecated and will be removed from pandas in a future version. Use pandas.concat instead.\n",
      "  df_donations_prop = df_donations_prop.append(df)\n"
     ]
    },
    {
     "name": "stdout",
     "output_type": "stream",
     "text": [
      "Successfully scrape donation from sulbardikepungbencana. Going to scrape the next donation.\n"
     ]
    },
    {
     "name": "stderr",
     "output_type": "stream",
     "text": [
      "/Users/mac/Documents/RU/THESIS/working_thesis/scrape.py:286: FutureWarning: The frame.append method is deprecated and will be removed from pandas in a future version. Use pandas.concat instead.\n",
      "  df_donations_prop = df_donations_prop.append(df)\n"
     ]
    },
    {
     "name": "stdout",
     "output_type": "stream",
     "text": [
      "Successfully scrape donation from masjidsiagabencanaalam. Going to scrape the next donation.\n"
     ]
    },
    {
     "name": "stderr",
     "output_type": "stream",
     "text": [
      "/Users/mac/Documents/RU/THESIS/working_thesis/scrape.py:286: FutureWarning: The frame.append method is deprecated and will be removed from pandas in a future version. Use pandas.concat instead.\n",
      "  df_donations_prop = df_donations_prop.append(df)\n"
     ]
    },
    {
     "name": "stdout",
     "output_type": "stream",
     "text": [
      "Successfully scrape donation from patungankakipalsu. Going to scrape the next donation.\n"
     ]
    },
    {
     "name": "stderr",
     "output_type": "stream",
     "text": [
      "/Users/mac/Documents/RU/THESIS/working_thesis/scrape.py:286: FutureWarning: The frame.append method is deprecated and will be removed from pandas in a future version. Use pandas.concat instead.\n",
      "  df_donations_prop = df_donations_prop.append(df)\n"
     ]
    },
    {
     "name": "stdout",
     "output_type": "stream",
     "text": [
      "Successfully scrape donation from badutdifabelpeduliyatim. Going to scrape the next donation.\n"
     ]
    },
    {
     "name": "stderr",
     "output_type": "stream",
     "text": [
      "/Users/mac/Documents/RU/THESIS/working_thesis/scrape.py:286: FutureWarning: The frame.append method is deprecated and will be removed from pandas in a future version. Use pandas.concat instead.\n",
      "  df_donations_prop = df_donations_prop.append(df)\n"
     ]
    },
    {
     "name": "stdout",
     "output_type": "stream",
     "text": [
      "Successfully scrape donation from berjuangtanpatangan. Going to scrape the next donation.\n"
     ]
    },
    {
     "name": "stderr",
     "output_type": "stream",
     "text": [
      "/Users/mac/Documents/RU/THESIS/working_thesis/scrape.py:286: FutureWarning: The frame.append method is deprecated and will be removed from pandas in a future version. Use pandas.concat instead.\n",
      "  df_donations_prop = df_donations_prop.append(df)\n"
     ]
    },
    {
     "name": "stdout",
     "output_type": "stream",
     "text": [
      "Successfully scrape donation from sekolahguruindonesia. Going to scrape the next donation.\n"
     ]
    },
    {
     "name": "stderr",
     "output_type": "stream",
     "text": [
      "/Users/mac/Documents/RU/THESIS/working_thesis/scrape.py:286: FutureWarning: The frame.append method is deprecated and will be removed from pandas in a future version. Use pandas.concat instead.\n",
      "  df_donations_prop = df_donations_prop.append(df)\n"
     ]
    },
    {
     "name": "stdout",
     "output_type": "stream",
     "text": [
      "Successfully scrape donation from saveghazapalestina. Going to scrape the next donation.\n"
     ]
    },
    {
     "name": "stderr",
     "output_type": "stream",
     "text": [
      "/Users/mac/Documents/RU/THESIS/working_thesis/scrape.py:286: FutureWarning: The frame.append method is deprecated and will be removed from pandas in a future version. Use pandas.concat instead.\n",
      "  df_donations_prop = df_donations_prop.append(df)\n"
     ]
    },
    {
     "name": "stdout",
     "output_type": "stream",
     "text": [
      "Successfully scrape donation from bantusaprillah. Going to scrape the next donation.\n"
     ]
    },
    {
     "name": "stderr",
     "output_type": "stream",
     "text": [
      "/Users/mac/Documents/RU/THESIS/working_thesis/scrape.py:286: FutureWarning: The frame.append method is deprecated and will be removed from pandas in a future version. Use pandas.concat instead.\n",
      "  df_donations_prop = df_donations_prop.append(df)\n"
     ]
    },
    {
     "name": "stdout",
     "output_type": "stream",
     "text": [
      "Successfully scrape donation from bisawakafkolamikan. Going to scrape the next donation.\n"
     ]
    },
    {
     "name": "stderr",
     "output_type": "stream",
     "text": [
      "/Users/mac/Documents/RU/THESIS/working_thesis/scrape.py:286: FutureWarning: The frame.append method is deprecated and will be removed from pandas in a future version. Use pandas.concat instead.\n",
      "  df_donations_prop = df_donations_prop.append(df)\n"
     ]
    },
    {
     "name": "stdout",
     "output_type": "stream",
     "text": [
      "Successfully scrape donation from wakafproduktifpangandanpakan. Going to scrape the next donation.\n"
     ]
    },
    {
     "name": "stderr",
     "output_type": "stream",
     "text": [
      "/Users/mac/Documents/RU/THESIS/working_thesis/scrape.py:286: FutureWarning: The frame.append method is deprecated and will be removed from pandas in a future version. Use pandas.concat instead.\n",
      "  df_donations_prop = df_donations_prop.append(df)\n"
     ]
    },
    {
     "name": "stdout",
     "output_type": "stream",
     "text": [
      "Successfully scrape donation from zakatmedisanakdhuafa. Going to scrape the next donation.\n"
     ]
    },
    {
     "name": "stderr",
     "output_type": "stream",
     "text": [
      "/Users/mac/Documents/RU/THESIS/working_thesis/scrape.py:286: FutureWarning: The frame.append method is deprecated and will be removed from pandas in a future version. Use pandas.concat instead.\n",
      "  df_donations_prop = df_donations_prop.append(df)\n"
     ]
    },
    {
     "name": "stdout",
     "output_type": "stream",
     "text": [
      "Successfully scrape donation from bantuhidupahok. Going to scrape the next donation.\n"
     ]
    },
    {
     "name": "stderr",
     "output_type": "stream",
     "text": [
      "/Users/mac/Documents/RU/THESIS/working_thesis/scrape.py:286: FutureWarning: The frame.append method is deprecated and will be removed from pandas in a future version. Use pandas.concat instead.\n",
      "  df_donations_prop = df_donations_prop.append(df)\n"
     ]
    },
    {
     "name": "stdout",
     "output_type": "stream",
     "text": [
      "Successfully scrape donation from sedekahuntuksahabatdifable. Going to scrape the next donation.\n"
     ]
    },
    {
     "name": "stderr",
     "output_type": "stream",
     "text": [
      "/Users/mac/Documents/RU/THESIS/working_thesis/scrape.py:286: FutureWarning: The frame.append method is deprecated and will be removed from pandas in a future version. Use pandas.concat instead.\n",
      "  df_donations_prop = df_donations_prop.append(df)\n"
     ]
    },
    {
     "name": "stdout",
     "output_type": "stream",
     "text": [
      "Successfully scrape donation from bantupantikasihsetia. Going to scrape the next donation.\n"
     ]
    },
    {
     "name": "stderr",
     "output_type": "stream",
     "text": [
      "/Users/mac/Documents/RU/THESIS/working_thesis/scrape.py:286: FutureWarning: The frame.append method is deprecated and will be removed from pandas in a future version. Use pandas.concat instead.\n",
      "  df_donations_prop = df_donations_prop.append(df)\n"
     ]
    },
    {
     "name": "stdout",
     "output_type": "stream",
     "text": [
      "Successfully scrape donation from pemberdayaanekonomi. Going to scrape the next donation.\n"
     ]
    },
    {
     "name": "stderr",
     "output_type": "stream",
     "text": [
      "/Users/mac/Documents/RU/THESIS/working_thesis/scrape.py:286: FutureWarning: The frame.append method is deprecated and will be removed from pandas in a future version. Use pandas.concat instead.\n",
      "  df_donations_prop = df_donations_prop.append(df)\n"
     ]
    },
    {
     "name": "stdout",
     "output_type": "stream",
     "text": [
      "Successfully scrape donation from bantupasientuksembuh. Going to scrape the next donation.\n"
     ]
    },
    {
     "name": "stderr",
     "output_type": "stream",
     "text": [
      "/Users/mac/Documents/RU/THESIS/working_thesis/scrape.py:286: FutureWarning: The frame.append method is deprecated and will be removed from pandas in a future version. Use pandas.concat instead.\n",
      "  df_donations_prop = df_donations_prop.append(df)\n"
     ]
    },
    {
     "name": "stdout",
     "output_type": "stream",
     "text": [
      "Successfully scrape donation from lansiasebatangkarasby. Going to scrape the next donation.\n"
     ]
    },
    {
     "name": "stderr",
     "output_type": "stream",
     "text": [
      "/Users/mac/Documents/RU/THESIS/working_thesis/scrape.py:286: FutureWarning: The frame.append method is deprecated and will be removed from pandas in a future version. Use pandas.concat instead.\n",
      "  df_donations_prop = df_donations_prop.append(df)\n"
     ]
    },
    {
     "name": "stdout",
     "output_type": "stream",
     "text": [
      "Successfully scrape donation from lazrydha. Going to scrape the next donation.\n"
     ]
    },
    {
     "name": "stderr",
     "output_type": "stream",
     "text": [
      "/Users/mac/Documents/RU/THESIS/working_thesis/scrape.py:286: FutureWarning: The frame.append method is deprecated and will be removed from pandas in a future version. Use pandas.concat instead.\n",
      "  df_donations_prop = df_donations_prop.append(df)\n"
     ]
    },
    {
     "name": "stdout",
     "output_type": "stream",
     "text": [
      "Successfully scrape donation from bantupembelanegara. Going to scrape the next donation.\n"
     ]
    },
    {
     "name": "stderr",
     "output_type": "stream",
     "text": [
      "/Users/mac/Documents/RU/THESIS/working_thesis/scrape.py:286: FutureWarning: The frame.append method is deprecated and will be removed from pandas in a future version. Use pandas.concat instead.\n",
      "  df_donations_prop = df_donations_prop.append(df)\n"
     ]
    },
    {
     "name": "stdout",
     "output_type": "stream",
     "text": [
      "Successfully scrape donation from bantupakwahyudihidupianaknya. Going to scrape the next donation.\n"
     ]
    },
    {
     "name": "stderr",
     "output_type": "stream",
     "text": [
      "/Users/mac/Documents/RU/THESIS/working_thesis/scrape.py:286: FutureWarning: The frame.append method is deprecated and will be removed from pandas in a future version. Use pandas.concat instead.\n",
      "  df_donations_prop = df_donations_prop.append(df)\n"
     ]
    },
    {
     "name": "stdout",
     "output_type": "stream",
     "text": [
      "Successfully scrape donation from keadilanuntukrakyatkecil. Going to scrape the next donation.\n"
     ]
    },
    {
     "name": "stderr",
     "output_type": "stream",
     "text": [
      "/Users/mac/Documents/RU/THESIS/working_thesis/scrape.py:286: FutureWarning: The frame.append method is deprecated and will be removed from pandas in a future version. Use pandas.concat instead.\n",
      "  df_donations_prop = df_donations_prop.append(df)\n"
     ]
    },
    {
     "name": "stdout",
     "output_type": "stream",
     "text": [
      "Successfully scrape donation from lansiajualsapu. Going to scrape the next donation.\n"
     ]
    },
    {
     "name": "stderr",
     "output_type": "stream",
     "text": [
      "/Users/mac/Documents/RU/THESIS/working_thesis/scrape.py:286: FutureWarning: The frame.append method is deprecated and will be removed from pandas in a future version. Use pandas.concat instead.\n",
      "  df_donations_prop = df_donations_prop.append(df)\n"
     ]
    },
    {
     "name": "stdout",
     "output_type": "stream",
     "text": [
      "Successfully scrape donation from igpalampung. Going to scrape the next donation.\n"
     ]
    },
    {
     "name": "stderr",
     "output_type": "stream",
     "text": [
      "/Users/mac/Documents/RU/THESIS/working_thesis/scrape.py:286: FutureWarning: The frame.append method is deprecated and will be removed from pandas in a future version. Use pandas.concat instead.\n",
      "  df_donations_prop = df_donations_prop.append(df)\n"
     ]
    },
    {
     "name": "stdout",
     "output_type": "stream",
     "text": [
      "Successfully scrape donation from bantuusahajandadhuafa. Going to scrape the next donation.\n"
     ]
    },
    {
     "name": "stderr",
     "output_type": "stream",
     "text": [
      "/Users/mac/Documents/RU/THESIS/working_thesis/scrape.py:286: FutureWarning: The frame.append method is deprecated and will be removed from pandas in a future version. Use pandas.concat instead.\n",
      "  df_donations_prop = df_donations_prop.append(df)\n"
     ]
    },
    {
     "name": "stdout",
     "output_type": "stream",
     "text": [
      "Successfully scrape donation from untuktemaniburenita. Going to scrape the next donation.\n"
     ]
    },
    {
     "name": "stderr",
     "output_type": "stream",
     "text": [
      "/Users/mac/Documents/RU/THESIS/working_thesis/scrape.py:286: FutureWarning: The frame.append method is deprecated and will be removed from pandas in a future version. Use pandas.concat instead.\n",
      "  df_donations_prop = df_donations_prop.append(df)\n"
     ]
    },
    {
     "name": "stdout",
     "output_type": "stream",
     "text": [
      "Successfully scrape donation from sabilulunganindungjagatciremai. Going to scrape the next donation.\n"
     ]
    },
    {
     "name": "stderr",
     "output_type": "stream",
     "text": [
      "/Users/mac/Documents/RU/THESIS/working_thesis/scrape.py:286: FutureWarning: The frame.append method is deprecated and will be removed from pandas in a future version. Use pandas.concat instead.\n",
      "  df_donations_prop = df_donations_prop.append(df)\n"
     ]
    },
    {
     "name": "stdout",
     "output_type": "stream",
     "text": [
      "Successfully scrape donation from wakafproduktifbantubudidayakoipantiasuhan. Going to scrape the next donation.\n"
     ]
    },
    {
     "name": "stderr",
     "output_type": "stream",
     "text": [
      "/Users/mac/Documents/RU/THESIS/working_thesis/scrape.py:286: FutureWarning: The frame.append method is deprecated and will be removed from pandas in a future version. Use pandas.concat instead.\n",
      "  df_donations_prop = df_donations_prop.append(df)\n"
     ]
    },
    {
     "name": "stdout",
     "output_type": "stream",
     "text": [
      "Successfully scrape donation from kelasbersamabisa. Going to scrape the next donation.\n"
     ]
    },
    {
     "name": "stderr",
     "output_type": "stream",
     "text": [
      "/Users/mac/Documents/RU/THESIS/working_thesis/scrape.py:286: FutureWarning: The frame.append method is deprecated and will be removed from pandas in a future version. Use pandas.concat instead.\n",
      "  df_donations_prop = df_donations_prop.append(df)\n"
     ]
    },
    {
     "name": "stdout",
     "output_type": "stream",
     "text": [
      "Successfully scrape donation from donasiuntukdifabel. Going to scrape the next donation.\n"
     ]
    },
    {
     "name": "stderr",
     "output_type": "stream",
     "text": [
      "/Users/mac/Documents/RU/THESIS/working_thesis/scrape.py:286: FutureWarning: The frame.append method is deprecated and will be removed from pandas in a future version. Use pandas.concat instead.\n",
      "  df_donations_prop = df_donations_prop.append(df)\n"
     ]
    },
    {
     "name": "stdout",
     "output_type": "stream",
     "text": [
      "Successfully scrape donation from zakatditazkia. Going to scrape the next donation.\n"
     ]
    },
    {
     "name": "stderr",
     "output_type": "stream",
     "text": [
      "/Users/mac/Documents/RU/THESIS/working_thesis/scrape.py:286: FutureWarning: The frame.append method is deprecated and will be removed from pandas in a future version. Use pandas.concat instead.\n",
      "  df_donations_prop = df_donations_prop.append(df)\n"
     ]
    },
    {
     "name": "stdout",
     "output_type": "stream",
     "text": [
      "Successfully scrape donation from bisamakandagingkurban. Going to scrape the next donation.\n"
     ]
    },
    {
     "name": "stderr",
     "output_type": "stream",
     "text": [
      "/Users/mac/Documents/RU/THESIS/working_thesis/scrape.py:286: FutureWarning: The frame.append method is deprecated and will be removed from pandas in a future version. Use pandas.concat instead.\n",
      "  df_donations_prop = df_donations_prop.append(df)\n"
     ]
    },
    {
     "name": "stdout",
     "output_type": "stream",
     "text": [
      "Successfully scrape donation from dukungkebutuhan45anabulgpsshelter. Going to scrape the next donation.\n"
     ]
    },
    {
     "name": "stderr",
     "output_type": "stream",
     "text": [
      "/Users/mac/Documents/RU/THESIS/working_thesis/scrape.py:286: FutureWarning: The frame.append method is deprecated and will be removed from pandas in a future version. Use pandas.concat instead.\n",
      "  df_donations_prop = df_donations_prop.append(df)\n"
     ]
    },
    {
     "name": "stdout",
     "output_type": "stream",
     "text": [
      "Successfully scrape donation from griyatimdhuafa1. Going to scrape the next donation.\n"
     ]
    },
    {
     "name": "stderr",
     "output_type": "stream",
     "text": [
      "/Users/mac/Documents/RU/THESIS/working_thesis/scrape.py:286: FutureWarning: The frame.append method is deprecated and will be removed from pandas in a future version. Use pandas.concat instead.\n",
      "  df_donations_prop = df_donations_prop.append(df)\n"
     ]
    },
    {
     "name": "stdout",
     "output_type": "stream",
     "text": [
      "Successfully scrape donation from penjualgulaarenberjuangdemipengobatansuami. Going to scrape the next donation.\n"
     ]
    },
    {
     "name": "stderr",
     "output_type": "stream",
     "text": [
      "/Users/mac/Documents/RU/THESIS/working_thesis/scrape.py:286: FutureWarning: The frame.append method is deprecated and will be removed from pandas in a future version. Use pandas.concat instead.\n",
      "  df_donations_prop = df_donations_prop.append(df)\n"
     ]
    },
    {
     "name": "stdout",
     "output_type": "stream",
     "text": [
      "Successfully scrape donation from bantuansantriyatimdhuafa. Going to scrape the next donation.\n"
     ]
    },
    {
     "name": "stderr",
     "output_type": "stream",
     "text": [
      "/Users/mac/Documents/RU/THESIS/working_thesis/scrape.py:286: FutureWarning: The frame.append method is deprecated and will be removed from pandas in a future version. Use pandas.concat instead.\n",
      "  df_donations_prop = df_donations_prop.append(df)\n"
     ]
    },
    {
     "name": "stdout",
     "output_type": "stream",
     "text": [
      "Successfully scrape donation from ringankanpalestina. Going to scrape the next donation.\n"
     ]
    },
    {
     "name": "stderr",
     "output_type": "stream",
     "text": [
      "/Users/mac/Documents/RU/THESIS/working_thesis/scrape.py:286: FutureWarning: The frame.append method is deprecated and will be removed from pandas in a future version. Use pandas.concat instead.\n",
      "  df_donations_prop = df_donations_prop.append(df)\n"
     ]
    },
    {
     "name": "stdout",
     "output_type": "stream",
     "text": [
      "Successfully scrape donation from patunganuntukanabul. Going to scrape the next donation.\n"
     ]
    },
    {
     "name": "stderr",
     "output_type": "stream",
     "text": [
      "/Users/mac/Documents/RU/THESIS/working_thesis/scrape.py:286: FutureWarning: The frame.append method is deprecated and will be removed from pandas in a future version. Use pandas.concat instead.\n",
      "  df_donations_prop = df_donations_prop.append(df)\n"
     ]
    },
    {
     "name": "stdout",
     "output_type": "stream",
     "text": [
      "Successfully scrape donation from masjidkemasjid. Going to scrape the next donation.\n"
     ]
    },
    {
     "name": "stderr",
     "output_type": "stream",
     "text": [
      "/Users/mac/Documents/RU/THESIS/working_thesis/scrape.py:286: FutureWarning: The frame.append method is deprecated and will be removed from pandas in a future version. Use pandas.concat instead.\n",
      "  df_donations_prop = df_donations_prop.append(df)\n"
     ]
    },
    {
     "name": "stdout",
     "output_type": "stream",
     "text": [
      "Successfully scrape donation from modalusahamengatasipengangguran. Going to scrape the next donation.\n"
     ]
    },
    {
     "name": "stderr",
     "output_type": "stream",
     "text": [
      "/Users/mac/Documents/RU/THESIS/working_thesis/scrape.py:286: FutureWarning: The frame.append method is deprecated and will be removed from pandas in a future version. Use pandas.concat instead.\n",
      "  df_donations_prop = df_donations_prop.append(df)\n"
     ]
    },
    {
     "name": "stdout",
     "output_type": "stream",
     "text": [
      "Successfully scrape donation from zakatrumahsinggah. Going to scrape the next donation.\n"
     ]
    },
    {
     "name": "stderr",
     "output_type": "stream",
     "text": [
      "/Users/mac/Documents/RU/THESIS/working_thesis/scrape.py:286: FutureWarning: The frame.append method is deprecated and will be removed from pandas in a future version. Use pandas.concat instead.\n",
      "  df_donations_prop = df_donations_prop.append(df)\n"
     ]
    },
    {
     "name": "stdout",
     "output_type": "stream",
     "text": [
      "Successfully scrape donation from bantulansiasakit. Going to scrape the next donation.\n"
     ]
    },
    {
     "name": "stderr",
     "output_type": "stream",
     "text": [
      "/Users/mac/Documents/RU/THESIS/working_thesis/scrape.py:286: FutureWarning: The frame.append method is deprecated and will be removed from pandas in a future version. Use pandas.concat instead.\n",
      "  df_donations_prop = df_donations_prop.append(df)\n"
     ]
    },
    {
     "name": "stdout",
     "output_type": "stream",
     "text": [
      "Successfully scrape donation from keluargadiansyah. Going to scrape the next donation.\n"
     ]
    },
    {
     "name": "stderr",
     "output_type": "stream",
     "text": [
      "/Users/mac/Documents/RU/THESIS/working_thesis/scrape.py:286: FutureWarning: The frame.append method is deprecated and will be removed from pandas in a future version. Use pandas.concat instead.\n",
      "  df_donations_prop = df_donations_prop.append(df)\n"
     ]
    },
    {
     "name": "stdout",
     "output_type": "stream",
     "text": [
      "Successfully scrape donation from peduliadikyatim. Going to scrape the next donation.\n"
     ]
    },
    {
     "name": "stderr",
     "output_type": "stream",
     "text": [
      "/Users/mac/Documents/RU/THESIS/working_thesis/scrape.py:286: FutureWarning: The frame.append method is deprecated and will be removed from pandas in a future version. Use pandas.concat instead.\n",
      "  df_donations_prop = df_donations_prop.append(df)\n"
     ]
    },
    {
     "name": "stdout",
     "output_type": "stream",
     "text": [
      "Successfully scrape donation from kafalahdaipedalaman. Going to scrape the next donation.\n"
     ]
    },
    {
     "name": "stderr",
     "output_type": "stream",
     "text": [
      "/Users/mac/Documents/RU/THESIS/working_thesis/scrape.py:286: FutureWarning: The frame.append method is deprecated and will be removed from pandas in a future version. Use pandas.concat instead.\n",
      "  df_donations_prop = df_donations_prop.append(df)\n"
     ]
    },
    {
     "name": "stdout",
     "output_type": "stream",
     "text": [
      "Successfully scrape donation from zakatbantuyatimdhuafadanjompo. Going to scrape the next donation.\n"
     ]
    },
    {
     "name": "stderr",
     "output_type": "stream",
     "text": [
      "/Users/mac/Documents/RU/THESIS/working_thesis/scrape.py:286: FutureWarning: The frame.append method is deprecated and will be removed from pandas in a future version. Use pandas.concat instead.\n",
      "  df_donations_prop = df_donations_prop.append(df)\n"
     ]
    },
    {
     "name": "stdout",
     "output_type": "stream",
     "text": [
      "Successfully scrape donation from bantufakirmiskindesa. Going to scrape the next donation.\n"
     ]
    },
    {
     "name": "stderr",
     "output_type": "stream",
     "text": [
      "/Users/mac/Documents/RU/THESIS/working_thesis/scrape.py:286: FutureWarning: The frame.append method is deprecated and will be removed from pandas in a future version. Use pandas.concat instead.\n",
      "  df_donations_prop = df_donations_prop.append(df)\n"
     ]
    },
    {
     "name": "stdout",
     "output_type": "stream",
     "text": [
      "Successfully scrape donation from fahribisasembuh. Going to scrape the next donation.\n"
     ]
    },
    {
     "name": "stderr",
     "output_type": "stream",
     "text": [
      "/Users/mac/Documents/RU/THESIS/working_thesis/scrape.py:286: FutureWarning: The frame.append method is deprecated and will be removed from pandas in a future version. Use pandas.concat instead.\n",
      "  df_donations_prop = df_donations_prop.append(df)\n"
     ]
    },
    {
     "name": "stdout",
     "output_type": "stream",
     "text": [
      "Successfully scrape donation from dakwahlampuislam. Going to scrape the next donation.\n"
     ]
    },
    {
     "name": "stderr",
     "output_type": "stream",
     "text": [
      "/Users/mac/Documents/RU/THESIS/working_thesis/scrape.py:286: FutureWarning: The frame.append method is deprecated and will be removed from pandas in a future version. Use pandas.concat instead.\n",
      "  df_donations_prop = df_donations_prop.append(df)\n"
     ]
    },
    {
     "name": "stdout",
     "output_type": "stream",
     "text": [
      "Successfully scrape donation from shelterfyurith. Going to scrape the next donation.\n"
     ]
    },
    {
     "name": "stderr",
     "output_type": "stream",
     "text": [
      "/Users/mac/Documents/RU/THESIS/working_thesis/scrape.py:286: FutureWarning: The frame.append method is deprecated and will be removed from pandas in a future version. Use pandas.concat instead.\n",
      "  df_donations_prop = df_donations_prop.append(df)\n"
     ]
    },
    {
     "name": "stdout",
     "output_type": "stream",
     "text": [
      "Successfully scrape donation from dkmqurandigital. Going to scrape the next donation.\n"
     ]
    },
    {
     "name": "stderr",
     "output_type": "stream",
     "text": [
      "/Users/mac/Documents/RU/THESIS/working_thesis/scrape.py:286: FutureWarning: The frame.append method is deprecated and will be removed from pandas in a future version. Use pandas.concat instead.\n",
      "  df_donations_prop = df_donations_prop.append(df)\n"
     ]
    },
    {
     "name": "stdout",
     "output_type": "stream",
     "text": [
      "Successfully scrape donation from bantutemandisabilitas. Going to scrape the next donation.\n"
     ]
    },
    {
     "name": "stderr",
     "output_type": "stream",
     "text": [
      "/Users/mac/Documents/RU/THESIS/working_thesis/scrape.py:286: FutureWarning: The frame.append method is deprecated and will be removed from pandas in a future version. Use pandas.concat instead.\n",
      "  df_donations_prop = df_donations_prop.append(df)\n"
     ]
    },
    {
     "name": "stdout",
     "output_type": "stream",
     "text": [
      "Successfully scrape donation from slikalbar. Going to scrape the next donation.\n"
     ]
    },
    {
     "name": "stderr",
     "output_type": "stream",
     "text": [
      "/Users/mac/Documents/RU/THESIS/working_thesis/scrape.py:286: FutureWarning: The frame.append method is deprecated and will be removed from pandas in a future version. Use pandas.concat instead.\n",
      "  df_donations_prop = df_donations_prop.append(df)\n"
     ]
    },
    {
     "name": "stdout",
     "output_type": "stream",
     "text": [
      "Successfully scrape donation from kafilyatim. Going to scrape the next donation.\n"
     ]
    },
    {
     "name": "stderr",
     "output_type": "stream",
     "text": [
      "/Users/mac/Documents/RU/THESIS/working_thesis/scrape.py:286: FutureWarning: The frame.append method is deprecated and will be removed from pandas in a future version. Use pandas.concat instead.\n",
      "  df_donations_prop = df_donations_prop.append(df)\n"
     ]
    },
    {
     "name": "stdout",
     "output_type": "stream",
     "text": [
      "Successfully scrape donation from zakatbaitalquran. Going to scrape the next donation.\n"
     ]
    },
    {
     "name": "stderr",
     "output_type": "stream",
     "text": [
      "/Users/mac/Documents/RU/THESIS/working_thesis/scrape.py:286: FutureWarning: The frame.append method is deprecated and will be removed from pandas in a future version. Use pandas.concat instead.\n",
      "  df_donations_prop = df_donations_prop.append(df)\n"
     ]
    },
    {
     "name": "stdout",
     "output_type": "stream",
     "text": [
      "Successfully scrape donation from bantumobilitasanakbali. Going to scrape the next donation.\n"
     ]
    },
    {
     "name": "stderr",
     "output_type": "stream",
     "text": [
      "/Users/mac/Documents/RU/THESIS/working_thesis/scrape.py:286: FutureWarning: The frame.append method is deprecated and will be removed from pandas in a future version. Use pandas.concat instead.\n",
      "  df_donations_prop = df_donations_prop.append(df)\n"
     ]
    },
    {
     "name": "stdout",
     "output_type": "stream",
     "text": [
      "Successfully scrape donation from pedulikucingcacatterlantar. Going to scrape the next donation.\n"
     ]
    },
    {
     "name": "stderr",
     "output_type": "stream",
     "text": [
      "/Users/mac/Documents/RU/THESIS/working_thesis/scrape.py:286: FutureWarning: The frame.append method is deprecated and will be removed from pandas in a future version. Use pandas.concat instead.\n",
      "  df_donations_prop = df_donations_prop.append(df)\n"
     ]
    },
    {
     "name": "stdout",
     "output_type": "stream",
     "text": [
      "Successfully scrape donation from selamatkankehidupankucingjalananyangterlantar. Going to scrape the next donation.\n"
     ]
    },
    {
     "name": "stderr",
     "output_type": "stream",
     "text": [
      "/Users/mac/Documents/RU/THESIS/working_thesis/scrape.py:286: FutureWarning: The frame.append method is deprecated and will be removed from pandas in a future version. Use pandas.concat instead.\n",
      "  df_donations_prop = df_donations_prop.append(df)\n"
     ]
    },
    {
     "name": "stdout",
     "output_type": "stream",
     "text": [
      "Successfully scrape donation from anggraenifransiska. Going to scrape the next donation.\n"
     ]
    },
    {
     "name": "stderr",
     "output_type": "stream",
     "text": [
      "/Users/mac/Documents/RU/THESIS/working_thesis/scrape.py:286: FutureWarning: The frame.append method is deprecated and will be removed from pandas in a future version. Use pandas.concat instead.\n",
      "  df_donations_prop = df_donations_prop.append(df)\n"
     ]
    },
    {
     "name": "stdout",
     "output_type": "stream",
     "text": [
      "Successfully scrape donation from selamatkanpohonlangkaindonesia. Going to scrape the next donation.\n"
     ]
    },
    {
     "name": "stderr",
     "output_type": "stream",
     "text": [
      "/Users/mac/Documents/RU/THESIS/working_thesis/scrape.py:286: FutureWarning: The frame.append method is deprecated and will be removed from pandas in a future version. Use pandas.concat instead.\n",
      "  df_donations_prop = df_donations_prop.append(df)\n"
     ]
    },
    {
     "name": "stdout",
     "output_type": "stream",
     "text": [
      "Successfully scrape donation from pkuntukbanjirmalangraya. Going to scrape the next donation.\n"
     ]
    },
    {
     "name": "stderr",
     "output_type": "stream",
     "text": [
      "/Users/mac/Documents/RU/THESIS/working_thesis/scrape.py:286: FutureWarning: The frame.append method is deprecated and will be removed from pandas in a future version. Use pandas.concat instead.\n",
      "  df_donations_prop = df_donations_prop.append(df)\n"
     ]
    },
    {
     "name": "stdout",
     "output_type": "stream",
     "text": [
      "Successfully scrape donation from sedekahbantulansiakelaparan. Going to scrape the next donation.\n"
     ]
    },
    {
     "name": "stderr",
     "output_type": "stream",
     "text": [
      "/Users/mac/Documents/RU/THESIS/working_thesis/scrape.py:286: FutureWarning: The frame.append method is deprecated and will be removed from pandas in a future version. Use pandas.concat instead.\n",
      "  df_donations_prop = df_donations_prop.append(df)\n"
     ]
    },
    {
     "name": "stdout",
     "output_type": "stream",
     "text": [
      "Successfully scrape donation from bantukucingrescueoperasimatadankebutuhannyuntukbertahanhidup. Going to scrape the next donation.\n"
     ]
    },
    {
     "name": "stderr",
     "output_type": "stream",
     "text": [
      "/Users/mac/Documents/RU/THESIS/working_thesis/scrape.py:286: FutureWarning: The frame.append method is deprecated and will be removed from pandas in a future version. Use pandas.concat instead.\n",
      "  df_donations_prop = df_donations_prop.append(df)\n"
     ]
    },
    {
     "name": "stdout",
     "output_type": "stream",
     "text": [
      "Successfully scrape donation from bantukucingrescuesaya. Going to scrape the next donation.\n"
     ]
    },
    {
     "name": "stderr",
     "output_type": "stream",
     "text": [
      "/Users/mac/Documents/RU/THESIS/working_thesis/scrape.py:286: FutureWarning: The frame.append method is deprecated and will be removed from pandas in a future version. Use pandas.concat instead.\n",
      "  df_donations_prop = df_donations_prop.append(df)\n"
     ]
    },
    {
     "name": "stdout",
     "output_type": "stream",
     "text": [
      "Successfully scrape donation from sedekahsubuhberbagi. Going to scrape the next donation.\n"
     ]
    },
    {
     "name": "stderr",
     "output_type": "stream",
     "text": [
      "/Users/mac/Documents/RU/THESIS/working_thesis/scrape.py:286: FutureWarning: The frame.append method is deprecated and will be removed from pandas in a future version. Use pandas.concat instead.\n",
      "  df_donations_prop = df_donations_prop.append(df)\n"
     ]
    },
    {
     "name": "stdout",
     "output_type": "stream",
     "text": [
      "Successfully scrape donation from banturumahkebakaran. Going to scrape the next donation.\n"
     ]
    },
    {
     "name": "stderr",
     "output_type": "stream",
     "text": [
      "/Users/mac/Documents/RU/THESIS/working_thesis/scrape.py:286: FutureWarning: The frame.append method is deprecated and will be removed from pandas in a future version. Use pandas.concat instead.\n",
      "  df_donations_prop = df_donations_prop.append(df)\n"
     ]
    },
    {
     "name": "stdout",
     "output_type": "stream",
     "text": [
      "Successfully scrape donation from sedekahuntukdifabeldananaknyapiatu. Going to scrape the next donation.\n"
     ]
    },
    {
     "name": "stderr",
     "output_type": "stream",
     "text": [
      "/Users/mac/Documents/RU/THESIS/working_thesis/scrape.py:286: FutureWarning: The frame.append method is deprecated and will be removed from pandas in a future version. Use pandas.concat instead.\n",
      "  df_donations_prop = df_donations_prop.append(df)\n"
     ]
    },
    {
     "name": "stdout",
     "output_type": "stream",
     "text": [
      "Successfully scrape donation from disabilitasmenghidupinenek. Going to scrape the next donation.\n"
     ]
    },
    {
     "name": "stderr",
     "output_type": "stream",
     "text": [
      "/Users/mac/Documents/RU/THESIS/working_thesis/scrape.py:286: FutureWarning: The frame.append method is deprecated and will be removed from pandas in a future version. Use pandas.concat instead.\n",
      "  df_donations_prop = df_donations_prop.append(df)\n"
     ]
    },
    {
     "name": "stdout",
     "output_type": "stream",
     "text": [
      "Successfully scrape donation from bantumodalusahauntukdhuafa. Going to scrape the next donation.\n"
     ]
    },
    {
     "name": "stderr",
     "output_type": "stream",
     "text": [
      "/Users/mac/Documents/RU/THESIS/working_thesis/scrape.py:286: FutureWarning: The frame.append method is deprecated and will be removed from pandas in a future version. Use pandas.concat instead.\n",
      "  df_donations_prop = df_donations_prop.append(df)\n"
     ]
    },
    {
     "name": "stdout",
     "output_type": "stream",
     "text": [
      "Successfully scrape donation from kukang. Going to scrape the next donation.\n"
     ]
    },
    {
     "name": "stderr",
     "output_type": "stream",
     "text": [
      "/Users/mac/Documents/RU/THESIS/working_thesis/scrape.py:286: FutureWarning: The frame.append method is deprecated and will be removed from pandas in a future version. Use pandas.concat instead.\n",
      "  df_donations_prop = df_donations_prop.append(df)\n"
     ]
    },
    {
     "name": "stdout",
     "output_type": "stream",
     "text": [
      "Successfully scrape donation from penyelamatankucingbatam. Going to scrape the next donation.\n"
     ]
    },
    {
     "name": "stderr",
     "output_type": "stream",
     "text": [
      "/Users/mac/Documents/RU/THESIS/working_thesis/scrape.py:286: FutureWarning: The frame.append method is deprecated and will be removed from pandas in a future version. Use pandas.concat instead.\n",
      "  df_donations_prop = df_donations_prop.append(df)\n"
     ]
    },
    {
     "name": "stdout",
     "output_type": "stream",
     "text": [
      "Successfully scrape donation from wakafsumurmasjidsayyidunaumar. Going to scrape the next donation.\n"
     ]
    },
    {
     "name": "stderr",
     "output_type": "stream",
     "text": [
      "/Users/mac/Documents/RU/THESIS/working_thesis/scrape.py:286: FutureWarning: The frame.append method is deprecated and will be removed from pandas in a future version. Use pandas.concat instead.\n",
      "  df_donations_prop = df_donations_prop.append(df)\n"
     ]
    },
    {
     "name": "stdout",
     "output_type": "stream",
     "text": [
      "Successfully scrape donation from loperkorandifabel. Going to scrape the next donation.\n"
     ]
    },
    {
     "name": "stderr",
     "output_type": "stream",
     "text": [
      "/Users/mac/Documents/RU/THESIS/working_thesis/scrape.py:286: FutureWarning: The frame.append method is deprecated and will be removed from pandas in a future version. Use pandas.concat instead.\n",
      "  df_donations_prop = df_donations_prop.append(df)\n"
     ]
    },
    {
     "name": "stdout",
     "output_type": "stream",
     "text": [
      "Successfully scrape donation from beribantuanlansia. Going to scrape the next donation.\n"
     ]
    },
    {
     "name": "stderr",
     "output_type": "stream",
     "text": [
      "/Users/mac/Documents/RU/THESIS/working_thesis/scrape.py:286: FutureWarning: The frame.append method is deprecated and will be removed from pandas in a future version. Use pandas.concat instead.\n",
      "  df_donations_prop = df_donations_prop.append(df)\n"
     ]
    },
    {
     "name": "stdout",
     "output_type": "stream",
     "text": [
      "Successfully scrape donation from bantuanuntukpalestina. Going to scrape the next donation.\n"
     ]
    },
    {
     "name": "stderr",
     "output_type": "stream",
     "text": [
      "/Users/mac/Documents/RU/THESIS/working_thesis/scrape.py:286: FutureWarning: The frame.append method is deprecated and will be removed from pandas in a future version. Use pandas.concat instead.\n",
      "  df_donations_prop = df_donations_prop.append(df)\n"
     ]
    },
    {
     "name": "stdout",
     "output_type": "stream",
     "text": [
      "Successfully scrape donation from isdp. Going to scrape the next donation.\n"
     ]
    },
    {
     "name": "stderr",
     "output_type": "stream",
     "text": [
      "/Users/mac/Documents/RU/THESIS/working_thesis/scrape.py:286: FutureWarning: The frame.append method is deprecated and will be removed from pandas in a future version. Use pandas.concat instead.\n",
      "  df_donations_prop = df_donations_prop.append(df)\n"
     ]
    },
    {
     "name": "stdout",
     "output_type": "stream",
     "text": [
      "Successfully scrape donation from abiuntukbahinen. Going to scrape the next donation.\n"
     ]
    },
    {
     "name": "stderr",
     "output_type": "stream",
     "text": [
      "/Users/mac/Documents/RU/THESIS/working_thesis/scrape.py:286: FutureWarning: The frame.append method is deprecated and will be removed from pandas in a future version. Use pandas.concat instead.\n",
      "  df_donations_prop = df_donations_prop.append(df)\n"
     ]
    },
    {
     "name": "stdout",
     "output_type": "stream",
     "text": [
      "Successfully scrape donation from bantubukalapanganpekerjaan001. Going to scrape the next donation.\n"
     ]
    },
    {
     "name": "stderr",
     "output_type": "stream",
     "text": [
      "/Users/mac/Documents/RU/THESIS/working_thesis/scrape.py:286: FutureWarning: The frame.append method is deprecated and will be removed from pandas in a future version. Use pandas.concat instead.\n",
      "  df_donations_prop = df_donations_prop.append(df)\n"
     ]
    },
    {
     "name": "stdout",
     "output_type": "stream",
     "text": [
      "Successfully scrape donation from untuktemanbulucia. Going to scrape the next donation.\n"
     ]
    },
    {
     "name": "stderr",
     "output_type": "stream",
     "text": [
      "/Users/mac/Documents/RU/THESIS/working_thesis/scrape.py:286: FutureWarning: The frame.append method is deprecated and will be removed from pandas in a future version. Use pandas.concat instead.\n",
      "  df_donations_prop = df_donations_prop.append(df)\n"
     ]
    },
    {
     "name": "stdout",
     "output_type": "stream",
     "text": [
      "Successfully scrape donation from bantuanabulpindahrumah. Going to scrape the next donation.\n"
     ]
    },
    {
     "name": "stderr",
     "output_type": "stream",
     "text": [
      "/Users/mac/Documents/RU/THESIS/working_thesis/scrape.py:286: FutureWarning: The frame.append method is deprecated and will be removed from pandas in a future version. Use pandas.concat instead.\n",
      "  df_donations_prop = df_donations_prop.append(df)\n"
     ]
    },
    {
     "name": "stdout",
     "output_type": "stream",
     "text": [
      "Successfully scrape donation from bantutunanetrapenghafalquran. Going to scrape the next donation.\n"
     ]
    },
    {
     "name": "stderr",
     "output_type": "stream",
     "text": [
      "/Users/mac/Documents/RU/THESIS/working_thesis/scrape.py:286: FutureWarning: The frame.append method is deprecated and will be removed from pandas in a future version. Use pandas.concat instead.\n",
      "  df_donations_prop = df_donations_prop.append(df)\n"
     ]
    },
    {
     "name": "stdout",
     "output_type": "stream",
     "text": [
      "Successfully scrape donation from rawathutantropis. Going to scrape the next donation.\n"
     ]
    },
    {
     "name": "stderr",
     "output_type": "stream",
     "text": [
      "/Users/mac/Documents/RU/THESIS/working_thesis/scrape.py:286: FutureWarning: The frame.append method is deprecated and will be removed from pandas in a future version. Use pandas.concat instead.\n",
      "  df_donations_prop = df_donations_prop.append(df)\n"
     ]
    },
    {
     "name": "stdout",
     "output_type": "stream",
     "text": [
      "Successfully scrape donation from mangrovejakartaid. Going to scrape the next donation.\n"
     ]
    },
    {
     "name": "stderr",
     "output_type": "stream",
     "text": [
      "/Users/mac/Documents/RU/THESIS/working_thesis/scrape.py:286: FutureWarning: The frame.append method is deprecated and will be removed from pandas in a future version. Use pandas.concat instead.\n",
      "  df_donations_prop = df_donations_prop.append(df)\n"
     ]
    },
    {
     "name": "stdout",
     "output_type": "stream",
     "text": [
      "Successfully scrape donation from pelindungkucing. Going to scrape the next donation.\n"
     ]
    },
    {
     "name": "stderr",
     "output_type": "stream",
     "text": [
      "/Users/mac/Documents/RU/THESIS/working_thesis/scrape.py:286: FutureWarning: The frame.append method is deprecated and will be removed from pandas in a future version. Use pandas.concat instead.\n",
      "  df_donations_prop = df_donations_prop.append(df)\n"
     ]
    },
    {
     "name": "stdout",
     "output_type": "stream",
     "text": [
      "Error when scraping donation from kucingerupsisemeru. Going to scrape the next donation.\n",
      "Successfully scrape donation from salurkan50kakipalsutukduafadisabilitasdaksa. Going to scrape the next donation.\n"
     ]
    },
    {
     "name": "stderr",
     "output_type": "stream",
     "text": [
      "/Users/mac/Documents/RU/THESIS/working_thesis/scrape.py:286: FutureWarning: The frame.append method is deprecated and will be removed from pandas in a future version. Use pandas.concat instead.\n",
      "  df_donations_prop = df_donations_prop.append(df)\n"
     ]
    },
    {
     "name": "stdout",
     "output_type": "stream",
     "text": [
      "Successfully scrape donation from kasihuntukdisabilitas. Going to scrape the next donation.\n"
     ]
    },
    {
     "name": "stderr",
     "output_type": "stream",
     "text": [
      "/Users/mac/Documents/RU/THESIS/working_thesis/scrape.py:286: FutureWarning: The frame.append method is deprecated and will be removed from pandas in a future version. Use pandas.concat instead.\n",
      "  df_donations_prop = df_donations_prop.append(df)\n"
     ]
    },
    {
     "name": "stdout",
     "output_type": "stream",
     "text": [
      "Successfully scrape donation from bantumbahsuyadi. Going to scrape the next donation.\n"
     ]
    },
    {
     "name": "stderr",
     "output_type": "stream",
     "text": [
      "/Users/mac/Documents/RU/THESIS/working_thesis/scrape.py:286: FutureWarning: The frame.append method is deprecated and will be removed from pandas in a future version. Use pandas.concat instead.\n",
      "  df_donations_prop = df_donations_prop.append(df)\n"
     ]
    },
    {
     "name": "stdout",
     "output_type": "stream",
     "text": [
      "Successfully scrape donation from sebungkuskacangseorangyatim. Going to scrape the next donation.\n"
     ]
    },
    {
     "name": "stderr",
     "output_type": "stream",
     "text": [
      "/Users/mac/Documents/RU/THESIS/working_thesis/scrape.py:286: FutureWarning: The frame.append method is deprecated and will be removed from pandas in a future version. Use pandas.concat instead.\n",
      "  df_donations_prop = df_donations_prop.append(df)\n"
     ]
    },
    {
     "name": "stdout",
     "output_type": "stream",
     "text": [
      "Successfully scrape donation from sediakanairtuksantri. Going to scrape the next donation.\n"
     ]
    },
    {
     "name": "stderr",
     "output_type": "stream",
     "text": [
      "/Users/mac/Documents/RU/THESIS/working_thesis/scrape.py:286: FutureWarning: The frame.append method is deprecated and will be removed from pandas in a future version. Use pandas.concat instead.\n",
      "  df_donations_prop = df_donations_prop.append(df)\n"
     ]
    },
    {
     "name": "stdout",
     "output_type": "stream",
     "text": [
      "Successfully scrape donation from pkuntuknarimin. Going to scrape the next donation.\n"
     ]
    },
    {
     "name": "stderr",
     "output_type": "stream",
     "text": [
      "/Users/mac/Documents/RU/THESIS/working_thesis/scrape.py:286: FutureWarning: The frame.append method is deprecated and will be removed from pandas in a future version. Use pandas.concat instead.\n",
      "  df_donations_prop = df_donations_prop.append(df)\n"
     ]
    },
    {
     "name": "stdout",
     "output_type": "stream",
     "text": [
      "Successfully scrape donation from ambulancemasjidsiaga. Going to scrape the next donation.\n"
     ]
    },
    {
     "name": "stderr",
     "output_type": "stream",
     "text": [
      "/Users/mac/Documents/RU/THESIS/working_thesis/scrape.py:286: FutureWarning: The frame.append method is deprecated and will be removed from pandas in a future version. Use pandas.concat instead.\n",
      "  df_donations_prop = df_donations_prop.append(df)\n"
     ]
    },
    {
     "name": "stdout",
     "output_type": "stream",
     "text": [
      "Successfully scrape donation from indonesiatanggapbencanaalam. Going to scrape the next donation.\n"
     ]
    },
    {
     "name": "stderr",
     "output_type": "stream",
     "text": [
      "/Users/mac/Documents/RU/THESIS/working_thesis/scrape.py:286: FutureWarning: The frame.append method is deprecated and will be removed from pandas in a future version. Use pandas.concat instead.\n",
      "  df_donations_prop = df_donations_prop.append(df)\n"
     ]
    },
    {
     "name": "stdout",
     "output_type": "stream",
     "text": [
      "Successfully scrape donation from bantuhardiberjuanghidupuntukkeluarga. Going to scrape the next donation.\n"
     ]
    },
    {
     "name": "stderr",
     "output_type": "stream",
     "text": [
      "/Users/mac/Documents/RU/THESIS/working_thesis/scrape.py:286: FutureWarning: The frame.append method is deprecated and will be removed from pandas in a future version. Use pandas.concat instead.\n",
      "  df_donations_prop = df_donations_prop.append(df)\n"
     ]
    },
    {
     "name": "stdout",
     "output_type": "stream",
     "text": [
      "Successfully scrape donation from bantuakbartuliberhakpendidikansekolah. Going to scrape the next donation.\n"
     ]
    },
    {
     "name": "stderr",
     "output_type": "stream",
     "text": [
      "/Users/mac/Documents/RU/THESIS/working_thesis/scrape.py:286: FutureWarning: The frame.append method is deprecated and will be removed from pandas in a future version. Use pandas.concat instead.\n",
      "  df_donations_prop = df_donations_prop.append(df)\n"
     ]
    },
    {
     "name": "stdout",
     "output_type": "stream",
     "text": [
      "Successfully scrape donation from bantuanakyatimdhuafapalestinasekolah. Going to scrape the next donation.\n"
     ]
    },
    {
     "name": "stderr",
     "output_type": "stream",
     "text": [
      "/Users/mac/Documents/RU/THESIS/working_thesis/scrape.py:286: FutureWarning: The frame.append method is deprecated and will be removed from pandas in a future version. Use pandas.concat instead.\n",
      "  df_donations_prop = df_donations_prop.append(df)\n"
     ]
    },
    {
     "name": "stdout",
     "output_type": "stream",
     "text": [
      "Successfully scrape donation from sedekahuntukpenyelamatansungaicibarani. Going to scrape the next donation.\n"
     ]
    },
    {
     "name": "stderr",
     "output_type": "stream",
     "text": [
      "/Users/mac/Documents/RU/THESIS/working_thesis/scrape.py:286: FutureWarning: The frame.append method is deprecated and will be removed from pandas in a future version. Use pandas.concat instead.\n",
      "  df_donations_prop = df_donations_prop.append(df)\n"
     ]
    },
    {
     "name": "stdout",
     "output_type": "stream",
     "text": [
      "Successfully scrape donation from teknologimedistercanggih. Going to scrape the next donation.\n"
     ]
    },
    {
     "name": "stderr",
     "output_type": "stream",
     "text": [
      "/Users/mac/Documents/RU/THESIS/working_thesis/scrape.py:286: FutureWarning: The frame.append method is deprecated and will be removed from pandas in a future version. Use pandas.concat instead.\n",
      "  df_donations_prop = df_donations_prop.append(df)\n"
     ]
    },
    {
     "name": "stdout",
     "output_type": "stream",
     "text": [
      "Successfully scrape donation from darularqamstudio. Going to scrape the next donation.\n"
     ]
    },
    {
     "name": "stderr",
     "output_type": "stream",
     "text": [
      "/Users/mac/Documents/RU/THESIS/working_thesis/scrape.py:286: FutureWarning: The frame.append method is deprecated and will be removed from pandas in a future version. Use pandas.concat instead.\n",
      "  df_donations_prop = df_donations_prop.append(df)\n"
     ]
    },
    {
     "name": "stdout",
     "output_type": "stream",
     "text": [
      "Successfully scrape donation from bantubuatrumahpenampungankucingjalanan. Going to scrape the next donation.\n"
     ]
    },
    {
     "name": "stderr",
     "output_type": "stream",
     "text": [
      "/Users/mac/Documents/RU/THESIS/working_thesis/scrape.py:286: FutureWarning: The frame.append method is deprecated and will be removed from pandas in a future version. Use pandas.concat instead.\n",
      "  df_donations_prop = df_donations_prop.append(df)\n"
     ]
    },
    {
     "name": "stdout",
     "output_type": "stream",
     "text": [
      "Successfully scrape donation from ysdipedulibencana. Going to scrape the next donation.\n"
     ]
    },
    {
     "name": "stderr",
     "output_type": "stream",
     "text": [
      "/Users/mac/Documents/RU/THESIS/working_thesis/scrape.py:286: FutureWarning: The frame.append method is deprecated and will be removed from pandas in a future version. Use pandas.concat instead.\n",
      "  df_donations_prop = df_donations_prop.append(df)\n"
     ]
    },
    {
     "name": "stdout",
     "output_type": "stream",
     "text": [
      "Successfully scrape donation from buburdanmedaliemas. Going to scrape the next donation.\n"
     ]
    },
    {
     "name": "stderr",
     "output_type": "stream",
     "text": [
      "/Users/mac/Documents/RU/THESIS/working_thesis/scrape.py:286: FutureWarning: The frame.append method is deprecated and will be removed from pandas in a future version. Use pandas.concat instead.\n",
      "  df_donations_prop = df_donations_prop.append(df)\n"
     ]
    },
    {
     "name": "stdout",
     "output_type": "stream",
     "text": [
      "Successfully scrape donation from bantupejuangkankerdhuafa. Going to scrape the next donation.\n"
     ]
    },
    {
     "name": "stderr",
     "output_type": "stream",
     "text": [
      "/Users/mac/Documents/RU/THESIS/working_thesis/scrape.py:286: FutureWarning: The frame.append method is deprecated and will be removed from pandas in a future version. Use pandas.concat instead.\n",
      "  df_donations_prop = df_donations_prop.append(df)\n"
     ]
    },
    {
     "name": "stdout",
     "output_type": "stream",
     "text": [
      "Successfully scrape donation from tolongnenekfatimah. Going to scrape the next donation.\n"
     ]
    },
    {
     "name": "stderr",
     "output_type": "stream",
     "text": [
      "/Users/mac/Documents/RU/THESIS/working_thesis/scrape.py:286: FutureWarning: The frame.append method is deprecated and will be removed from pandas in a future version. Use pandas.concat instead.\n",
      "  df_donations_prop = df_donations_prop.append(df)\n"
     ]
    },
    {
     "name": "stdout",
     "output_type": "stream",
     "text": [
      "Successfully scrape donation from abiuntukjakariya. Going to scrape the next donation.\n"
     ]
    },
    {
     "name": "stderr",
     "output_type": "stream",
     "text": [
      "/Users/mac/Documents/RU/THESIS/working_thesis/scrape.py:286: FutureWarning: The frame.append method is deprecated and will be removed from pandas in a future version. Use pandas.concat instead.\n",
      "  df_donations_prop = df_donations_prop.append(df)\n"
     ]
    },
    {
     "name": "stdout",
     "output_type": "stream",
     "text": [
      "Successfully scrape donation from mbahnonobalon. Going to scrape the next donation.\n"
     ]
    },
    {
     "name": "stderr",
     "output_type": "stream",
     "text": [
      "/Users/mac/Documents/RU/THESIS/working_thesis/scrape.py:286: FutureWarning: The frame.append method is deprecated and will be removed from pandas in a future version. Use pandas.concat instead.\n",
      "  df_donations_prop = df_donations_prop.append(df)\n"
     ]
    },
    {
     "name": "stdout",
     "output_type": "stream",
     "text": [
      "Successfully scrape donation from sedekahtanggapbencana. Going to scrape the next donation.\n"
     ]
    },
    {
     "name": "stderr",
     "output_type": "stream",
     "text": [
      "/Users/mac/Documents/RU/THESIS/working_thesis/scrape.py:286: FutureWarning: The frame.append method is deprecated and will be removed from pandas in a future version. Use pandas.concat instead.\n",
      "  df_donations_prop = df_donations_prop.append(df)\n"
     ]
    },
    {
     "name": "stdout",
     "output_type": "stream",
     "text": [
      "Successfully scrape donation from bantudifabelberbagi. Going to scrape the next donation.\n"
     ]
    },
    {
     "name": "stderr",
     "output_type": "stream",
     "text": [
      "/Users/mac/Documents/RU/THESIS/working_thesis/scrape.py:286: FutureWarning: The frame.append method is deprecated and will be removed from pandas in a future version. Use pandas.concat instead.\n",
      "  df_donations_prop = df_donations_prop.append(df)\n"
     ]
    },
    {
     "name": "stdout",
     "output_type": "stream",
     "text": [
      "Successfully scrape donation from modalusahadisabilitaspejuangkeluarga. Going to scrape the next donation.\n"
     ]
    },
    {
     "name": "stderr",
     "output_type": "stream",
     "text": [
      "/Users/mac/Documents/RU/THESIS/working_thesis/scrape.py:286: FutureWarning: The frame.append method is deprecated and will be removed from pandas in a future version. Use pandas.concat instead.\n",
      "  df_donations_prop = df_donations_prop.append(df)\n"
     ]
    },
    {
     "name": "stdout",
     "output_type": "stream",
     "text": [
      "Successfully scrape donation from sedekahkakidantanganpalsu. Going to scrape the next donation.\n"
     ]
    },
    {
     "name": "stderr",
     "output_type": "stream",
     "text": [
      "/Users/mac/Documents/RU/THESIS/working_thesis/scrape.py:286: FutureWarning: The frame.append method is deprecated and will be removed from pandas in a future version. Use pandas.concat instead.\n",
      "  df_donations_prop = df_donations_prop.append(df)\n"
     ]
    },
    {
     "name": "stdout",
     "output_type": "stream",
     "text": [
      "Successfully scrape donation from palestinabantu. Going to scrape the next donation.\n"
     ]
    },
    {
     "name": "stderr",
     "output_type": "stream",
     "text": [
      "/Users/mac/Documents/RU/THESIS/working_thesis/scrape.py:286: FutureWarning: The frame.append method is deprecated and will be removed from pandas in a future version. Use pandas.concat instead.\n",
      "  df_donations_prop = df_donations_prop.append(df)\n"
     ]
    },
    {
     "name": "stdout",
     "output_type": "stream",
     "text": [
      "Successfully scrape donation from bangunpondoklansiadanodgj. Going to scrape the next donation.\n"
     ]
    },
    {
     "name": "stderr",
     "output_type": "stream",
     "text": [
      "/Users/mac/Documents/RU/THESIS/working_thesis/scrape.py:286: FutureWarning: The frame.append method is deprecated and will be removed from pandas in a future version. Use pandas.concat instead.\n",
      "  df_donations_prop = df_donations_prop.append(df)\n"
     ]
    },
    {
     "name": "stdout",
     "output_type": "stream",
     "text": [
      "Successfully scrape donation from yatimbahagiaindonesiasejahtera. Going to scrape the next donation.\n"
     ]
    },
    {
     "name": "stderr",
     "output_type": "stream",
     "text": [
      "/Users/mac/Documents/RU/THESIS/working_thesis/scrape.py:286: FutureWarning: The frame.append method is deprecated and will be removed from pandas in a future version. Use pandas.concat instead.\n",
      "  df_donations_prop = df_donations_prop.append(df)\n"
     ]
    },
    {
     "name": "stdout",
     "output_type": "stream",
     "text": [
      "Successfully scrape donation from bisawakafyatim. Going to scrape the next donation.\n"
     ]
    },
    {
     "name": "stderr",
     "output_type": "stream",
     "text": [
      "/Users/mac/Documents/RU/THESIS/working_thesis/scrape.py:286: FutureWarning: The frame.append method is deprecated and will be removed from pandas in a future version. Use pandas.concat instead.\n",
      "  df_donations_prop = df_donations_prop.append(df)\n"
     ]
    },
    {
     "name": "stdout",
     "output_type": "stream",
     "text": [
      "Successfully scrape donation from meyratumorperut. Going to scrape the next donation.\n"
     ]
    },
    {
     "name": "stderr",
     "output_type": "stream",
     "text": [
      "/Users/mac/Documents/RU/THESIS/working_thesis/scrape.py:286: FutureWarning: The frame.append method is deprecated and will be removed from pandas in a future version. Use pandas.concat instead.\n",
      "  df_donations_prop = df_donations_prop.append(df)\n"
     ]
    },
    {
     "name": "stdout",
     "output_type": "stream",
     "text": [
      "Successfully scrape donation from binamuda. Going to scrape the next donation.\n"
     ]
    },
    {
     "name": "stderr",
     "output_type": "stream",
     "text": [
      "/Users/mac/Documents/RU/THESIS/working_thesis/scrape.py:286: FutureWarning: The frame.append method is deprecated and will be removed from pandas in a future version. Use pandas.concat instead.\n",
      "  df_donations_prop = df_donations_prop.append(df)\n"
     ]
    },
    {
     "name": "stdout",
     "output_type": "stream",
     "text": [
      "Successfully scrape donation from pengadaansuperkomputeruntukrisetdanakademiai. Going to scrape the next donation.\n"
     ]
    },
    {
     "name": "stderr",
     "output_type": "stream",
     "text": [
      "/Users/mac/Documents/RU/THESIS/working_thesis/scrape.py:286: FutureWarning: The frame.append method is deprecated and will be removed from pandas in a future version. Use pandas.concat instead.\n",
      "  df_donations_prop = df_donations_prop.append(df)\n"
     ]
    },
    {
     "name": "stdout",
     "output_type": "stream",
     "text": [
      "Successfully scrape donation from sedekahlumbung. Going to scrape the next donation.\n"
     ]
    },
    {
     "name": "stderr",
     "output_type": "stream",
     "text": [
      "/Users/mac/Documents/RU/THESIS/working_thesis/scrape.py:286: FutureWarning: The frame.append method is deprecated and will be removed from pandas in a future version. Use pandas.concat instead.\n",
      "  df_donations_prop = df_donations_prop.append(df)\n"
     ]
    },
    {
     "name": "stdout",
     "output_type": "stream",
     "text": [
      "Successfully scrape donation from jalanjuangdaidifabel. Going to scrape the next donation.\n"
     ]
    },
    {
     "name": "stderr",
     "output_type": "stream",
     "text": [
      "/Users/mac/Documents/RU/THESIS/working_thesis/scrape.py:286: FutureWarning: The frame.append method is deprecated and will be removed from pandas in a future version. Use pandas.concat instead.\n",
      "  df_donations_prop = df_donations_prop.append(df)\n"
     ]
    },
    {
     "name": "stdout",
     "output_type": "stream",
     "text": [
      "Successfully scrape donation from tevisuntukbahaman. Going to scrape the next donation.\n"
     ]
    },
    {
     "name": "stderr",
     "output_type": "stream",
     "text": [
      "/Users/mac/Documents/RU/THESIS/working_thesis/scrape.py:286: FutureWarning: The frame.append method is deprecated and will be removed from pandas in a future version. Use pandas.concat instead.\n",
      "  df_donations_prop = df_donations_prop.append(df)\n"
     ]
    },
    {
     "name": "stdout",
     "output_type": "stream",
     "text": [
      "Successfully scrape donation from fidyahramadhanbmh. Going to scrape the next donation.\n"
     ]
    },
    {
     "name": "stderr",
     "output_type": "stream",
     "text": [
      "/Users/mac/Documents/RU/THESIS/working_thesis/scrape.py:286: FutureWarning: The frame.append method is deprecated and will be removed from pandas in a future version. Use pandas.concat instead.\n",
      "  df_donations_prop = df_donations_prop.append(df)\n"
     ]
    },
    {
     "name": "stdout",
     "output_type": "stream",
     "text": [
      "Successfully scrape donation from bantusediakanmakanbergizi. Going to scrape the next donation.\n"
     ]
    },
    {
     "name": "stderr",
     "output_type": "stream",
     "text": [
      "/Users/mac/Documents/RU/THESIS/working_thesis/scrape.py:286: FutureWarning: The frame.append method is deprecated and will be removed from pandas in a future version. Use pandas.concat instead.\n",
      "  df_donations_prop = df_donations_prop.append(df)\n"
     ]
    },
    {
     "name": "stdout",
     "output_type": "stream",
     "text": [
      "Successfully scrape donation from bantusediamakanbergizi. Going to scrape the next donation.\n"
     ]
    },
    {
     "name": "stderr",
     "output_type": "stream",
     "text": [
      "/Users/mac/Documents/RU/THESIS/working_thesis/scrape.py:286: FutureWarning: The frame.append method is deprecated and will be removed from pandas in a future version. Use pandas.concat instead.\n",
      "  df_donations_prop = df_donations_prop.append(df)\n"
     ]
    },
    {
     "name": "stdout",
     "output_type": "stream",
     "text": [
      "Successfully scrape donation from budidayadanpelestarianlebahkelulut. Going to scrape the next donation.\n"
     ]
    },
    {
     "name": "stderr",
     "output_type": "stream",
     "text": [
      "/Users/mac/Documents/RU/THESIS/working_thesis/scrape.py:286: FutureWarning: The frame.append method is deprecated and will be removed from pandas in a future version. Use pandas.concat instead.\n",
      "  df_donations_prop = df_donations_prop.append(df)\n"
     ]
    },
    {
     "name": "stdout",
     "output_type": "stream",
     "text": [
      "Successfully scrape donation from abiuntukabahacu. Going to scrape the next donation.\n"
     ]
    },
    {
     "name": "stderr",
     "output_type": "stream",
     "text": [
      "/Users/mac/Documents/RU/THESIS/working_thesis/scrape.py:286: FutureWarning: The frame.append method is deprecated and will be removed from pandas in a future version. Use pandas.concat instead.\n",
      "  df_donations_prop = df_donations_prop.append(df)\n"
     ]
    },
    {
     "name": "stdout",
     "output_type": "stream",
     "text": [
      "Successfully scrape donation from bantunenekpica. Going to scrape the next donation.\n"
     ]
    },
    {
     "name": "stderr",
     "output_type": "stream",
     "text": [
      "/Users/mac/Documents/RU/THESIS/working_thesis/scrape.py:286: FutureWarning: The frame.append method is deprecated and will be removed from pandas in a future version. Use pandas.concat instead.\n",
      "  df_donations_prop = df_donations_prop.append(df)\n"
     ]
    },
    {
     "name": "stdout",
     "output_type": "stream",
     "text": [
      "Successfully scrape donation from banturespekperjuanganmuslim. Going to scrape the next donation.\n"
     ]
    },
    {
     "name": "stderr",
     "output_type": "stream",
     "text": [
      "/Users/mac/Documents/RU/THESIS/working_thesis/scrape.py:286: FutureWarning: The frame.append method is deprecated and will be removed from pandas in a future version. Use pandas.concat instead.\n",
      "  df_donations_prop = df_donations_prop.append(df)\n"
     ]
    },
    {
     "name": "stdout",
     "output_type": "stream",
     "text": [
      "Successfully scrape donation from bantuwujudkankehidupankucingjalanan. Going to scrape the next donation.\n"
     ]
    },
    {
     "name": "stderr",
     "output_type": "stream",
     "text": [
      "/Users/mac/Documents/RU/THESIS/working_thesis/scrape.py:286: FutureWarning: The frame.append method is deprecated and will be removed from pandas in a future version. Use pandas.concat instead.\n",
      "  df_donations_prop = df_donations_prop.append(df)\n"
     ]
    },
    {
     "name": "stdout",
     "output_type": "stream",
     "text": [
      "Successfully scrape donation from dewibisa1. Going to scrape the next donation.\n"
     ]
    },
    {
     "name": "stderr",
     "output_type": "stream",
     "text": [
      "/Users/mac/Documents/RU/THESIS/working_thesis/scrape.py:286: FutureWarning: The frame.append method is deprecated and will be removed from pandas in a future version. Use pandas.concat instead.\n",
      "  df_donations_prop = df_donations_prop.append(df)\n"
     ]
    },
    {
     "name": "stdout",
     "output_type": "stream",
     "text": [
      "Successfully scrape donation from senyumananakcacatmental. Going to scrape the next donation.\n"
     ]
    },
    {
     "name": "stderr",
     "output_type": "stream",
     "text": [
      "/Users/mac/Documents/RU/THESIS/working_thesis/scrape.py:286: FutureWarning: The frame.append method is deprecated and will be removed from pandas in a future version. Use pandas.concat instead.\n",
      "  df_donations_prop = df_donations_prop.append(df)\n"
     ]
    },
    {
     "name": "stdout",
     "output_type": "stream",
     "text": [
      "Successfully scrape donation from bantuabahsait. Going to scrape the next donation.\n"
     ]
    },
    {
     "name": "stderr",
     "output_type": "stream",
     "text": [
      "/Users/mac/Documents/RU/THESIS/working_thesis/scrape.py:286: FutureWarning: The frame.append method is deprecated and will be removed from pandas in a future version. Use pandas.concat instead.\n",
      "  df_donations_prop = df_donations_prop.append(df)\n"
     ]
    },
    {
     "name": "stdout",
     "output_type": "stream",
     "text": [
      "Successfully scrape donation from hoshizora. Going to scrape the next donation.\n"
     ]
    },
    {
     "name": "stderr",
     "output_type": "stream",
     "text": [
      "/Users/mac/Documents/RU/THESIS/working_thesis/scrape.py:286: FutureWarning: The frame.append method is deprecated and will be removed from pandas in a future version. Use pandas.concat instead.\n",
      "  df_donations_prop = df_donations_prop.append(df)\n"
     ]
    },
    {
     "name": "stdout",
     "output_type": "stream",
     "text": [
      "Successfully scrape donation from marketplacependidikan. Going to scrape the next donation.\n"
     ]
    },
    {
     "name": "stderr",
     "output_type": "stream",
     "text": [
      "/Users/mac/Documents/RU/THESIS/working_thesis/scrape.py:286: FutureWarning: The frame.append method is deprecated and will be removed from pandas in a future version. Use pandas.concat instead.\n",
      "  df_donations_prop = df_donations_prop.append(df)\n"
     ]
    },
    {
     "name": "stdout",
     "output_type": "stream",
     "text": [
      "Successfully scrape donation from bantupetanikamibangkit. Going to scrape the next donation.\n"
     ]
    },
    {
     "name": "stderr",
     "output_type": "stream",
     "text": [
      "/Users/mac/Documents/RU/THESIS/working_thesis/scrape.py:286: FutureWarning: The frame.append method is deprecated and will be removed from pandas in a future version. Use pandas.concat instead.\n",
      "  df_donations_prop = df_donations_prop.append(df)\n"
     ]
    },
    {
     "name": "stdout",
     "output_type": "stream",
     "text": [
      "Successfully scrape donation from sedikitdarikamubanyakmakananuntukmereka. Going to scrape the next donation.\n"
     ]
    },
    {
     "name": "stderr",
     "output_type": "stream",
     "text": [
      "/Users/mac/Documents/RU/THESIS/working_thesis/scrape.py:286: FutureWarning: The frame.append method is deprecated and will be removed from pandas in a future version. Use pandas.concat instead.\n",
      "  df_donations_prop = df_donations_prop.append(df)\n"
     ]
    },
    {
     "name": "stdout",
     "output_type": "stream",
     "text": [
      "Successfully scrape donation from pssbisapindahbersamakitabisa. Going to scrape the next donation.\n"
     ]
    },
    {
     "name": "stderr",
     "output_type": "stream",
     "text": [
      "/Users/mac/Documents/RU/THESIS/working_thesis/scrape.py:286: FutureWarning: The frame.append method is deprecated and will be removed from pandas in a future version. Use pandas.concat instead.\n",
      "  df_donations_prop = df_donations_prop.append(df)\n"
     ]
    },
    {
     "name": "stdout",
     "output_type": "stream",
     "text": [
      "Successfully scrape donation from sembakountukpengason. Going to scrape the next donation.\n"
     ]
    },
    {
     "name": "stderr",
     "output_type": "stream",
     "text": [
      "/Users/mac/Documents/RU/THESIS/working_thesis/scrape.py:286: FutureWarning: The frame.append method is deprecated and will be removed from pandas in a future version. Use pandas.concat instead.\n",
      "  df_donations_prop = df_donations_prop.append(df)\n"
     ]
    },
    {
     "name": "stdout",
     "output_type": "stream",
     "text": [
      "Successfully scrape donation from bantupenderitapenyakitlangka. Going to scrape the next donation.\n"
     ]
    },
    {
     "name": "stderr",
     "output_type": "stream",
     "text": [
      "/Users/mac/Documents/RU/THESIS/working_thesis/scrape.py:286: FutureWarning: The frame.append method is deprecated and will be removed from pandas in a future version. Use pandas.concat instead.\n",
      "  df_donations_prop = df_donations_prop.append(df)\n"
     ]
    },
    {
     "name": "stdout",
     "output_type": "stream",
     "text": [
      "Successfully scrape donation from santunianakanakdisabilitascacatfisik. Going to scrape the next donation.\n"
     ]
    },
    {
     "name": "stderr",
     "output_type": "stream",
     "text": [
      "/Users/mac/Documents/RU/THESIS/working_thesis/scrape.py:286: FutureWarning: The frame.append method is deprecated and will be removed from pandas in a future version. Use pandas.concat instead.\n",
      "  df_donations_prop = df_donations_prop.append(df)\n"
     ]
    },
    {
     "name": "stdout",
     "output_type": "stream",
     "text": [
      "Successfully scrape donation from makuningsebatangkara. Going to scrape the next donation.\n"
     ]
    },
    {
     "name": "stderr",
     "output_type": "stream",
     "text": [
      "/Users/mac/Documents/RU/THESIS/working_thesis/scrape.py:286: FutureWarning: The frame.append method is deprecated and will be removed from pandas in a future version. Use pandas.concat instead.\n",
      "  df_donations_prop = df_donations_prop.append(df)\n"
     ]
    },
    {
     "name": "stdout",
     "output_type": "stream",
     "text": [
      "Successfully scrape donation from segerabantumereka. Going to scrape the next donation.\n"
     ]
    },
    {
     "name": "stderr",
     "output_type": "stream",
     "text": [
      "/Users/mac/Documents/RU/THESIS/working_thesis/scrape.py:286: FutureWarning: The frame.append method is deprecated and will be removed from pandas in a future version. Use pandas.concat instead.\n",
      "  df_donations_prop = df_donations_prop.append(df)\n"
     ]
    },
    {
     "name": "stdout",
     "output_type": "stream",
     "text": [
      "Successfully scrape donation from bantupakagustunanetra. Going to scrape the next donation.\n"
     ]
    },
    {
     "name": "stderr",
     "output_type": "stream",
     "text": [
      "/Users/mac/Documents/RU/THESIS/working_thesis/scrape.py:286: FutureWarning: The frame.append method is deprecated and will be removed from pandas in a future version. Use pandas.concat instead.\n",
      "  df_donations_prop = df_donations_prop.append(df)\n"
     ]
    },
    {
     "name": "stdout",
     "output_type": "stream",
     "text": [
      "Successfully scrape donation from bantudifabelproduktif. Going to scrape the next donation.\n"
     ]
    },
    {
     "name": "stderr",
     "output_type": "stream",
     "text": [
      "/Users/mac/Documents/RU/THESIS/working_thesis/scrape.py:286: FutureWarning: The frame.append method is deprecated and will be removed from pandas in a future version. Use pandas.concat instead.\n",
      "  df_donations_prop = df_donations_prop.append(df)\n"
     ]
    },
    {
     "name": "stdout",
     "output_type": "stream",
     "text": [
      "Successfully scrape donation from banguntafsirdigital. Going to scrape the next donation.\n"
     ]
    },
    {
     "name": "stderr",
     "output_type": "stream",
     "text": [
      "/Users/mac/Documents/RU/THESIS/working_thesis/scrape.py:286: FutureWarning: The frame.append method is deprecated and will be removed from pandas in a future version. Use pandas.concat instead.\n",
      "  df_donations_prop = df_donations_prop.append(df)\n"
     ]
    },
    {
     "name": "stdout",
     "output_type": "stream",
     "text": [
      "Successfully scrape donation from bantubenahimesjidyangsudahlapukdanmaurubuh. Going to scrape the next donation.\n"
     ]
    },
    {
     "name": "stderr",
     "output_type": "stream",
     "text": [
      "/Users/mac/Documents/RU/THESIS/working_thesis/scrape.py:286: FutureWarning: The frame.append method is deprecated and will be removed from pandas in a future version. Use pandas.concat instead.\n",
      "  df_donations_prop = df_donations_prop.append(df)\n"
     ]
    },
    {
     "name": "stdout",
     "output_type": "stream",
     "text": [
      "Successfully scrape donation from untuktemanbukristina. Going to scrape the next donation.\n"
     ]
    },
    {
     "name": "stderr",
     "output_type": "stream",
     "text": [
      "/Users/mac/Documents/RU/THESIS/working_thesis/scrape.py:286: FutureWarning: The frame.append method is deprecated and will be removed from pandas in a future version. Use pandas.concat instead.\n",
      "  df_donations_prop = df_donations_prop.append(df)\n"
     ]
    },
    {
     "name": "stdout",
     "output_type": "stream",
     "text": [
      "Successfully scrape donation from bantudesabilebantemengatasiisusampah. Going to scrape the next donation.\n"
     ]
    },
    {
     "name": "stderr",
     "output_type": "stream",
     "text": [
      "/Users/mac/Documents/RU/THESIS/working_thesis/scrape.py:286: FutureWarning: The frame.append method is deprecated and will be removed from pandas in a future version. Use pandas.concat instead.\n",
      "  df_donations_prop = df_donations_prop.append(df)\n"
     ]
    },
    {
     "name": "stdout",
     "output_type": "stream",
     "text": [
      "Successfully scrape donation from badaihancurkangereja. Going to scrape the next donation.\n"
     ]
    },
    {
     "name": "stderr",
     "output_type": "stream",
     "text": [
      "/Users/mac/Documents/RU/THESIS/working_thesis/scrape.py:286: FutureWarning: The frame.append method is deprecated and will be removed from pandas in a future version. Use pandas.concat instead.\n",
      "  df_donations_prop = df_donations_prop.append(df)\n"
     ]
    },
    {
     "name": "stdout",
     "output_type": "stream",
     "text": [
      "Successfully scrape donation from bantudonasikorbanbanjirkotajayapura. Going to scrape the next donation.\n"
     ]
    },
    {
     "name": "stderr",
     "output_type": "stream",
     "text": [
      "/Users/mac/Documents/RU/THESIS/working_thesis/scrape.py:286: FutureWarning: The frame.append method is deprecated and will be removed from pandas in a future version. Use pandas.concat instead.\n",
      "  df_donations_prop = df_donations_prop.append(df)\n"
     ]
    },
    {
     "name": "stdout",
     "output_type": "stream",
     "text": [
      "Successfully scrape donation from ambonbisabangkit. Going to scrape the next donation.\n"
     ]
    },
    {
     "name": "stderr",
     "output_type": "stream",
     "text": [
      "/Users/mac/Documents/RU/THESIS/working_thesis/scrape.py:286: FutureWarning: The frame.append method is deprecated and will be removed from pandas in a future version. Use pandas.concat instead.\n",
      "  df_donations_prop = df_donations_prop.append(df)\n"
     ]
    },
    {
     "name": "stdout",
     "output_type": "stream",
     "text": [
      "Successfully scrape donation from daruratbanjirpakistan. Going to scrape the next donation.\n"
     ]
    },
    {
     "name": "stderr",
     "output_type": "stream",
     "text": [
      "/Users/mac/Documents/RU/THESIS/working_thesis/scrape.py:286: FutureWarning: The frame.append method is deprecated and will be removed from pandas in a future version. Use pandas.concat instead.\n",
      "  df_donations_prop = df_donations_prop.append(df)\n"
     ]
    },
    {
     "name": "stdout",
     "output_type": "stream",
     "text": [
      "Successfully scrape donation from gurubelajarpedulisesama. Going to scrape the next donation.\n"
     ]
    },
    {
     "name": "stderr",
     "output_type": "stream",
     "text": [
      "/Users/mac/Documents/RU/THESIS/working_thesis/scrape.py:286: FutureWarning: The frame.append method is deprecated and will be removed from pandas in a future version. Use pandas.concat instead.\n",
      "  df_donations_prop = df_donations_prop.append(df)\n"
     ]
    },
    {
     "name": "stdout",
     "output_type": "stream",
     "text": [
      "Successfully scrape donation from tandakasihuntukdisabilitas. Going to scrape the next donation.\n"
     ]
    },
    {
     "name": "stderr",
     "output_type": "stream",
     "text": [
      "/Users/mac/Documents/RU/THESIS/working_thesis/scrape.py:286: FutureWarning: The frame.append method is deprecated and will be removed from pandas in a future version. Use pandas.concat instead.\n",
      "  df_donations_prop = df_donations_prop.append(df)\n"
     ]
    },
    {
     "name": "stdout",
     "output_type": "stream",
     "text": [
      "Successfully scrape donation from dyphunifoundation. Going to scrape the next donation.\n"
     ]
    },
    {
     "name": "stderr",
     "output_type": "stream",
     "text": [
      "/Users/mac/Documents/RU/THESIS/working_thesis/scrape.py:286: FutureWarning: The frame.append method is deprecated and will be removed from pandas in a future version. Use pandas.concat instead.\n",
      "  df_donations_prop = df_donations_prop.append(df)\n"
     ]
    },
    {
     "name": "stdout",
     "output_type": "stream",
     "text": [
      "Successfully scrape donation from tanammangrovesavemangroveindonesia. Going to scrape the next donation.\n"
     ]
    },
    {
     "name": "stderr",
     "output_type": "stream",
     "text": [
      "/Users/mac/Documents/RU/THESIS/working_thesis/scrape.py:286: FutureWarning: The frame.append method is deprecated and will be removed from pandas in a future version. Use pandas.concat instead.\n",
      "  df_donations_prop = df_donations_prop.append(df)\n"
     ]
    },
    {
     "name": "stdout",
     "output_type": "stream",
     "text": [
      "Successfully scrape donation from bantumembukasekolahmusikgratisuntukanaktidakmampu. Going to scrape the next donation.\n"
     ]
    },
    {
     "name": "stderr",
     "output_type": "stream",
     "text": [
      "/Users/mac/Documents/RU/THESIS/working_thesis/scrape.py:286: FutureWarning: The frame.append method is deprecated and will be removed from pandas in a future version. Use pandas.concat instead.\n",
      "  df_donations_prop = df_donations_prop.append(df)\n"
     ]
    },
    {
     "name": "stdout",
     "output_type": "stream",
     "text": [
      "Successfully scrape donation from yayasansosialgmt. Going to scrape the next donation.\n"
     ]
    },
    {
     "name": "stderr",
     "output_type": "stream",
     "text": [
      "/Users/mac/Documents/RU/THESIS/working_thesis/scrape.py:286: FutureWarning: The frame.append method is deprecated and will be removed from pandas in a future version. Use pandas.concat instead.\n",
      "  df_donations_prop = df_donations_prop.append(df)\n"
     ]
    },
    {
     "name": "stdout",
     "output_type": "stream",
     "text": [
      "Successfully scrape donation from bantukeluargaparkinson. Going to scrape the next donation.\n"
     ]
    },
    {
     "name": "stderr",
     "output_type": "stream",
     "text": [
      "/Users/mac/Documents/RU/THESIS/working_thesis/scrape.py:286: FutureWarning: The frame.append method is deprecated and will be removed from pandas in a future version. Use pandas.concat instead.\n",
      "  df_donations_prop = df_donations_prop.append(df)\n"
     ]
    },
    {
     "name": "stdout",
     "output_type": "stream",
     "text": [
      "Successfully scrape donation from barracudadivingclub. Going to scrape the next donation.\n"
     ]
    },
    {
     "name": "stderr",
     "output_type": "stream",
     "text": [
      "/Users/mac/Documents/RU/THESIS/working_thesis/scrape.py:286: FutureWarning: The frame.append method is deprecated and will be removed from pandas in a future version. Use pandas.concat instead.\n",
      "  df_donations_prop = df_donations_prop.append(df)\n"
     ]
    },
    {
     "name": "stdout",
     "output_type": "stream",
     "text": [
      "Successfully scrape donation from ayobersihkanlaut. Going to scrape the next donation.\n"
     ]
    },
    {
     "name": "stderr",
     "output_type": "stream",
     "text": [
      "/Users/mac/Documents/RU/THESIS/working_thesis/scrape.py:286: FutureWarning: The frame.append method is deprecated and will be removed from pandas in a future version. Use pandas.concat instead.\n",
      "  df_donations_prop = df_donations_prop.append(df)\n"
     ]
    },
    {
     "name": "stdout",
     "output_type": "stream",
     "text": [
      "Successfully scrape donation from jejakrimbaraya. Going to scrape the next donation.\n"
     ]
    },
    {
     "name": "stderr",
     "output_type": "stream",
     "text": [
      "/Users/mac/Documents/RU/THESIS/working_thesis/scrape.py:286: FutureWarning: The frame.append method is deprecated and will be removed from pandas in a future version. Use pandas.concat instead.\n",
      "  df_donations_prop = df_donations_prop.append(df)\n"
     ]
    },
    {
     "name": "stdout",
     "output_type": "stream",
     "text": [
      "Successfully scrape donation from bantuanjingsakitdanterlantar. Going to scrape the next donation.\n"
     ]
    },
    {
     "name": "stderr",
     "output_type": "stream",
     "text": [
      "/Users/mac/Documents/RU/THESIS/working_thesis/scrape.py:286: FutureWarning: The frame.append method is deprecated and will be removed from pandas in a future version. Use pandas.concat instead.\n",
      "  df_donations_prop = df_donations_prop.append(df)\n"
     ]
    },
    {
     "name": "stdout",
     "output_type": "stream",
     "text": [
      "Successfully scrape donation from bantutunanetradanibunyayangrentaberjuanghidup. Going to scrape the next donation.\n"
     ]
    },
    {
     "name": "stderr",
     "output_type": "stream",
     "text": [
      "/Users/mac/Documents/RU/THESIS/working_thesis/scrape.py:286: FutureWarning: The frame.append method is deprecated and will be removed from pandas in a future version. Use pandas.concat instead.\n",
      "  df_donations_prop = df_donations_prop.append(df)\n"
     ]
    },
    {
     "name": "stdout",
     "output_type": "stream",
     "text": [
      "Successfully scrape donation from bersedekahkakipalsu. Going to scrape the next donation.\n"
     ]
    },
    {
     "name": "stderr",
     "output_type": "stream",
     "text": [
      "/Users/mac/Documents/RU/THESIS/working_thesis/scrape.py:286: FutureWarning: The frame.append method is deprecated and will be removed from pandas in a future version. Use pandas.concat instead.\n",
      "  df_donations_prop = df_donations_prop.append(df)\n"
     ]
    },
    {
     "name": "stdout",
     "output_type": "stream",
     "text": [
      "Successfully scrape donation from abahkardidifabel. Going to scrape the next donation.\n"
     ]
    },
    {
     "name": "stderr",
     "output_type": "stream",
     "text": [
      "/Users/mac/Documents/RU/THESIS/working_thesis/scrape.py:286: FutureWarning: The frame.append method is deprecated and will be removed from pandas in a future version. Use pandas.concat instead.\n",
      "  df_donations_prop = df_donations_prop.append(df)\n"
     ]
    },
    {
     "name": "stdout",
     "output_type": "stream",
     "text": [
      "Successfully scrape donation from terapiautisdhuafa. Going to scrape the next donation.\n"
     ]
    },
    {
     "name": "stderr",
     "output_type": "stream",
     "text": [
      "/Users/mac/Documents/RU/THESIS/working_thesis/scrape.py:286: FutureWarning: The frame.append method is deprecated and will be removed from pandas in a future version. Use pandas.concat instead.\n",
      "  df_donations_prop = df_donations_prop.append(df)\n"
     ]
    },
    {
     "name": "stdout",
     "output_type": "stream",
     "text": [
      "Successfully scrape donation from menanammangrove. Going to scrape the next donation.\n"
     ]
    },
    {
     "name": "stderr",
     "output_type": "stream",
     "text": [
      "/Users/mac/Documents/RU/THESIS/working_thesis/scrape.py:286: FutureWarning: The frame.append method is deprecated and will be removed from pandas in a future version. Use pandas.concat instead.\n",
      "  df_donations_prop = df_donations_prop.append(df)\n"
     ]
    },
    {
     "name": "stdout",
     "output_type": "stream",
     "text": [
      "Successfully scrape donation from literasidesapintar. Going to scrape the next donation.\n"
     ]
    },
    {
     "name": "stderr",
     "output_type": "stream",
     "text": [
      "/Users/mac/Documents/RU/THESIS/working_thesis/scrape.py:286: FutureWarning: The frame.append method is deprecated and will be removed from pandas in a future version. Use pandas.concat instead.\n",
      "  df_donations_prop = df_donations_prop.append(df)\n"
     ]
    },
    {
     "name": "stdout",
     "output_type": "stream",
     "text": [
      "Successfully scrape donation from majelisdhuafa. Going to scrape the next donation.\n"
     ]
    },
    {
     "name": "stderr",
     "output_type": "stream",
     "text": [
      "/Users/mac/Documents/RU/THESIS/working_thesis/scrape.py:286: FutureWarning: The frame.append method is deprecated and will be removed from pandas in a future version. Use pandas.concat instead.\n",
      "  df_donations_prop = df_donations_prop.append(df)\n"
     ]
    },
    {
     "name": "stdout",
     "output_type": "stream",
     "text": [
      "Successfully scrape donation from rumahkucingbandung. Going to scrape the next donation.\n"
     ]
    },
    {
     "name": "stderr",
     "output_type": "stream",
     "text": [
      "/Users/mac/Documents/RU/THESIS/working_thesis/scrape.py:286: FutureWarning: The frame.append method is deprecated and will be removed from pandas in a future version. Use pandas.concat instead.\n",
      "  df_donations_prop = df_donations_prop.append(df)\n"
     ]
    },
    {
     "name": "stdout",
     "output_type": "stream",
     "text": [
      "Successfully scrape donation from anakpemulungberdaya. Going to scrape the next donation.\n"
     ]
    },
    {
     "name": "stderr",
     "output_type": "stream",
     "text": [
      "/Users/mac/Documents/RU/THESIS/working_thesis/scrape.py:286: FutureWarning: The frame.append method is deprecated and will be removed from pandas in a future version. Use pandas.concat instead.\n",
      "  df_donations_prop = df_donations_prop.append(df)\n"
     ]
    },
    {
     "name": "stdout",
     "output_type": "stream",
     "text": [
      "Successfully scrape donation from wakafproduktif. Going to scrape the next donation.\n"
     ]
    },
    {
     "name": "stderr",
     "output_type": "stream",
     "text": [
      "/Users/mac/Documents/RU/THESIS/working_thesis/scrape.py:286: FutureWarning: The frame.append method is deprecated and will be removed from pandas in a future version. Use pandas.concat instead.\n",
      "  df_donations_prop = df_donations_prop.append(df)\n"
     ]
    },
    {
     "name": "stdout",
     "output_type": "stream",
     "text": [
      "Successfully scrape donation from jakideliveryapp. Going to scrape the next donation.\n"
     ]
    },
    {
     "name": "stderr",
     "output_type": "stream",
     "text": [
      "/Users/mac/Documents/RU/THESIS/working_thesis/scrape.py:286: FutureWarning: The frame.append method is deprecated and will be removed from pandas in a future version. Use pandas.concat instead.\n",
      "  df_donations_prop = df_donations_prop.append(df)\n"
     ]
    },
    {
     "name": "stdout",
     "output_type": "stream",
     "text": [
      "Successfully scrape donation from rescueanabuljalanan. Going to scrape the next donation.\n"
     ]
    },
    {
     "name": "stderr",
     "output_type": "stream",
     "text": [
      "/Users/mac/Documents/RU/THESIS/working_thesis/scrape.py:286: FutureWarning: The frame.append method is deprecated and will be removed from pandas in a future version. Use pandas.concat instead.\n",
      "  df_donations_prop = df_donations_prop.append(df)\n"
     ]
    },
    {
     "name": "stdout",
     "output_type": "stream",
     "text": [
      "Successfully scrape donation from rawat200anabul. Going to scrape the next donation.\n"
     ]
    },
    {
     "name": "stderr",
     "output_type": "stream",
     "text": [
      "/Users/mac/Documents/RU/THESIS/working_thesis/scrape.py:286: FutureWarning: The frame.append method is deprecated and will be removed from pandas in a future version. Use pandas.concat instead.\n",
      "  df_donations_prop = df_donations_prop.append(df)\n"
     ]
    },
    {
     "name": "stdout",
     "output_type": "stream",
     "text": [
      "Successfully scrape donation from bantukesehatandanpakankucingterlantar. Going to scrape the next donation.\n"
     ]
    },
    {
     "name": "stderr",
     "output_type": "stream",
     "text": [
      "/Users/mac/Documents/RU/THESIS/working_thesis/scrape.py:286: FutureWarning: The frame.append method is deprecated and will be removed from pandas in a future version. Use pandas.concat instead.\n",
      "  df_donations_prop = df_donations_prop.append(df)\n"
     ]
    },
    {
     "name": "stdout",
     "output_type": "stream",
     "text": [
      "Successfully scrape donation from belilahan. Going to scrape the next donation.\n"
     ]
    },
    {
     "name": "stderr",
     "output_type": "stream",
     "text": [
      "/Users/mac/Documents/RU/THESIS/working_thesis/scrape.py:286: FutureWarning: The frame.append method is deprecated and will be removed from pandas in a future version. Use pandas.concat instead.\n",
      "  df_donations_prop = df_donations_prop.append(df)\n"
     ]
    },
    {
     "name": "stdout",
     "output_type": "stream",
     "text": [
      "Successfully scrape donation from bantusumadidisabilitas. Going to scrape the next donation.\n"
     ]
    },
    {
     "name": "stderr",
     "output_type": "stream",
     "text": [
      "/Users/mac/Documents/RU/THESIS/working_thesis/scrape.py:286: FutureWarning: The frame.append method is deprecated and will be removed from pandas in a future version. Use pandas.concat instead.\n",
      "  df_donations_prop = df_donations_prop.append(df)\n"
     ]
    },
    {
     "name": "stdout",
     "output_type": "stream",
     "text": [
      "Successfully scrape donation from bisawakaflansia. Going to scrape the next donation.\n"
     ]
    },
    {
     "name": "stderr",
     "output_type": "stream",
     "text": [
      "/Users/mac/Documents/RU/THESIS/working_thesis/scrape.py:286: FutureWarning: The frame.append method is deprecated and will be removed from pandas in a future version. Use pandas.concat instead.\n",
      "  df_donations_prop = df_donations_prop.append(df)\n"
     ]
    },
    {
     "name": "stdout",
     "output_type": "stream",
     "text": [
      "Successfully scrape donation from skubuerna. Going to scrape the next donation.\n"
     ]
    },
    {
     "name": "stderr",
     "output_type": "stream",
     "text": [
      "/Users/mac/Documents/RU/THESIS/working_thesis/scrape.py:286: FutureWarning: The frame.append method is deprecated and will be removed from pandas in a future version. Use pandas.concat instead.\n",
      "  df_donations_prop = df_donations_prop.append(df)\n"
     ]
    },
    {
     "name": "stdout",
     "output_type": "stream",
     "text": [
      "Successfully scrape donation from pedulianabulteraniaya. Going to scrape the next donation.\n"
     ]
    },
    {
     "name": "stderr",
     "output_type": "stream",
     "text": [
      "/Users/mac/Documents/RU/THESIS/working_thesis/scrape.py:286: FutureWarning: The frame.append method is deprecated and will be removed from pandas in a future version. Use pandas.concat instead.\n",
      "  df_donations_prop = df_donations_prop.append(df)\n"
     ]
    },
    {
     "name": "stdout",
     "output_type": "stream",
     "text": [
      "Successfully scrape donation from bantusahabatkakipalsu. Going to scrape the next donation.\n"
     ]
    },
    {
     "name": "stderr",
     "output_type": "stream",
     "text": [
      "/Users/mac/Documents/RU/THESIS/working_thesis/scrape.py:286: FutureWarning: The frame.append method is deprecated and will be removed from pandas in a future version. Use pandas.concat instead.\n",
      "  df_donations_prop = df_donations_prop.append(df)\n"
     ]
    },
    {
     "name": "stdout",
     "output_type": "stream",
     "text": [
      "Successfully scrape donation from perjuanganpakandreas. Going to scrape the next donation.\n"
     ]
    },
    {
     "name": "stderr",
     "output_type": "stream",
     "text": [
      "/Users/mac/Documents/RU/THESIS/working_thesis/scrape.py:286: FutureWarning: The frame.append method is deprecated and will be removed from pandas in a future version. Use pandas.concat instead.\n",
      "  df_donations_prop = df_donations_prop.append(df)\n"
     ]
    },
    {
     "name": "stdout",
     "output_type": "stream",
     "text": [
      "Successfully scrape donation from wakafquranuntuksaudaratunanetra. Going to scrape the next donation.\n"
     ]
    },
    {
     "name": "stderr",
     "output_type": "stream",
     "text": [
      "/Users/mac/Documents/RU/THESIS/working_thesis/scrape.py:286: FutureWarning: The frame.append method is deprecated and will be removed from pandas in a future version. Use pandas.concat instead.\n",
      "  df_donations_prop = df_donations_prop.append(df)\n"
     ]
    },
    {
     "name": "stdout",
     "output_type": "stream",
     "text": [
      "Successfully scrape donation from untuktemanpakradiman. Going to scrape the next donation.\n"
     ]
    },
    {
     "name": "stderr",
     "output_type": "stream",
     "text": [
      "/Users/mac/Documents/RU/THESIS/working_thesis/scrape.py:286: FutureWarning: The frame.append method is deprecated and will be removed from pandas in a future version. Use pandas.concat instead.\n",
      "  df_donations_prop = df_donations_prop.append(df)\n"
     ]
    },
    {
     "name": "stdout",
     "output_type": "stream",
     "text": [
      "Successfully scrape donation from theindonesianist. Going to scrape the next donation.\n"
     ]
    },
    {
     "name": "stderr",
     "output_type": "stream",
     "text": [
      "/Users/mac/Documents/RU/THESIS/working_thesis/scrape.py:286: FutureWarning: The frame.append method is deprecated and will be removed from pandas in a future version. Use pandas.concat instead.\n",
      "  df_donations_prop = df_donations_prop.append(df)\n"
     ]
    },
    {
     "name": "stdout",
     "output_type": "stream",
     "text": [
      "Successfully scrape donation from berbagirejekiuntukusahadriveronlinebimbel. Going to scrape the next donation.\n"
     ]
    },
    {
     "name": "stderr",
     "output_type": "stream",
     "text": [
      "/Users/mac/Documents/RU/THESIS/working_thesis/scrape.py:286: FutureWarning: The frame.append method is deprecated and will be removed from pandas in a future version. Use pandas.concat instead.\n",
      "  df_donations_prop = df_donations_prop.append(df)\n"
     ]
    },
    {
     "name": "stdout",
     "output_type": "stream",
     "text": [
      "Successfully scrape donation from pulihkanpaludonggala. Going to scrape the next donation.\n"
     ]
    },
    {
     "name": "stderr",
     "output_type": "stream",
     "text": [
      "/Users/mac/Documents/RU/THESIS/working_thesis/scrape.py:286: FutureWarning: The frame.append method is deprecated and will be removed from pandas in a future version. Use pandas.concat instead.\n",
      "  df_donations_prop = df_donations_prop.append(df)\n"
     ]
    },
    {
     "name": "stdout",
     "output_type": "stream",
     "text": [
      "Successfully scrape donation from galangdanaputingbeliungcimenyan. Going to scrape the next donation.\n"
     ]
    },
    {
     "name": "stderr",
     "output_type": "stream",
     "text": [
      "/Users/mac/Documents/RU/THESIS/working_thesis/scrape.py:286: FutureWarning: The frame.append method is deprecated and will be removed from pandas in a future version. Use pandas.concat instead.\n",
      "  df_donations_prop = df_donations_prop.append(df)\n"
     ]
    },
    {
     "name": "stdout",
     "output_type": "stream",
     "text": [
      "Successfully scrape donation from bantupembangunanbanksampahkpsadang. Going to scrape the next donation.\n"
     ]
    },
    {
     "name": "stderr",
     "output_type": "stream",
     "text": [
      "/Users/mac/Documents/RU/THESIS/working_thesis/scrape.py:286: FutureWarning: The frame.append method is deprecated and will be removed from pandas in a future version. Use pandas.concat instead.\n",
      "  df_donations_prop = df_donations_prop.append(df)\n"
     ]
    },
    {
     "name": "stdout",
     "output_type": "stream",
     "text": [
      "Successfully scrape donation from makanankucingterlantar. Going to scrape the next donation.\n"
     ]
    },
    {
     "name": "stderr",
     "output_type": "stream",
     "text": [
      "/Users/mac/Documents/RU/THESIS/working_thesis/scrape.py:286: FutureWarning: The frame.append method is deprecated and will be removed from pandas in a future version. Use pandas.concat instead.\n",
      "  df_donations_prop = df_donations_prop.append(df)\n"
     ]
    },
    {
     "name": "stdout",
     "output_type": "stream",
     "text": [
      "Successfully scrape donation from banturawatkucingterlantar. Going to scrape the next donation.\n"
     ]
    },
    {
     "name": "stderr",
     "output_type": "stream",
     "text": [
      "/Users/mac/Documents/RU/THESIS/working_thesis/scrape.py:286: FutureWarning: The frame.append method is deprecated and will be removed from pandas in a future version. Use pandas.concat instead.\n",
      "  df_donations_prop = df_donations_prop.append(df)\n"
     ]
    },
    {
     "name": "stdout",
     "output_type": "stream",
     "text": [
      "Successfully scrape donation from ctasiaga. Going to scrape the next donation.\n"
     ]
    },
    {
     "name": "stderr",
     "output_type": "stream",
     "text": [
      "/Users/mac/Documents/RU/THESIS/working_thesis/scrape.py:286: FutureWarning: The frame.append method is deprecated and will be removed from pandas in a future version. Use pandas.concat instead.\n",
      "  df_donations_prop = df_donations_prop.append(df)\n"
     ]
    },
    {
     "name": "stdout",
     "output_type": "stream",
     "text": [
      "Successfully scrape donation from braileadalahhidupku. Going to scrape the next donation.\n"
     ]
    },
    {
     "name": "stderr",
     "output_type": "stream",
     "text": [
      "/Users/mac/Documents/RU/THESIS/working_thesis/scrape.py:286: FutureWarning: The frame.append method is deprecated and will be removed from pandas in a future version. Use pandas.concat instead.\n",
      "  df_donations_prop = df_donations_prop.append(df)\n"
     ]
    },
    {
     "name": "stdout",
     "output_type": "stream",
     "text": [
      "Successfully scrape donation from slbbangkalan. Going to scrape the next donation.\n"
     ]
    },
    {
     "name": "stderr",
     "output_type": "stream",
     "text": [
      "/Users/mac/Documents/RU/THESIS/working_thesis/scrape.py:286: FutureWarning: The frame.append method is deprecated and will be removed from pandas in a future version. Use pandas.concat instead.\n",
      "  df_donations_prop = df_donations_prop.append(df)\n"
     ]
    },
    {
     "name": "stdout",
     "output_type": "stream",
     "text": [
      "Successfully scrape donation from kucingbahagia. Going to scrape the next donation.\n"
     ]
    },
    {
     "name": "stderr",
     "output_type": "stream",
     "text": [
      "/Users/mac/Documents/RU/THESIS/working_thesis/scrape.py:286: FutureWarning: The frame.append method is deprecated and will be removed from pandas in a future version. Use pandas.concat instead.\n",
      "  df_donations_prop = df_donations_prop.append(df)\n"
     ]
    },
    {
     "name": "stdout",
     "output_type": "stream",
     "text": [
      "Successfully scrape donation from pejuangdifabel. Going to scrape the next donation.\n"
     ]
    },
    {
     "name": "stderr",
     "output_type": "stream",
     "text": [
      "/Users/mac/Documents/RU/THESIS/working_thesis/scrape.py:286: FutureWarning: The frame.append method is deprecated and will be removed from pandas in a future version. Use pandas.concat instead.\n",
      "  df_donations_prop = df_donations_prop.append(df)\n"
     ]
    },
    {
     "name": "stdout",
     "output_type": "stream",
     "text": [
      "Successfully scrape donation from sampahujungkulon. Going to scrape the next donation.\n"
     ]
    },
    {
     "name": "stderr",
     "output_type": "stream",
     "text": [
      "/Users/mac/Documents/RU/THESIS/working_thesis/scrape.py:286: FutureWarning: The frame.append method is deprecated and will be removed from pandas in a future version. Use pandas.concat instead.\n",
      "  df_donations_prop = df_donations_prop.append(df)\n"
     ]
    },
    {
     "name": "stdout",
     "output_type": "stream",
     "text": [
      "Successfully scrape donation from pemberdayaanketahananpangankeluargamiskin. Going to scrape the next donation.\n"
     ]
    },
    {
     "name": "stderr",
     "output_type": "stream",
     "text": [
      "/Users/mac/Documents/RU/THESIS/working_thesis/scrape.py:286: FutureWarning: The frame.append method is deprecated and will be removed from pandas in a future version. Use pandas.concat instead.\n",
      "  df_donations_prop = df_donations_prop.append(df)\n"
     ]
    },
    {
     "name": "stdout",
     "output_type": "stream",
     "text": [
      "Successfully scrape donation from hadiahumrohpemeliharamasjid. Going to scrape the next donation.\n"
     ]
    },
    {
     "name": "stderr",
     "output_type": "stream",
     "text": [
      "/Users/mac/Documents/RU/THESIS/working_thesis/scrape.py:286: FutureWarning: The frame.append method is deprecated and will be removed from pandas in a future version. Use pandas.concat instead.\n",
      "  df_donations_prop = df_donations_prop.append(df)\n"
     ]
    },
    {
     "name": "stdout",
     "output_type": "stream",
     "text": [
      "Successfully scrape donation from kucinglily. Going to scrape the next donation.\n"
     ]
    },
    {
     "name": "stderr",
     "output_type": "stream",
     "text": [
      "/Users/mac/Documents/RU/THESIS/working_thesis/scrape.py:286: FutureWarning: The frame.append method is deprecated and will be removed from pandas in a future version. Use pandas.concat instead.\n",
      "  df_donations_prop = df_donations_prop.append(df)\n"
     ]
    },
    {
     "name": "stdout",
     "output_type": "stream",
     "text": [
      "Successfully scrape donation from quranbraillemu. Going to scrape the next donation.\n"
     ]
    },
    {
     "name": "stderr",
     "output_type": "stream",
     "text": [
      "/Users/mac/Documents/RU/THESIS/working_thesis/scrape.py:286: FutureWarning: The frame.append method is deprecated and will be removed from pandas in a future version. Use pandas.concat instead.\n",
      "  df_donations_prop = df_donations_prop.append(df)\n"
     ]
    },
    {
     "name": "stdout",
     "output_type": "stream",
     "text": [
      "Successfully scrape donation from bantupakanamrawatribuankucingterlantar. Going to scrape the next donation.\n"
     ]
    },
    {
     "name": "stderr",
     "output_type": "stream",
     "text": [
      "/Users/mac/Documents/RU/THESIS/working_thesis/scrape.py:286: FutureWarning: The frame.append method is deprecated and will be removed from pandas in a future version. Use pandas.concat instead.\n",
      "  df_donations_prop = df_donations_prop.append(df)\n"
     ]
    },
    {
     "name": "stdout",
     "output_type": "stream",
     "text": [
      "Successfully scrape donation from bantukucingjalananhidupdenganbaik. Going to scrape the next donation.\n"
     ]
    },
    {
     "name": "stderr",
     "output_type": "stream",
     "text": [
      "/Users/mac/Documents/RU/THESIS/working_thesis/scrape.py:286: FutureWarning: The frame.append method is deprecated and will be removed from pandas in a future version. Use pandas.concat instead.\n",
      "  df_donations_prop = df_donations_prop.append(df)\n"
     ]
    },
    {
     "name": "stdout",
     "output_type": "stream",
     "text": [
      "Successfully scrape donation from bantuancp. Going to scrape the next donation.\n"
     ]
    },
    {
     "name": "stderr",
     "output_type": "stream",
     "text": [
      "/Users/mac/Documents/RU/THESIS/working_thesis/scrape.py:286: FutureWarning: The frame.append method is deprecated and will be removed from pandas in a future version. Use pandas.concat instead.\n",
      "  df_donations_prop = df_donations_prop.append(df)\n"
     ]
    },
    {
     "name": "stdout",
     "output_type": "stream",
     "text": [
      "Successfully scrape donation from patungchoirulhuda. Going to scrape the next donation.\n"
     ]
    },
    {
     "name": "stderr",
     "output_type": "stream",
     "text": [
      "/Users/mac/Documents/RU/THESIS/working_thesis/scrape.py:286: FutureWarning: The frame.append method is deprecated and will be removed from pandas in a future version. Use pandas.concat instead.\n",
      "  df_donations_prop = df_donations_prop.append(df)\n"
     ]
    },
    {
     "name": "stdout",
     "output_type": "stream",
     "text": [
      "Successfully scrape donation from tolonganabulditelantarkan. Going to scrape the next donation.\n"
     ]
    },
    {
     "name": "stderr",
     "output_type": "stream",
     "text": [
      "/Users/mac/Documents/RU/THESIS/working_thesis/scrape.py:286: FutureWarning: The frame.append method is deprecated and will be removed from pandas in a future version. Use pandas.concat instead.\n",
      "  df_donations_prop = df_donations_prop.append(df)\n"
     ]
    },
    {
     "name": "stdout",
     "output_type": "stream",
     "text": [
      "Successfully scrape donation from bantukucingsembuhdarivirusfip. Going to scrape the next donation.\n"
     ]
    },
    {
     "name": "stderr",
     "output_type": "stream",
     "text": [
      "/Users/mac/Documents/RU/THESIS/working_thesis/scrape.py:286: FutureWarning: The frame.append method is deprecated and will be removed from pandas in a future version. Use pandas.concat instead.\n",
      "  df_donations_prop = df_donations_prop.append(df)\n"
     ]
    },
    {
     "name": "stdout",
     "output_type": "stream",
     "text": [
      "Successfully scrape donation from sedekahpembangunantempatwudhu. Going to scrape the next donation.\n"
     ]
    },
    {
     "name": "stderr",
     "output_type": "stream",
     "text": [
      "/Users/mac/Documents/RU/THESIS/working_thesis/scrape.py:286: FutureWarning: The frame.append method is deprecated and will be removed from pandas in a future version. Use pandas.concat instead.\n",
      "  df_donations_prop = df_donations_prop.append(df)\n"
     ]
    },
    {
     "name": "stdout",
     "output_type": "stream",
     "text": [
      "Successfully scrape donation from bantubiayasiswayatimikutolimpiadelaricepat. Going to scrape the next donation.\n"
     ]
    },
    {
     "name": "stderr",
     "output_type": "stream",
     "text": [
      "/Users/mac/Documents/RU/THESIS/working_thesis/scrape.py:286: FutureWarning: The frame.append method is deprecated and will be removed from pandas in a future version. Use pandas.concat instead.\n",
      "  df_donations_prop = df_donations_prop.append(df)\n"
     ]
    },
    {
     "name": "stdout",
     "output_type": "stream",
     "text": [
      "Successfully scrape donation from owajawa. Going to scrape the next donation.\n"
     ]
    },
    {
     "name": "stderr",
     "output_type": "stream",
     "text": [
      "/Users/mac/Documents/RU/THESIS/working_thesis/scrape.py:286: FutureWarning: The frame.append method is deprecated and will be removed from pandas in a future version. Use pandas.concat instead.\n",
      "  df_donations_prop = df_donations_prop.append(df)\n"
     ]
    },
    {
     "name": "stdout",
     "output_type": "stream",
     "text": [
      "Successfully scrape donation from sedekahqurantunanetra. Going to scrape the next donation.\n"
     ]
    },
    {
     "name": "stderr",
     "output_type": "stream",
     "text": [
      "/Users/mac/Documents/RU/THESIS/working_thesis/scrape.py:286: FutureWarning: The frame.append method is deprecated and will be removed from pandas in a future version. Use pandas.concat instead.\n",
      "  df_donations_prop = df_donations_prop.append(df)\n"
     ]
    },
    {
     "name": "stdout",
     "output_type": "stream",
     "text": [
      "Successfully scrape donation from belantara. Going to scrape the next donation.\n"
     ]
    },
    {
     "name": "stderr",
     "output_type": "stream",
     "text": [
      "/Users/mac/Documents/RU/THESIS/working_thesis/scrape.py:286: FutureWarning: The frame.append method is deprecated and will be removed from pandas in a future version. Use pandas.concat instead.\n",
      "  df_donations_prop = df_donations_prop.append(df)\n"
     ]
    },
    {
     "name": "stdout",
     "output_type": "stream",
     "text": [
      "Successfully scrape donation from donasiforcat. Going to scrape the next donation.\n"
     ]
    },
    {
     "name": "stderr",
     "output_type": "stream",
     "text": [
      "/Users/mac/Documents/RU/THESIS/working_thesis/scrape.py:286: FutureWarning: The frame.append method is deprecated and will be removed from pandas in a future version. Use pandas.concat instead.\n",
      "  df_donations_prop = df_donations_prop.append(df)\n"
     ]
    },
    {
     "name": "stdout",
     "output_type": "stream",
     "text": [
      "Successfully scrape donation from bantuanuntukkucingterlantar. Going to scrape the next donation.\n"
     ]
    },
    {
     "name": "stderr",
     "output_type": "stream",
     "text": [
      "/Users/mac/Documents/RU/THESIS/working_thesis/scrape.py:286: FutureWarning: The frame.append method is deprecated and will be removed from pandas in a future version. Use pandas.concat instead.\n",
      "  df_donations_prop = df_donations_prop.append(df)\n"
     ]
    },
    {
     "name": "stdout",
     "output_type": "stream",
     "text": [
      "Successfully scrape donation from alatterapidisabilitas. Going to scrape the next donation.\n"
     ]
    },
    {
     "name": "stderr",
     "output_type": "stream",
     "text": [
      "/Users/mac/Documents/RU/THESIS/working_thesis/scrape.py:286: FutureWarning: The frame.append method is deprecated and will be removed from pandas in a future version. Use pandas.concat instead.\n",
      "  df_donations_prop = df_donations_prop.append(df)\n"
     ]
    },
    {
     "name": "stdout",
     "output_type": "stream",
     "text": [
      "Successfully scrape donation from pakasdirunterusberjuang. Going to scrape the next donation.\n"
     ]
    },
    {
     "name": "stderr",
     "output_type": "stream",
     "text": [
      "/Users/mac/Documents/RU/THESIS/working_thesis/scrape.py:286: FutureWarning: The frame.append method is deprecated and will be removed from pandas in a future version. Use pandas.concat instead.\n",
      "  df_donations_prop = df_donations_prop.append(df)\n"
     ]
    },
    {
     "name": "stdout",
     "output_type": "stream",
     "text": [
      "Successfully scrape donation from bantuhewanterlantaryuk. Going to scrape the next donation.\n"
     ]
    },
    {
     "name": "stderr",
     "output_type": "stream",
     "text": [
      "/Users/mac/Documents/RU/THESIS/working_thesis/scrape.py:286: FutureWarning: The frame.append method is deprecated and will be removed from pandas in a future version. Use pandas.concat instead.\n",
      "  df_donations_prop = df_donations_prop.append(df)\n"
     ]
    },
    {
     "name": "stdout",
     "output_type": "stream",
     "text": [
      "Successfully scrape donation from apikbantukebakaran. Going to scrape the next donation.\n"
     ]
    },
    {
     "name": "stderr",
     "output_type": "stream",
     "text": [
      "/Users/mac/Documents/RU/THESIS/working_thesis/scrape.py:286: FutureWarning: The frame.append method is deprecated and will be removed from pandas in a future version. Use pandas.concat instead.\n",
      "  df_donations_prop = df_donations_prop.append(df)\n"
     ]
    },
    {
     "name": "stdout",
     "output_type": "stream",
     "text": [
      "Successfully scrape donation from pedulidisabilitasindonesia. Going to scrape the next donation.\n"
     ]
    },
    {
     "name": "stderr",
     "output_type": "stream",
     "text": [
      "/Users/mac/Documents/RU/THESIS/working_thesis/scrape.py:286: FutureWarning: The frame.append method is deprecated and will be removed from pandas in a future version. Use pandas.concat instead.\n",
      "  df_donations_prop = df_donations_prop.append(df)\n"
     ]
    },
    {
     "name": "stdout",
     "output_type": "stream",
     "text": [
      "Successfully scrape donation from nhbantuponpestunarungu. Going to scrape the next donation.\n"
     ]
    },
    {
     "name": "stderr",
     "output_type": "stream",
     "text": [
      "/Users/mac/Documents/RU/THESIS/working_thesis/scrape.py:286: FutureWarning: The frame.append method is deprecated and will be removed from pandas in a future version. Use pandas.concat instead.\n",
      "  df_donations_prop = df_donations_prop.append(df)\n"
     ]
    },
    {
     "name": "stdout",
     "output_type": "stream",
     "text": [
      "Successfully scrape donation from kebaikanbagibumi. Going to scrape the next donation.\n"
     ]
    },
    {
     "name": "stderr",
     "output_type": "stream",
     "text": [
      "/Users/mac/Documents/RU/THESIS/working_thesis/scrape.py:286: FutureWarning: The frame.append method is deprecated and will be removed from pandas in a future version. Use pandas.concat instead.\n",
      "  df_donations_prop = df_donations_prop.append(df)\n"
     ]
    },
    {
     "name": "stdout",
     "output_type": "stream",
     "text": [
      "Successfully scrape donation from epraiyansembuh. Going to scrape the next donation.\n"
     ]
    },
    {
     "name": "stderr",
     "output_type": "stream",
     "text": [
      "/Users/mac/Documents/RU/THESIS/working_thesis/scrape.py:286: FutureWarning: The frame.append method is deprecated and will be removed from pandas in a future version. Use pandas.concat instead.\n",
      "  df_donations_prop = df_donations_prop.append(df)\n"
     ]
    },
    {
     "name": "stdout",
     "output_type": "stream",
     "text": [
      "Successfully scrape donation from streetfeederkrw. Going to scrape the next donation.\n"
     ]
    },
    {
     "name": "stderr",
     "output_type": "stream",
     "text": [
      "/Users/mac/Documents/RU/THESIS/working_thesis/scrape.py:286: FutureWarning: The frame.append method is deprecated and will be removed from pandas in a future version. Use pandas.concat instead.\n",
      "  df_donations_prop = df_donations_prop.append(df)\n"
     ]
    },
    {
     "name": "stdout",
     "output_type": "stream",
     "text": [
      "Successfully scrape donation from helpmikirescue. Going to scrape the next donation.\n"
     ]
    },
    {
     "name": "stderr",
     "output_type": "stream",
     "text": [
      "/Users/mac/Documents/RU/THESIS/working_thesis/scrape.py:286: FutureWarning: The frame.append method is deprecated and will be removed from pandas in a future version. Use pandas.concat instead.\n",
      "  df_donations_prop = df_donations_prop.append(df)\n"
     ]
    },
    {
     "name": "stdout",
     "output_type": "stream",
     "text": [
      "Successfully scrape donation from bantupemulunganakjalanan. Going to scrape the next donation.\n"
     ]
    },
    {
     "name": "stderr",
     "output_type": "stream",
     "text": [
      "/Users/mac/Documents/RU/THESIS/working_thesis/scrape.py:286: FutureWarning: The frame.append method is deprecated and will be removed from pandas in a future version. Use pandas.concat instead.\n",
      "  df_donations_prop = df_donations_prop.append(df)\n"
     ]
    },
    {
     "name": "stdout",
     "output_type": "stream",
     "text": [
      "Successfully scrape donation from nunikdifabeldhuafa. Going to scrape the next donation.\n"
     ]
    },
    {
     "name": "stderr",
     "output_type": "stream",
     "text": [
      "/Users/mac/Documents/RU/THESIS/working_thesis/scrape.py:286: FutureWarning: The frame.append method is deprecated and will be removed from pandas in a future version. Use pandas.concat instead.\n",
      "  df_donations_prop = df_donations_prop.append(df)\n"
     ]
    },
    {
     "name": "stdout",
     "output_type": "stream",
     "text": [
      "Successfully scrape donation from kasihuntukcarlos. Going to scrape the next donation.\n"
     ]
    },
    {
     "name": "stderr",
     "output_type": "stream",
     "text": [
      "/Users/mac/Documents/RU/THESIS/working_thesis/scrape.py:286: FutureWarning: The frame.append method is deprecated and will be removed from pandas in a future version. Use pandas.concat instead.\n",
      "  df_donations_prop = df_donations_prop.append(df)\n"
     ]
    },
    {
     "name": "stdout",
     "output_type": "stream",
     "text": [
      "Successfully scrape donation from bantukebutuhankittenanakkucingterlantar. Going to scrape the next donation.\n"
     ]
    },
    {
     "name": "stderr",
     "output_type": "stream",
     "text": [
      "/Users/mac/Documents/RU/THESIS/working_thesis/scrape.py:286: FutureWarning: The frame.append method is deprecated and will be removed from pandas in a future version. Use pandas.concat instead.\n",
      "  df_donations_prop = df_donations_prop.append(df)\n"
     ]
    },
    {
     "name": "stdout",
     "output_type": "stream",
     "text": [
      "Successfully scrape donation from memerdekakandifabel. Going to scrape the next donation.\n"
     ]
    },
    {
     "name": "stderr",
     "output_type": "stream",
     "text": [
      "/Users/mac/Documents/RU/THESIS/working_thesis/scrape.py:286: FutureWarning: The frame.append method is deprecated and will be removed from pandas in a future version. Use pandas.concat instead.\n",
      "  df_donations_prop = df_donations_prop.append(df)\n"
     ]
    },
    {
     "name": "stdout",
     "output_type": "stream",
     "text": [
      "Successfully scrape donation from apikkakipalsurachel. Going to scrape the next donation.\n"
     ]
    },
    {
     "name": "stderr",
     "output_type": "stream",
     "text": [
      "/Users/mac/Documents/RU/THESIS/working_thesis/scrape.py:286: FutureWarning: The frame.append method is deprecated and will be removed from pandas in a future version. Use pandas.concat instead.\n",
      "  df_donations_prop = df_donations_prop.append(df)\n"
     ]
    },
    {
     "name": "stdout",
     "output_type": "stream",
     "text": [
      "Successfully scrape donation from apikbantudifabel. Going to scrape the next donation.\n"
     ]
    },
    {
     "name": "stderr",
     "output_type": "stream",
     "text": [
      "/Users/mac/Documents/RU/THESIS/working_thesis/scrape.py:286: FutureWarning: The frame.append method is deprecated and will be removed from pandas in a future version. Use pandas.concat instead.\n",
      "  df_donations_prop = df_donations_prop.append(df)\n"
     ]
    },
    {
     "name": "stdout",
     "output_type": "stream",
     "text": [
      "Successfully scrape donation from smbantupaksulaiman. Going to scrape the next donation.\n"
     ]
    },
    {
     "name": "stderr",
     "output_type": "stream",
     "text": [
      "/Users/mac/Documents/RU/THESIS/working_thesis/scrape.py:286: FutureWarning: The frame.append method is deprecated and will be removed from pandas in a future version. Use pandas.concat instead.\n",
      "  df_donations_prop = df_donations_prop.append(df)\n"
     ]
    },
    {
     "name": "stdout",
     "output_type": "stream",
     "text": [
      "Successfully scrape donation from untuktemanmasjiyo. Going to scrape the next donation.\n"
     ]
    },
    {
     "name": "stderr",
     "output_type": "stream",
     "text": [
      "/Users/mac/Documents/RU/THESIS/working_thesis/scrape.py:286: FutureWarning: The frame.append method is deprecated and will be removed from pandas in a future version. Use pandas.concat instead.\n",
      "  df_donations_prop = df_donations_prop.append(df)\n"
     ]
    },
    {
     "name": "stdout",
     "output_type": "stream",
     "text": [
      "Successfully scrape donation from bantuankontrakrumahdanbiayahidup. Going to scrape the next donation.\n"
     ]
    },
    {
     "name": "stderr",
     "output_type": "stream",
     "text": [
      "/Users/mac/Documents/RU/THESIS/working_thesis/scrape.py:286: FutureWarning: The frame.append method is deprecated and will be removed from pandas in a future version. Use pandas.concat instead.\n",
      "  df_donations_prop = df_donations_prop.append(df)\n"
     ]
    },
    {
     "name": "stdout",
     "output_type": "stream",
     "text": [
      "Successfully scrape donation from abiuntukbahtoha. Going to scrape the next donation.\n"
     ]
    },
    {
     "name": "stderr",
     "output_type": "stream",
     "text": [
      "/Users/mac/Documents/RU/THESIS/working_thesis/scrape.py:286: FutureWarning: The frame.append method is deprecated and will be removed from pandas in a future version. Use pandas.concat instead.\n",
      "  df_donations_prop = df_donations_prop.append(df)\n"
     ]
    },
    {
     "name": "stdout",
     "output_type": "stream",
     "text": [
      "Successfully scrape donation from bantukucinglapar1. Going to scrape the next donation.\n"
     ]
    },
    {
     "name": "stderr",
     "output_type": "stream",
     "text": [
      "/Users/mac/Documents/RU/THESIS/working_thesis/scrape.py:286: FutureWarning: The frame.append method is deprecated and will be removed from pandas in a future version. Use pandas.concat instead.\n",
      "  df_donations_prop = df_donations_prop.append(df)\n"
     ]
    },
    {
     "name": "stdout",
     "output_type": "stream",
     "text": [
      "Successfully scrape donation from khdppedulikucingliar. Going to scrape the next donation.\n"
     ]
    },
    {
     "name": "stderr",
     "output_type": "stream",
     "text": [
      "/Users/mac/Documents/RU/THESIS/working_thesis/scrape.py:286: FutureWarning: The frame.append method is deprecated and will be removed from pandas in a future version. Use pandas.concat instead.\n",
      "  df_donations_prop = df_donations_prop.append(df)\n"
     ]
    },
    {
     "name": "stdout",
     "output_type": "stream",
     "text": [
      "Successfully scrape donation from savedogbatam. Going to scrape the next donation.\n"
     ]
    },
    {
     "name": "stderr",
     "output_type": "stream",
     "text": [
      "/Users/mac/Documents/RU/THESIS/working_thesis/scrape.py:286: FutureWarning: The frame.append method is deprecated and will be removed from pandas in a future version. Use pandas.concat instead.\n",
      "  df_donations_prop = df_donations_prop.append(df)\n"
     ]
    },
    {
     "name": "stdout",
     "output_type": "stream",
     "text": [
      "Successfully scrape donation from perjuanganneneksaenabhidupitujuhcucunya. Going to scrape the next donation.\n"
     ]
    },
    {
     "name": "stderr",
     "output_type": "stream",
     "text": [
      "/Users/mac/Documents/RU/THESIS/working_thesis/scrape.py:286: FutureWarning: The frame.append method is deprecated and will be removed from pandas in a future version. Use pandas.concat instead.\n",
      "  df_donations_prop = df_donations_prop.append(df)\n"
     ]
    },
    {
     "name": "stdout",
     "output_type": "stream",
     "text": [
      "Successfully scrape donation from pembuatankandangkambing. Going to scrape the next donation.\n"
     ]
    },
    {
     "name": "stderr",
     "output_type": "stream",
     "text": [
      "/Users/mac/Documents/RU/THESIS/working_thesis/scrape.py:286: FutureWarning: The frame.append method is deprecated and will be removed from pandas in a future version. Use pandas.concat instead.\n",
      "  df_donations_prop = df_donations_prop.append(df)\n"
     ]
    },
    {
     "name": "stdout",
     "output_type": "stream",
     "text": [
      "Successfully scrape donation from bantusterilgratiskucing. Going to scrape the next donation.\n"
     ]
    },
    {
     "name": "stderr",
     "output_type": "stream",
     "text": [
      "/Users/mac/Documents/RU/THESIS/working_thesis/scrape.py:286: FutureWarning: The frame.append method is deprecated and will be removed from pandas in a future version. Use pandas.concat instead.\n",
      "  df_donations_prop = df_donations_prop.append(df)\n"
     ]
    },
    {
     "name": "stdout",
     "output_type": "stream",
     "text": [
      "Successfully scrape donation from sedekahkarpetmasjidkampungan. Going to scrape the next donation.\n"
     ]
    },
    {
     "name": "stderr",
     "output_type": "stream",
     "text": [
      "/Users/mac/Documents/RU/THESIS/working_thesis/scrape.py:286: FutureWarning: The frame.append method is deprecated and will be removed from pandas in a future version. Use pandas.concat instead.\n",
      "  df_donations_prop = df_donations_prop.append(df)\n"
     ]
    },
    {
     "name": "stdout",
     "output_type": "stream",
     "text": [
      "Successfully scrape donation from apikuntuksigit. Going to scrape the next donation.\n"
     ]
    },
    {
     "name": "stderr",
     "output_type": "stream",
     "text": [
      "/Users/mac/Documents/RU/THESIS/working_thesis/scrape.py:286: FutureWarning: The frame.append method is deprecated and will be removed from pandas in a future version. Use pandas.concat instead.\n",
      "  df_donations_prop = df_donations_prop.append(df)\n"
     ]
    },
    {
     "name": "stdout",
     "output_type": "stream",
     "text": [
      "Successfully scrape donation from donasianimasisetrasagara. Going to scrape the next donation.\n"
     ]
    },
    {
     "name": "stderr",
     "output_type": "stream",
     "text": [
      "/Users/mac/Documents/RU/THESIS/working_thesis/scrape.py:286: FutureWarning: The frame.append method is deprecated and will be removed from pandas in a future version. Use pandas.concat instead.\n",
      "  df_donations_prop = df_donations_prop.append(df)\n"
     ]
    },
    {
     "name": "stdout",
     "output_type": "stream",
     "text": [
      "Successfully scrape donation from daruratsedekahmodalusahaburuhtanidanduafa. Going to scrape the next donation.\n"
     ]
    },
    {
     "name": "stderr",
     "output_type": "stream",
     "text": [
      "/Users/mac/Documents/RU/THESIS/working_thesis/scrape.py:286: FutureWarning: The frame.append method is deprecated and will be removed from pandas in a future version. Use pandas.concat instead.\n",
      "  df_donations_prop = df_donations_prop.append(df)\n"
     ]
    },
    {
     "name": "stdout",
     "output_type": "stream",
     "text": [
      "Successfully scrape donation from bantuanuntukanabul. Going to scrape the next donation.\n"
     ]
    },
    {
     "name": "stderr",
     "output_type": "stream",
     "text": [
      "/Users/mac/Documents/RU/THESIS/working_thesis/scrape.py:286: FutureWarning: The frame.append method is deprecated and will be removed from pandas in a future version. Use pandas.concat instead.\n",
      "  df_donations_prop = df_donations_prop.append(df)\n"
     ]
    },
    {
     "name": "stdout",
     "output_type": "stream",
     "text": [
      "Successfully scrape donation from bantuhuskyaro. Going to scrape the next donation.\n"
     ]
    },
    {
     "name": "stderr",
     "output_type": "stream",
     "text": [
      "/Users/mac/Documents/RU/THESIS/working_thesis/scrape.py:286: FutureWarning: The frame.append method is deprecated and will be removed from pandas in a future version. Use pandas.concat instead.\n",
      "  df_donations_prop = df_donations_prop.append(df)\n"
     ]
    },
    {
     "name": "stdout",
     "output_type": "stream",
     "text": [
      "Error when scraping donation from hutang. Going to scrape the next donation.\n",
      "Successfully scrape donation from terumbukarangjakarta. Going to scrape the next donation.\n"
     ]
    },
    {
     "name": "stderr",
     "output_type": "stream",
     "text": [
      "/Users/mac/Documents/RU/THESIS/working_thesis/scrape.py:286: FutureWarning: The frame.append method is deprecated and will be removed from pandas in a future version. Use pandas.concat instead.\n",
      "  df_donations_prop = df_donations_prop.append(df)\n"
     ]
    },
    {
     "name": "stdout",
     "output_type": "stream",
     "text": [
      "Successfully scrape donation from wujudkanmimpi20pemudadesapunyabisnisdigital. Going to scrape the next donation.\n"
     ]
    },
    {
     "name": "stderr",
     "output_type": "stream",
     "text": [
      "/Users/mac/Documents/RU/THESIS/working_thesis/scrape.py:286: FutureWarning: The frame.append method is deprecated and will be removed from pandas in a future version. Use pandas.concat instead.\n",
      "  df_donations_prop = df_donations_prop.append(df)\n"
     ]
    },
    {
     "name": "stdout",
     "output_type": "stream",
     "text": [
      "Successfully scrape donation from selamatkankucingrescue. Going to scrape the next donation.\n"
     ]
    },
    {
     "name": "stderr",
     "output_type": "stream",
     "text": [
      "/Users/mac/Documents/RU/THESIS/working_thesis/scrape.py:286: FutureWarning: The frame.append method is deprecated and will be removed from pandas in a future version. Use pandas.concat instead.\n",
      "  df_donations_prop = df_donations_prop.append(df)\n"
     ]
    },
    {
     "name": "stdout",
     "output_type": "stream",
     "text": [
      "Successfully scrape donation from ydsfuntukbanjirparimo. Going to scrape the next donation.\n"
     ]
    },
    {
     "name": "stderr",
     "output_type": "stream",
     "text": [
      "/Users/mac/Documents/RU/THESIS/working_thesis/scrape.py:286: FutureWarning: The frame.append method is deprecated and will be removed from pandas in a future version. Use pandas.concat instead.\n",
      "  df_donations_prop = df_donations_prop.append(df)\n"
     ]
    },
    {
     "name": "stdout",
     "output_type": "stream",
     "text": [
      "Successfully scrape donation from ramarafibersaudara. Going to scrape the next donation.\n"
     ]
    },
    {
     "name": "stderr",
     "output_type": "stream",
     "text": [
      "/Users/mac/Documents/RU/THESIS/working_thesis/scrape.py:286: FutureWarning: The frame.append method is deprecated and will be removed from pandas in a future version. Use pandas.concat instead.\n",
      "  df_donations_prop = df_donations_prop.append(df)\n"
     ]
    },
    {
     "name": "stdout",
     "output_type": "stream",
     "text": [
      "Successfully scrape donation from bangunkembalijembatangantungterdampakbanjir. Going to scrape the next donation.\n"
     ]
    },
    {
     "name": "stderr",
     "output_type": "stream",
     "text": [
      "/Users/mac/Documents/RU/THESIS/working_thesis/scrape.py:286: FutureWarning: The frame.append method is deprecated and will be removed from pandas in a future version. Use pandas.concat instead.\n",
      "  df_donations_prop = df_donations_prop.append(df)\n"
     ]
    },
    {
     "name": "stdout",
     "output_type": "stream",
     "text": [
      "Successfully scrape donation from kemanusiaankalbar. Going to scrape the next donation.\n"
     ]
    },
    {
     "name": "stderr",
     "output_type": "stream",
     "text": [
      "/Users/mac/Documents/RU/THESIS/working_thesis/scrape.py:286: FutureWarning: The frame.append method is deprecated and will be removed from pandas in a future version. Use pandas.concat instead.\n",
      "  df_donations_prop = df_donations_prop.append(df)\n"
     ]
    },
    {
     "name": "stdout",
     "output_type": "stream",
     "text": [
      "Successfully scrape donation from konservasiwanawisatasrenggutwonosari. Going to scrape the next donation.\n"
     ]
    },
    {
     "name": "stderr",
     "output_type": "stream",
     "text": [
      "/Users/mac/Documents/RU/THESIS/working_thesis/scrape.py:286: FutureWarning: The frame.append method is deprecated and will be removed from pandas in a future version. Use pandas.concat instead.\n",
      "  df_donations_prop = df_donations_prop.append(df)\n"
     ]
    },
    {
     "name": "stdout",
     "output_type": "stream",
     "text": [
      "Successfully scrape donation from bantuangunungsemeru. Going to scrape the next donation.\n"
     ]
    },
    {
     "name": "stderr",
     "output_type": "stream",
     "text": [
      "/Users/mac/Documents/RU/THESIS/working_thesis/scrape.py:286: FutureWarning: The frame.append method is deprecated and will be removed from pandas in a future version. Use pandas.concat instead.\n",
      "  df_donations_prop = df_donations_prop.append(df)\n"
     ]
    },
    {
     "name": "stdout",
     "output_type": "stream",
     "text": [
      "Successfully scrape donation from bantubarenglombok. Going to scrape the next donation.\n"
     ]
    },
    {
     "name": "stderr",
     "output_type": "stream",
     "text": [
      "/Users/mac/Documents/RU/THESIS/working_thesis/scrape.py:286: FutureWarning: The frame.append method is deprecated and will be removed from pandas in a future version. Use pandas.concat instead.\n",
      "  df_donations_prop = df_donations_prop.append(df)\n"
     ]
    },
    {
     "name": "stdout",
     "output_type": "stream",
     "text": [
      "Process done! Check the log file to see if we successfully read the data.\n"
     ]
    },
    {
     "data": {
      "text/html": [
       "<div>\n",
       "<style scoped>\n",
       "    .dataframe tbody tr th:only-of-type {\n",
       "        vertical-align: middle;\n",
       "    }\n",
       "\n",
       "    .dataframe tbody tr th {\n",
       "        vertical-align: top;\n",
       "    }\n",
       "\n",
       "    .dataframe thead th {\n",
       "        text-align: right;\n",
       "    }\n",
       "</style>\n",
       "<table border=\"1\" class=\"dataframe\">\n",
       "  <thead>\n",
       "    <tr style=\"text-align: right;\">\n",
       "      <th></th>\n",
       "      <th>id</th>\n",
       "      <th>title</th>\n",
       "      <th>permalink</th>\n",
       "      <th>short_url</th>\n",
       "      <th>short_description</th>\n",
       "      <th>description</th>\n",
       "      <th>plain_description</th>\n",
       "      <th>image</th>\n",
       "      <th>youtube_video_id</th>\n",
       "      <th>is_forever_runing</th>\n",
       "      <th>...</th>\n",
       "      <th>parent_campaign.is_verified</th>\n",
       "      <th>campaign_medical_detail.beneficiary_name</th>\n",
       "      <th>campaign_medical_detail.diagnosis</th>\n",
       "      <th>campaign_medical_detail.is_hospitalized</th>\n",
       "      <th>campaign_medical_detail.treatment</th>\n",
       "      <th>campaign_medical_detail.budget_allocation_plan</th>\n",
       "      <th>remaining_balance.total</th>\n",
       "      <th>remaining_balance.is_whitelist_campaign</th>\n",
       "      <th>time_scraped</th>\n",
       "      <th>parent_campaign.verification_badge</th>\n",
       "    </tr>\n",
       "  </thead>\n",
       "  <tbody>\n",
       "    <tr>\n",
       "      <th>0</th>\n",
       "      <td>376175</td>\n",
       "      <td>Pneumonia Hingga Cairan Lambung Renggut Senyumnya</td>\n",
       "      <td>https://kitabisa.com/bantuhaminullahberjuang</td>\n",
       "      <td>bantuhaminullahberjuang</td>\n",
       "      <td>#OrangBaik, Syarifudin sedang berusaha semaksi...</td>\n",
       "      <td>&lt;a href=\"https://kitabisa.zendesk.com/hc/en-us...</td>\n",
       "      <td>Ketika bayi berusia 8 bulan lainnya sedang bel...</td>\n",
       "      <td>https://img.kitabisa.cc/size/664x357/aa1b28fb-...</td>\n",
       "      <td></td>\n",
       "      <td>False</td>\n",
       "      <td>...</td>\n",
       "      <td>False</td>\n",
       "      <td>Muhammad Haminullah</td>\n",
       "      <td>pneumonia KDK Susp Epilepsis</td>\n",
       "      <td>1</td>\n",
       "      <td>Sudah dibawa kebidan dan Puskesmas, sekarang s...</td>\n",
       "      <td>A. Biaya Rumah Sakit \\t\\tRp60,000,000\\t\\r\\nB. ...</td>\n",
       "      <td>0</td>\n",
       "      <td>False</td>\n",
       "      <td>2022-10-03 22:18:13</td>\n",
       "      <td>NaN</td>\n",
       "    </tr>\n",
       "    <tr>\n",
       "      <th>0</th>\n",
       "      <td>369507</td>\n",
       "      <td>Sakit Langka, Tulang Bayi 2 Bln Rawan Patah</td>\n",
       "      <td>https://kitabisa.com/bkksbantuahmad</td>\n",
       "      <td>bkksbantuahmad</td>\n",
       "      <td>Penghasilan pak Anhar sebagai buruh bangunan &amp;...</td>\n",
       "      <td>&lt;a href=\"https://kitabisa.zendesk.com/hc/en-us...</td>\n",
       "      <td>“Saya nggak tega liat Ahmad nangis terus. Peng...</td>\n",
       "      <td>https://img.kitabisa.cc/size/664x357/3e6e568c-...</td>\n",
       "      <td></td>\n",
       "      <td>False</td>\n",
       "      <td>...</td>\n",
       "      <td>False</td>\n",
       "      <td>Ahmad Try Nadhif Anhar</td>\n",
       "      <td>Osteogenesis imperfecta</td>\n",
       "      <td>0</td>\n",
       "      <td>Telah menjalani serangkaian  perawatan medis d...</td>\n",
       "      <td>1. Biaya operasional Rp 30.000.000,-\\r\\n2. Bia...</td>\n",
       "      <td>0</td>\n",
       "      <td>False</td>\n",
       "      <td>2022-10-03 22:18:19</td>\n",
       "      <td>NaN</td>\n",
       "    </tr>\n",
       "    <tr>\n",
       "      <th>0</th>\n",
       "      <td>367402</td>\n",
       "      <td>Bocah 7 Tahun Berjuang Lawan 3 Penyakit Sekali...</td>\n",
       "      <td>https://kitabisa.com/bantusikecilarkanmelawanp...</td>\n",
       "      <td>bantusikecilarkanmelawanpenyakitnya</td>\n",
       "      <td>Si kecil Arkan tengah berjuang melawan 3 penya...</td>\n",
       "      <td>&lt;p&gt;&lt;/p&gt;\\r\\n&lt;a href=\"https://kitabisa.zendesk.c...</td>\n",
       "      <td>“Pengobatan Arkan masih panjang, tapi kami uda...</td>\n",
       "      <td>https://img.kitabisa.cc/size/664x357/d6cffb5f-...</td>\n",
       "      <td></td>\n",
       "      <td>False</td>\n",
       "      <td>...</td>\n",
       "      <td>False</td>\n",
       "      <td>Ahmad Arkan</td>\n",
       "      <td>Tetanus</td>\n",
       "      <td>1</td>\n",
       "      <td>Berbagai pengobatan sudah dilajani oleh keluar...</td>\n",
       "      <td>Biaya membeli Vitamin Rp.20.000.000, Biaya Raw...</td>\n",
       "      <td>0</td>\n",
       "      <td>False</td>\n",
       "      <td>2022-10-03 22:18:23</td>\n",
       "      <td>NaN</td>\n",
       "    </tr>\n",
       "    <tr>\n",
       "      <th>0</th>\n",
       "      <td>367118</td>\n",
       "      <td>Tolong Bayi Yg Ditinggal Ibunya Dari Jantung B...</td>\n",
       "      <td>https://kitabisa.com/bantuaisyahmelawanjantung...</td>\n",
       "      <td>bantuaisyahmelawanjantungbocor</td>\n",
       "      <td>Mari Bantu Asiyah Melawan Penyakit Jantung nya...</td>\n",
       "      <td>&lt;a href=\"https://kitabisa.zendesk.com/hc/en-us...</td>\n",
       "      <td>#OrangBaik, ada bayi 4 bulan ini yang ditingga...</td>\n",
       "      <td>https://img.kitabisa.cc/size/664x357/4542dd8e-...</td>\n",
       "      <td></td>\n",
       "      <td>False</td>\n",
       "      <td>...</td>\n",
       "      <td>False</td>\n",
       "      <td>Aisyah zahrani</td>\n",
       "      <td>Q21.9-congenital malformation of cardiac septu...</td>\n",
       "      <td>0</td>\n",
       "      <td>Rawat jalan dan kontrol</td>\n",
       "      <td>Biyaya Pembelian Vitamin 20.000.000\\r\\nBiyaya ...</td>\n",
       "      <td>0</td>\n",
       "      <td>False</td>\n",
       "      <td>2022-10-03 22:18:26</td>\n",
       "      <td>NaN</td>\n",
       "    </tr>\n",
       "    <tr>\n",
       "      <th>0</th>\n",
       "      <td>320540</td>\n",
       "      <td>Kelainan Paru-Paru Akut, Temani Bayi Maurin Se...</td>\n",
       "      <td>https://kitabisa.com/selamatkanadikmaurin</td>\n",
       "      <td>selamatkanadikmaurin</td>\n",
       "      <td>Adik Maurin (3 Bulan) ususnya naik sampai ke p...</td>\n",
       "      <td>&lt;p&gt;Adik Maurin adalah bayi mungil berusia 3 bu...</td>\n",
       "      <td>Adik Maurin adalah bayi mungil berusia 3 bulan...</td>\n",
       "      <td>https://img.kitabisa.cc/size/664x357/5de9a3e7-...</td>\n",
       "      <td></td>\n",
       "      <td>False</td>\n",
       "      <td>...</td>\n",
       "      <td>False</td>\n",
       "      <td>Maurin Dera Asmita</td>\n",
       "      <td>Syok Sepsis, PH, AKI, HAP, Hernia Diafragmatika</td>\n",
       "      <td>1</td>\n",
       "      <td>Rawat inap, rencana operasi.</td>\n",
       "      <td>Biaya rawat inap,biaya operasi,obat, dokter dll.</td>\n",
       "      <td>0</td>\n",
       "      <td>False</td>\n",
       "      <td>2022-10-03 22:18:30</td>\n",
       "      <td>NaN</td>\n",
       "    </tr>\n",
       "  </tbody>\n",
       "</table>\n",
       "<p>5 rows × 67 columns</p>\n",
       "</div>"
      ],
      "text/plain": [
       "       id                                              title  \\\n",
       "0  376175  Pneumonia Hingga Cairan Lambung Renggut Senyumnya   \n",
       "0  369507        Sakit Langka, Tulang Bayi 2 Bln Rawan Patah   \n",
       "0  367402  Bocah 7 Tahun Berjuang Lawan 3 Penyakit Sekali...   \n",
       "0  367118  Tolong Bayi Yg Ditinggal Ibunya Dari Jantung B...   \n",
       "0  320540  Kelainan Paru-Paru Akut, Temani Bayi Maurin Se...   \n",
       "\n",
       "                                           permalink  \\\n",
       "0       https://kitabisa.com/bantuhaminullahberjuang   \n",
       "0                https://kitabisa.com/bkksbantuahmad   \n",
       "0  https://kitabisa.com/bantusikecilarkanmelawanp...   \n",
       "0  https://kitabisa.com/bantuaisyahmelawanjantung...   \n",
       "0          https://kitabisa.com/selamatkanadikmaurin   \n",
       "\n",
       "                             short_url  \\\n",
       "0              bantuhaminullahberjuang   \n",
       "0                       bkksbantuahmad   \n",
       "0  bantusikecilarkanmelawanpenyakitnya   \n",
       "0       bantuaisyahmelawanjantungbocor   \n",
       "0                 selamatkanadikmaurin   \n",
       "\n",
       "                                   short_description  \\\n",
       "0  #OrangBaik, Syarifudin sedang berusaha semaksi...   \n",
       "0  Penghasilan pak Anhar sebagai buruh bangunan &...   \n",
       "0  Si kecil Arkan tengah berjuang melawan 3 penya...   \n",
       "0  Mari Bantu Asiyah Melawan Penyakit Jantung nya...   \n",
       "0  Adik Maurin (3 Bulan) ususnya naik sampai ke p...   \n",
       "\n",
       "                                         description  \\\n",
       "0  <a href=\"https://kitabisa.zendesk.com/hc/en-us...   \n",
       "0  <a href=\"https://kitabisa.zendesk.com/hc/en-us...   \n",
       "0  <p></p>\\r\\n<a href=\"https://kitabisa.zendesk.c...   \n",
       "0  <a href=\"https://kitabisa.zendesk.com/hc/en-us...   \n",
       "0  <p>Adik Maurin adalah bayi mungil berusia 3 bu...   \n",
       "\n",
       "                                   plain_description  \\\n",
       "0  Ketika bayi berusia 8 bulan lainnya sedang bel...   \n",
       "0  “Saya nggak tega liat Ahmad nangis terus. Peng...   \n",
       "0  “Pengobatan Arkan masih panjang, tapi kami uda...   \n",
       "0  #OrangBaik, ada bayi 4 bulan ini yang ditingga...   \n",
       "0  Adik Maurin adalah bayi mungil berusia 3 bulan...   \n",
       "\n",
       "                                               image youtube_video_id  \\\n",
       "0  https://img.kitabisa.cc/size/664x357/aa1b28fb-...                    \n",
       "0  https://img.kitabisa.cc/size/664x357/3e6e568c-...                    \n",
       "0  https://img.kitabisa.cc/size/664x357/d6cffb5f-...                    \n",
       "0  https://img.kitabisa.cc/size/664x357/4542dd8e-...                    \n",
       "0  https://img.kitabisa.cc/size/664x357/5de9a3e7-...                    \n",
       "\n",
       "   is_forever_runing  ...  parent_campaign.is_verified  \\\n",
       "0              False  ...                        False   \n",
       "0              False  ...                        False   \n",
       "0              False  ...                        False   \n",
       "0              False  ...                        False   \n",
       "0              False  ...                        False   \n",
       "\n",
       "   campaign_medical_detail.beneficiary_name  \\\n",
       "0                       Muhammad Haminullah   \n",
       "0                    Ahmad Try Nadhif Anhar   \n",
       "0                               Ahmad Arkan   \n",
       "0                            Aisyah zahrani   \n",
       "0                        Maurin Dera Asmita   \n",
       "\n",
       "                   campaign_medical_detail.diagnosis  \\\n",
       "0                       pneumonia KDK Susp Epilepsis   \n",
       "0                            Osteogenesis imperfecta   \n",
       "0                                            Tetanus   \n",
       "0  Q21.9-congenital malformation of cardiac septu...   \n",
       "0    Syok Sepsis, PH, AKI, HAP, Hernia Diafragmatika   \n",
       "\n",
       "  campaign_medical_detail.is_hospitalized  \\\n",
       "0                                       1   \n",
       "0                                       0   \n",
       "0                                       1   \n",
       "0                                       0   \n",
       "0                                       1   \n",
       "\n",
       "                   campaign_medical_detail.treatment  \\\n",
       "0  Sudah dibawa kebidan dan Puskesmas, sekarang s...   \n",
       "0  Telah menjalani serangkaian  perawatan medis d...   \n",
       "0  Berbagai pengobatan sudah dilajani oleh keluar...   \n",
       "0                            Rawat jalan dan kontrol   \n",
       "0                       Rawat inap, rencana operasi.   \n",
       "\n",
       "      campaign_medical_detail.budget_allocation_plan  remaining_balance.total  \\\n",
       "0  A. Biaya Rumah Sakit \\t\\tRp60,000,000\\t\\r\\nB. ...                        0   \n",
       "0  1. Biaya operasional Rp 30.000.000,-\\r\\n2. Bia...                        0   \n",
       "0  Biaya membeli Vitamin Rp.20.000.000, Biaya Raw...                        0   \n",
       "0  Biyaya Pembelian Vitamin 20.000.000\\r\\nBiyaya ...                        0   \n",
       "0   Biaya rawat inap,biaya operasi,obat, dokter dll.                        0   \n",
       "\n",
       "   remaining_balance.is_whitelist_campaign         time_scraped  \\\n",
       "0                                    False  2022-10-03 22:18:13   \n",
       "0                                    False  2022-10-03 22:18:19   \n",
       "0                                    False  2022-10-03 22:18:23   \n",
       "0                                    False  2022-10-03 22:18:26   \n",
       "0                                    False  2022-10-03 22:18:30   \n",
       "\n",
       "   parent_campaign.verification_badge  \n",
       "0                                 NaN  \n",
       "0                                 NaN  \n",
       "0                                 NaN  \n",
       "0                                 NaN  \n",
       "0                                 NaN  \n",
       "\n",
       "[5 rows x 67 columns]"
      ]
     },
     "execution_count": 5,
     "metadata": {},
     "output_type": "execute_result"
    }
   ],
   "source": [
    "df_donations_prop = sc.donationprop_scraper_to_dataframe(df_donation['short_url'],\n",
    "                                                         '/Users/mac/Documents/RU/THESIS/working_thesis/pilot_data_2/donation_routine/22_10_03/')\n",
    "\n",
    "len(df_donations_prop)\n",
    "df_donations_prop.head(5)"
   ]
  },
  {
   "cell_type": "code",
   "execution_count": 33,
   "metadata": {},
   "outputs": [
    {
     "data": {
      "text/html": [
       "<div>\n",
       "<style scoped>\n",
       "    .dataframe tbody tr th:only-of-type {\n",
       "        vertical-align: middle;\n",
       "    }\n",
       "\n",
       "    .dataframe tbody tr th {\n",
       "        vertical-align: top;\n",
       "    }\n",
       "\n",
       "    .dataframe thead th {\n",
       "        text-align: right;\n",
       "    }\n",
       "</style>\n",
       "<table border=\"1\" class=\"dataframe\">\n",
       "  <thead>\n",
       "    <tr style=\"text-align: right;\">\n",
       "      <th></th>\n",
       "      <th>short_url</th>\n",
       "      <th>donation_count</th>\n",
       "      <th>donation_received</th>\n",
       "      <th>donation_target</th>\n",
       "      <th>donation_percentage</th>\n",
       "      <th>days_running</th>\n",
       "      <th>days_remaining</th>\n",
       "      <th>category.name</th>\n",
       "      <th>is_optimized_by_ads</th>\n",
       "      <th>is_zakat</th>\n",
       "      <th>is_instant_zakat</th>\n",
       "    </tr>\n",
       "  </thead>\n",
       "  <tbody>\n",
       "    <tr>\n",
       "      <th>0</th>\n",
       "      <td>zakatyataamafadlan</td>\n",
       "      <td>48252</td>\n",
       "      <td>3060078004</td>\n",
       "      <td>2000000000</td>\n",
       "      <td>1.530039</td>\n",
       "      <td>1353</td>\n",
       "      <td>128</td>\n",
       "      <td>Zakat</td>\n",
       "      <td>False</td>\n",
       "      <td>True</td>\n",
       "      <td>False</td>\n",
       "    </tr>\n",
       "    <tr>\n",
       "      <th>0</th>\n",
       "      <td>zakatuntukyatimdhuafa</td>\n",
       "      <td>240461</td>\n",
       "      <td>5885435080</td>\n",
       "      <td>6000000000</td>\n",
       "      <td>0.980906</td>\n",
       "      <td>614</td>\n",
       "      <td>128</td>\n",
       "      <td>Zakat</td>\n",
       "      <td>False</td>\n",
       "      <td>True</td>\n",
       "      <td>False</td>\n",
       "    </tr>\n",
       "    <tr>\n",
       "      <th>0</th>\n",
       "      <td>zakatfakirmiskinsantriyatimdhufa</td>\n",
       "      <td>18747</td>\n",
       "      <td>232850492</td>\n",
       "      <td>250000000</td>\n",
       "      <td>0.931402</td>\n",
       "      <td>96</td>\n",
       "      <td>128</td>\n",
       "      <td>Zakat</td>\n",
       "      <td>False</td>\n",
       "      <td>True</td>\n",
       "      <td>False</td>\n",
       "    </tr>\n",
       "    <tr>\n",
       "      <th>0</th>\n",
       "      <td>zakatbantugurungajidandhuafa</td>\n",
       "      <td>34836</td>\n",
       "      <td>467125750</td>\n",
       "      <td>500000000</td>\n",
       "      <td>0.934252</td>\n",
       "      <td>390</td>\n",
       "      <td>128</td>\n",
       "      <td>Zakat</td>\n",
       "      <td>False</td>\n",
       "      <td>True</td>\n",
       "      <td>False</td>\n",
       "    </tr>\n",
       "    <tr>\n",
       "      <th>0</th>\n",
       "      <td>zakatuntukringankansaudarakita</td>\n",
       "      <td>85937</td>\n",
       "      <td>606902280</td>\n",
       "      <td>700000000</td>\n",
       "      <td>0.867003</td>\n",
       "      <td>411</td>\n",
       "      <td>352</td>\n",
       "      <td>Zakat</td>\n",
       "      <td>False</td>\n",
       "      <td>True</td>\n",
       "      <td>False</td>\n",
       "    </tr>\n",
       "    <tr>\n",
       "      <th>0</th>\n",
       "      <td>zakatkepesantren</td>\n",
       "      <td>63021</td>\n",
       "      <td>420081999</td>\n",
       "      <td>500000000</td>\n",
       "      <td>0.840164</td>\n",
       "      <td>508</td>\n",
       "      <td>128</td>\n",
       "      <td>Zakat</td>\n",
       "      <td>False</td>\n",
       "      <td>True</td>\n",
       "      <td>False</td>\n",
       "    </tr>\n",
       "    <tr>\n",
       "      <th>0</th>\n",
       "      <td>zakatuntuksantri1</td>\n",
       "      <td>52402</td>\n",
       "      <td>326082096</td>\n",
       "      <td>400000000</td>\n",
       "      <td>0.815205</td>\n",
       "      <td>531</td>\n",
       "      <td>352</td>\n",
       "      <td>Zakat</td>\n",
       "      <td>False</td>\n",
       "      <td>True</td>\n",
       "      <td>False</td>\n",
       "    </tr>\n",
       "    <tr>\n",
       "      <th>0</th>\n",
       "      <td>zakatpendidikanrpk</td>\n",
       "      <td>2491</td>\n",
       "      <td>313737286</td>\n",
       "      <td>300000000</td>\n",
       "      <td>1.045791</td>\n",
       "      <td>1383</td>\n",
       "      <td>128</td>\n",
       "      <td>Zakat</td>\n",
       "      <td>False</td>\n",
       "      <td>True</td>\n",
       "      <td>False</td>\n",
       "    </tr>\n",
       "    <tr>\n",
       "      <th>0</th>\n",
       "      <td>zakatuntukfakirmiskinsantriyatimdhuafa</td>\n",
       "      <td>41714</td>\n",
       "      <td>115769066</td>\n",
       "      <td>120000000</td>\n",
       "      <td>0.964742</td>\n",
       "      <td>425</td>\n",
       "      <td>128</td>\n",
       "      <td>Zakat</td>\n",
       "      <td>False</td>\n",
       "      <td>True</td>\n",
       "      <td>False</td>\n",
       "    </tr>\n",
       "    <tr>\n",
       "      <th>0</th>\n",
       "      <td>rumahyatim1</td>\n",
       "      <td>4459</td>\n",
       "      <td>478236626</td>\n",
       "      <td>500000000</td>\n",
       "      <td>0.956473</td>\n",
       "      <td>1921</td>\n",
       "      <td>0</td>\n",
       "      <td>Zakat</td>\n",
       "      <td>False</td>\n",
       "      <td>True</td>\n",
       "      <td>False</td>\n",
       "    </tr>\n",
       "    <tr>\n",
       "      <th>0</th>\n",
       "      <td>zakatuntukjamaahmasjid</td>\n",
       "      <td>11120</td>\n",
       "      <td>212077242</td>\n",
       "      <td>250000000</td>\n",
       "      <td>0.848309</td>\n",
       "      <td>526</td>\n",
       "      <td>128</td>\n",
       "      <td>Zakat</td>\n",
       "      <td>False</td>\n",
       "      <td>True</td>\n",
       "      <td>False</td>\n",
       "    </tr>\n",
       "  </tbody>\n",
       "</table>\n",
       "</div>"
      ],
      "text/plain": [
       "                                short_url  donation_count  donation_received  \\\n",
       "0                      zakatyataamafadlan           48252         3060078004   \n",
       "0                   zakatuntukyatimdhuafa          240461         5885435080   \n",
       "0        zakatfakirmiskinsantriyatimdhufa           18747          232850492   \n",
       "0            zakatbantugurungajidandhuafa           34836          467125750   \n",
       "0          zakatuntukringankansaudarakita           85937          606902280   \n",
       "0                        zakatkepesantren           63021          420081999   \n",
       "0                       zakatuntuksantri1           52402          326082096   \n",
       "0                      zakatpendidikanrpk            2491          313737286   \n",
       "0  zakatuntukfakirmiskinsantriyatimdhuafa           41714          115769066   \n",
       "0                             rumahyatim1            4459          478236626   \n",
       "0                  zakatuntukjamaahmasjid           11120          212077242   \n",
       "\n",
       "   donation_target  donation_percentage  days_running  days_remaining  \\\n",
       "0       2000000000             1.530039          1353             128   \n",
       "0       6000000000             0.980906           614             128   \n",
       "0        250000000             0.931402            96             128   \n",
       "0        500000000             0.934252           390             128   \n",
       "0        700000000             0.867003           411             352   \n",
       "0        500000000             0.840164           508             128   \n",
       "0        400000000             0.815205           531             352   \n",
       "0        300000000             1.045791          1383             128   \n",
       "0        120000000             0.964742           425             128   \n",
       "0        500000000             0.956473          1921               0   \n",
       "0        250000000             0.848309           526             128   \n",
       "\n",
       "  category.name  is_optimized_by_ads  is_zakat  is_instant_zakat  \n",
       "0         Zakat                False      True             False  \n",
       "0         Zakat                False      True             False  \n",
       "0         Zakat                False      True             False  \n",
       "0         Zakat                False      True             False  \n",
       "0         Zakat                False      True             False  \n",
       "0         Zakat                False      True             False  \n",
       "0         Zakat                False      True             False  \n",
       "0         Zakat                False      True             False  \n",
       "0         Zakat                False      True             False  \n",
       "0         Zakat                False      True             False  \n",
       "0         Zakat                False      True             False  "
      ]
     },
     "execution_count": 33,
     "metadata": {},
     "output_type": "execute_result"
    }
   ],
   "source": [
    "# cleaning and filtering donation that has passed above 80% of needed fund\n",
    "df_don_prop_clean = df_donations_prop[['short_url', 'donation_count', 'donation_received', \n",
    "                                       'donation_target', 'donation_percentage', 'days_running', \n",
    "                                       'days_remaining', 'category.name', 'is_optimized_by_ads',\n",
    "                                       'is_zakat', 'is_instant_zakat']]\n",
    "df_don_prop_clean[df_don_prop_clean['donation_percentage'] > 0.8]"
   ]
  },
  {
   "cell_type": "markdown",
   "metadata": {},
   "source": []
  },
  {
   "cell_type": "markdown",
   "metadata": {},
   "source": [
    "### Donors Scraper\n",
    "\n",
    "There are 2 functions here:\n",
    "\n",
    "    sc.donor_scraper(donation_id, flpath)\n",
    "\n",
    "- Function to scrape all the donors/donation made information from a campaign.\n",
    "- Use this after we know which donation we're going to observe.\n",
    "- Arguments: *donation_id* (the short url of the campaign), *flpath* (path to save the scrapped data). \n",
    "\n",
    "The another one is:\n",
    "\n",
    "    sc.donor_scraper_cont(donation_id, start_id, flpath)\n",
    "\n",
    "- Function to continue scraping donors information from a starting id (check it in the log file).\n",
    "- Use this if an error occures or when you interrupt the Python kernel when you're trying to scrape the data.\n",
    "- Arguments: *donation_id* (the short url of the campaign), start_id (the point where you stopped), *flpath* (path to save the scrapped data)."
   ]
  },
  {
   "cell_type": "code",
   "execution_count": null,
   "metadata": {},
   "outputs": [],
   "source": [
    "donation_id = 'berdermakitabsucikuaniem'\n",
    "url = '/Users/mac/Documents/RU/THESIS/working_thesis/pilot_data_2/temp/berdermakitabsucikuaniem/'\n",
    "\n",
    "sc.donor_scraper(donation_id, url)"
   ]
  },
  {
   "cell_type": "code",
   "execution_count": 6,
   "metadata": {},
   "outputs": [
    {
     "name": "stdout",
     "output_type": "stream",
     "text": [
      "Successfully scrape the data to a CSV file.\n",
      "Sucessfully read all the donors information.\n",
      "CPU times: user 36.2 s, sys: 38.7 s, total: 1min 14s\n",
      "Wall time: 26min 8s\n"
     ]
    }
   ],
   "source": [
    "%%time\n",
    "warnings.filterwarnings('ignore')\n",
    "\n",
    "# use this code if we want to scrape all the donors from list of donations\n",
    "\n",
    "donation_list = ['ringankanpalestina']\n",
    "url = '/Users/mac/Documents/RU/THESIS/working_thesis/pilot_data_2/newdata_221004/'\n",
    "\n",
    "for donation_id in donation_list:\n",
    "    sc.donation_scraper(donation_id, url)\n",
    "    sc.donor_scraper(donation_id, url)"
   ]
  },
  {
   "cell_type": "code",
   "execution_count": 3,
   "metadata": {},
   "outputs": [
    {
     "name": "stdout",
     "output_type": "stream",
     "text": [
      "Sucessfully read all the donors information.\n",
      "CPU times: user 4min 45s, sys: 4min 58s, total: 9min 43s\n",
      "Wall time: 4h 19min 5s\n"
     ]
    }
   ],
   "source": [
    "%%time\n",
    "warnings.filterwarnings('ignore')\n",
    "\n",
    "# use this code if there is an error occured and you want to continue scraping from a particular point\n",
    "\n",
    "donation_id = 'bantumasjidpq2'\n",
    "start_id = '42896579_1620598468'\n",
    "flpath = '/Users/mac/Documents/RU/THESIS/working_thesis/pilot_data_2/newdata_221003/newdata_221003_cont_2/'\n",
    "\n",
    "sc.donor_scraper_cont(donation_id, start_id, flpath)"
   ]
  },
  {
   "cell_type": "markdown",
   "metadata": {},
   "source": []
  },
  {
   "cell_type": "markdown",
   "metadata": {},
   "source": [
    "## Donors Compiler\n",
    "\n",
    "Functions to compile all the donors info. Will be useful if in the middle of scraping the data, you stopped and continue again by using donor_scraper_cont. The syntax looks like this:\n",
    "\n",
    "    data_merger(donation_id, to_read, to_save)\n",
    "\n",
    "Where:\n",
    "\n",
    "- *donation_id*: the short url + _donorsinfo, this is the structure of our file name\n",
    "- *to_read*: path to read all the donors file (can be recursive path)\n",
    "- *to_save*: path to save the file"
   ]
  },
  {
   "cell_type": "code",
   "execution_count": 13,
   "metadata": {},
   "outputs": [
    {
     "name": "stdout",
     "output_type": "stream",
     "text": [
      "Before dropping duplicates, length of data: 441294\n",
      "After dropping duplicates, length of data: 164716\n",
      "Sucessfully append all the donors information.\n",
      "CPU times: user 58.6 s, sys: 4.17 s, total: 1min 2s\n",
      "Wall time: 1min 11s\n"
     ]
    },
    {
     "data": {
      "text/html": [
       "<div>\n",
       "<style scoped>\n",
       "    .dataframe tbody tr th:only-of-type {\n",
       "        vertical-align: middle;\n",
       "    }\n",
       "\n",
       "    .dataframe tbody tr th {\n",
       "        vertical-align: top;\n",
       "    }\n",
       "\n",
       "    .dataframe thead th {\n",
       "        text-align: right;\n",
       "    }\n",
       "</style>\n",
       "<table border=\"1\" class=\"dataframe\">\n",
       "  <thead>\n",
       "    <tr style=\"text-align: right;\">\n",
       "      <th></th>\n",
       "      <th>id</th>\n",
       "      <th>is_anonymous</th>\n",
       "      <th>comment</th>\n",
       "      <th>amount</th>\n",
       "      <th>created</th>\n",
       "      <th>expire</th>\n",
       "      <th>verified</th>\n",
       "      <th>formatted</th>\n",
       "      <th>formatted_without_comment</th>\n",
       "      <th>campaign.id</th>\n",
       "      <th>...</th>\n",
       "      <th>status.description.id</th>\n",
       "      <th>status.description.en</th>\n",
       "      <th>invoice.base_donation</th>\n",
       "      <th>invoice.unique_code</th>\n",
       "      <th>invoice.transaction_fee</th>\n",
       "      <th>invoice.total_invoiced</th>\n",
       "      <th>payment_method.type</th>\n",
       "      <th>payment_method.name</th>\n",
       "      <th>time_scrapped</th>\n",
       "      <th>short_url</th>\n",
       "    </tr>\n",
       "  </thead>\n",
       "  <tbody>\n",
       "    <tr>\n",
       "      <th>0</th>\n",
       "      <td>84971588.0</td>\n",
       "      <td>True</td>\n",
       "      <td>NaN</td>\n",
       "      <td>2000.0</td>\n",
       "      <td>1.659453e+09</td>\n",
       "      <td>1.659496e+09</td>\n",
       "      <td>1.659453e+09</td>\n",
       "      <td>Anonim Rp2.000</td>\n",
       "      <td>Donasi Rp2.000</td>\n",
       "      <td>205475.0</td>\n",
       "      <td>...</td>\n",
       "      <td>Proyek berhasil, dana telah disalurkan ke pemi...</td>\n",
       "      <td>Proyek berhasil, dana telah disalurkan ke pemi...</td>\n",
       "      <td>2000.0</td>\n",
       "      <td>0.0</td>\n",
       "      <td>0.0</td>\n",
       "      <td>2000.0</td>\n",
       "      <td>WALLET</td>\n",
       "      <td>Dompet Kebaikan</td>\n",
       "      <td>2022-09-24 02:14:49</td>\n",
       "      <td>donasitahfidzqu</td>\n",
       "    </tr>\n",
       "    <tr>\n",
       "      <th>1</th>\n",
       "      <td>84971580.0</td>\n",
       "      <td>True</td>\n",
       "      <td>NaN</td>\n",
       "      <td>1000.0</td>\n",
       "      <td>1.659453e+09</td>\n",
       "      <td>1.659496e+09</td>\n",
       "      <td>1.659453e+09</td>\n",
       "      <td>Anonim Rp1.000</td>\n",
       "      <td>Donasi Rp1.000</td>\n",
       "      <td>205475.0</td>\n",
       "      <td>...</td>\n",
       "      <td>Proyek berhasil, dana telah disalurkan ke pemi...</td>\n",
       "      <td>Proyek berhasil, dana telah disalurkan ke pemi...</td>\n",
       "      <td>1000.0</td>\n",
       "      <td>0.0</td>\n",
       "      <td>0.0</td>\n",
       "      <td>1000.0</td>\n",
       "      <td>WALLET</td>\n",
       "      <td>Dompet Kebaikan</td>\n",
       "      <td>2022-09-24 02:14:49</td>\n",
       "      <td>donasitahfidzqu</td>\n",
       "    </tr>\n",
       "    <tr>\n",
       "      <th>2</th>\n",
       "      <td>84971575.0</td>\n",
       "      <td>True</td>\n",
       "      <td>NaN</td>\n",
       "      <td>2000.0</td>\n",
       "      <td>1.659453e+09</td>\n",
       "      <td>1.659496e+09</td>\n",
       "      <td>1.659453e+09</td>\n",
       "      <td>Anonim Rp2.000</td>\n",
       "      <td>Donasi Rp2.000</td>\n",
       "      <td>205475.0</td>\n",
       "      <td>...</td>\n",
       "      <td>Proyek berhasil, dana telah disalurkan ke pemi...</td>\n",
       "      <td>Proyek berhasil, dana telah disalurkan ke pemi...</td>\n",
       "      <td>2000.0</td>\n",
       "      <td>0.0</td>\n",
       "      <td>0.0</td>\n",
       "      <td>2000.0</td>\n",
       "      <td>WALLET</td>\n",
       "      <td>Dompet Kebaikan</td>\n",
       "      <td>2022-09-24 02:14:49</td>\n",
       "      <td>donasitahfidzqu</td>\n",
       "    </tr>\n",
       "    <tr>\n",
       "      <th>3</th>\n",
       "      <td>84971553.0</td>\n",
       "      <td>True</td>\n",
       "      <td>NaN</td>\n",
       "      <td>1000.0</td>\n",
       "      <td>1.659453e+09</td>\n",
       "      <td>1.659496e+09</td>\n",
       "      <td>1.659453e+09</td>\n",
       "      <td>Anonim Rp1.000</td>\n",
       "      <td>Donasi Rp1.000</td>\n",
       "      <td>205475.0</td>\n",
       "      <td>...</td>\n",
       "      <td>Proyek berhasil, dana telah disalurkan ke pemi...</td>\n",
       "      <td>Proyek berhasil, dana telah disalurkan ke pemi...</td>\n",
       "      <td>1000.0</td>\n",
       "      <td>0.0</td>\n",
       "      <td>0.0</td>\n",
       "      <td>1000.0</td>\n",
       "      <td>WALLET</td>\n",
       "      <td>Dompet Kebaikan</td>\n",
       "      <td>2022-09-24 02:14:49</td>\n",
       "      <td>donasitahfidzqu</td>\n",
       "    </tr>\n",
       "    <tr>\n",
       "      <th>4</th>\n",
       "      <td>84971550.0</td>\n",
       "      <td>True</td>\n",
       "      <td>semoga segala hajat keluarga saya di kabulkan ...</td>\n",
       "      <td>2000.0</td>\n",
       "      <td>1.659453e+09</td>\n",
       "      <td>1.659496e+09</td>\n",
       "      <td>1.659453e+09</td>\n",
       "      <td>Anonim Rp2.000 (semoga segala hajat keluarga s...</td>\n",
       "      <td>Donasi Rp2.000</td>\n",
       "      <td>205475.0</td>\n",
       "      <td>...</td>\n",
       "      <td>Proyek berhasil, dana telah disalurkan ke pemi...</td>\n",
       "      <td>Proyek berhasil, dana telah disalurkan ke pemi...</td>\n",
       "      <td>2000.0</td>\n",
       "      <td>0.0</td>\n",
       "      <td>0.0</td>\n",
       "      <td>2000.0</td>\n",
       "      <td>WALLET</td>\n",
       "      <td>Dompet Kebaikan</td>\n",
       "      <td>2022-09-24 02:14:49</td>\n",
       "      <td>donasitahfidzqu</td>\n",
       "    </tr>\n",
       "    <tr>\n",
       "      <th>...</th>\n",
       "      <td>...</td>\n",
       "      <td>...</td>\n",
       "      <td>...</td>\n",
       "      <td>...</td>\n",
       "      <td>...</td>\n",
       "      <td>...</td>\n",
       "      <td>...</td>\n",
       "      <td>...</td>\n",
       "      <td>...</td>\n",
       "      <td>...</td>\n",
       "      <td>...</td>\n",
       "      <td>...</td>\n",
       "      <td>...</td>\n",
       "      <td>...</td>\n",
       "      <td>...</td>\n",
       "      <td>...</td>\n",
       "      <td>...</td>\n",
       "      <td>...</td>\n",
       "      <td>...</td>\n",
       "      <td>...</td>\n",
       "      <td>...</td>\n",
       "    </tr>\n",
       "    <tr>\n",
       "      <th>441289</th>\n",
       "      <td>50312909.0</td>\n",
       "      <td>True</td>\n",
       "      <td>NaN</td>\n",
       "      <td>1000.0</td>\n",
       "      <td>1.626013e+09</td>\n",
       "      <td>1.626060e+09</td>\n",
       "      <td>1.626013e+09</td>\n",
       "      <td>Anonim Rp1.000</td>\n",
       "      <td>Donasi Rp1.000</td>\n",
       "      <td>205475.0</td>\n",
       "      <td>...</td>\n",
       "      <td>Proyek berhasil, dana telah disalurkan ke pemi...</td>\n",
       "      <td>Proyek berhasil, dana telah disalurkan ke pemi...</td>\n",
       "      <td>1000.0</td>\n",
       "      <td>0.0</td>\n",
       "      <td>0.0</td>\n",
       "      <td>1000.0</td>\n",
       "      <td>WALLET</td>\n",
       "      <td>Dompet Kebaikan</td>\n",
       "      <td>2022-09-24 19:43:02</td>\n",
       "      <td>donasitahfidzqu</td>\n",
       "    </tr>\n",
       "    <tr>\n",
       "      <th>441290</th>\n",
       "      <td>50312908.0</td>\n",
       "      <td>True</td>\n",
       "      <td>NaN</td>\n",
       "      <td>1000.0</td>\n",
       "      <td>1.626013e+09</td>\n",
       "      <td>1.626060e+09</td>\n",
       "      <td>1.626013e+09</td>\n",
       "      <td>Anonim Rp1.000</td>\n",
       "      <td>Donasi Rp1.000</td>\n",
       "      <td>205475.0</td>\n",
       "      <td>...</td>\n",
       "      <td>Proyek berhasil, dana telah disalurkan ke pemi...</td>\n",
       "      <td>Proyek berhasil, dana telah disalurkan ke pemi...</td>\n",
       "      <td>1000.0</td>\n",
       "      <td>0.0</td>\n",
       "      <td>0.0</td>\n",
       "      <td>1000.0</td>\n",
       "      <td>WALLET</td>\n",
       "      <td>Dompet Kebaikan</td>\n",
       "      <td>2022-09-24 19:43:02</td>\n",
       "      <td>donasitahfidzqu</td>\n",
       "    </tr>\n",
       "    <tr>\n",
       "      <th>441291</th>\n",
       "      <td>50312907.0</td>\n",
       "      <td>True</td>\n",
       "      <td>NaN</td>\n",
       "      <td>1000.0</td>\n",
       "      <td>1.626013e+09</td>\n",
       "      <td>1.626060e+09</td>\n",
       "      <td>1.626013e+09</td>\n",
       "      <td>Anonim Rp1.000</td>\n",
       "      <td>Donasi Rp1.000</td>\n",
       "      <td>205475.0</td>\n",
       "      <td>...</td>\n",
       "      <td>Proyek berhasil, dana telah disalurkan ke pemi...</td>\n",
       "      <td>Proyek berhasil, dana telah disalurkan ke pemi...</td>\n",
       "      <td>1000.0</td>\n",
       "      <td>0.0</td>\n",
       "      <td>0.0</td>\n",
       "      <td>1000.0</td>\n",
       "      <td>WALLET</td>\n",
       "      <td>Dompet Kebaikan</td>\n",
       "      <td>2022-09-24 19:43:02</td>\n",
       "      <td>donasitahfidzqu</td>\n",
       "    </tr>\n",
       "    <tr>\n",
       "      <th>441292</th>\n",
       "      <td>50312906.0</td>\n",
       "      <td>True</td>\n",
       "      <td>NaN</td>\n",
       "      <td>1000.0</td>\n",
       "      <td>1.626013e+09</td>\n",
       "      <td>1.626060e+09</td>\n",
       "      <td>1.626013e+09</td>\n",
       "      <td>Anonim Rp1.000</td>\n",
       "      <td>Donasi Rp1.000</td>\n",
       "      <td>205475.0</td>\n",
       "      <td>...</td>\n",
       "      <td>Proyek berhasil, dana telah disalurkan ke pemi...</td>\n",
       "      <td>Proyek berhasil, dana telah disalurkan ke pemi...</td>\n",
       "      <td>1000.0</td>\n",
       "      <td>0.0</td>\n",
       "      <td>0.0</td>\n",
       "      <td>1000.0</td>\n",
       "      <td>WALLET</td>\n",
       "      <td>Dompet Kebaikan</td>\n",
       "      <td>2022-09-24 19:43:02</td>\n",
       "      <td>donasitahfidzqu</td>\n",
       "    </tr>\n",
       "    <tr>\n",
       "      <th>441293</th>\n",
       "      <td>50312783.0</td>\n",
       "      <td>True</td>\n",
       "      <td>NaN</td>\n",
       "      <td>1000.0</td>\n",
       "      <td>1.626013e+09</td>\n",
       "      <td>1.626060e+09</td>\n",
       "      <td>1.626013e+09</td>\n",
       "      <td>Anonim Rp1.000</td>\n",
       "      <td>Donasi Rp1.000</td>\n",
       "      <td>205475.0</td>\n",
       "      <td>...</td>\n",
       "      <td>Proyek berhasil, dana telah disalurkan ke pemi...</td>\n",
       "      <td>Proyek berhasil, dana telah disalurkan ke pemi...</td>\n",
       "      <td>1000.0</td>\n",
       "      <td>0.0</td>\n",
       "      <td>0.0</td>\n",
       "      <td>1000.0</td>\n",
       "      <td>WALLET</td>\n",
       "      <td>Dompet Kebaikan</td>\n",
       "      <td>2022-09-24 19:43:02</td>\n",
       "      <td>donasitahfidzqu</td>\n",
       "    </tr>\n",
       "  </tbody>\n",
       "</table>\n",
       "<p>164716 rows × 27 columns</p>\n",
       "</div>"
      ],
      "text/plain": [
       "                id is_anonymous  \\\n",
       "0       84971588.0         True   \n",
       "1       84971580.0         True   \n",
       "2       84971575.0         True   \n",
       "3       84971553.0         True   \n",
       "4       84971550.0         True   \n",
       "...            ...          ...   \n",
       "441289  50312909.0         True   \n",
       "441290  50312908.0         True   \n",
       "441291  50312907.0         True   \n",
       "441292  50312906.0         True   \n",
       "441293  50312783.0         True   \n",
       "\n",
       "                                                  comment  amount  \\\n",
       "0                                                     NaN  2000.0   \n",
       "1                                                     NaN  1000.0   \n",
       "2                                                     NaN  2000.0   \n",
       "3                                                     NaN  1000.0   \n",
       "4       semoga segala hajat keluarga saya di kabulkan ...  2000.0   \n",
       "...                                                   ...     ...   \n",
       "441289                                                NaN  1000.0   \n",
       "441290                                                NaN  1000.0   \n",
       "441291                                                NaN  1000.0   \n",
       "441292                                                NaN  1000.0   \n",
       "441293                                                NaN  1000.0   \n",
       "\n",
       "             created        expire      verified  \\\n",
       "0       1.659453e+09  1.659496e+09  1.659453e+09   \n",
       "1       1.659453e+09  1.659496e+09  1.659453e+09   \n",
       "2       1.659453e+09  1.659496e+09  1.659453e+09   \n",
       "3       1.659453e+09  1.659496e+09  1.659453e+09   \n",
       "4       1.659453e+09  1.659496e+09  1.659453e+09   \n",
       "...              ...           ...           ...   \n",
       "441289  1.626013e+09  1.626060e+09  1.626013e+09   \n",
       "441290  1.626013e+09  1.626060e+09  1.626013e+09   \n",
       "441291  1.626013e+09  1.626060e+09  1.626013e+09   \n",
       "441292  1.626013e+09  1.626060e+09  1.626013e+09   \n",
       "441293  1.626013e+09  1.626060e+09  1.626013e+09   \n",
       "\n",
       "                                                formatted  \\\n",
       "0                                          Anonim Rp2.000   \n",
       "1                                          Anonim Rp1.000   \n",
       "2                                          Anonim Rp2.000   \n",
       "3                                          Anonim Rp1.000   \n",
       "4       Anonim Rp2.000 (semoga segala hajat keluarga s...   \n",
       "...                                                   ...   \n",
       "441289                                     Anonim Rp1.000   \n",
       "441290                                     Anonim Rp1.000   \n",
       "441291                                     Anonim Rp1.000   \n",
       "441292                                     Anonim Rp1.000   \n",
       "441293                                     Anonim Rp1.000   \n",
       "\n",
       "       formatted_without_comment  campaign.id  ...  \\\n",
       "0                 Donasi Rp2.000     205475.0  ...   \n",
       "1                 Donasi Rp1.000     205475.0  ...   \n",
       "2                 Donasi Rp2.000     205475.0  ...   \n",
       "3                 Donasi Rp1.000     205475.0  ...   \n",
       "4                 Donasi Rp2.000     205475.0  ...   \n",
       "...                          ...          ...  ...   \n",
       "441289            Donasi Rp1.000     205475.0  ...   \n",
       "441290            Donasi Rp1.000     205475.0  ...   \n",
       "441291            Donasi Rp1.000     205475.0  ...   \n",
       "441292            Donasi Rp1.000     205475.0  ...   \n",
       "441293            Donasi Rp1.000     205475.0  ...   \n",
       "\n",
       "                                    status.description.id  \\\n",
       "0       Proyek berhasil, dana telah disalurkan ke pemi...   \n",
       "1       Proyek berhasil, dana telah disalurkan ke pemi...   \n",
       "2       Proyek berhasil, dana telah disalurkan ke pemi...   \n",
       "3       Proyek berhasil, dana telah disalurkan ke pemi...   \n",
       "4       Proyek berhasil, dana telah disalurkan ke pemi...   \n",
       "...                                                   ...   \n",
       "441289  Proyek berhasil, dana telah disalurkan ke pemi...   \n",
       "441290  Proyek berhasil, dana telah disalurkan ke pemi...   \n",
       "441291  Proyek berhasil, dana telah disalurkan ke pemi...   \n",
       "441292  Proyek berhasil, dana telah disalurkan ke pemi...   \n",
       "441293  Proyek berhasil, dana telah disalurkan ke pemi...   \n",
       "\n",
       "                                    status.description.en  \\\n",
       "0       Proyek berhasil, dana telah disalurkan ke pemi...   \n",
       "1       Proyek berhasil, dana telah disalurkan ke pemi...   \n",
       "2       Proyek berhasil, dana telah disalurkan ke pemi...   \n",
       "3       Proyek berhasil, dana telah disalurkan ke pemi...   \n",
       "4       Proyek berhasil, dana telah disalurkan ke pemi...   \n",
       "...                                                   ...   \n",
       "441289  Proyek berhasil, dana telah disalurkan ke pemi...   \n",
       "441290  Proyek berhasil, dana telah disalurkan ke pemi...   \n",
       "441291  Proyek berhasil, dana telah disalurkan ke pemi...   \n",
       "441292  Proyek berhasil, dana telah disalurkan ke pemi...   \n",
       "441293  Proyek berhasil, dana telah disalurkan ke pemi...   \n",
       "\n",
       "        invoice.base_donation invoice.unique_code invoice.transaction_fee  \\\n",
       "0                      2000.0                 0.0                     0.0   \n",
       "1                      1000.0                 0.0                     0.0   \n",
       "2                      2000.0                 0.0                     0.0   \n",
       "3                      1000.0                 0.0                     0.0   \n",
       "4                      2000.0                 0.0                     0.0   \n",
       "...                       ...                 ...                     ...   \n",
       "441289                 1000.0                 0.0                     0.0   \n",
       "441290                 1000.0                 0.0                     0.0   \n",
       "441291                 1000.0                 0.0                     0.0   \n",
       "441292                 1000.0                 0.0                     0.0   \n",
       "441293                 1000.0                 0.0                     0.0   \n",
       "\n",
       "        invoice.total_invoiced payment_method.type payment_method.name  \\\n",
       "0                       2000.0              WALLET     Dompet Kebaikan   \n",
       "1                       1000.0              WALLET     Dompet Kebaikan   \n",
       "2                       2000.0              WALLET     Dompet Kebaikan   \n",
       "3                       1000.0              WALLET     Dompet Kebaikan   \n",
       "4                       2000.0              WALLET     Dompet Kebaikan   \n",
       "...                        ...                 ...                 ...   \n",
       "441289                  1000.0              WALLET     Dompet Kebaikan   \n",
       "441290                  1000.0              WALLET     Dompet Kebaikan   \n",
       "441291                  1000.0              WALLET     Dompet Kebaikan   \n",
       "441292                  1000.0              WALLET     Dompet Kebaikan   \n",
       "441293                  1000.0              WALLET     Dompet Kebaikan   \n",
       "\n",
       "              time_scrapped        short_url  \n",
       "0       2022-09-24 02:14:49  donasitahfidzqu  \n",
       "1       2022-09-24 02:14:49  donasitahfidzqu  \n",
       "2       2022-09-24 02:14:49  donasitahfidzqu  \n",
       "3       2022-09-24 02:14:49  donasitahfidzqu  \n",
       "4       2022-09-24 02:14:49  donasitahfidzqu  \n",
       "...                     ...              ...  \n",
       "441289  2022-09-24 19:43:02  donasitahfidzqu  \n",
       "441290  2022-09-24 19:43:02  donasitahfidzqu  \n",
       "441291  2022-09-24 19:43:02  donasitahfidzqu  \n",
       "441292  2022-09-24 19:43:02  donasitahfidzqu  \n",
       "441293  2022-09-24 19:43:02  donasitahfidzqu  \n",
       "\n",
       "[164716 rows x 27 columns]"
      ]
     },
     "execution_count": 13,
     "metadata": {},
     "output_type": "execute_result"
    }
   ],
   "source": [
    "%%time\n",
    "warnings.filterwarnings('ignore')\n",
    "\n",
    "donation_id = 'donasitahfidzqu_donorsinfo'  # don't delete donors info in the last part of it\n",
    "to_read = '/Users/mac/Documents/RU/THESIS/working_thesis/pilot_data_2/temp/'\n",
    "to_save = '/Users/mac/Documents/RU/THESIS/working_thesis/fixed_data/donors_info/'\n",
    "\n",
    "def data_merger(donation_id, to_read, to_save):\n",
    "\n",
    "    df_appended = pd.DataFrame()\n",
    "    \n",
    "    # to read all the csv files to all subfolder, need to set recursive argument to True\n",
    "    p_to_read = to_read\n",
    "    csv_files = glob.glob(p_to_read + '**/*.csv', recursive=True) \n",
    "    # function to filter csv path that contains the donation_id, using list comperhensive\n",
    "    csv_files = [k for k in csv_files if donation_id in k] \n",
    "        \n",
    "    df_appended = pd.concat(map(pd.read_csv, csv_files), ignore_index=True)\n",
    "\n",
    "    # checking the duplicates and drop it\n",
    "    print(\"Before dropping duplicates, length of data:\", len(df_appended))\n",
    "    print(\"After dropping duplicates, length of data:\", len(df_appended.drop_duplicates(subset='id', keep=\"last\")))\n",
    "    df_appended.drop_duplicates(subset='id', keep=\"last\", inplace=True)\n",
    "    \n",
    "    # to save the file into path_to_save\n",
    "    p_to_save = to_save\n",
    "    filepath = Path(p_to_save +  donation_id + '_appended.csv')  \n",
    "    filepath.parent.mkdir(parents=True, exist_ok=True)  \n",
    "    df_appended.to_csv(filepath, index=False)\n",
    "    print('Sucessfully append all the donors information.')\n",
    "    \n",
    "    return df_appended\n",
    "\n",
    "data_merger(donation_id, to_read, to_save)"
   ]
  }
 ],
 "metadata": {
  "kernelspec": {
   "display_name": "Python 3 (ipykernel)",
   "language": "python",
   "name": "python3"
  },
  "language_info": {
   "codemirror_mode": {
    "name": "ipython",
    "version": 3
   },
   "file_extension": ".py",
   "mimetype": "text/x-python",
   "name": "python",
   "nbconvert_exporter": "python",
   "pygments_lexer": "ipython3",
   "version": "3.9.12"
  },
  "vscode": {
   "interpreter": {
    "hash": "7b34b089ce0dfc9935940e0a22050b2949fa617f7a2b73925623c261bed16aeb"
   }
  }
 },
 "nbformat": 4,
 "nbformat_minor": 2
}
